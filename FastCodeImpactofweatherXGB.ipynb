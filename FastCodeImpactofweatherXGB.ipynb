{
  "nbformat": 4,
  "nbformat_minor": 0,
  "metadata": {
    "colab": {
      "name": "FastCodeImpactofweatherXGB.ipynb",
      "provenance": [],
      "collapsed_sections": [
        "Y5L99mWtxfen",
        "hs_BAAKZBjzX",
        "lwUwLeJzlFzU"
      ],
      "authorship_tag": "ABX9TyOi5vZREHxcK/e85/6cyMQ9",
      "include_colab_link": true
    },
    "kernelspec": {
      "name": "python3",
      "display_name": "Python 3"
    },
    "language_info": {
      "name": "python"
    }
  },
  "cells": [
    {
      "cell_type": "markdown",
      "metadata": {
        "id": "view-in-github",
        "colab_type": "text"
      },
      "source": [
        "<a href=\"https://colab.research.google.com/github/sajad95/Heat/blob/main/FastCodeImpactofweatherXGB.ipynb\" target=\"_parent\"><img src=\"https://colab.research.google.com/assets/colab-badge.svg\" alt=\"Open In Colab\"/></a>"
      ]
    },
    {
      "cell_type": "code",
      "source": [
        "# Let's do it :)\n",
        "\n",
        "# installing librarires\n",
        "!pip install xgboost\n",
        "!pip install pandas --quiet\n",
        "!pip install scikit-learn --upgrade --quiet\n",
        "\n",
        "# importing libraries\n",
        "import pandas as pd\n",
        "import xgboost as xgb\n",
        "from sklearn.svm import SVR\n",
        "import numpy as np\n",
        "import matplotlib.pyplot as plt\n",
        "from sklearn.model_selection import train_test_split\n",
        "from sklearn.preprocessing import StandardScaler,MinMaxScaler\n",
        "from google.colab import drive\n",
        "from sklearn.metrics import mean_squared_error\n",
        "from sklearn.metrics import mean_absolute_error\n",
        "from sklearn.metrics import r2_score "
      ],
      "metadata": {
        "id": "sOPeiOgalNtf",
        "outputId": "92da15a0-d809-4f1e-8e3e-c96b71a160a0",
        "colab": {
          "base_uri": "https://localhost:8080/"
        }
      },
      "execution_count": 57,
      "outputs": [
        {
          "output_type": "stream",
          "name": "stdout",
          "text": [
            "Looking in indexes: https://pypi.org/simple, https://us-python.pkg.dev/colab-wheels/public/simple/\n",
            "Requirement already satisfied: xgboost in /usr/local/lib/python3.7/dist-packages (0.90)\n",
            "Requirement already satisfied: numpy in /usr/local/lib/python3.7/dist-packages (from xgboost) (1.21.6)\n",
            "Requirement already satisfied: scipy in /usr/local/lib/python3.7/dist-packages (from xgboost) (1.4.1)\n"
          ]
        }
      ]
    },
    {
      "cell_type": "code",
      "source": [
        "# mounting google drive and uploading the data\n",
        "drive.mount('/content/saj')\n",
        "raw_df = pd.read_csv('/content/saj/MyDrive/Kavgic/AllFeaturesInAllyears2.csv')\n",
        "TMY_df = pd.read_csv('/content/saj/MyDrive/Kavgic/TW.csv')\n",
        "\n",
        "#remove extra spaces using strip\n",
        "raw_df['Direct Normal Radiation']=pd.to_numeric(raw_df['Direct Normal Radiation'].astype(str).str.strip())\n",
        "raw_df['Diffuse Horizontal Radiation']=pd.to_numeric(raw_df['Diffuse Horizontal Radiation'].astype(str).str.strip())\n",
        "\n",
        "TMY_df['Direct Normal Radiation']=pd.to_numeric(TMY_df['Direct Normal Radiation'].astype(str).str.strip())\n",
        "TMY_df['Diffuse Horizontal Radiation']=pd.to_numeric(TMY_df['Diffuse Horizontal Radiation'].astype(str).str.strip())\n",
        "#removing extra spaces in name of the columns \n",
        "raw_df.columns = [col.strip() for col in raw_df.columns]\n",
        "TMY_df.columns = [col.strip() for col in TMY_df.columns]\n",
        "\n",
        "#removing every rows that has nan values \n",
        "raw_df.dropna(subset=['Dry Bulb Temperature','Wind Direction','Direct Normal Radiation','Diffuse Horizontal Radiation'], inplace =True)\n",
        "TMY_df.dropna(subset=['Dry Bulb Temperature','Wind Direction','Direct Normal Radiation','Diffuse Horizontal Radiation'], inplace =True)"
      ],
      "metadata": {
        "id": "Hs5EP43ShGl6",
        "colab": {
          "base_uri": "https://localhost:8080/"
        },
        "outputId": "efcf5c4e-d498-49a3-db5c-02bcfe65e743"
      },
      "execution_count": 61,
      "outputs": [
        {
          "output_type": "stream",
          "name": "stdout",
          "text": [
            "Drive already mounted at /content/saj; to attempt to forcibly remount, call drive.mount(\"/content/saj\", force_remount=True).\n"
          ]
        },
        {
          "output_type": "stream",
          "name": "stderr",
          "text": [
            "/usr/local/lib/python3.7/dist-packages/IPython/core/interactiveshell.py:2882: DtypeWarning: Columns (10,11) have mixed types.Specify dtype option on import or set low_memory=False.\n",
            "  exec(code_obj, self.user_global_ns, self.user_ns)\n"
          ]
        }
      ]
    },
    {
      "cell_type": "markdown",
      "source": [
        "# Heating ( Electricity)"
      ],
      "metadata": {
        "id": "gio4tfBkkE5u"
      }
    },
    {
      "cell_type": "code",
      "source": [
        "raw_df.columns"
      ],
      "metadata": {
        "id": "AaQohwldpeIK",
        "outputId": "b66b662b-1d68-4cc3-ec76-39191de53f2f",
        "colab": {
          "base_uri": "https://localhost:8080/"
        }
      },
      "execution_count": 59,
      "outputs": [
        {
          "output_type": "execute_result",
          "data": {
            "text/plain": [
              "Index(['Date', 'Time', 'Dry Bulb Temperature', 'Dew Point Temperature',\n",
              "       'Relative Humidity', 'Atmospheric Pressure',\n",
              "       'Extraterrestrial Horizontal Radiation',\n",
              "       'Extraterrestrial Direct Normal Radiation',\n",
              "       'Horizontal Infrared Radiation Intensity from Sky',\n",
              "       'Global Horizontal Radiation', 'Direct Normal Radiation',\n",
              "       'Diffuse Horizontal Radiation', 'Global Horizontal Illuminance',\n",
              "       'Direct Normal Illuminance', 'Diffuse Horizontal Illuminance',\n",
              "       'Zenith Luminance', 'Wind Direction', 'Wind Speed', 'Total Sky Cover',\n",
              "       'Opaque Sky Cover', 'Visibility', 'Ceiling Height',\n",
              "       'Present Weather Observation', 'Precipitable Water',\n",
              "       'Aerosol Optical Depth', 'Snow Depth', 'Days Since Last Snow', 'Albedo',\n",
              "       'Liquid Precipitation Depth', 'Liquid Precipitation Quantity',\n",
              "       'People Total Heating Energy',\n",
              "       'Total Zone Infiltration Sensible Heat Gain Energy',\n",
              "       'Averge Zones temp', 'ATTIC:Zone Air Temperature', 'LightsElectricity',\n",
              "       'Cooling', 'Heating', 'GasHVAC', 'Fans'],\n",
              "      dtype='object')"
            ]
          },
          "metadata": {},
          "execution_count": 59
        }
      ]
    },
    {
      "cell_type": "markdown",
      "source": [
        "Get the index of coloumns"
      ],
      "metadata": {
        "id": "9_HYsnxkjba_"
      }
    },
    {
      "cell_type": "code",
      "source": [
        "raw_df.columns.get_loc('GasHVAC')"
      ],
      "metadata": {
        "id": "mQyXKVPGiezC"
      },
      "execution_count": null,
      "outputs": []
    },
    {
      "cell_type": "code",
      "source": [
        "#Remving columns by their index\n",
        "## Actua weather data file \n",
        "raw_df3=raw_df.drop(raw_df.columns[[1,6,7,15,16,20,21,22,23,24,25,26,27,28,29,34,35,37,38]], axis=1)\n",
        "## Typical weather data file \n",
        "TMY_df3=TMY_df.drop(TMY_df.columns[[1,6,7,15,16,20,21,22,23,24,25,26,27,28,29,34,35,37,38]], axis=1)"
      ],
      "metadata": {
        "id": "w7oNOCClqxM8"
      },
      "execution_count": 68,
      "outputs": []
    },
    {
      "cell_type": "code",
      "source": [
        "pd.set_option('max_columns', None)\n",
        "raw_df3.head(1)"
      ],
      "metadata": {
        "id": "XL6SCqaZhXHC",
        "colab": {
          "base_uri": "https://localhost:8080/",
          "height": 194
        },
        "outputId": "d47cfbac-4344-4654-e097-2e7c6fef8ee9"
      },
      "execution_count": 69,
      "outputs": [
        {
          "output_type": "execute_result",
          "data": {
            "text/plain": [
              "       Date  Dry Bulb Temperature  Dew Point Temperature  Relative Humidity  \\\n",
              "0  1/1/2010                 -21.6                  -25.4               71.0   \n",
              "\n",
              "   Atmospheric Pressure  Horizontal Infrared Radiation Intensity from Sky  \\\n",
              "0              100230.0                                        177.240384   \n",
              "\n",
              "   Global Horizontal Radiation  Direct Normal Radiation  \\\n",
              "0                            0                      0.0   \n",
              "\n",
              "   Diffuse Horizontal Radiation  Global Horizontal Illuminance  \\\n",
              "0                           0.0                              0   \n",
              "\n",
              "   Direct Normal Illuminance  Diffuse Horizontal Illuminance  Wind Speed  \\\n",
              "0                          0                               0         9.0   \n",
              "\n",
              "   Total Sky Cover  Opaque Sky Cover  People Total Heating Energy  \\\n",
              "0                0                 8                          0.0   \n",
              "\n",
              "   Total Zone Infiltration Sensible Heat Gain Energy  Averge Zones temp  \\\n",
              "0                                          4476693.0           13.00748   \n",
              "\n",
              "   ATTIC:Zone Air Temperature   Heating  \n",
              "0                    -28.1504  900000.0  "
            ],
            "text/html": [
              "\n",
              "  <div id=\"df-b20e8f20-5eb9-4cfc-b4de-362784c231a6\">\n",
              "    <div class=\"colab-df-container\">\n",
              "      <div>\n",
              "<style scoped>\n",
              "    .dataframe tbody tr th:only-of-type {\n",
              "        vertical-align: middle;\n",
              "    }\n",
              "\n",
              "    .dataframe tbody tr th {\n",
              "        vertical-align: top;\n",
              "    }\n",
              "\n",
              "    .dataframe thead th {\n",
              "        text-align: right;\n",
              "    }\n",
              "</style>\n",
              "<table border=\"1\" class=\"dataframe\">\n",
              "  <thead>\n",
              "    <tr style=\"text-align: right;\">\n",
              "      <th></th>\n",
              "      <th>Date</th>\n",
              "      <th>Dry Bulb Temperature</th>\n",
              "      <th>Dew Point Temperature</th>\n",
              "      <th>Relative Humidity</th>\n",
              "      <th>Atmospheric Pressure</th>\n",
              "      <th>Horizontal Infrared Radiation Intensity from Sky</th>\n",
              "      <th>Global Horizontal Radiation</th>\n",
              "      <th>Direct Normal Radiation</th>\n",
              "      <th>Diffuse Horizontal Radiation</th>\n",
              "      <th>Global Horizontal Illuminance</th>\n",
              "      <th>Direct Normal Illuminance</th>\n",
              "      <th>Diffuse Horizontal Illuminance</th>\n",
              "      <th>Wind Speed</th>\n",
              "      <th>Total Sky Cover</th>\n",
              "      <th>Opaque Sky Cover</th>\n",
              "      <th>People Total Heating Energy</th>\n",
              "      <th>Total Zone Infiltration Sensible Heat Gain Energy</th>\n",
              "      <th>Averge Zones temp</th>\n",
              "      <th>ATTIC:Zone Air Temperature</th>\n",
              "      <th>Heating</th>\n",
              "    </tr>\n",
              "  </thead>\n",
              "  <tbody>\n",
              "    <tr>\n",
              "      <th>0</th>\n",
              "      <td>1/1/2010</td>\n",
              "      <td>-21.6</td>\n",
              "      <td>-25.4</td>\n",
              "      <td>71.0</td>\n",
              "      <td>100230.0</td>\n",
              "      <td>177.240384</td>\n",
              "      <td>0</td>\n",
              "      <td>0.0</td>\n",
              "      <td>0.0</td>\n",
              "      <td>0</td>\n",
              "      <td>0</td>\n",
              "      <td>0</td>\n",
              "      <td>9.0</td>\n",
              "      <td>0</td>\n",
              "      <td>8</td>\n",
              "      <td>0.0</td>\n",
              "      <td>4476693.0</td>\n",
              "      <td>13.00748</td>\n",
              "      <td>-28.1504</td>\n",
              "      <td>900000.0</td>\n",
              "    </tr>\n",
              "  </tbody>\n",
              "</table>\n",
              "</div>\n",
              "      <button class=\"colab-df-convert\" onclick=\"convertToInteractive('df-b20e8f20-5eb9-4cfc-b4de-362784c231a6')\"\n",
              "              title=\"Convert this dataframe to an interactive table.\"\n",
              "              style=\"display:none;\">\n",
              "        \n",
              "  <svg xmlns=\"http://www.w3.org/2000/svg\" height=\"24px\"viewBox=\"0 0 24 24\"\n",
              "       width=\"24px\">\n",
              "    <path d=\"M0 0h24v24H0V0z\" fill=\"none\"/>\n",
              "    <path d=\"M18.56 5.44l.94 2.06.94-2.06 2.06-.94-2.06-.94-.94-2.06-.94 2.06-2.06.94zm-11 1L8.5 8.5l.94-2.06 2.06-.94-2.06-.94L8.5 2.5l-.94 2.06-2.06.94zm10 10l.94 2.06.94-2.06 2.06-.94-2.06-.94-.94-2.06-.94 2.06-2.06.94z\"/><path d=\"M17.41 7.96l-1.37-1.37c-.4-.4-.92-.59-1.43-.59-.52 0-1.04.2-1.43.59L10.3 9.45l-7.72 7.72c-.78.78-.78 2.05 0 2.83L4 21.41c.39.39.9.59 1.41.59.51 0 1.02-.2 1.41-.59l7.78-7.78 2.81-2.81c.8-.78.8-2.07 0-2.86zM5.41 20L4 18.59l7.72-7.72 1.47 1.35L5.41 20z\"/>\n",
              "  </svg>\n",
              "      </button>\n",
              "      \n",
              "  <style>\n",
              "    .colab-df-container {\n",
              "      display:flex;\n",
              "      flex-wrap:wrap;\n",
              "      gap: 12px;\n",
              "    }\n",
              "\n",
              "    .colab-df-convert {\n",
              "      background-color: #E8F0FE;\n",
              "      border: none;\n",
              "      border-radius: 50%;\n",
              "      cursor: pointer;\n",
              "      display: none;\n",
              "      fill: #1967D2;\n",
              "      height: 32px;\n",
              "      padding: 0 0 0 0;\n",
              "      width: 32px;\n",
              "    }\n",
              "\n",
              "    .colab-df-convert:hover {\n",
              "      background-color: #E2EBFA;\n",
              "      box-shadow: 0px 1px 2px rgba(60, 64, 67, 0.3), 0px 1px 3px 1px rgba(60, 64, 67, 0.15);\n",
              "      fill: #174EA6;\n",
              "    }\n",
              "\n",
              "    [theme=dark] .colab-df-convert {\n",
              "      background-color: #3B4455;\n",
              "      fill: #D2E3FC;\n",
              "    }\n",
              "\n",
              "    [theme=dark] .colab-df-convert:hover {\n",
              "      background-color: #434B5C;\n",
              "      box-shadow: 0px 1px 3px 1px rgba(0, 0, 0, 0.15);\n",
              "      filter: drop-shadow(0px 1px 2px rgba(0, 0, 0, 0.3));\n",
              "      fill: #FFFFFF;\n",
              "    }\n",
              "  </style>\n",
              "\n",
              "      <script>\n",
              "        const buttonEl =\n",
              "          document.querySelector('#df-b20e8f20-5eb9-4cfc-b4de-362784c231a6 button.colab-df-convert');\n",
              "        buttonEl.style.display =\n",
              "          google.colab.kernel.accessAllowed ? 'block' : 'none';\n",
              "\n",
              "        async function convertToInteractive(key) {\n",
              "          const element = document.querySelector('#df-b20e8f20-5eb9-4cfc-b4de-362784c231a6');\n",
              "          const dataTable =\n",
              "            await google.colab.kernel.invokeFunction('convertToInteractive',\n",
              "                                                     [key], {});\n",
              "          if (!dataTable) return;\n",
              "\n",
              "          const docLinkHtml = 'Like what you see? Visit the ' +\n",
              "            '<a target=\"_blank\" href=https://colab.research.google.com/notebooks/data_table.ipynb>data table notebook</a>'\n",
              "            + ' to learn more about interactive tables.';\n",
              "          element.innerHTML = '';\n",
              "          dataTable['output_type'] = 'display_data';\n",
              "          await google.colab.output.renderOutput(dataTable, element);\n",
              "          const docLink = document.createElement('div');\n",
              "          docLink.innerHTML = docLinkHtml;\n",
              "          element.appendChild(docLink);\n",
              "        }\n",
              "      </script>\n",
              "    </div>\n",
              "  </div>\n",
              "  "
            ]
          },
          "metadata": {},
          "execution_count": 69
        }
      ]
    },
    {
      "cell_type": "code",
      "source": [
        "raw_df3.insert(0, 'Heating', raw_df3.pop('Heating'))\n",
        "TMY_df3.insert(0, 'Heating', TMY_df3.pop('Heating'))"
      ],
      "metadata": {
        "id": "hBdXWLlYnldq"
      },
      "execution_count": 70,
      "outputs": []
    },
    {
      "cell_type": "markdown",
      "source": [
        "##Removing Outliers"
      ],
      "metadata": {
        "id": "Ci_HafNZoPxw"
      }
    },
    {
      "cell_type": "markdown",
      "source": [
        "##Outliers \n",
        "https://www.geeksforgeeks.org/detect-and-remove-the-outliers-using-python/"
      ],
      "metadata": {
        "id": "Y5L99mWtxfen"
      }
    },
    {
      "cell_type": "markdown",
      "source": [
        "Draw a boxplot for each numeric variable in a DataFrame\n",
        "https://seaborn.pydata.org/examples/horizontal_boxplot.html"
      ],
      "metadata": {
        "id": "05nJbw-dq69p"
      }
    },
    {
      "cell_type": "markdown",
      "source": [
        "![image.png](data:image/png;base64,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)"
      ],
      "metadata": {
        "id": "KZwgDR9jNvZc"
      }
    },
    {
      "cell_type": "code",
      "source": [
        "import seaborn as sns\n",
        "import matplotlib.pyplot as plt\n",
        "sns.set_theme(style=\"ticks\")\n",
        "f, ax = plt.subplots(figsize=(18, 10))\n",
        "ax.set_xscale(\"log\")\n",
        "ax = sns.boxplot(data=raw_df3, orient=\"h\", palette=\"Set2\", linewidth=1)\n",
        "ax.xaxis.grid(True)\n",
        "ax.yaxis.grid(True)\n",
        "#boxplot If you used it, you should remove scale = 'linear'\n",
        "#boxenplot if you used it, you can use scale = 'linear'"
      ],
      "metadata": {
        "id": "E3jR_2Y0unQf"
      },
      "execution_count": null,
      "outputs": []
    },
    {
      "cell_type": "markdown",
      "source": [
        "Automatic Outlier Detection"
      ],
      "metadata": {
        "id": "VGxAucH5is1y"
      }
    },
    {
      "cell_type": "code",
      "source": [
        "new_raw_df3 = raw_df3.drop(['Date','Time'], axis=1)"
      ],
      "metadata": {
        "id": "6vNTwjThj_uk"
      },
      "execution_count": null,
      "outputs": []
    },
    {
      "cell_type": "code",
      "source": [
        "from sklearn.ensemble import IsolationForest"
      ],
      "metadata": {
        "id": "lUmgeCPZjjwV"
      },
      "execution_count": null,
      "outputs": []
    },
    {
      "cell_type": "code",
      "source": [
        "# identify outliers in the training dataset\n",
        "iso = IsolationForest(contamination=0.2)\n",
        "yhat = iso.fit_predict(new_raw_df3)"
      ],
      "metadata": {
        "id": "HtSmT1pNjjwa"
      },
      "execution_count": null,
      "outputs": []
    },
    {
      "cell_type": "code",
      "source": [
        "mask = yhat != -1"
      ],
      "metadata": {
        "id": "3tdj17IOjjwd"
      },
      "execution_count": null,
      "outputs": []
    },
    {
      "cell_type": "code",
      "source": [
        "# Filtering a series using a boolean arrays\n",
        "from itertools import compress\n",
        "Filtered_new_raw_df3 = list(compress(new_raw_df3, mask))"
      ],
      "metadata": {
        "id": "fVOGR7FVnakC"
      },
      "execution_count": null,
      "outputs": []
    },
    {
      "cell_type": "code",
      "source": [
        "# Filtering a dataframe using a boolean arrays\n",
        "newmask= pd.Series(mask)\n",
        "new_raw_df3 = new_raw_df3[newmask.values]"
      ],
      "metadata": {
        "id": "Qm_vj_RZnakD"
      },
      "execution_count": null,
      "outputs": []
    },
    {
      "cell_type": "code",
      "source": [
        "sns.set_theme(style=\"ticks\")\n",
        "f, ax = plt.subplots(figsize=(18, 10))\n",
        "ax.set_xscale(\"log\")\n",
        "ax = sns.boxplot(data=new_raw_df3, orient=\"h\", palette=\"Set2\", linewidth=1)\n",
        "#ax.xaxis.grid()\n",
        "#ax.yaxis.grid()\n",
        "ax.grid(b=True, which='major', color='black', linewidth=0.075)\n",
        "ax.grid(b=True, which='minor', color='black', linewidth=0.075)\n",
        "#boxplot If you used it, you should remove scale = 'linear'\n",
        "#boxenplot if you used it, you can use scale = 'linear'"
      ],
      "metadata": {
        "id": "QGWcv7cooD7Q"
      },
      "execution_count": null,
      "outputs": []
    },
    {
      "cell_type": "markdown",
      "source": [
        "It is obvious this model didt work well and there still many sample points that are outliers"
      ],
      "metadata": {
        "id": "JcLyR7J9raC6"
      }
    },
    {
      "cell_type": "markdown",
      "source": [
        "Removing Outliers Manually"
      ],
      "metadata": {
        "id": "1L_DQgDpoY4m"
      }
    },
    {
      "cell_type": "markdown",
      "source": [
        "I beleive we should get rid of the air pressure since it is somehow constant value "
      ],
      "metadata": {
        "id": "iiqumPr2rjEz"
      }
    },
    {
      "cell_type": "code",
      "source": [
        "new_raw_df3_manual = raw_df3.drop(['Date','Time','Atmospheric Pressure'], axis=1)\n",
        "from matplotlib.cbook import boxplot_stats"
      ],
      "metadata": {
        "id": "RGZJByaR0f3T"
      },
      "execution_count": null,
      "outputs": []
    },
    {
      "cell_type": "code",
      "source": [
        "outliers = [y for stat in boxplot_stats(new_raw_df3_manual['Heating']) for y in stat['fliers']]\n",
        "outliers = pd.DataFrame(outliers)\n",
        "outliers"
      ],
      "metadata": {
        "id": "J-FfXNbz0fxT"
      },
      "execution_count": null,
      "outputs": []
    },
    {
      "cell_type": "markdown",
      "source": [
        "This Method recognize 30% of our data as outliers so lets forget abou it nd trust to our eyes"
      ],
      "metadata": {
        "id": "17d2l3bHy2-2"
      }
    },
    {
      "cell_type": "markdown",
      "source": [
        "Removing sample points that seem to they are outliers in the boxplots"
      ],
      "metadata": {
        "id": "s7PBT_fxyG0e"
      }
    },
    {
      "cell_type": "code",
      "source": [
        "sns.boxplot(new_raw_df3_manual['Heating'])"
      ],
      "metadata": {
        "id": "53yKV237KOLe"
      },
      "execution_count": null,
      "outputs": []
    },
    {
      "cell_type": "code",
      "source": [
        "outliers_Trust_to_eye = (np.where((new_raw_df3_manual['Heating'] > 2.8e7)))\n",
        "index_outliers_Trust_to_eye = pd.DataFrame(outliers_Trust_to_eye)\n",
        "index_outliers_Trust_to_eye = index_outliers_Trust_to_eye.transpose()\n",
        "index_outliers_Trust_to_eye"
      ],
      "metadata": {
        "id": "dBsdidmY0049"
      },
      "execution_count": null,
      "outputs": []
    },
    {
      "cell_type": "code",
      "source": [
        ""
      ],
      "metadata": {
        "id": "J-wjiS0kLyjF"
      },
      "execution_count": null,
      "outputs": []
    },
    {
      "cell_type": "markdown",
      "source": [
        "##Input nad Target"
      ],
      "metadata": {
        "id": "HITjHrCt0hCg"
      }
    },
    {
      "cell_type": "code",
      "source": [
        "##spliting data  \n",
        "year = pd.to_datetime(raw_df3.Date).dt.year\n",
        "train_df = raw_df3[year < 2017]\n",
        "val_df = raw_df3[year == 2017]\n",
        "test_df = raw_df3[ year == 2019]"
      ],
      "metadata": {
        "id": "GudG5Qw_Fbjx"
      },
      "execution_count": 71,
      "outputs": []
    },
    {
      "cell_type": "code",
      "source": [
        "## specifying input and target in  Actua weather data file\n",
        "input_cols = (train_df.columns)[2:]\n",
        "target_col = 'Heating'\n",
        "## specifying input and target in Typical weather data file\n",
        "input_cols_TMY2 = (TMY_df3.columns)[2:]\n",
        "target_col_TMY2 = 'Heating'"
      ],
      "metadata": {
        "id": "ZQqdoPgZFmNp"
      },
      "execution_count": 72,
      "outputs": []
    },
    {
      "cell_type": "code",
      "source": [
        "## Creating a copy from data to keep the main data intact\n",
        "val_inputs = val_df[input_cols].copy()\n",
        "val_targets = val_df[target_col].copy()\n",
        "test_inputs = test_df[input_cols].copy()\n",
        "test_inputs_sc = test_df[input_cols].copy()\n",
        "test_targets = test_df[target_col].copy()\n",
        "train_inputs = train_df[input_cols].copy()\n",
        "train_inputs_sc = train_df[input_cols].copy()\n",
        "train_targets = train_df[target_col].copy()\n",
        "test_inputs_TMY = TMY_df3[input_cols_TMY2].copy()\n",
        "test_inputs_TMY_sc = TMY_df3[input_cols_TMY2].copy()\n",
        "test_targets_TMY = TMY_df3[target_col_TMY2].copy()\n",
        "\n",
        "## developing model\n",
        "\n",
        "model = SVR(kernel='rbf', C=100, gamma=0.2)\n",
        "\n",
        "model1 = xgb.XGBRegressor(objective ='reg:linear', colsample_bytree = 0.5, learning_rate = 0.2,\n",
        "                max_depth = 10,reg_lambda=10, alpha = 6, n_estimators = 100)"
      ],
      "metadata": {
        "id": "Q5Y8kdaKmKfx"
      },
      "execution_count": 74,
      "outputs": []
    },
    {
      "cell_type": "markdown",
      "source": [
        "## Normalizing"
      ],
      "metadata": {
        "id": "hs_BAAKZBjzX"
      }
    },
    {
      "cell_type": "code",
      "source": [
        "scaler1=MinMaxScaler()\n",
        "scaler2=StandardScaler()\n",
        "#test_inputs[1:]  = scaler1.fit_transform(test_inputs[1:])\n",
        "#type(train_inputs['Atmospheric Pressure'])"
      ],
      "metadata": {
        "id": "7LmVfPTdBqz-"
      },
      "execution_count": null,
      "outputs": []
    },
    {
      "cell_type": "markdown",
      "source": [
        "\n",
        "https://www.geeksforgeeks.org/pandas-concat-function-in-python/"
      ],
      "metadata": {
        "id": "cnlYyKTuSZaw"
      }
    },
    {
      "cell_type": "markdown",
      "source": [
        "Scaling Data Frame\n",
        "https://machinelearningmastery.com/standardscaler-and-minmaxscaler-transforms-in-python/"
      ],
      "metadata": {
        "id": "ufHOSqkwfdOh"
      }
    },
    {
      "cell_type": "code",
      "source": [
        "train_inputs.head(1)"
      ],
      "metadata": {
        "id": "ZNQl6OWEdknx"
      },
      "execution_count": null,
      "outputs": []
    },
    {
      "cell_type": "code",
      "source": [
        "train_inputs_sc[['Dry Bulb Temperature', 'Dew Point Temperature','Relative Humidity','Atmospheric Pressure','Horizontal Infrared Radiation Intensity from Sky','Global Horizontal Radiation','Direct Normal Radiation','Diffuse Horizontal Radiation','Global Horizontal Illuminance','Direct Normal Illuminance','Diffuse Horizontal Illuminance','Wind Speed','Total Sky Cover','Opaque Sky Cover','People Total Heating Energy','Total Zone Infiltration Sensible Heat Gain Energy','Averge Zones temp','ATTIC:Zone Air Temperature']] = scaler1.fit_transform(train_inputs_sc[['Dry Bulb Temperature', 'Dew Point Temperature','Relative Humidity','Atmospheric Pressure','Horizontal Infrared Radiation Intensity from Sky','Global Horizontal Radiation','Direct Normal Radiation','Diffuse Horizontal Radiation','Global Horizontal Illuminance','Direct Normal Illuminance','Diffuse Horizontal Illuminance','Wind Speed','Total Sky Cover','Opaque Sky Cover','People Total Heating Energy','Total Zone Infiltration Sensible Heat Gain Energy','Averge Zones temp','ATTIC:Zone Air Temperature']])\n",
        "test_inputs_sc[['Dry Bulb Temperature', 'Dew Point Temperature','Relative Humidity','Atmospheric Pressure','Horizontal Infrared Radiation Intensity from Sky','Global Horizontal Radiation','Direct Normal Radiation','Diffuse Horizontal Radiation','Global Horizontal Illuminance','Direct Normal Illuminance','Diffuse Horizontal Illuminance','Wind Speed','Total Sky Cover','Opaque Sky Cover','People Total Heating Energy','Total Zone Infiltration Sensible Heat Gain Energy','Averge Zones temp','ATTIC:Zone Air Temperature']] = scaler1.fit_transform(test_inputs_sc[['Dry Bulb Temperature', 'Dew Point Temperature','Relative Humidity','Atmospheric Pressure','Horizontal Infrared Radiation Intensity from Sky','Global Horizontal Radiation','Direct Normal Radiation','Diffuse Horizontal Radiation','Global Horizontal Illuminance','Direct Normal Illuminance','Diffuse Horizontal Illuminance','Wind Speed','Total Sky Cover','Opaque Sky Cover','People Total Heating Energy','Total Zone Infiltration Sensible Heat Gain Energy','Averge Zones temp','ATTIC:Zone Air Temperature']])\n",
        "test_inputs_TMY_sc[['Dry Bulb Temperature', 'Dew Point Temperature','Relative Humidity','Atmospheric Pressure','Horizontal Infrared Radiation Intensity from Sky','Global Horizontal Radiation','Direct Normal Radiation','Diffuse Horizontal Radiation','Global Horizontal Illuminance','Direct Normal Illuminance','Diffuse Horizontal Illuminance','Wind Speed','Total Sky Cover','Opaque Sky Cover','People Total Heating Energy','Total Zone Infiltration Sensible Heat Gain Energy','Averge Zones temp','ATTIC:Zone Air Temperature']] = scaler1.fit_transform(test_inputs_TMY_sc[['Dry Bulb Temperature', 'Dew Point Temperature','Relative Humidity','Atmospheric Pressure','Horizontal Infrared Radiation Intensity from Sky','Global Horizontal Radiation','Direct Normal Radiation','Diffuse Horizontal Radiation','Global Horizontal Illuminance','Direct Normal Illuminance','Diffuse Horizontal Illuminance','Wind Speed','Total Sky Cover','Opaque Sky Cover','People Total Heating Energy','Total Zone Infiltration Sensible Heat Gain Energy','Averge Zones temp','ATTIC:Zone Air Temperature']])"
      ],
      "metadata": {
        "id": "kNZ_YdS7dcLt"
      },
      "execution_count": null,
      "outputs": []
    },
    {
      "cell_type": "code",
      "source": [
        "train_inputs_sc.head(1)"
      ],
      "metadata": {
        "id": "aYA4kCT7e7vq"
      },
      "execution_count": null,
      "outputs": []
    },
    {
      "cell_type": "markdown",
      "source": [
        "Scaling series"
      ],
      "metadata": {
        "id": "JGqi0SQefgFK"
      }
    },
    {
      "cell_type": "code",
      "source": [
        "train_targets_sc=np.array(train_targets).reshape(-1,1);\n",
        "test_targets_sc=np.array(test_targets).reshape(-1,1);\n",
        "test_targets_TMY_sc=np.array(test_targets_TMY).reshape(-1,1);"
      ],
      "metadata": {
        "id": "Z9DelTZQfcXi"
      },
      "execution_count": null,
      "outputs": []
    },
    {
      "cell_type": "code",
      "source": [
        "train_targets_sc = scaler1.fit_transform(train_targets_sc)\n",
        "test_targets_sc = scaler1.fit_transform(test_targets_sc)\n",
        "test_targets_TMY_sc = scaler1.fit_transform(test_targets_TMY_sc)"
      ],
      "metadata": {
        "id": "xa42hkDk-nrB"
      },
      "execution_count": null,
      "outputs": []
    },
    {
      "cell_type": "code",
      "source": [
        "model1.fit(train_inputs_sc, train_targets_sc)"
      ],
      "metadata": {
        "id": "-CMUegNPDOlN"
      },
      "execution_count": null,
      "outputs": []
    },
    {
      "cell_type": "code",
      "source": [
        "preds3= model1.predict(test_inputs_sc)"
      ],
      "metadata": {
        "id": "1JO-_leLURbU"
      },
      "execution_count": null,
      "outputs": []
    },
    {
      "cell_type": "code",
      "source": [
        "preds4 = model1.predict(test_inputs_TMY_sc)"
      ],
      "metadata": {
        "id": "ja03DorwURY3"
      },
      "execution_count": null,
      "outputs": []
    },
    {
      "cell_type": "code",
      "source": [
        "AW_pre = pd.DataFrame(preds3 , columns =['Predicted using data of 2019'] )\n",
        "TMY_pre = pd.DataFrame(preds4 , columns =['Predicted using data of TW'] )\n",
        "test_targets_sc = pd.DataFrame(test_targets_sc , columns =['Ground Truth Values of 2019'] )"
      ],
      "metadata": {
        "id": "RwJBcMxlCefC"
      },
      "execution_count": null,
      "outputs": []
    },
    {
      "cell_type": "markdown",
      "source": [
        "Predicting energy in 2019 using the data of 2019 itself and comparing with real values in 2019"
      ],
      "metadata": {
        "id": "Tle-URrIBi8m"
      }
    },
    {
      "cell_type": "code",
      "source": [
        "R2_score1=r2_score(AW_pre, test_targets_sc)\n",
        "print(R2_score1)\n",
        "print('%.2f' % R2_score1)"
      ],
      "metadata": {
        "id": "rC8CSLIoBrGt"
      },
      "execution_count": null,
      "outputs": []
    },
    {
      "cell_type": "code",
      "source": [
        "A = scaler1.inverse_transform(test_targets_sc)\n",
        "A.shape"
      ],
      "metadata": {
        "id": "e8RiDvDIF1Ni"
      },
      "execution_count": null,
      "outputs": []
    },
    {
      "cell_type": "code",
      "source": [
        "AW_pre"
      ],
      "metadata": {
        "id": "StcXSQ7LcB_Q"
      },
      "execution_count": null,
      "outputs": []
    },
    {
      "cell_type": "code",
      "source": [
        "Prediction_after_applying_inverse = np.sort(AW_pre, axis = 0)\n",
        "Prediction_after_applying_inverse"
      ],
      "metadata": {
        "id": "T0aw4kcvi_ZO"
      },
      "execution_count": null,
      "outputs": []
    },
    {
      "cell_type": "code",
      "source": [
        "plt.figure(figsize=(30,8));\n",
        "x_ax = range ( len(test_targets_sc))\n",
        "plt.plot(x_ax,A, label =\"EnergyPlus\")\n",
        "plt.plot (x_ax,B, label = \"prediction\")\n",
        "plt.title(\"Energy Demand\")\n",
        "plt.legend()\n",
        "plt.show()"
      ],
      "metadata": {
        "id": "5V60n9feF1H7"
      },
      "execution_count": null,
      "outputs": []
    },
    {
      "cell_type": "markdown",
      "source": [
        "## No Normalization"
      ],
      "metadata": {
        "id": "Qkj2XRL6mz5z"
      }
    },
    {
      "cell_type": "code",
      "source": [
        ""
      ],
      "metadata": {
        "colab": {
          "base_uri": "https://localhost:8080/",
          "height": 537
        },
        "id": "oH377RUSYoxO",
        "outputId": "9ec24963-dfe1-42eb-db34-fabb749e69e3"
      },
      "execution_count": 67,
      "outputs": [
        {
          "output_type": "execute_result",
          "data": {
            "text/plain": [
              "           Time  Dry Bulb Temperature  Dew Point Temperature  \\\n",
              "0          1:00                 -21.6                  -25.4   \n",
              "1          2:00                 -22.5                  -26.0   \n",
              "2          3:00                 -23.8                  -27.5   \n",
              "3          4:00                 -24.6                  -28.1   \n",
              "4          5:00                 -25.6                  -29.1   \n",
              "...         ...                   ...                    ...   \n",
              "61315     20:00                  -7.8                  -10.1   \n",
              "61316     21:00                  -7.5                  -10.7   \n",
              "61317     22:00                  -7.3                  -10.6   \n",
              "61318     23:00                  -7.2                  -10.4   \n",
              "61319  24:00:00                  -7.0                  -10.2   \n",
              "\n",
              "       Relative Humidity  Atmospheric Pressure  \\\n",
              "0                   71.0              100230.0   \n",
              "1                   73.0              100310.0   \n",
              "2                   71.0              100390.0   \n",
              "3                   73.0              100510.0   \n",
              "4                   72.0              100610.0   \n",
              "...                  ...                   ...   \n",
              "61315               84.0               97120.0   \n",
              "61316               78.0               97220.0   \n",
              "61317               77.0               97280.0   \n",
              "61318               78.0               97400.0   \n",
              "61319               78.0               97510.0   \n",
              "\n",
              "       Horizontal Infrared Radiation Intensity from Sky  \\\n",
              "0                                            177.240384   \n",
              "1                                            174.261326   \n",
              "2                                            157.302450   \n",
              "3                                            166.944016   \n",
              "4                                            163.542481   \n",
              "...                                                 ...   \n",
              "61315                                        216.714552   \n",
              "61316                                        217.195617   \n",
              "61317                                        217.934674   \n",
              "61318                                        218.430840   \n",
              "61319                                        219.257280   \n",
              "\n",
              "       Global Horizontal Radiation  Direct Normal Radiation  \\\n",
              "0                                0                      0.0   \n",
              "1                                0                      0.0   \n",
              "2                                0                      0.0   \n",
              "3                                0                      0.0   \n",
              "4                                0                      0.0   \n",
              "...                            ...                      ...   \n",
              "61315                            0                      0.0   \n",
              "61316                            0                      0.0   \n",
              "61317                            0                      0.0   \n",
              "61318                            0                      0.0   \n",
              "61319                            0                      0.0   \n",
              "\n",
              "       Diffuse Horizontal Radiation  Global Horizontal Illuminance  \\\n",
              "0                               0.0                              0   \n",
              "1                               0.0                              0   \n",
              "2                               0.0                              0   \n",
              "3                               0.0                              0   \n",
              "4                               0.0                              0   \n",
              "...                             ...                            ...   \n",
              "61315                           0.0                              0   \n",
              "61316                           0.0                              0   \n",
              "61317                           0.0                              0   \n",
              "61318                           0.0                              0   \n",
              "61319                           0.0                              0   \n",
              "\n",
              "       Direct Normal Illuminance  Diffuse Horizontal Illuminance  Wind Speed  \\\n",
              "0                              0                               0         9.0   \n",
              "1                              0                               0        11.0   \n",
              "2                              0                               0        13.0   \n",
              "3                              0                               0        11.0   \n",
              "4                              0                               0        11.0   \n",
              "...                          ...                             ...         ...   \n",
              "61315                          0                               0         4.0   \n",
              "61316                          0                               0         9.0   \n",
              "61317                          0                               0         9.0   \n",
              "61318                          0                               0         6.0   \n",
              "61319                          0                               0         6.0   \n",
              "\n",
              "       Total Sky Cover  Opaque Sky Cover  People Total Heating Energy  \\\n",
              "0                    0                 8                          0.0   \n",
              "1                    6                 8                          0.0   \n",
              "2                    4                 1                          0.0   \n",
              "3                    0                 8                          0.0   \n",
              "4                    4                 8                          0.0   \n",
              "...                ...               ...                          ...   \n",
              "61315                8                 1                          0.0   \n",
              "61316                0                 1                          0.0   \n",
              "61317                3                 1                          0.0   \n",
              "61318                1                 1                          0.0   \n",
              "61319                1                 1                          0.0   \n",
              "\n",
              "       Total Zone Infiltration Sensible Heat Gain Energy  Averge Zones temp  \\\n",
              "0                                              4476693.0           13.00748   \n",
              "1                                              3768383.0           12.54072   \n",
              "2                                              1650617.0           11.80668   \n",
              "3                                              1148430.0           11.46979   \n",
              "4                                               821679.4           11.56382   \n",
              "...                                                  ...                ...   \n",
              "61315                                          2369611.0           15.85406   \n",
              "61316                                          3037787.0           15.76728   \n",
              "61317                                          3103720.0           15.77929   \n",
              "61318                                          3019393.0           15.73073   \n",
              "61319                                          3128641.0           15.78855   \n",
              "\n",
              "       ATTIC:Zone Air Temperature  \n",
              "0                        -28.1504  \n",
              "1                        -25.8800  \n",
              "2                        -24.9026  \n",
              "3                        -25.4089  \n",
              "4                        -26.0010  \n",
              "...                           ...  \n",
              "61315                    -10.4221  \n",
              "61316                    -10.9288  \n",
              "61317                    -10.7590  \n",
              "61318                    -10.5245  \n",
              "61319                    -10.4825  \n",
              "\n",
              "[60558 rows x 19 columns]"
            ],
            "text/html": [
              "\n",
              "  <div id=\"df-0ac81964-a51f-4176-a878-47b000109b44\">\n",
              "    <div class=\"colab-df-container\">\n",
              "      <div>\n",
              "<style scoped>\n",
              "    .dataframe tbody tr th:only-of-type {\n",
              "        vertical-align: middle;\n",
              "    }\n",
              "\n",
              "    .dataframe tbody tr th {\n",
              "        vertical-align: top;\n",
              "    }\n",
              "\n",
              "    .dataframe thead th {\n",
              "        text-align: right;\n",
              "    }\n",
              "</style>\n",
              "<table border=\"1\" class=\"dataframe\">\n",
              "  <thead>\n",
              "    <tr style=\"text-align: right;\">\n",
              "      <th></th>\n",
              "      <th>Time</th>\n",
              "      <th>Dry Bulb Temperature</th>\n",
              "      <th>Dew Point Temperature</th>\n",
              "      <th>Relative Humidity</th>\n",
              "      <th>Atmospheric Pressure</th>\n",
              "      <th>Horizontal Infrared Radiation Intensity from Sky</th>\n",
              "      <th>Global Horizontal Radiation</th>\n",
              "      <th>Direct Normal Radiation</th>\n",
              "      <th>Diffuse Horizontal Radiation</th>\n",
              "      <th>Global Horizontal Illuminance</th>\n",
              "      <th>Direct Normal Illuminance</th>\n",
              "      <th>Diffuse Horizontal Illuminance</th>\n",
              "      <th>Wind Speed</th>\n",
              "      <th>Total Sky Cover</th>\n",
              "      <th>Opaque Sky Cover</th>\n",
              "      <th>People Total Heating Energy</th>\n",
              "      <th>Total Zone Infiltration Sensible Heat Gain Energy</th>\n",
              "      <th>Averge Zones temp</th>\n",
              "      <th>ATTIC:Zone Air Temperature</th>\n",
              "    </tr>\n",
              "  </thead>\n",
              "  <tbody>\n",
              "    <tr>\n",
              "      <th>0</th>\n",
              "      <td>1:00</td>\n",
              "      <td>-21.6</td>\n",
              "      <td>-25.4</td>\n",
              "      <td>71.0</td>\n",
              "      <td>100230.0</td>\n",
              "      <td>177.240384</td>\n",
              "      <td>0</td>\n",
              "      <td>0.0</td>\n",
              "      <td>0.0</td>\n",
              "      <td>0</td>\n",
              "      <td>0</td>\n",
              "      <td>0</td>\n",
              "      <td>9.0</td>\n",
              "      <td>0</td>\n",
              "      <td>8</td>\n",
              "      <td>0.0</td>\n",
              "      <td>4476693.0</td>\n",
              "      <td>13.00748</td>\n",
              "      <td>-28.1504</td>\n",
              "    </tr>\n",
              "    <tr>\n",
              "      <th>1</th>\n",
              "      <td>2:00</td>\n",
              "      <td>-22.5</td>\n",
              "      <td>-26.0</td>\n",
              "      <td>73.0</td>\n",
              "      <td>100310.0</td>\n",
              "      <td>174.261326</td>\n",
              "      <td>0</td>\n",
              "      <td>0.0</td>\n",
              "      <td>0.0</td>\n",
              "      <td>0</td>\n",
              "      <td>0</td>\n",
              "      <td>0</td>\n",
              "      <td>11.0</td>\n",
              "      <td>6</td>\n",
              "      <td>8</td>\n",
              "      <td>0.0</td>\n",
              "      <td>3768383.0</td>\n",
              "      <td>12.54072</td>\n",
              "      <td>-25.8800</td>\n",
              "    </tr>\n",
              "    <tr>\n",
              "      <th>2</th>\n",
              "      <td>3:00</td>\n",
              "      <td>-23.8</td>\n",
              "      <td>-27.5</td>\n",
              "      <td>71.0</td>\n",
              "      <td>100390.0</td>\n",
              "      <td>157.302450</td>\n",
              "      <td>0</td>\n",
              "      <td>0.0</td>\n",
              "      <td>0.0</td>\n",
              "      <td>0</td>\n",
              "      <td>0</td>\n",
              "      <td>0</td>\n",
              "      <td>13.0</td>\n",
              "      <td>4</td>\n",
              "      <td>1</td>\n",
              "      <td>0.0</td>\n",
              "      <td>1650617.0</td>\n",
              "      <td>11.80668</td>\n",
              "      <td>-24.9026</td>\n",
              "    </tr>\n",
              "    <tr>\n",
              "      <th>3</th>\n",
              "      <td>4:00</td>\n",
              "      <td>-24.6</td>\n",
              "      <td>-28.1</td>\n",
              "      <td>73.0</td>\n",
              "      <td>100510.0</td>\n",
              "      <td>166.944016</td>\n",
              "      <td>0</td>\n",
              "      <td>0.0</td>\n",
              "      <td>0.0</td>\n",
              "      <td>0</td>\n",
              "      <td>0</td>\n",
              "      <td>0</td>\n",
              "      <td>11.0</td>\n",
              "      <td>0</td>\n",
              "      <td>8</td>\n",
              "      <td>0.0</td>\n",
              "      <td>1148430.0</td>\n",
              "      <td>11.46979</td>\n",
              "      <td>-25.4089</td>\n",
              "    </tr>\n",
              "    <tr>\n",
              "      <th>4</th>\n",
              "      <td>5:00</td>\n",
              "      <td>-25.6</td>\n",
              "      <td>-29.1</td>\n",
              "      <td>72.0</td>\n",
              "      <td>100610.0</td>\n",
              "      <td>163.542481</td>\n",
              "      <td>0</td>\n",
              "      <td>0.0</td>\n",
              "      <td>0.0</td>\n",
              "      <td>0</td>\n",
              "      <td>0</td>\n",
              "      <td>0</td>\n",
              "      <td>11.0</td>\n",
              "      <td>4</td>\n",
              "      <td>8</td>\n",
              "      <td>0.0</td>\n",
              "      <td>821679.4</td>\n",
              "      <td>11.56382</td>\n",
              "      <td>-26.0010</td>\n",
              "    </tr>\n",
              "    <tr>\n",
              "      <th>...</th>\n",
              "      <td>...</td>\n",
              "      <td>...</td>\n",
              "      <td>...</td>\n",
              "      <td>...</td>\n",
              "      <td>...</td>\n",
              "      <td>...</td>\n",
              "      <td>...</td>\n",
              "      <td>...</td>\n",
              "      <td>...</td>\n",
              "      <td>...</td>\n",
              "      <td>...</td>\n",
              "      <td>...</td>\n",
              "      <td>...</td>\n",
              "      <td>...</td>\n",
              "      <td>...</td>\n",
              "      <td>...</td>\n",
              "      <td>...</td>\n",
              "      <td>...</td>\n",
              "      <td>...</td>\n",
              "    </tr>\n",
              "    <tr>\n",
              "      <th>61315</th>\n",
              "      <td>20:00</td>\n",
              "      <td>-7.8</td>\n",
              "      <td>-10.1</td>\n",
              "      <td>84.0</td>\n",
              "      <td>97120.0</td>\n",
              "      <td>216.714552</td>\n",
              "      <td>0</td>\n",
              "      <td>0.0</td>\n",
              "      <td>0.0</td>\n",
              "      <td>0</td>\n",
              "      <td>0</td>\n",
              "      <td>0</td>\n",
              "      <td>4.0</td>\n",
              "      <td>8</td>\n",
              "      <td>1</td>\n",
              "      <td>0.0</td>\n",
              "      <td>2369611.0</td>\n",
              "      <td>15.85406</td>\n",
              "      <td>-10.4221</td>\n",
              "    </tr>\n",
              "    <tr>\n",
              "      <th>61316</th>\n",
              "      <td>21:00</td>\n",
              "      <td>-7.5</td>\n",
              "      <td>-10.7</td>\n",
              "      <td>78.0</td>\n",
              "      <td>97220.0</td>\n",
              "      <td>217.195617</td>\n",
              "      <td>0</td>\n",
              "      <td>0.0</td>\n",
              "      <td>0.0</td>\n",
              "      <td>0</td>\n",
              "      <td>0</td>\n",
              "      <td>0</td>\n",
              "      <td>9.0</td>\n",
              "      <td>0</td>\n",
              "      <td>1</td>\n",
              "      <td>0.0</td>\n",
              "      <td>3037787.0</td>\n",
              "      <td>15.76728</td>\n",
              "      <td>-10.9288</td>\n",
              "    </tr>\n",
              "    <tr>\n",
              "      <th>61317</th>\n",
              "      <td>22:00</td>\n",
              "      <td>-7.3</td>\n",
              "      <td>-10.6</td>\n",
              "      <td>77.0</td>\n",
              "      <td>97280.0</td>\n",
              "      <td>217.934674</td>\n",
              "      <td>0</td>\n",
              "      <td>0.0</td>\n",
              "      <td>0.0</td>\n",
              "      <td>0</td>\n",
              "      <td>0</td>\n",
              "      <td>0</td>\n",
              "      <td>9.0</td>\n",
              "      <td>3</td>\n",
              "      <td>1</td>\n",
              "      <td>0.0</td>\n",
              "      <td>3103720.0</td>\n",
              "      <td>15.77929</td>\n",
              "      <td>-10.7590</td>\n",
              "    </tr>\n",
              "    <tr>\n",
              "      <th>61318</th>\n",
              "      <td>23:00</td>\n",
              "      <td>-7.2</td>\n",
              "      <td>-10.4</td>\n",
              "      <td>78.0</td>\n",
              "      <td>97400.0</td>\n",
              "      <td>218.430840</td>\n",
              "      <td>0</td>\n",
              "      <td>0.0</td>\n",
              "      <td>0.0</td>\n",
              "      <td>0</td>\n",
              "      <td>0</td>\n",
              "      <td>0</td>\n",
              "      <td>6.0</td>\n",
              "      <td>1</td>\n",
              "      <td>1</td>\n",
              "      <td>0.0</td>\n",
              "      <td>3019393.0</td>\n",
              "      <td>15.73073</td>\n",
              "      <td>-10.5245</td>\n",
              "    </tr>\n",
              "    <tr>\n",
              "      <th>61319</th>\n",
              "      <td>24:00:00</td>\n",
              "      <td>-7.0</td>\n",
              "      <td>-10.2</td>\n",
              "      <td>78.0</td>\n",
              "      <td>97510.0</td>\n",
              "      <td>219.257280</td>\n",
              "      <td>0</td>\n",
              "      <td>0.0</td>\n",
              "      <td>0.0</td>\n",
              "      <td>0</td>\n",
              "      <td>0</td>\n",
              "      <td>0</td>\n",
              "      <td>6.0</td>\n",
              "      <td>1</td>\n",
              "      <td>1</td>\n",
              "      <td>0.0</td>\n",
              "      <td>3128641.0</td>\n",
              "      <td>15.78855</td>\n",
              "      <td>-10.4825</td>\n",
              "    </tr>\n",
              "  </tbody>\n",
              "</table>\n",
              "<p>60558 rows × 19 columns</p>\n",
              "</div>\n",
              "      <button class=\"colab-df-convert\" onclick=\"convertToInteractive('df-0ac81964-a51f-4176-a878-47b000109b44')\"\n",
              "              title=\"Convert this dataframe to an interactive table.\"\n",
              "              style=\"display:none;\">\n",
              "        \n",
              "  <svg xmlns=\"http://www.w3.org/2000/svg\" height=\"24px\"viewBox=\"0 0 24 24\"\n",
              "       width=\"24px\">\n",
              "    <path d=\"M0 0h24v24H0V0z\" fill=\"none\"/>\n",
              "    <path d=\"M18.56 5.44l.94 2.06.94-2.06 2.06-.94-2.06-.94-.94-2.06-.94 2.06-2.06.94zm-11 1L8.5 8.5l.94-2.06 2.06-.94-2.06-.94L8.5 2.5l-.94 2.06-2.06.94zm10 10l.94 2.06.94-2.06 2.06-.94-2.06-.94-.94-2.06-.94 2.06-2.06.94z\"/><path d=\"M17.41 7.96l-1.37-1.37c-.4-.4-.92-.59-1.43-.59-.52 0-1.04.2-1.43.59L10.3 9.45l-7.72 7.72c-.78.78-.78 2.05 0 2.83L4 21.41c.39.39.9.59 1.41.59.51 0 1.02-.2 1.41-.59l7.78-7.78 2.81-2.81c.8-.78.8-2.07 0-2.86zM5.41 20L4 18.59l7.72-7.72 1.47 1.35L5.41 20z\"/>\n",
              "  </svg>\n",
              "      </button>\n",
              "      \n",
              "  <style>\n",
              "    .colab-df-container {\n",
              "      display:flex;\n",
              "      flex-wrap:wrap;\n",
              "      gap: 12px;\n",
              "    }\n",
              "\n",
              "    .colab-df-convert {\n",
              "      background-color: #E8F0FE;\n",
              "      border: none;\n",
              "      border-radius: 50%;\n",
              "      cursor: pointer;\n",
              "      display: none;\n",
              "      fill: #1967D2;\n",
              "      height: 32px;\n",
              "      padding: 0 0 0 0;\n",
              "      width: 32px;\n",
              "    }\n",
              "\n",
              "    .colab-df-convert:hover {\n",
              "      background-color: #E2EBFA;\n",
              "      box-shadow: 0px 1px 2px rgba(60, 64, 67, 0.3), 0px 1px 3px 1px rgba(60, 64, 67, 0.15);\n",
              "      fill: #174EA6;\n",
              "    }\n",
              "\n",
              "    [theme=dark] .colab-df-convert {\n",
              "      background-color: #3B4455;\n",
              "      fill: #D2E3FC;\n",
              "    }\n",
              "\n",
              "    [theme=dark] .colab-df-convert:hover {\n",
              "      background-color: #434B5C;\n",
              "      box-shadow: 0px 1px 3px 1px rgba(0, 0, 0, 0.15);\n",
              "      filter: drop-shadow(0px 1px 2px rgba(0, 0, 0, 0.3));\n",
              "      fill: #FFFFFF;\n",
              "    }\n",
              "  </style>\n",
              "\n",
              "      <script>\n",
              "        const buttonEl =\n",
              "          document.querySelector('#df-0ac81964-a51f-4176-a878-47b000109b44 button.colab-df-convert');\n",
              "        buttonEl.style.display =\n",
              "          google.colab.kernel.accessAllowed ? 'block' : 'none';\n",
              "\n",
              "        async function convertToInteractive(key) {\n",
              "          const element = document.querySelector('#df-0ac81964-a51f-4176-a878-47b000109b44');\n",
              "          const dataTable =\n",
              "            await google.colab.kernel.invokeFunction('convertToInteractive',\n",
              "                                                     [key], {});\n",
              "          if (!dataTable) return;\n",
              "\n",
              "          const docLinkHtml = 'Like what you see? Visit the ' +\n",
              "            '<a target=\"_blank\" href=https://colab.research.google.com/notebooks/data_table.ipynb>data table notebook</a>'\n",
              "            + ' to learn more about interactive tables.';\n",
              "          element.innerHTML = '';\n",
              "          dataTable['output_type'] = 'display_data';\n",
              "          await google.colab.output.renderOutput(dataTable, element);\n",
              "          const docLink = document.createElement('div');\n",
              "          docLink.innerHTML = docLinkHtml;\n",
              "          element.appendChild(docLink);\n",
              "        }\n",
              "      </script>\n",
              "    </div>\n",
              "  </div>\n",
              "  "
            ]
          },
          "metadata": {},
          "execution_count": 67
        }
      ]
    },
    {
      "cell_type": "code",
      "source": [
        "model1.fit(train_inputs, train_targets)"
      ],
      "metadata": {
        "id": "0fo27fGpF1FY",
        "colab": {
          "base_uri": "https://localhost:8080/"
        },
        "outputId": "951474a2-f9c7-43ea-8542-d72dac77d475"
      },
      "execution_count": 75,
      "outputs": [
        {
          "output_type": "stream",
          "name": "stdout",
          "text": [
            "[06:40:56] WARNING: /workspace/src/objective/regression_obj.cu:152: reg:linear is now deprecated in favor of reg:squarederror.\n"
          ]
        },
        {
          "output_type": "execute_result",
          "data": {
            "text/plain": [
              "XGBRegressor(alpha=6, colsample_bytree=0.5, learning_rate=0.2, max_depth=10,\n",
              "             reg_lambda=10)"
            ]
          },
          "metadata": {},
          "execution_count": 75
        }
      ]
    },
    {
      "cell_type": "code",
      "source": [
        "preds3= model1.predict(test_inputs)"
      ],
      "metadata": {
        "id": "yUfBIBU2nxhV"
      },
      "execution_count": 76,
      "outputs": []
    },
    {
      "cell_type": "code",
      "source": [
        "preds4 = model1.predict(test_inputs)"
      ],
      "metadata": {
        "id": "iCaxGVSynxhX"
      },
      "execution_count": 77,
      "outputs": []
    },
    {
      "cell_type": "code",
      "source": [
        "#no scaling\n",
        "C=pd.DataFrame(test_df[target_col]) \n",
        "C.reset_index(inplace = True)\n",
        "C.drop('index', axis=1, inplace=True)"
      ],
      "metadata": {
        "id": "KI3yQiUudfb8"
      },
      "execution_count": 79,
      "outputs": []
    },
    {
      "cell_type": "code",
      "source": [
        "#Scaled C\n",
        "#C_sc=pd.DataFrame(test_df[target_col]) \n",
        "#C_sc.reset_index(inplace = True)\n",
        "#C_sc.drop('index', axis=1, inplace=True)"
      ],
      "metadata": {
        "id": "SPNBwFqqdfb-"
      },
      "execution_count": null,
      "outputs": []
    },
    {
      "cell_type": "code",
      "source": [
        "Heating = pd.DataFrame(preds3, columns =['predicted for Heating 2019 using data belobged to 2019'])\n",
        "Heating[' Heating Real Values'] = C\n",
        "#raw_df.to_csv('Heating.csv')\n",
        "Heating"
      ],
      "metadata": {
        "id": "e7JiNvS1BrBV",
        "colab": {
          "base_uri": "https://localhost:8080/",
          "height": 424
        },
        "outputId": "1a8f4f7d-4d9a-4b87-8a78-8703ab195734"
      },
      "execution_count": 80,
      "outputs": [
        {
          "output_type": "execute_result",
          "data": {
            "text/plain": [
              "      predicted for Heating 2019 using data belobged to 2019  \\\n",
              "0                                          9.096395e+05        \n",
              "1                                          8.805684e+05        \n",
              "2                                          8.949110e+05        \n",
              "3                                          8.831368e+05        \n",
              "4                                          9.060550e+05        \n",
              "...                                                 ...        \n",
              "8755                                       1.166963e+07        \n",
              "8756                                       1.365366e+07        \n",
              "8757                                       1.241896e+07        \n",
              "8758                                       1.134891e+07        \n",
              "8759                                       1.150713e+07        \n",
              "\n",
              "       Heating Real Values  \n",
              "0                 900000.0  \n",
              "1                 900000.0  \n",
              "2                 900000.0  \n",
              "3                 900000.0  \n",
              "4                 900000.0  \n",
              "...                    ...  \n",
              "8755            11735676.0  \n",
              "8756            12807904.0  \n",
              "8757            11698992.0  \n",
              "8758            12792717.0  \n",
              "8759            11721609.0  \n",
              "\n",
              "[8760 rows x 2 columns]"
            ],
            "text/html": [
              "\n",
              "  <div id=\"df-02b23633-e86e-4afb-ba97-3fa44ac72cf4\">\n",
              "    <div class=\"colab-df-container\">\n",
              "      <div>\n",
              "<style scoped>\n",
              "    .dataframe tbody tr th:only-of-type {\n",
              "        vertical-align: middle;\n",
              "    }\n",
              "\n",
              "    .dataframe tbody tr th {\n",
              "        vertical-align: top;\n",
              "    }\n",
              "\n",
              "    .dataframe thead th {\n",
              "        text-align: right;\n",
              "    }\n",
              "</style>\n",
              "<table border=\"1\" class=\"dataframe\">\n",
              "  <thead>\n",
              "    <tr style=\"text-align: right;\">\n",
              "      <th></th>\n",
              "      <th>predicted for Heating 2019 using data belobged to 2019</th>\n",
              "      <th>Heating Real Values</th>\n",
              "    </tr>\n",
              "  </thead>\n",
              "  <tbody>\n",
              "    <tr>\n",
              "      <th>0</th>\n",
              "      <td>9.096395e+05</td>\n",
              "      <td>900000.0</td>\n",
              "    </tr>\n",
              "    <tr>\n",
              "      <th>1</th>\n",
              "      <td>8.805684e+05</td>\n",
              "      <td>900000.0</td>\n",
              "    </tr>\n",
              "    <tr>\n",
              "      <th>2</th>\n",
              "      <td>8.949110e+05</td>\n",
              "      <td>900000.0</td>\n",
              "    </tr>\n",
              "    <tr>\n",
              "      <th>3</th>\n",
              "      <td>8.831368e+05</td>\n",
              "      <td>900000.0</td>\n",
              "    </tr>\n",
              "    <tr>\n",
              "      <th>4</th>\n",
              "      <td>9.060550e+05</td>\n",
              "      <td>900000.0</td>\n",
              "    </tr>\n",
              "    <tr>\n",
              "      <th>...</th>\n",
              "      <td>...</td>\n",
              "      <td>...</td>\n",
              "    </tr>\n",
              "    <tr>\n",
              "      <th>8755</th>\n",
              "      <td>1.166963e+07</td>\n",
              "      <td>11735676.0</td>\n",
              "    </tr>\n",
              "    <tr>\n",
              "      <th>8756</th>\n",
              "      <td>1.365366e+07</td>\n",
              "      <td>12807904.0</td>\n",
              "    </tr>\n",
              "    <tr>\n",
              "      <th>8757</th>\n",
              "      <td>1.241896e+07</td>\n",
              "      <td>11698992.0</td>\n",
              "    </tr>\n",
              "    <tr>\n",
              "      <th>8758</th>\n",
              "      <td>1.134891e+07</td>\n",
              "      <td>12792717.0</td>\n",
              "    </tr>\n",
              "    <tr>\n",
              "      <th>8759</th>\n",
              "      <td>1.150713e+07</td>\n",
              "      <td>11721609.0</td>\n",
              "    </tr>\n",
              "  </tbody>\n",
              "</table>\n",
              "<p>8760 rows × 2 columns</p>\n",
              "</div>\n",
              "      <button class=\"colab-df-convert\" onclick=\"convertToInteractive('df-02b23633-e86e-4afb-ba97-3fa44ac72cf4')\"\n",
              "              title=\"Convert this dataframe to an interactive table.\"\n",
              "              style=\"display:none;\">\n",
              "        \n",
              "  <svg xmlns=\"http://www.w3.org/2000/svg\" height=\"24px\"viewBox=\"0 0 24 24\"\n",
              "       width=\"24px\">\n",
              "    <path d=\"M0 0h24v24H0V0z\" fill=\"none\"/>\n",
              "    <path d=\"M18.56 5.44l.94 2.06.94-2.06 2.06-.94-2.06-.94-.94-2.06-.94 2.06-2.06.94zm-11 1L8.5 8.5l.94-2.06 2.06-.94-2.06-.94L8.5 2.5l-.94 2.06-2.06.94zm10 10l.94 2.06.94-2.06 2.06-.94-2.06-.94-.94-2.06-.94 2.06-2.06.94z\"/><path d=\"M17.41 7.96l-1.37-1.37c-.4-.4-.92-.59-1.43-.59-.52 0-1.04.2-1.43.59L10.3 9.45l-7.72 7.72c-.78.78-.78 2.05 0 2.83L4 21.41c.39.39.9.59 1.41.59.51 0 1.02-.2 1.41-.59l7.78-7.78 2.81-2.81c.8-.78.8-2.07 0-2.86zM5.41 20L4 18.59l7.72-7.72 1.47 1.35L5.41 20z\"/>\n",
              "  </svg>\n",
              "      </button>\n",
              "      \n",
              "  <style>\n",
              "    .colab-df-container {\n",
              "      display:flex;\n",
              "      flex-wrap:wrap;\n",
              "      gap: 12px;\n",
              "    }\n",
              "\n",
              "    .colab-df-convert {\n",
              "      background-color: #E8F0FE;\n",
              "      border: none;\n",
              "      border-radius: 50%;\n",
              "      cursor: pointer;\n",
              "      display: none;\n",
              "      fill: #1967D2;\n",
              "      height: 32px;\n",
              "      padding: 0 0 0 0;\n",
              "      width: 32px;\n",
              "    }\n",
              "\n",
              "    .colab-df-convert:hover {\n",
              "      background-color: #E2EBFA;\n",
              "      box-shadow: 0px 1px 2px rgba(60, 64, 67, 0.3), 0px 1px 3px 1px rgba(60, 64, 67, 0.15);\n",
              "      fill: #174EA6;\n",
              "    }\n",
              "\n",
              "    [theme=dark] .colab-df-convert {\n",
              "      background-color: #3B4455;\n",
              "      fill: #D2E3FC;\n",
              "    }\n",
              "\n",
              "    [theme=dark] .colab-df-convert:hover {\n",
              "      background-color: #434B5C;\n",
              "      box-shadow: 0px 1px 3px 1px rgba(0, 0, 0, 0.15);\n",
              "      filter: drop-shadow(0px 1px 2px rgba(0, 0, 0, 0.3));\n",
              "      fill: #FFFFFF;\n",
              "    }\n",
              "  </style>\n",
              "\n",
              "      <script>\n",
              "        const buttonEl =\n",
              "          document.querySelector('#df-02b23633-e86e-4afb-ba97-3fa44ac72cf4 button.colab-df-convert');\n",
              "        buttonEl.style.display =\n",
              "          google.colab.kernel.accessAllowed ? 'block' : 'none';\n",
              "\n",
              "        async function convertToInteractive(key) {\n",
              "          const element = document.querySelector('#df-02b23633-e86e-4afb-ba97-3fa44ac72cf4');\n",
              "          const dataTable =\n",
              "            await google.colab.kernel.invokeFunction('convertToInteractive',\n",
              "                                                     [key], {});\n",
              "          if (!dataTable) return;\n",
              "\n",
              "          const docLinkHtml = 'Like what you see? Visit the ' +\n",
              "            '<a target=\"_blank\" href=https://colab.research.google.com/notebooks/data_table.ipynb>data table notebook</a>'\n",
              "            + ' to learn more about interactive tables.';\n",
              "          element.innerHTML = '';\n",
              "          dataTable['output_type'] = 'display_data';\n",
              "          await google.colab.output.renderOutput(dataTable, element);\n",
              "          const docLink = document.createElement('div');\n",
              "          docLink.innerHTML = docLinkHtml;\n",
              "          element.appendChild(docLink);\n",
              "        }\n",
              "      </script>\n",
              "    </div>\n",
              "  </div>\n",
              "  "
            ]
          },
          "metadata": {},
          "execution_count": 80
        }
      ]
    },
    {
      "cell_type": "code",
      "source": [
        "plt.figure(figsize=(30,8));\n",
        "x_ax = range ( len(preds3))\n",
        "plt.plot(x_ax,preds3, label =\"predicted 2019\")\n",
        "#plt.plot(x_ax,preds3, label = \"AC\")\n",
        "plt.plot(x_ax,C, label = \"Real values 2019\")\n",
        "plt.title(\"Comparison Heating\")\n",
        "plt.legend()\n",
        "plt.show()"
      ],
      "metadata": {
        "id": "HngSOKmZBq-m",
        "colab": {
          "base_uri": "https://localhost:8080/",
          "height": 501
        },
        "outputId": "cb70c6a9-095a-4618-bc24-ef800fbca8c1"
      },
      "execution_count": 81,
      "outputs": [
        {
          "output_type": "display_data",
          "data": {
            "text/plain": [
              "<Figure size 2160x576 with 1 Axes>"
            ],
            "image/png": "[encoded data removed]"
          },
          "metadata": {}
        }
      ]
    },
    {
      "cell_type": "code",
      "source": [
        "plt.figure(figsize=(6.5,5.3));\n",
        "plt.plot(C,preds3,'bo');\n",
        "plt.plot([0,3e7],[0,3e7],'-',color=[0.1,0.1,0.1,0.5],linewidth=1)"
      ],
      "metadata": {
        "id": "YVJ43x4rBq7u",
        "colab": {
          "base_uri": "https://localhost:8080/",
          "height": 380
        },
        "outputId": "b8f357a9-2af9-42e4-f774-830e5e18d15c"
      },
      "execution_count": 82,
      "outputs": [
        {
          "output_type": "execute_result",
          "data": {
            "text/plain": [
              "[<matplotlib.lines.Line2D at 0x7fe76aec9f50>]"
            ]
          },
          "metadata": {},
          "execution_count": 82
        },
        {
          "output_type": "display_data",
          "data": {
            "text/plain": [
              "<Figure size 468x381.6 with 1 Axes>"
            ],
            "image/png": "[encoded data removed]"
          },
          "metadata": {}
        }
      ]
    },
    {
      "cell_type": "markdown",
      "source": [
        "Lets find Accuracy of the model in mins and maxes\n",
        "\n",
        "In doe file the threshold of heating is 15 degC\n",
        "\n",
        "Max :"
      ],
      "metadata": {
        "id": "cU4NWlTe8LcT"
      }
    },
    {
      "cell_type": "code",
      "source": [
        "Max_Min = test_targets.to_frame(name ='Heating')"
      ],
      "metadata": {
        "id": "rjVGfU-wRJjp"
      },
      "execution_count": 83,
      "outputs": []
    },
    {
      "cell_type": "code",
      "source": [
        "test_inputs.sort_values(by=\"Dry Bulb Temperature\")"
      ],
      "metadata": {
        "id": "FmIa737eJpCP",
        "colab": {
          "base_uri": "https://localhost:8080/",
          "height": 537
        },
        "outputId": "fe14cb96-299a-4e35-9cf6-c10f5970cc03"
      },
      "execution_count": 84,
      "outputs": [
        {
          "output_type": "execute_result",
          "data": {
            "text/plain": [
              "       Dry Bulb Temperature  Dew Point Temperature  Relative Humidity  \\\n",
              "79544                 -34.8                  -39.4               63.0   \n",
              "79540                 -34.4                  -39.3               62.0   \n",
              "79542                 -34.4                  -39.0               63.0   \n",
              "79543                 -34.4                  -39.0               63.0   \n",
              "79541                 -34.2                  -38.9               63.0   \n",
              "...                     ...                    ...                ...   \n",
              "82622                  34.0                   10.9               25.0   \n",
              "82621                  34.1                   10.8               24.0   \n",
              "82625                  34.2                    9.6               22.0   \n",
              "82624                  35.2                    9.1               20.0   \n",
              "82623                  35.4                   10.9               23.0   \n",
              "\n",
              "       Atmospheric Pressure  Horizontal Infrared Radiation Intensity from Sky  \\\n",
              "79544               99880.0                                        130.311176   \n",
              "79540               99910.0                                        131.252914   \n",
              "79542               99880.0                                        131.445421   \n",
              "79543               99860.0                                        131.445421   \n",
              "79541               99900.0                                        131.951028   \n",
              "...                     ...                                               ...   \n",
              "82622               97290.0                                        439.761467   \n",
              "82621               97340.0                                        445.320963   \n",
              "82625               97260.0                                        431.885831   \n",
              "82624               97220.0                                        449.196556   \n",
              "82623               97250.0                                        447.838213   \n",
              "\n",
              "       Global Horizontal Radiation  Direct Normal Radiation  \\\n",
              "79544                           49                      0.0   \n",
              "79540                            0                      0.0   \n",
              "79542                            0                      0.0   \n",
              "79543                            0                      0.0   \n",
              "79541                            0                      0.0   \n",
              "...                            ...                      ...   \n",
              "82622                          858                    151.0   \n",
              "82621                          949                    388.0   \n",
              "82625                          371                      0.0   \n",
              "82624                          556                    218.0   \n",
              "82623                          724                     73.0   \n",
              "\n",
              "       Diffuse Horizontal Radiation  Global Horizontal Illuminance  \\\n",
              "79544                           0.0                              7   \n",
              "79540                           0.0                              0   \n",
              "79542                           0.0                              0   \n",
              "79543                           0.0                              0   \n",
              "79541                           0.0                              0   \n",
              "...                             ...                            ...   \n",
              "82622                         406.0                             92   \n",
              "82621                         364.0                            102   \n",
              "82625                          49.0                             40   \n",
              "82624                         288.0                             60   \n",
              "82623                         335.0                             78   \n",
              "\n",
              "       Direct Normal Illuminance  Diffuse Horizontal Illuminance  Wind Speed  \\\n",
              "79544                          4                               6         2.0   \n",
              "79540                          0                               0         4.0   \n",
              "79542                          0                               0         4.0   \n",
              "79543                          0                               0         4.0   \n",
              "79541                          0                               0         3.0   \n",
              "...                          ...                             ...         ...   \n",
              "82622                         93                              16        13.0   \n",
              "82621                         95                              16        15.0   \n",
              "82625                         67                              14        16.0   \n",
              "82624                         83                              13        14.0   \n",
              "82623                         90                              14        15.0   \n",
              "\n",
              "       Total Sky Cover  Opaque Sky Cover  People Total Heating Energy  \\\n",
              "79544                1                 6                   13311971.0   \n",
              "79540                1                 6                          0.0   \n",
              "79542                8                 6                    1464317.0   \n",
              "79543                6                 6                    2795514.0   \n",
              "79541                7                 6                          0.0   \n",
              "...                ...               ...                          ...   \n",
              "82622                4                 6                   13311971.0   \n",
              "82621                6                 7                   11559291.0   \n",
              "82625                3                 4                    1464317.0   \n",
              "82624                0                 7                    4259831.0   \n",
              "82623                6                 6                   13311971.0   \n",
              "\n",
              "       Total Zone Infiltration Sensible Heat Gain Energy  Averge Zones temp  \\\n",
              "79544                                          1987093.0           13.46564   \n",
              "79540                                          1873661.0           11.91809   \n",
              "79542                                          2216035.0           12.53789   \n",
              "79543                                          2187447.0           11.98644   \n",
              "79541                                          2103799.0           11.98183   \n",
              "...                                                  ...                ...   \n",
              "82622                                          1974027.0           23.89069   \n",
              "82621                                          1813380.0           23.99946   \n",
              "82625                                          1689108.0           26.33504   \n",
              "82624                                          7300978.0           23.88931   \n",
              "82623                                          2151679.0           23.88939   \n",
              "\n",
              "       ATTIC:Zone Air Temperature  \n",
              "79544                   -36.52920  \n",
              "79540                   -36.06500  \n",
              "79542                   -36.43160  \n",
              "79543                   -36.48760  \n",
              "79541                   -36.29190  \n",
              "...                           ...  \n",
              "82622                    49.27203  \n",
              "82621                    49.82594  \n",
              "82625                    40.80136  \n",
              "82624                    44.64788  \n",
              "82623                    46.17186  \n",
              "\n",
              "[8760 rows x 18 columns]"
            ],
            "text/html": [
              "\n",
              "  <div id=\"df-7eeda142-68be-4caa-94aa-51c1133a82d8\">\n",
              "    <div class=\"colab-df-container\">\n",
              "      <div>\n",
              "<style scoped>\n",
              "    .dataframe tbody tr th:only-of-type {\n",
              "        vertical-align: middle;\n",
              "    }\n",
              "\n",
              "    .dataframe tbody tr th {\n",
              "        vertical-align: top;\n",
              "    }\n",
              "\n",
              "    .dataframe thead th {\n",
              "        text-align: right;\n",
              "    }\n",
              "</style>\n",
              "<table border=\"1\" class=\"dataframe\">\n",
              "  <thead>\n",
              "    <tr style=\"text-align: right;\">\n",
              "      <th></th>\n",
              "      <th>Dry Bulb Temperature</th>\n",
              "      <th>Dew Point Temperature</th>\n",
              "      <th>Relative Humidity</th>\n",
              "      <th>Atmospheric Pressure</th>\n",
              "      <th>Horizontal Infrared Radiation Intensity from Sky</th>\n",
              "      <th>Global Horizontal Radiation</th>\n",
              "      <th>Direct Normal Radiation</th>\n",
              "      <th>Diffuse Horizontal Radiation</th>\n",
              "      <th>Global Horizontal Illuminance</th>\n",
              "      <th>Direct Normal Illuminance</th>\n",
              "      <th>Diffuse Horizontal Illuminance</th>\n",
              "      <th>Wind Speed</th>\n",
              "      <th>Total Sky Cover</th>\n",
              "      <th>Opaque Sky Cover</th>\n",
              "      <th>People Total Heating Energy</th>\n",
              "      <th>Total Zone Infiltration Sensible Heat Gain Energy</th>\n",
              "      <th>Averge Zones temp</th>\n",
              "      <th>ATTIC:Zone Air Temperature</th>\n",
              "    </tr>\n",
              "  </thead>\n",
              "  <tbody>\n",
              "    <tr>\n",
              "      <th>79544</th>\n",
              "      <td>-34.8</td>\n",
              "      <td>-39.4</td>\n",
              "      <td>63.0</td>\n",
              "      <td>99880.0</td>\n",
              "      <td>130.311176</td>\n",
              "      <td>49</td>\n",
              "      <td>0.0</td>\n",
              "      <td>0.0</td>\n",
              "      <td>7</td>\n",
              "      <td>4</td>\n",
              "      <td>6</td>\n",
              "      <td>2.0</td>\n",
              "      <td>1</td>\n",
              "      <td>6</td>\n",
              "      <td>13311971.0</td>\n",
              "      <td>1987093.0</td>\n",
              "      <td>13.46564</td>\n",
              "      <td>-36.52920</td>\n",
              "    </tr>\n",
              "    <tr>\n",
              "      <th>79540</th>\n",
              "      <td>-34.4</td>\n",
              "      <td>-39.3</td>\n",
              "      <td>62.0</td>\n",
              "      <td>99910.0</td>\n",
              "      <td>131.252914</td>\n",
              "      <td>0</td>\n",
              "      <td>0.0</td>\n",
              "      <td>0.0</td>\n",
              "      <td>0</td>\n",
              "      <td>0</td>\n",
              "      <td>0</td>\n",
              "      <td>4.0</td>\n",
              "      <td>1</td>\n",
              "      <td>6</td>\n",
              "      <td>0.0</td>\n",
              "      <td>1873661.0</td>\n",
              "      <td>11.91809</td>\n",
              "      <td>-36.06500</td>\n",
              "    </tr>\n",
              "    <tr>\n",
              "      <th>79542</th>\n",
              "      <td>-34.4</td>\n",
              "      <td>-39.0</td>\n",
              "      <td>63.0</td>\n",
              "      <td>99880.0</td>\n",
              "      <td>131.445421</td>\n",
              "      <td>0</td>\n",
              "      <td>0.0</td>\n",
              "      <td>0.0</td>\n",
              "      <td>0</td>\n",
              "      <td>0</td>\n",
              "      <td>0</td>\n",
              "      <td>4.0</td>\n",
              "      <td>8</td>\n",
              "      <td>6</td>\n",
              "      <td>1464317.0</td>\n",
              "      <td>2216035.0</td>\n",
              "      <td>12.53789</td>\n",
              "      <td>-36.43160</td>\n",
              "    </tr>\n",
              "    <tr>\n",
              "      <th>79543</th>\n",
              "      <td>-34.4</td>\n",
              "      <td>-39.0</td>\n",
              "      <td>63.0</td>\n",
              "      <td>99860.0</td>\n",
              "      <td>131.445421</td>\n",
              "      <td>0</td>\n",
              "      <td>0.0</td>\n",
              "      <td>0.0</td>\n",
              "      <td>0</td>\n",
              "      <td>0</td>\n",
              "      <td>0</td>\n",
              "      <td>4.0</td>\n",
              "      <td>6</td>\n",
              "      <td>6</td>\n",
              "      <td>2795514.0</td>\n",
              "      <td>2187447.0</td>\n",
              "      <td>11.98644</td>\n",
              "      <td>-36.48760</td>\n",
              "    </tr>\n",
              "    <tr>\n",
              "      <th>79541</th>\n",
              "      <td>-34.2</td>\n",
              "      <td>-38.9</td>\n",
              "      <td>63.0</td>\n",
              "      <td>99900.0</td>\n",
              "      <td>131.951028</td>\n",
              "      <td>0</td>\n",
              "      <td>0.0</td>\n",
              "      <td>0.0</td>\n",
              "      <td>0</td>\n",
              "      <td>0</td>\n",
              "      <td>0</td>\n",
              "      <td>3.0</td>\n",
              "      <td>7</td>\n",
              "      <td>6</td>\n",
              "      <td>0.0</td>\n",
              "      <td>2103799.0</td>\n",
              "      <td>11.98183</td>\n",
              "      <td>-36.29190</td>\n",
              "    </tr>\n",
              "    <tr>\n",
              "      <th>...</th>\n",
              "      <td>...</td>\n",
              "      <td>...</td>\n",
              "      <td>...</td>\n",
              "      <td>...</td>\n",
              "      <td>...</td>\n",
              "      <td>...</td>\n",
              "      <td>...</td>\n",
              "      <td>...</td>\n",
              "      <td>...</td>\n",
              "      <td>...</td>\n",
              "      <td>...</td>\n",
              "      <td>...</td>\n",
              "      <td>...</td>\n",
              "      <td>...</td>\n",
              "      <td>...</td>\n",
              "      <td>...</td>\n",
              "      <td>...</td>\n",
              "      <td>...</td>\n",
              "    </tr>\n",
              "    <tr>\n",
              "      <th>82622</th>\n",
              "      <td>34.0</td>\n",
              "      <td>10.9</td>\n",
              "      <td>25.0</td>\n",
              "      <td>97290.0</td>\n",
              "      <td>439.761467</td>\n",
              "      <td>858</td>\n",
              "      <td>151.0</td>\n",
              "      <td>406.0</td>\n",
              "      <td>92</td>\n",
              "      <td>93</td>\n",
              "      <td>16</td>\n",
              "      <td>13.0</td>\n",
              "      <td>4</td>\n",
              "      <td>6</td>\n",
              "      <td>13311971.0</td>\n",
              "      <td>1974027.0</td>\n",
              "      <td>23.89069</td>\n",
              "      <td>49.27203</td>\n",
              "    </tr>\n",
              "    <tr>\n",
              "      <th>82621</th>\n",
              "      <td>34.1</td>\n",
              "      <td>10.8</td>\n",
              "      <td>24.0</td>\n",
              "      <td>97340.0</td>\n",
              "      <td>445.320963</td>\n",
              "      <td>949</td>\n",
              "      <td>388.0</td>\n",
              "      <td>364.0</td>\n",
              "      <td>102</td>\n",
              "      <td>95</td>\n",
              "      <td>16</td>\n",
              "      <td>15.0</td>\n",
              "      <td>6</td>\n",
              "      <td>7</td>\n",
              "      <td>11559291.0</td>\n",
              "      <td>1813380.0</td>\n",
              "      <td>23.99946</td>\n",
              "      <td>49.82594</td>\n",
              "    </tr>\n",
              "    <tr>\n",
              "      <th>82625</th>\n",
              "      <td>34.2</td>\n",
              "      <td>9.6</td>\n",
              "      <td>22.0</td>\n",
              "      <td>97260.0</td>\n",
              "      <td>431.885831</td>\n",
              "      <td>371</td>\n",
              "      <td>0.0</td>\n",
              "      <td>49.0</td>\n",
              "      <td>40</td>\n",
              "      <td>67</td>\n",
              "      <td>14</td>\n",
              "      <td>16.0</td>\n",
              "      <td>3</td>\n",
              "      <td>4</td>\n",
              "      <td>1464317.0</td>\n",
              "      <td>1689108.0</td>\n",
              "      <td>26.33504</td>\n",
              "      <td>40.80136</td>\n",
              "    </tr>\n",
              "    <tr>\n",
              "      <th>82624</th>\n",
              "      <td>35.2</td>\n",
              "      <td>9.1</td>\n",
              "      <td>20.0</td>\n",
              "      <td>97220.0</td>\n",
              "      <td>449.196556</td>\n",
              "      <td>556</td>\n",
              "      <td>218.0</td>\n",
              "      <td>288.0</td>\n",
              "      <td>60</td>\n",
              "      <td>83</td>\n",
              "      <td>13</td>\n",
              "      <td>14.0</td>\n",
              "      <td>0</td>\n",
              "      <td>7</td>\n",
              "      <td>4259831.0</td>\n",
              "      <td>7300978.0</td>\n",
              "      <td>23.88931</td>\n",
              "      <td>44.64788</td>\n",
              "    </tr>\n",
              "    <tr>\n",
              "      <th>82623</th>\n",
              "      <td>35.4</td>\n",
              "      <td>10.9</td>\n",
              "      <td>23.0</td>\n",
              "      <td>97250.0</td>\n",
              "      <td>447.838213</td>\n",
              "      <td>724</td>\n",
              "      <td>73.0</td>\n",
              "      <td>335.0</td>\n",
              "      <td>78</td>\n",
              "      <td>90</td>\n",
              "      <td>14</td>\n",
              "      <td>15.0</td>\n",
              "      <td>6</td>\n",
              "      <td>6</td>\n",
              "      <td>13311971.0</td>\n",
              "      <td>2151679.0</td>\n",
              "      <td>23.88939</td>\n",
              "      <td>46.17186</td>\n",
              "    </tr>\n",
              "  </tbody>\n",
              "</table>\n",
              "<p>8760 rows × 18 columns</p>\n",
              "</div>\n",
              "      <button class=\"colab-df-convert\" onclick=\"convertToInteractive('df-7eeda142-68be-4caa-94aa-51c1133a82d8')\"\n",
              "              title=\"Convert this dataframe to an interactive table.\"\n",
              "              style=\"display:none;\">\n",
              "        \n",
              "  <svg xmlns=\"http://www.w3.org/2000/svg\" height=\"24px\"viewBox=\"0 0 24 24\"\n",
              "       width=\"24px\">\n",
              "    <path d=\"M0 0h24v24H0V0z\" fill=\"none\"/>\n",
              "    <path d=\"M18.56 5.44l.94 2.06.94-2.06 2.06-.94-2.06-.94-.94-2.06-.94 2.06-2.06.94zm-11 1L8.5 8.5l.94-2.06 2.06-.94-2.06-.94L8.5 2.5l-.94 2.06-2.06.94zm10 10l.94 2.06.94-2.06 2.06-.94-2.06-.94-.94-2.06-.94 2.06-2.06.94z\"/><path d=\"M17.41 7.96l-1.37-1.37c-.4-.4-.92-.59-1.43-.59-.52 0-1.04.2-1.43.59L10.3 9.45l-7.72 7.72c-.78.78-.78 2.05 0 2.83L4 21.41c.39.39.9.59 1.41.59.51 0 1.02-.2 1.41-.59l7.78-7.78 2.81-2.81c.8-.78.8-2.07 0-2.86zM5.41 20L4 18.59l7.72-7.72 1.47 1.35L5.41 20z\"/>\n",
              "  </svg>\n",
              "      </button>\n",
              "      \n",
              "  <style>\n",
              "    .colab-df-container {\n",
              "      display:flex;\n",
              "      flex-wrap:wrap;\n",
              "      gap: 12px;\n",
              "    }\n",
              "\n",
              "    .colab-df-convert {\n",
              "      background-color: #E8F0FE;\n",
              "      border: none;\n",
              "      border-radius: 50%;\n",
              "      cursor: pointer;\n",
              "      display: none;\n",
              "      fill: #1967D2;\n",
              "      height: 32px;\n",
              "      padding: 0 0 0 0;\n",
              "      width: 32px;\n",
              "    }\n",
              "\n",
              "    .colab-df-convert:hover {\n",
              "      background-color: #E2EBFA;\n",
              "      box-shadow: 0px 1px 2px rgba(60, 64, 67, 0.3), 0px 1px 3px 1px rgba(60, 64, 67, 0.15);\n",
              "      fill: #174EA6;\n",
              "    }\n",
              "\n",
              "    [theme=dark] .colab-df-convert {\n",
              "      background-color: #3B4455;\n",
              "      fill: #D2E3FC;\n",
              "    }\n",
              "\n",
              "    [theme=dark] .colab-df-convert:hover {\n",
              "      background-color: #434B5C;\n",
              "      box-shadow: 0px 1px 3px 1px rgba(0, 0, 0, 0.15);\n",
              "      filter: drop-shadow(0px 1px 2px rgba(0, 0, 0, 0.3));\n",
              "      fill: #FFFFFF;\n",
              "    }\n",
              "  </style>\n",
              "\n",
              "      <script>\n",
              "        const buttonEl =\n",
              "          document.querySelector('#df-7eeda142-68be-4caa-94aa-51c1133a82d8 button.colab-df-convert');\n",
              "        buttonEl.style.display =\n",
              "          google.colab.kernel.accessAllowed ? 'block' : 'none';\n",
              "\n",
              "        async function convertToInteractive(key) {\n",
              "          const element = document.querySelector('#df-7eeda142-68be-4caa-94aa-51c1133a82d8');\n",
              "          const dataTable =\n",
              "            await google.colab.kernel.invokeFunction('convertToInteractive',\n",
              "                                                     [key], {});\n",
              "          if (!dataTable) return;\n",
              "\n",
              "          const docLinkHtml = 'Like what you see? Visit the ' +\n",
              "            '<a target=\"_blank\" href=https://colab.research.google.com/notebooks/data_table.ipynb>data table notebook</a>'\n",
              "            + ' to learn more about interactive tables.';\n",
              "          element.innerHTML = '';\n",
              "          dataTable['output_type'] = 'display_data';\n",
              "          await google.colab.output.renderOutput(dataTable, element);\n",
              "          const docLink = document.createElement('div');\n",
              "          docLink.innerHTML = docLinkHtml;\n",
              "          element.appendChild(docLink);\n",
              "        }\n",
              "      </script>\n",
              "    </div>\n",
              "  </div>\n",
              "  "
            ]
          },
          "metadata": {},
          "execution_count": 84
        }
      ]
    },
    {
      "cell_type": "code",
      "source": [
        "## Extract their index\n",
        "# saving indexes in a new column named index\n",
        "index = test_inputs.index\n",
        "condition = test_inputs['Dry Bulb Temperature']  <-30 \n",
        "indices = index[condition]\n",
        "indices_list = indices.tolist()\n",
        "print(indices_list)"
      ],
      "metadata": {
        "id": "vNT07QwF8LDm",
        "colab": {
          "base_uri": "https://localhost:8080/"
        },
        "outputId": "9d4f1d89-b5b5-4c10-cc15-aacc5ca15129"
      },
      "execution_count": 85,
      "outputs": [
        {
          "output_type": "stream",
          "name": "stdout",
          "text": [
            "[79300, 79301, 79302, 79303, 79304, 79305, 79516, 79517, 79518, 79519, 79520, 79521, 79522, 79523, 79524, 79525, 79526, 79527, 79528, 79529, 79530, 79531, 79532, 79533, 79534, 79535, 79536, 79537, 79538, 79539, 79540, 79541, 79542, 79543, 79544, 79545, 79546, 79547, 79548, 79549, 79554, 79555, 79556, 79557, 79558, 79559, 79560, 79561, 79562, 79563, 79564, 79565, 79566, 79567, 79568]\n"
          ]
        }
      ]
    },
    {
      "cell_type": "code",
      "source": [
        "Max_input = test_inputs.loc[[79300, 79301, 79302, 79303, 79304, 79305, 79516, 79517, 79518, 79519, 79520, 79521, 79522, 79523, 79524, 79525, 79526, 79527, 79528, 79529, 79530, 79531, 79532, 79533, 79534, 79535, 79536, 79537, 79538, 79539, 79540, 79541, 79542, 79543, 79544, 79545, 79546, 79547, 79548, 79549, 79554, 79555, 79556, 79557, 79558, 79559, 79560, 79561, 79562, 79563, 79564, 79565, 79566, 79567, 79568]\n",
        "\n",
        ",:]"
      ],
      "metadata": {
        "id": "UchwDAJJ58zk"
      },
      "execution_count": 86,
      "outputs": []
    },
    {
      "cell_type": "code",
      "source": [
        "Max_Target= Max_Min.loc[[79300, 79301, 79302, 79303, 79304, 79305, 79516, 79517, 79518, 79519, 79520, 79521, 79522, 79523, 79524, 79525, 79526, 79527, 79528, 79529, 79530, 79531, 79532, 79533, 79534, 79535, 79536, 79537, 79538, 79539, 79540, 79541, 79542, 79543, 79544, 79545, 79546, 79547, 79548, 79549, 79554, 79555, 79556, 79557, 79558, 79559, 79560, 79561, 79562, 79563, 79564, 79565, 79566, 79567, 79568]\n",
        "\n",
        ",:]"
      ],
      "metadata": {
        "id": "S4lc8Ulj8K-Y"
      },
      "execution_count": 87,
      "outputs": []
    },
    {
      "cell_type": "code",
      "source": [
        "Max_Target.head(5)"
      ],
      "metadata": {
        "id": "tIb_D0quAZJd",
        "colab": {
          "base_uri": "https://localhost:8080/",
          "height": 206
        },
        "outputId": "a890ea6d-d7bc-418b-f176-4d04054a9cf1"
      },
      "execution_count": 88,
      "outputs": [
        {
          "output_type": "execute_result",
          "data": {
            "text/plain": [
              "        Heating\n",
              "79300  900000.0\n",
              "79301  900000.0\n",
              "79302  900000.0\n",
              "79303  900000.0\n",
              "79304  900000.0"
            ],
            "text/html": [
              "\n",
              "  <div id=\"df-f502c9e5-fd15-4fae-ac56-da467249cf4c\">\n",
              "    <div class=\"colab-df-container\">\n",
              "      <div>\n",
              "<style scoped>\n",
              "    .dataframe tbody tr th:only-of-type {\n",
              "        vertical-align: middle;\n",
              "    }\n",
              "\n",
              "    .dataframe tbody tr th {\n",
              "        vertical-align: top;\n",
              "    }\n",
              "\n",
              "    .dataframe thead th {\n",
              "        text-align: right;\n",
              "    }\n",
              "</style>\n",
              "<table border=\"1\" class=\"dataframe\">\n",
              "  <thead>\n",
              "    <tr style=\"text-align: right;\">\n",
              "      <th></th>\n",
              "      <th>Heating</th>\n",
              "    </tr>\n",
              "  </thead>\n",
              "  <tbody>\n",
              "    <tr>\n",
              "      <th>79300</th>\n",
              "      <td>900000.0</td>\n",
              "    </tr>\n",
              "    <tr>\n",
              "      <th>79301</th>\n",
              "      <td>900000.0</td>\n",
              "    </tr>\n",
              "    <tr>\n",
              "      <th>79302</th>\n",
              "      <td>900000.0</td>\n",
              "    </tr>\n",
              "    <tr>\n",
              "      <th>79303</th>\n",
              "      <td>900000.0</td>\n",
              "    </tr>\n",
              "    <tr>\n",
              "      <th>79304</th>\n",
              "      <td>900000.0</td>\n",
              "    </tr>\n",
              "  </tbody>\n",
              "</table>\n",
              "</div>\n",
              "      <button class=\"colab-df-convert\" onclick=\"convertToInteractive('df-f502c9e5-fd15-4fae-ac56-da467249cf4c')\"\n",
              "              title=\"Convert this dataframe to an interactive table.\"\n",
              "              style=\"display:none;\">\n",
              "        \n",
              "  <svg xmlns=\"http://www.w3.org/2000/svg\" height=\"24px\"viewBox=\"0 0 24 24\"\n",
              "       width=\"24px\">\n",
              "    <path d=\"M0 0h24v24H0V0z\" fill=\"none\"/>\n",
              "    <path d=\"M18.56 5.44l.94 2.06.94-2.06 2.06-.94-2.06-.94-.94-2.06-.94 2.06-2.06.94zm-11 1L8.5 8.5l.94-2.06 2.06-.94-2.06-.94L8.5 2.5l-.94 2.06-2.06.94zm10 10l.94 2.06.94-2.06 2.06-.94-2.06-.94-.94-2.06-.94 2.06-2.06.94z\"/><path d=\"M17.41 7.96l-1.37-1.37c-.4-.4-.92-.59-1.43-.59-.52 0-1.04.2-1.43.59L10.3 9.45l-7.72 7.72c-.78.78-.78 2.05 0 2.83L4 21.41c.39.39.9.59 1.41.59.51 0 1.02-.2 1.41-.59l7.78-7.78 2.81-2.81c.8-.78.8-2.07 0-2.86zM5.41 20L4 18.59l7.72-7.72 1.47 1.35L5.41 20z\"/>\n",
              "  </svg>\n",
              "      </button>\n",
              "      \n",
              "  <style>\n",
              "    .colab-df-container {\n",
              "      display:flex;\n",
              "      flex-wrap:wrap;\n",
              "      gap: 12px;\n",
              "    }\n",
              "\n",
              "    .colab-df-convert {\n",
              "      background-color: #E8F0FE;\n",
              "      border: none;\n",
              "      border-radius: 50%;\n",
              "      cursor: pointer;\n",
              "      display: none;\n",
              "      fill: #1967D2;\n",
              "      height: 32px;\n",
              "      padding: 0 0 0 0;\n",
              "      width: 32px;\n",
              "    }\n",
              "\n",
              "    .colab-df-convert:hover {\n",
              "      background-color: #E2EBFA;\n",
              "      box-shadow: 0px 1px 2px rgba(60, 64, 67, 0.3), 0px 1px 3px 1px rgba(60, 64, 67, 0.15);\n",
              "      fill: #174EA6;\n",
              "    }\n",
              "\n",
              "    [theme=dark] .colab-df-convert {\n",
              "      background-color: #3B4455;\n",
              "      fill: #D2E3FC;\n",
              "    }\n",
              "\n",
              "    [theme=dark] .colab-df-convert:hover {\n",
              "      background-color: #434B5C;\n",
              "      box-shadow: 0px 1px 3px 1px rgba(0, 0, 0, 0.15);\n",
              "      filter: drop-shadow(0px 1px 2px rgba(0, 0, 0, 0.3));\n",
              "      fill: #FFFFFF;\n",
              "    }\n",
              "  </style>\n",
              "\n",
              "      <script>\n",
              "        const buttonEl =\n",
              "          document.querySelector('#df-f502c9e5-fd15-4fae-ac56-da467249cf4c button.colab-df-convert');\n",
              "        buttonEl.style.display =\n",
              "          google.colab.kernel.accessAllowed ? 'block' : 'none';\n",
              "\n",
              "        async function convertToInteractive(key) {\n",
              "          const element = document.querySelector('#df-f502c9e5-fd15-4fae-ac56-da467249cf4c');\n",
              "          const dataTable =\n",
              "            await google.colab.kernel.invokeFunction('convertToInteractive',\n",
              "                                                     [key], {});\n",
              "          if (!dataTable) return;\n",
              "\n",
              "          const docLinkHtml = 'Like what you see? Visit the ' +\n",
              "            '<a target=\"_blank\" href=https://colab.research.google.com/notebooks/data_table.ipynb>data table notebook</a>'\n",
              "            + ' to learn more about interactive tables.';\n",
              "          element.innerHTML = '';\n",
              "          dataTable['output_type'] = 'display_data';\n",
              "          await google.colab.output.renderOutput(dataTable, element);\n",
              "          const docLink = document.createElement('div');\n",
              "          docLink.innerHTML = docLinkHtml;\n",
              "          element.appendChild(docLink);\n",
              "        }\n",
              "      </script>\n",
              "    </div>\n",
              "  </div>\n",
              "  "
            ]
          },
          "metadata": {},
          "execution_count": 88
        }
      ]
    },
    {
      "cell_type": "markdown",
      "source": [
        "Fitting the model on Max"
      ],
      "metadata": {
        "id": "LmrebRiP5TOL"
      }
    },
    {
      "cell_type": "code",
      "source": [
        "predsMax = model1.predict(Max_input)"
      ],
      "metadata": {
        "id": "ZThlFaDB5R70"
      },
      "execution_count": 90,
      "outputs": []
    },
    {
      "cell_type": "markdown",
      "source": [
        "Reset the index of max_target"
      ],
      "metadata": {
        "id": "2QIAr5aSERm9"
      }
    },
    {
      "cell_type": "code",
      "source": [
        "Max_Target=pd.DataFrame(Max_Target['Heating']) \n",
        "Max_Target.reset_index(inplace = True)\n",
        "Max_Target.drop('index', axis=1, inplace=True)"
      ],
      "metadata": {
        "id": "goeHAXEgERSO"
      },
      "execution_count": 91,
      "outputs": []
    },
    {
      "cell_type": "code",
      "source": [
        "MaxHeating = pd.DataFrame(predsMax, columns =['predicted Max values for heating '])\n",
        "MaxHeating[' Max Heating Real Values'] = Max_Target\n",
        "MaxHeating.head(10)"
      ],
      "metadata": {
        "id": "jzO94VUVDJeT",
        "colab": {
          "base_uri": "https://localhost:8080/",
          "height": 363
        },
        "outputId": "b08dd236-3712-4490-ecad-c821e2f649d0"
      },
      "execution_count": 92,
      "outputs": [
        {
          "output_type": "execute_result",
          "data": {
            "text/plain": [
              "   predicted Max values for heating    Max Heating Real Values\n",
              "0                        890617.7500                  900000.0\n",
              "1                        929864.6250                  900000.0\n",
              "2                        956516.0625                  900000.0\n",
              "3                        924880.9375                  900000.0\n",
              "4                        881246.1875                  900000.0\n",
              "5                        842375.1250                  900000.0\n",
              "6                        889343.6250                  900000.0\n",
              "7                        911359.4375                  900000.0\n",
              "8                        914438.5000                  900000.0\n",
              "9                        868196.3750                  900000.0"
            ],
            "text/html": [
              "\n",
              "  <div id=\"df-5f8109a8-5b16-476c-80f7-eaf1bd4bdce6\">\n",
              "    <div class=\"colab-df-container\">\n",
              "      <div>\n",
              "<style scoped>\n",
              "    .dataframe tbody tr th:only-of-type {\n",
              "        vertical-align: middle;\n",
              "    }\n",
              "\n",
              "    .dataframe tbody tr th {\n",
              "        vertical-align: top;\n",
              "    }\n",
              "\n",
              "    .dataframe thead th {\n",
              "        text-align: right;\n",
              "    }\n",
              "</style>\n",
              "<table border=\"1\" class=\"dataframe\">\n",
              "  <thead>\n",
              "    <tr style=\"text-align: right;\">\n",
              "      <th></th>\n",
              "      <th>predicted Max values for heating</th>\n",
              "      <th>Max Heating Real Values</th>\n",
              "    </tr>\n",
              "  </thead>\n",
              "  <tbody>\n",
              "    <tr>\n",
              "      <th>0</th>\n",
              "      <td>890617.7500</td>\n",
              "      <td>900000.0</td>\n",
              "    </tr>\n",
              "    <tr>\n",
              "      <th>1</th>\n",
              "      <td>929864.6250</td>\n",
              "      <td>900000.0</td>\n",
              "    </tr>\n",
              "    <tr>\n",
              "      <th>2</th>\n",
              "      <td>956516.0625</td>\n",
              "      <td>900000.0</td>\n",
              "    </tr>\n",
              "    <tr>\n",
              "      <th>3</th>\n",
              "      <td>924880.9375</td>\n",
              "      <td>900000.0</td>\n",
              "    </tr>\n",
              "    <tr>\n",
              "      <th>4</th>\n",
              "      <td>881246.1875</td>\n",
              "      <td>900000.0</td>\n",
              "    </tr>\n",
              "    <tr>\n",
              "      <th>5</th>\n",
              "      <td>842375.1250</td>\n",
              "      <td>900000.0</td>\n",
              "    </tr>\n",
              "    <tr>\n",
              "      <th>6</th>\n",
              "      <td>889343.6250</td>\n",
              "      <td>900000.0</td>\n",
              "    </tr>\n",
              "    <tr>\n",
              "      <th>7</th>\n",
              "      <td>911359.4375</td>\n",
              "      <td>900000.0</td>\n",
              "    </tr>\n",
              "    <tr>\n",
              "      <th>8</th>\n",
              "      <td>914438.5000</td>\n",
              "      <td>900000.0</td>\n",
              "    </tr>\n",
              "    <tr>\n",
              "      <th>9</th>\n",
              "      <td>868196.3750</td>\n",
              "      <td>900000.0</td>\n",
              "    </tr>\n",
              "  </tbody>\n",
              "</table>\n",
              "</div>\n",
              "      <button class=\"colab-df-convert\" onclick=\"convertToInteractive('df-5f8109a8-5b16-476c-80f7-eaf1bd4bdce6')\"\n",
              "              title=\"Convert this dataframe to an interactive table.\"\n",
              "              style=\"display:none;\">\n",
              "        \n",
              "  <svg xmlns=\"http://www.w3.org/2000/svg\" height=\"24px\"viewBox=\"0 0 24 24\"\n",
              "       width=\"24px\">\n",
              "    <path d=\"M0 0h24v24H0V0z\" fill=\"none\"/>\n",
              "    <path d=\"M18.56 5.44l.94 2.06.94-2.06 2.06-.94-2.06-.94-.94-2.06-.94 2.06-2.06.94zm-11 1L8.5 8.5l.94-2.06 2.06-.94-2.06-.94L8.5 2.5l-.94 2.06-2.06.94zm10 10l.94 2.06.94-2.06 2.06-.94-2.06-.94-.94-2.06-.94 2.06-2.06.94z\"/><path d=\"M17.41 7.96l-1.37-1.37c-.4-.4-.92-.59-1.43-.59-.52 0-1.04.2-1.43.59L10.3 9.45l-7.72 7.72c-.78.78-.78 2.05 0 2.83L4 21.41c.39.39.9.59 1.41.59.51 0 1.02-.2 1.41-.59l7.78-7.78 2.81-2.81c.8-.78.8-2.07 0-2.86zM5.41 20L4 18.59l7.72-7.72 1.47 1.35L5.41 20z\"/>\n",
              "  </svg>\n",
              "      </button>\n",
              "      \n",
              "  <style>\n",
              "    .colab-df-container {\n",
              "      display:flex;\n",
              "      flex-wrap:wrap;\n",
              "      gap: 12px;\n",
              "    }\n",
              "\n",
              "    .colab-df-convert {\n",
              "      background-color: #E8F0FE;\n",
              "      border: none;\n",
              "      border-radius: 50%;\n",
              "      cursor: pointer;\n",
              "      display: none;\n",
              "      fill: #1967D2;\n",
              "      height: 32px;\n",
              "      padding: 0 0 0 0;\n",
              "      width: 32px;\n",
              "    }\n",
              "\n",
              "    .colab-df-convert:hover {\n",
              "      background-color: #E2EBFA;\n",
              "      box-shadow: 0px 1px 2px rgba(60, 64, 67, 0.3), 0px 1px 3px 1px rgba(60, 64, 67, 0.15);\n",
              "      fill: #174EA6;\n",
              "    }\n",
              "\n",
              "    [theme=dark] .colab-df-convert {\n",
              "      background-color: #3B4455;\n",
              "      fill: #D2E3FC;\n",
              "    }\n",
              "\n",
              "    [theme=dark] .colab-df-convert:hover {\n",
              "      background-color: #434B5C;\n",
              "      box-shadow: 0px 1px 3px 1px rgba(0, 0, 0, 0.15);\n",
              "      filter: drop-shadow(0px 1px 2px rgba(0, 0, 0, 0.3));\n",
              "      fill: #FFFFFF;\n",
              "    }\n",
              "  </style>\n",
              "\n",
              "      <script>\n",
              "        const buttonEl =\n",
              "          document.querySelector('#df-5f8109a8-5b16-476c-80f7-eaf1bd4bdce6 button.colab-df-convert');\n",
              "        buttonEl.style.display =\n",
              "          google.colab.kernel.accessAllowed ? 'block' : 'none';\n",
              "\n",
              "        async function convertToInteractive(key) {\n",
              "          const element = document.querySelector('#df-5f8109a8-5b16-476c-80f7-eaf1bd4bdce6');\n",
              "          const dataTable =\n",
              "            await google.colab.kernel.invokeFunction('convertToInteractive',\n",
              "                                                     [key], {});\n",
              "          if (!dataTable) return;\n",
              "\n",
              "          const docLinkHtml = 'Like what you see? Visit the ' +\n",
              "            '<a target=\"_blank\" href=https://colab.research.google.com/notebooks/data_table.ipynb>data table notebook</a>'\n",
              "            + ' to learn more about interactive tables.';\n",
              "          element.innerHTML = '';\n",
              "          dataTable['output_type'] = 'display_data';\n",
              "          await google.colab.output.renderOutput(dataTable, element);\n",
              "          const docLink = document.createElement('div');\n",
              "          docLink.innerHTML = docLinkHtml;\n",
              "          element.appendChild(docLink);\n",
              "        }\n",
              "      </script>\n",
              "    </div>\n",
              "  </div>\n",
              "  "
            ]
          },
          "metadata": {},
          "execution_count": 92
        }
      ]
    },
    {
      "cell_type": "code",
      "source": [
        "plt.figure(figsize=(30,8));\n",
        "x_ax = range ( len(predsMax))\n",
        "plt.plot(x_ax,predsMax, label =\"predicted  Max values for 2019\")\n",
        "#plt.plot(x_ax,preds3, label = \"AC\")\n",
        "plt.plot(x_ax,Max_Target, label = \"Real Max values for 2019\")\n",
        "plt.title(\"Comparison Heating\")\n",
        "plt.legend()\n",
        "plt.show()"
      ],
      "metadata": {
        "id": "sqTfryliE-Qt",
        "colab": {
          "base_uri": "https://localhost:8080/",
          "height": 501
        },
        "outputId": "f683654c-e2e7-4a40-a01d-07128c37614c"
      },
      "execution_count": 93,
      "outputs": [
        {
          "output_type": "display_data",
          "data": {
            "text/plain": [
              "<Figure size 2160x576 with 1 Axes>"
            ],
            "image/png": "[encoded data removed]"
          },
          "metadata": {}
        }
      ]
    },
    {
      "cell_type": "markdown",
      "source": [
        "Min:"
      ],
      "metadata": {
        "id": "7ktYopqMJesb"
      }
    },
    {
      "cell_type": "code",
      "source": [
        "## Extract their index\n",
        "# saving indexes in a new column named index\n",
        "index = test_inputs.index\n",
        "condition = test_inputs['Dry Bulb Temperature']  >20\n",
        "indices = index[condition]\n",
        "indices_list = indices.tolist()\n",
        "print(indices_list)"
      ],
      "metadata": {
        "id": "GzhdqP-gJgLT",
        "colab": {
          "base_uri": "https://localhost:8080/"
        },
        "outputId": "e955c34b-a27e-439c-dfef-94ef8dfa2994"
      },
      "execution_count": 148,
      "outputs": [
        {
          "output_type": "stream",
          "name": "stdout",
          "text": [
            "[81567, 81972, 81973, 81974, 82019, 82020, 82021, 82022, 82023, 82024, 82025, 82026, 82027, 82028, 82193, 82212, 82213, 82214, 82215, 82216, 82217, 82218, 82219, 82263, 82264, 82265, 82266, 82312, 82379, 82380, 82381, 82382, 82383, 82384, 82385, 82386, 82387, 82402, 82403, 82404, 82405, 82406, 82407, 82408, 82409, 82410, 82411, 82412, 82426, 82427, 82428, 82429, 82430, 82431, 82432, 82433, 82434, 82435, 82436, 82437, 82438, 82527, 82528, 82529, 82530, 82531, 82532, 82546, 82547, 82548, 82549, 82550, 82551, 82552, 82553, 82554, 82555, 82556, 82571, 82572, 82573, 82574, 82575, 82576, 82577, 82578, 82579, 82593, 82594, 82595, 82596, 82597, 82598, 82599, 82600, 82601, 82602, 82603, 82604, 82605, 82615, 82616, 82617, 82618, 82619, 82620, 82621, 82622, 82623, 82624, 82625, 82626, 82627, 82628, 82629, 82630, 82631, 82632, 82633, 82634, 82635, 82636, 82640, 82641, 82642, 82643, 82644, 82744, 82745, 82746, 82762, 82763, 82764, 82765, 82766, 82767, 82768, 82769, 82770, 82771, 82772, 82773, 82774, 82786, 82787, 82788, 82789, 82790, 82791, 82792, 82793, 82794, 82795, 82860, 82863, 82882, 82883, 82884, 82885, 82886, 82887, 82888, 82889, 82890, 82891, 82892, 82893, 82904, 82905, 82906, 82907, 82908, 82909, 82910, 82911, 82912, 82913, 82914, 82915, 82916, 82917, 82918, 82928, 82929, 82930, 82931, 82932, 82933, 82934, 82935, 82936, 82937, 82938, 82939, 82940, 82941, 82942, 82953, 82954, 82955, 82956, 82957, 82958, 82959, 82960, 82961, 82962, 82963, 82979, 82980, 82981, 82982, 82983, 82984, 82985, 83002, 83003, 83004, 83005, 83006, 83007, 83008, 83009, 83010, 83011, 83012, 83013, 83025, 83026, 83027, 83028, 83029, 83030, 83031, 83032, 83033, 83034, 83035, 83036, 83037, 83049, 83050, 83051, 83052, 83053, 83054, 83055, 83056, 83057, 83058, 83059, 83060, 83061, 83062, 83073, 83074, 83075, 83076, 83077, 83078, 83079, 83080, 83081, 83082, 83083, 83084, 83085, 83086, 83096, 83097, 83098, 83099, 83100, 83101, 83102, 83103, 83104, 83105, 83106, 83107, 83108, 83109, 83110, 83111, 83119, 83120, 83121, 83122, 83123, 83124, 83125, 83126, 83127, 83128, 83129, 83130, 83131, 83132, 83133, 83134, 83135, 83136, 83144, 83145, 83148, 83149, 83150, 83151, 83152, 83153, 83154, 83155, 83156, 83157, 83158, 83159, 83160, 83161, 83162, 83163, 83164, 83165, 83166, 83167, 83168, 83169, 83170, 83171, 83172, 83173, 83174, 83175, 83176, 83177, 83178, 83179, 83180, 83181, 83182, 83183, 83184, 83185, 83192, 83193, 83194, 83195, 83196, 83197, 83198, 83199, 83200, 83201, 83202, 83203, 83204, 83205, 83206, 83207, 83208, 83209, 83210, 83211, 83215, 83216, 83217, 83218, 83219, 83220, 83221, 83222, 83223, 83224, 83225, 83226, 83227, 83228, 83229, 83230, 83240, 83241, 83242, 83245, 83246, 83247, 83248, 83249, 83265, 83266, 83267, 83268, 83269, 83270, 83271, 83272, 83273, 83274, 83275, 83276, 83277, 83278, 83279, 83280, 83281, 83289, 83290, 83291, 83292, 83293, 83294, 83295, 83296, 83297, 83298, 83299, 83315, 83316, 83317, 83318, 83319, 83320, 83321, 83322, 83323, 83324, 83336, 83337, 83338, 83339, 83340, 83341, 83342, 83343, 83344, 83345, 83346, 83347, 83348, 83349, 83350, 83351, 83352, 83353, 83354, 83355, 83356, 83357, 83358, 83359, 83360, 83361, 83362, 83363, 83364, 83365, 83366, 83367, 83368, 83369, 83370, 83371, 83372, 83373, 83374, 83375, 83376, 83377, 83378, 83384, 83385, 83386, 83387, 83388, 83389, 83390, 83391, 83410, 83411, 83412, 83413, 83414, 83415, 83416, 83417, 83418, 83419, 83420, 83421, 83432, 83433, 83434, 83435, 83436, 83437, 83438, 83439, 83440, 83441, 83442, 83443, 83444, 83445, 83446, 83447, 83448, 83449, 83458, 83459, 83460, 83461, 83462, 83463, 83464, 83465, 83466, 83467, 83468, 83469, 83470, 83480, 83481, 83482, 83483, 83484, 83485, 83486, 83487, 83488, 83489, 83490, 83491, 83492, 83493, 83494, 83495, 83496, 83497, 83498, 83499, 83500, 83505, 83506, 83507, 83508, 83509, 83510, 83511, 83512, 83513, 83514, 83515, 83516, 83517, 83518, 83519, 83520, 83521, 83522, 83523, 83524, 83525, 83526, 83527, 83528, 83529, 83530, 83531, 83532, 83533, 83534, 83535, 83536, 83537, 83538, 83539, 83540, 83541, 83542, 83543, 83544, 83545, 83546, 83547, 83551, 83552, 83553, 83554, 83555, 83556, 83557, 83558, 83559, 83560, 83561, 83562, 83563, 83564, 83565, 83566, 83567, 83568, 83576, 83577, 83578, 83579, 83580, 83581, 83582, 83583, 83584, 83585, 83586, 83587, 83588, 83589, 83590, 83591, 83592, 83600, 83601, 83602, 83603, 83604, 83605, 83606, 83607, 83608, 83609, 83610, 83611, 83612, 83613, 83614, 83615, 83616, 83624, 83625, 83626, 83627, 83628, 83629, 83630, 83631, 83632, 83633, 83634, 83635, 83636, 83637, 83638, 83650, 83651, 83652, 83653, 83655, 83656, 83657, 83658, 83659, 83660, 83674, 83675, 83676, 83677, 83678, 83679, 83680, 83681, 83682, 83683, 83684, 83685, 83696, 83697, 83698, 83699, 83700, 83701, 83702, 83703, 83704, 83705, 83706, 83707, 83708, 83709, 83710, 83711, 83712, 83719, 83720, 83721, 83722, 83723, 83724, 83725, 83726, 83727, 83728, 83729, 83730, 83731, 83732, 83733, 83734, 83735, 83736, 83737, 83743, 83744, 83745, 83746, 83747, 83748, 83749, 83750, 83751, 83752, 83753, 83754, 83755, 83756, 83757, 83758, 83759, 83760, 83761, 83762, 83763, 83764, 83765, 83766, 83767, 83768, 83769, 83770, 83771, 83772, 83773, 83774, 83775, 83776, 83777, 83778, 83779, 83780, 83781, 83782, 83783, 83784, 83785, 83794, 83795, 83797, 83798, 83799, 83800, 83801, 83802, 83803, 83804, 83805, 83806, 83807, 83809, 83815, 83816, 83817, 83818, 83819, 83820, 83821, 83822, 83823, 83824, 83825, 83826, 83827, 83828, 83829, 83830, 83831, 83832, 83833, 83834, 83835, 83836, 83837, 83838, 83839, 83840, 83841, 83842, 83843, 83844, 83845, 83846, 83847, 83848, 83849, 83850, 83851, 83852, 83853, 83854, 83855, 83870, 83871, 83872, 83873, 83874, 83875, 83890, 83891, 83892, 83893, 83894, 83895, 83896, 83897, 83898, 83899, 83900, 83901, 83913, 83914, 83915, 83916, 83917, 83918, 83919, 83920, 83921, 83922, 83923, 83924, 83925, 83926, 83927, 83928, 83929, 83930, 83935, 83936, 83937, 83938, 83939, 83940, 83941, 83942, 83943, 83944, 83945, 83946, 83947, 83948, 83949, 83950, 83951, 83952, 83953, 83954, 83959, 83960, 83961, 83962, 83963, 83964, 83965, 83966, 83967, 83968, 83969, 83970, 83971, 83972, 83973, 83974, 83975, 83976, 83977, 83978, 83979, 83980, 83981, 83982, 83983, 83984, 83985, 83986, 83987, 83988, 83989, 83990, 83991, 83992, 83993, 83994, 83995, 83996, 83997, 83998, 83999, 84000, 84001, 84002, 84003, 84004, 84005, 84006, 84007, 84008, 84009, 84010, 84011, 84012, 84013, 84014, 84015, 84016, 84017, 84018, 84019, 84020, 84021, 84022, 84023, 84024, 84025, 84026, 84031, 84032, 84033, 84034, 84035, 84036, 84037, 84038, 84039, 84040, 84041, 84042, 84043, 84044, 84045, 84046, 84047, 84048, 84049, 84056, 84058, 84059, 84060, 84061, 84062, 84063, 84064, 84065, 84066, 84067, 84068, 84069, 84084, 84085, 84086, 84087, 84088, 84089, 84090, 84091, 84092, 84108, 84109, 84110, 84111, 84112, 84113, 84114, 84115, 84116, 84129, 84130, 84131, 84132, 84133, 84134, 84135, 84136, 84137, 84138, 84139, 84140, 84141, 84142, 84153, 84154, 84155, 84178, 84179, 84180, 84181, 84182, 84183, 84184, 84185, 84186, 84187, 84188, 84202, 84203, 84204, 84205, 84206, 84207, 84208, 84227, 84228, 84229, 84230, 84231, 84232, 84233, 84234, 84235, 84236, 84250, 84251, 84252, 84253, 84254, 84255, 84256, 84257, 84258, 84259, 84260, 84274, 84275, 84276, 84277, 84278, 84279, 84280, 84281, 84282, 84283, 84284, 84285, 84297, 84298, 84299, 84300, 84301, 84302, 84303, 84304, 84305, 84306, 84307, 84308, 84309, 84310, 84311, 84312, 84313, 84314, 84315, 84321, 84322, 84323, 84324, 84325, 84326, 84329, 84348, 84349, 84350, 84351, 84352, 84353, 84354, 84355, 84356, 84357, 84370, 84371, 84372, 84373, 84374, 84375, 84376, 84377, 84378, 84379, 84380, 84381, 84382, 84397, 84398, 84399, 84400, 84401, 84402, 84403, 84444, 84445, 84446, 84447, 84448, 84449, 84450, 84451, 84466, 84467, 84468, 84469, 84470, 84471, 84472, 84473, 84474, 84475, 84476, 84477, 84478, 84479, 84489, 84490, 84491, 84492, 84493, 84494, 84495, 84496, 84497, 84498, 84499, 84500, 84501, 84502, 84503, 84504, 84505, 84506, 84540, 84541, 84542, 84543, 84544, 84545, 84546, 84590, 84591, 84592, 84593, 84594, 84595, 84637, 84638, 84639, 84640, 84641, 84642, 84685, 84686, 84687, 84756, 84757, 84758, 84759, 84760, 84761, 84762, 84763, 84764, 84781, 84782, 84783, 84784, 84785, 84804, 84805, 84806, 84807, 84808, 84809, 85000, 85019, 85020, 85021, 85022, 85023, 85024, 85025, 85026, 85027, 85041, 85042, 85043, 85044, 85045, 85046, 85047, 85048, 85049, 85050, 85051, 85052, 85053, 85054, 85055, 85056, 85057, 85058, 85059, 85060, 85061, 85062, 85063, 85064, 85065, 85066, 85067, 85068, 85069, 85070, 85071, 85072, 85073, 85074, 85075, 85076, 85077, 85078, 85079, 85080, 85081, 85082, 85083, 85084, 85085, 85086, 85087, 85088, 85089, 85090, 85091, 85092, 85093, 85094, 85095, 85096, 85119, 85120, 85121, 85122, 85142, 85143, 85144, 85148, 85211, 85212, 85213, 85214, 85215, 85216, 85217, 85218, 85219, 85220]\n"
          ]
        }
      ]
    },
    {
      "cell_type": "code",
      "source": [
        "Min_input = test_inputs.loc[[82433, 82619, 82620, 82621, 82622, 82623, 82624, 82625, 82626, 82627, 82628, 82629, 83129, 83172, 83173, 83174, 83175, 83176, 83177, 83513, 83514, 83943, 83944, 83945, 83946, 83965, 83966, 83967, 83968, 83988, 83989, 83990, 83991, 83992, 83993, 83994, 84014, 84015, 84016, 84017, 84018],:]"
      ],
      "metadata": {
        "id": "HUbfRRkxJxQH"
      },
      "execution_count": 149,
      "outputs": []
    },
    {
      "cell_type": "code",
      "source": [
        "Min_Target = Max_Min.loc[[82433, 82619, 82620, 82621, 82622, 82623, 82624, 82625, 82626, 82627, 82628, 82629, 83129, 83172, 83173, 83174, 83175, 83176, 83177, 83513, 83514, 83943, 83944, 83945, 83946, 83965, 83966, 83967, 83968, 83988, 83989, 83990, 83991, 83992, 83993, 83994, 84014, 84015, 84016, 84017, 84018],:]"
      ],
      "metadata": {
        "id": "qiAzYbaZJxNR"
      },
      "execution_count": 150,
      "outputs": []
    },
    {
      "cell_type": "code",
      "source": [
        "predsMin = model1.predict(Min_input)\n",
        "#predsMinA = pd.DataFrame(predsMin , columns = ['prediction'])\n",
        "#predsMinA.sort_values('prediction')\n"
      ],
      "metadata": {
        "id": "ArwqlpFYJxJ-"
      },
      "execution_count": 151,
      "outputs": []
    },
    {
      "cell_type": "code",
      "source": [
        "Min_Target=pd.DataFrame(Min_Target['Heating']) \n",
        "Min_Target.reset_index(inplace = True)\n",
        "Min_Target.drop('index', axis=1, inplace=True)"
      ],
      "metadata": {
        "id": "TQSAf2giJxGb"
      },
      "execution_count": 152,
      "outputs": []
    },
    {
      "cell_type": "code",
      "source": [
        "MinHeating = pd.DataFrame(predsMin, columns =['predicted Min values for heating '])\n",
        "MinHeating[' Min Heating Real Values'] = Min_Target\n",
        "MinHeating.sort_values('predicted Min values for heating ')"
      ],
      "metadata": {
        "id": "wtwq7iBTMBpm",
        "colab": {
          "base_uri": "https://localhost:8080/",
          "height": 1000
        },
        "outputId": "6c9ad84f-b287-4bc2-fca5-a0765efd9227"
      },
      "execution_count": 153,
      "outputs": [
        {
          "output_type": "execute_result",
          "data": {
            "text/plain": [
              "    predicted Min values for heating    Min Heating Real Values\n",
              "5                       -63907.605469                       0.0\n",
              "23                      -58182.695312                       0.0\n",
              "24                      -47553.593750                       0.0\n",
              "25                      -47204.417969                       0.0\n",
              "9                       -43186.218750                       0.0\n",
              "27                      -39174.281250                       0.0\n",
              "22                      -33335.539062                       0.0\n",
              "28                      -32032.898438                       0.0\n",
              "1                       -30738.494141                       0.0\n",
              "19                      -22078.597656                       0.0\n",
              "18                      -19714.017578                       0.0\n",
              "40                      -18570.398438                       0.0\n",
              "39                      -15260.031250                       0.0\n",
              "12                      -14291.869141                       0.0\n",
              "38                      -12017.950195                       0.0\n",
              "2                        -9815.623047                       0.0\n",
              "14                       -8967.314453                       0.0\n",
              "34                       -4849.541504                       0.0\n",
              "20                       -4591.929688                       0.0\n",
              "35                       -2065.306152                       0.0\n",
              "16                       -1114.563721                       0.0\n",
              "21                        -900.800232                       0.0\n",
              "30                         -30.130608                       0.0\n",
              "13                          56.482094                       0.0\n",
              "26                        2195.508789                       0.0\n",
              "32                        3313.822021                       0.0\n",
              "3                         4795.812500                       0.0\n",
              "15                        5821.147949                       0.0\n",
              "4                         6275.422363                       0.0\n",
              "37                       10584.775391                       0.0\n",
              "36                       12217.267578                       0.0\n",
              "6                        16956.425781                       0.0\n",
              "17                       17816.115234                       0.0\n",
              "33                       19589.646484                       0.0\n",
              "7                        22464.433594                       0.0\n",
              "29                       23394.183594                       0.0\n",
              "31                       25328.519531                       0.0\n",
              "0                        43777.937500                       0.0\n",
              "11                       52036.039062                       0.0\n",
              "10                       67515.851562                       0.0\n",
              "8                        74741.695312                       0.0"
            ],
            "text/html": [
              "\n",
              "  <div id=\"df-eed891b1-70c7-4082-9bcc-bebc7cc20443\">\n",
              "    <div class=\"colab-df-container\">\n",
              "      <div>\n",
              "<style scoped>\n",
              "    .dataframe tbody tr th:only-of-type {\n",
              "        vertical-align: middle;\n",
              "    }\n",
              "\n",
              "    .dataframe tbody tr th {\n",
              "        vertical-align: top;\n",
              "    }\n",
              "\n",
              "    .dataframe thead th {\n",
              "        text-align: right;\n",
              "    }\n",
              "</style>\n",
              "<table border=\"1\" class=\"dataframe\">\n",
              "  <thead>\n",
              "    <tr style=\"text-align: right;\">\n",
              "      <th></th>\n",
              "      <th>predicted Min values for heating</th>\n",
              "      <th>Min Heating Real Values</th>\n",
              "    </tr>\n",
              "  </thead>\n",
              "  <tbody>\n",
              "    <tr>\n",
              "      <th>5</th>\n",
              "      <td>-63907.605469</td>\n",
              "      <td>0.0</td>\n",
              "    </tr>\n",
              "    <tr>\n",
              "      <th>23</th>\n",
              "      <td>-58182.695312</td>\n",
              "      <td>0.0</td>\n",
              "    </tr>\n",
              "    <tr>\n",
              "      <th>24</th>\n",
              "      <td>-47553.593750</td>\n",
              "      <td>0.0</td>\n",
              "    </tr>\n",
              "    <tr>\n",
              "      <th>25</th>\n",
              "      <td>-47204.417969</td>\n",
              "      <td>0.0</td>\n",
              "    </tr>\n",
              "    <tr>\n",
              "      <th>9</th>\n",
              "      <td>-43186.218750</td>\n",
              "      <td>0.0</td>\n",
              "    </tr>\n",
              "    <tr>\n",
              "      <th>27</th>\n",
              "      <td>-39174.281250</td>\n",
              "      <td>0.0</td>\n",
              "    </tr>\n",
              "    <tr>\n",
              "      <th>22</th>\n",
              "      <td>-33335.539062</td>\n",
              "      <td>0.0</td>\n",
              "    </tr>\n",
              "    <tr>\n",
              "      <th>28</th>\n",
              "      <td>-32032.898438</td>\n",
              "      <td>0.0</td>\n",
              "    </tr>\n",
              "    <tr>\n",
              "      <th>1</th>\n",
              "      <td>-30738.494141</td>\n",
              "      <td>0.0</td>\n",
              "    </tr>\n",
              "    <tr>\n",
              "      <th>19</th>\n",
              "      <td>-22078.597656</td>\n",
              "      <td>0.0</td>\n",
              "    </tr>\n",
              "    <tr>\n",
              "      <th>18</th>\n",
              "      <td>-19714.017578</td>\n",
              "      <td>0.0</td>\n",
              "    </tr>\n",
              "    <tr>\n",
              "      <th>40</th>\n",
              "      <td>-18570.398438</td>\n",
              "      <td>0.0</td>\n",
              "    </tr>\n",
              "    <tr>\n",
              "      <th>39</th>\n",
              "      <td>-15260.031250</td>\n",
              "      <td>0.0</td>\n",
              "    </tr>\n",
              "    <tr>\n",
              "      <th>12</th>\n",
              "      <td>-14291.869141</td>\n",
              "      <td>0.0</td>\n",
              "    </tr>\n",
              "    <tr>\n",
              "      <th>38</th>\n",
              "      <td>-12017.950195</td>\n",
              "      <td>0.0</td>\n",
              "    </tr>\n",
              "    <tr>\n",
              "      <th>2</th>\n",
              "      <td>-9815.623047</td>\n",
              "      <td>0.0</td>\n",
              "    </tr>\n",
              "    <tr>\n",
              "      <th>14</th>\n",
              "      <td>-8967.314453</td>\n",
              "      <td>0.0</td>\n",
              "    </tr>\n",
              "    <tr>\n",
              "      <th>34</th>\n",
              "      <td>-4849.541504</td>\n",
              "      <td>0.0</td>\n",
              "    </tr>\n",
              "    <tr>\n",
              "      <th>20</th>\n",
              "      <td>-4591.929688</td>\n",
              "      <td>0.0</td>\n",
              "    </tr>\n",
              "    <tr>\n",
              "      <th>35</th>\n",
              "      <td>-2065.306152</td>\n",
              "      <td>0.0</td>\n",
              "    </tr>\n",
              "    <tr>\n",
              "      <th>16</th>\n",
              "      <td>-1114.563721</td>\n",
              "      <td>0.0</td>\n",
              "    </tr>\n",
              "    <tr>\n",
              "      <th>21</th>\n",
              "      <td>-900.800232</td>\n",
              "      <td>0.0</td>\n",
              "    </tr>\n",
              "    <tr>\n",
              "      <th>30</th>\n",
              "      <td>-30.130608</td>\n",
              "      <td>0.0</td>\n",
              "    </tr>\n",
              "    <tr>\n",
              "      <th>13</th>\n",
              "      <td>56.482094</td>\n",
              "      <td>0.0</td>\n",
              "    </tr>\n",
              "    <tr>\n",
              "      <th>26</th>\n",
              "      <td>2195.508789</td>\n",
              "      <td>0.0</td>\n",
              "    </tr>\n",
              "    <tr>\n",
              "      <th>32</th>\n",
              "      <td>3313.822021</td>\n",
              "      <td>0.0</td>\n",
              "    </tr>\n",
              "    <tr>\n",
              "      <th>3</th>\n",
              "      <td>4795.812500</td>\n",
              "      <td>0.0</td>\n",
              "    </tr>\n",
              "    <tr>\n",
              "      <th>15</th>\n",
              "      <td>5821.147949</td>\n",
              "      <td>0.0</td>\n",
              "    </tr>\n",
              "    <tr>\n",
              "      <th>4</th>\n",
              "      <td>6275.422363</td>\n",
              "      <td>0.0</td>\n",
              "    </tr>\n",
              "    <tr>\n",
              "      <th>37</th>\n",
              "      <td>10584.775391</td>\n",
              "      <td>0.0</td>\n",
              "    </tr>\n",
              "    <tr>\n",
              "      <th>36</th>\n",
              "      <td>12217.267578</td>\n",
              "      <td>0.0</td>\n",
              "    </tr>\n",
              "    <tr>\n",
              "      <th>6</th>\n",
              "      <td>16956.425781</td>\n",
              "      <td>0.0</td>\n",
              "    </tr>\n",
              "    <tr>\n",
              "      <th>17</th>\n",
              "      <td>17816.115234</td>\n",
              "      <td>0.0</td>\n",
              "    </tr>\n",
              "    <tr>\n",
              "      <th>33</th>\n",
              "      <td>19589.646484</td>\n",
              "      <td>0.0</td>\n",
              "    </tr>\n",
              "    <tr>\n",
              "      <th>7</th>\n",
              "      <td>22464.433594</td>\n",
              "      <td>0.0</td>\n",
              "    </tr>\n",
              "    <tr>\n",
              "      <th>29</th>\n",
              "      <td>23394.183594</td>\n",
              "      <td>0.0</td>\n",
              "    </tr>\n",
              "    <tr>\n",
              "      <th>31</th>\n",
              "      <td>25328.519531</td>\n",
              "      <td>0.0</td>\n",
              "    </tr>\n",
              "    <tr>\n",
              "      <th>0</th>\n",
              "      <td>43777.937500</td>\n",
              "      <td>0.0</td>\n",
              "    </tr>\n",
              "    <tr>\n",
              "      <th>11</th>\n",
              "      <td>52036.039062</td>\n",
              "      <td>0.0</td>\n",
              "    </tr>\n",
              "    <tr>\n",
              "      <th>10</th>\n",
              "      <td>67515.851562</td>\n",
              "      <td>0.0</td>\n",
              "    </tr>\n",
              "    <tr>\n",
              "      <th>8</th>\n",
              "      <td>74741.695312</td>\n",
              "      <td>0.0</td>\n",
              "    </tr>\n",
              "  </tbody>\n",
              "</table>\n",
              "</div>\n",
              "      <button class=\"colab-df-convert\" onclick=\"convertToInteractive('df-eed891b1-70c7-4082-9bcc-bebc7cc20443')\"\n",
              "              title=\"Convert this dataframe to an interactive table.\"\n",
              "              style=\"display:none;\">\n",
              "        \n",
              "  <svg xmlns=\"http://www.w3.org/2000/svg\" height=\"24px\"viewBox=\"0 0 24 24\"\n",
              "       width=\"24px\">\n",
              "    <path d=\"M0 0h24v24H0V0z\" fill=\"none\"/>\n",
              "    <path d=\"M18.56 5.44l.94 2.06.94-2.06 2.06-.94-2.06-.94-.94-2.06-.94 2.06-2.06.94zm-11 1L8.5 8.5l.94-2.06 2.06-.94-2.06-.94L8.5 2.5l-.94 2.06-2.06.94zm10 10l.94 2.06.94-2.06 2.06-.94-2.06-.94-.94-2.06-.94 2.06-2.06.94z\"/><path d=\"M17.41 7.96l-1.37-1.37c-.4-.4-.92-.59-1.43-.59-.52 0-1.04.2-1.43.59L10.3 9.45l-7.72 7.72c-.78.78-.78 2.05 0 2.83L4 21.41c.39.39.9.59 1.41.59.51 0 1.02-.2 1.41-.59l7.78-7.78 2.81-2.81c.8-.78.8-2.07 0-2.86zM5.41 20L4 18.59l7.72-7.72 1.47 1.35L5.41 20z\"/>\n",
              "  </svg>\n",
              "      </button>\n",
              "      \n",
              "  <style>\n",
              "    .colab-df-container {\n",
              "      display:flex;\n",
              "      flex-wrap:wrap;\n",
              "      gap: 12px;\n",
              "    }\n",
              "\n",
              "    .colab-df-convert {\n",
              "      background-color: #E8F0FE;\n",
              "      border: none;\n",
              "      border-radius: 50%;\n",
              "      cursor: pointer;\n",
              "      display: none;\n",
              "      fill: #1967D2;\n",
              "      height: 32px;\n",
              "      padding: 0 0 0 0;\n",
              "      width: 32px;\n",
              "    }\n",
              "\n",
              "    .colab-df-convert:hover {\n",
              "      background-color: #E2EBFA;\n",
              "      box-shadow: 0px 1px 2px rgba(60, 64, 67, 0.3), 0px 1px 3px 1px rgba(60, 64, 67, 0.15);\n",
              "      fill: #174EA6;\n",
              "    }\n",
              "\n",
              "    [theme=dark] .colab-df-convert {\n",
              "      background-color: #3B4455;\n",
              "      fill: #D2E3FC;\n",
              "    }\n",
              "\n",
              "    [theme=dark] .colab-df-convert:hover {\n",
              "      background-color: #434B5C;\n",
              "      box-shadow: 0px 1px 3px 1px rgba(0, 0, 0, 0.15);\n",
              "      filter: drop-shadow(0px 1px 2px rgba(0, 0, 0, 0.3));\n",
              "      fill: #FFFFFF;\n",
              "    }\n",
              "  </style>\n",
              "\n",
              "      <script>\n",
              "        const buttonEl =\n",
              "          document.querySelector('#df-eed891b1-70c7-4082-9bcc-bebc7cc20443 button.colab-df-convert');\n",
              "        buttonEl.style.display =\n",
              "          google.colab.kernel.accessAllowed ? 'block' : 'none';\n",
              "\n",
              "        async function convertToInteractive(key) {\n",
              "          const element = document.querySelector('#df-eed891b1-70c7-4082-9bcc-bebc7cc20443');\n",
              "          const dataTable =\n",
              "            await google.colab.kernel.invokeFunction('convertToInteractive',\n",
              "                                                     [key], {});\n",
              "          if (!dataTable) return;\n",
              "\n",
              "          const docLinkHtml = 'Like what you see? Visit the ' +\n",
              "            '<a target=\"_blank\" href=https://colab.research.google.com/notebooks/data_table.ipynb>data table notebook</a>'\n",
              "            + ' to learn more about interactive tables.';\n",
              "          element.innerHTML = '';\n",
              "          dataTable['output_type'] = 'display_data';\n",
              "          await google.colab.output.renderOutput(dataTable, element);\n",
              "          const docLink = document.createElement('div');\n",
              "          docLink.innerHTML = docLinkHtml;\n",
              "          element.appendChild(docLink);\n",
              "        }\n",
              "      </script>\n",
              "    </div>\n",
              "  </div>\n",
              "  "
            ]
          },
          "metadata": {},
          "execution_count": 153
        }
      ]
    },
    {
      "cell_type": "code",
      "source": [
        "plt.figure(figsize=(30,8));\n",
        "x_ax = range ( len(predsMin))\n",
        "plt.plot(x_ax,predsMin, label =\"predicted  Min values for 2019\")\n",
        "#plt.plot(x_ax,preds3, label = \"AC\")\n",
        "plt.plot(x_ax,Min_Target, label = \"Real Min values for 2019\")\n",
        "plt.title(\"Comparison Heating\")\n",
        "plt.legend()\n",
        "plt.show()"
      ],
      "metadata": {
        "id": "nbf-BkM0MBmC",
        "colab": {
          "base_uri": "https://localhost:8080/",
          "height": 501
        },
        "outputId": "26becc47-94a7-43a5-c7a9-531b197a8f02"
      },
      "execution_count": 154,
      "outputs": [
        {
          "output_type": "display_data",
          "data": {
            "text/plain": [
              "<Figure size 2160x576 with 1 Axes>"
            ],
            "image/png": "[encoded data removed]"
          },
          "metadata": {}
        }
      ]
    },
    {
      "cell_type": "code",
      "source": [
        ""
      ],
      "metadata": {
        "id": "AkPI5wCnaMgx"
      },
      "execution_count": null,
      "outputs": []
    },
    {
      "cell_type": "code",
      "source": [
        ""
      ],
      "metadata": {
        "id": "Knr89XogaMeV"
      },
      "execution_count": null,
      "outputs": []
    },
    {
      "cell_type": "code",
      "source": [
        ""
      ],
      "metadata": {
        "id": "WNxtFB9caMbw"
      },
      "execution_count": null,
      "outputs": []
    },
    {
      "cell_type": "code",
      "source": [
        ""
      ],
      "metadata": {
        "id": "aTKCNYyNaMY_"
      },
      "execution_count": null,
      "outputs": []
    },
    {
      "cell_type": "code",
      "source": [
        ""
      ],
      "metadata": {
        "id": "1t_LJNpJaMVo"
      },
      "execution_count": null,
      "outputs": []
    },
    {
      "cell_type": "markdown",
      "source": [
        "Detect and Remove the Outliers "
      ],
      "metadata": {
        "id": "CF5V7l1ZkSaC"
      }
    },
    {
      "cell_type": "code",
      "source": [
        "Heating"
      ],
      "metadata": {
        "id": "DqSgRxzJk_gA"
      },
      "execution_count": null,
      "outputs": []
    },
    {
      "cell_type": "markdown",
      "source": [
        ""
      ],
      "metadata": {
        "id": "vA1tqTKXqHmm"
      }
    },
    {
      "cell_type": "code",
      "source": [
        "import seaborn as sns\n",
        "sns.boxplot(Heating[' Heating Real Values'])"
      ],
      "metadata": {
        "id": "JiswdLKLlLhp"
      },
      "execution_count": null,
      "outputs": []
    },
    {
      "cell_type": "code",
      "source": [
        "# Position of the Outlier of real value\n",
        "print(np.where(Heating[' Heating Real Values']>110000))"
      ],
      "metadata": {
        "id": "m1h_KW3Yj5Gg"
      },
      "execution_count": null,
      "outputs": []
    },
    {
      "cell_type": "code",
      "source": [
        "# Position of the Outlier of predicted values\n",
        "print(np.where(Heating['predicted for Heating 2019 using data belobged to 2019'] > 110000))"
      ],
      "metadata": {
        "id": "MH7PnPrKj5Du"
      },
      "execution_count": null,
      "outputs": []
    },
    {
      "cell_type": "code",
      "source": [
        "# Scatter plot\n",
        "fig, ax = plt.subplots(figsize = (10,5))\n",
        "ax.scatter(Heating[' Heating Real Values'],Heating['predicted for Heating 2019 using data belobged to 2019'])\n",
        "\n",
        "# x-axis label\n",
        "ax.set_xlabel('Heating Real Values')\n",
        "\n",
        "# y-axis label\n",
        "ax.set_ylabel('predicted for Heating 2019 using data belobged to 2019')\n",
        "plt.show()\n"
      ],
      "metadata": {
        "id": "nG1r08q6j5Ai"
      },
      "execution_count": null,
      "outputs": []
    },
    {
      "cell_type": "code",
      "source": [
        "# Position of the Outlier\n",
        "print(np.where((Heating[' Heating Real Values']>110000) & (Heating['predicted for Heating 2019 using data belobged to 2019']>1200)))\n"
      ],
      "metadata": {
        "id": "PVKV5_jtj46w"
      },
      "execution_count": null,
      "outputs": []
    },
    {
      "cell_type": "code",
      "source": [
        ""
      ],
      "metadata": {
        "id": "2DKIwIgSpkMQ"
      },
      "execution_count": null,
      "outputs": []
    },
    {
      "cell_type": "markdown",
      "source": [
        "Z- Score is also called a standard score. This value/score helps to understand that how far is the data point from the mean. And after setting up a threshold value one can utilize z score values of data points to define the outliers."
      ],
      "metadata": {
        "id": "Sxm5NMSap-eu"
      }
    },
    {
      "cell_type": "code",
      "source": [
        ""
      ],
      "metadata": {
        "id": "vcgZLG1cpkJA"
      },
      "execution_count": null,
      "outputs": []
    },
    {
      "cell_type": "code",
      "source": [
        ""
      ],
      "metadata": {
        "id": "Aw-8zBmrpkFq"
      },
      "execution_count": null,
      "outputs": []
    },
    {
      "cell_type": "code",
      "source": [
        ""
      ],
      "metadata": {
        "id": "GfaOPuyQj436"
      },
      "execution_count": null,
      "outputs": []
    },
    {
      "cell_type": "code",
      "source": [
        ""
      ],
      "metadata": {
        "id": "QjzlX-cIj40z"
      },
      "execution_count": null,
      "outputs": []
    },
    {
      "cell_type": "markdown",
      "source": [
        "automatic outlier detection\n",
        "https://machinelearningmastery.com/model-based-outlier-detection-and-removal-in-python/"
      ],
      "metadata": {
        "id": "yfH37l1pModo"
      }
    },
    {
      "cell_type": "markdown",
      "source": [
        "Each method will be defined, then fit on the training dataset. The fit model will then predict which examples in the training dataset are outliers and which are not (so-called inliers). The outliers will then be removed from the training dataset, then the model will be fit on the remaining examples and evaluated on the entire test dataset.\n",
        "It would be invalid to fit the outlier detection method on the entire training dataset as this would result in data leakage. That is, the model would have access to data (or information about the data) in the test set not used to train the model. This may result in an optimistic estimate of model performance.\n",
        "We could attempt to detect outliers on “new data” such as the test set prior to making a prediction, but then what do we do if outliers are detected?"
      ],
      "metadata": {
        "id": "fChO7juH49r1"
      }
    },
    {
      "cell_type": "markdown",
      "source": [
        "Isolation Forest, or iForest for short, is a tree-based anomaly detection algorithm: \n",
        "It is based on modeling the normal data in such a way as to isolate anomalies that are both few in number and different in the feature space."
      ],
      "metadata": {
        "id": "GLbc7jx45Che"
      }
    },
    {
      "cell_type": "markdown",
      "source": [
        "Perhaps the most important hyperparameter in the model is the “contamination” argument, which is used to help estimate the number of outliers in the dataset. This is a value between 0.0 and 0.5 and by default is set to 0.1"
      ],
      "metadata": {
        "id": "HJ9I7x266VpD"
      }
    },
    {
      "cell_type": "code",
      "source": [
        "from sklearn.ensemble import IsolationForest"
      ],
      "metadata": {
        "id": "tb0du8Sr7Hwb"
      },
      "execution_count": null,
      "outputs": []
    },
    {
      "cell_type": "code",
      "source": [
        "# identify outliers in the training dataset\n",
        "iso = IsolationForest(contamination=0.02)\n",
        "yhat = iso.fit_predict(train_inputs)"
      ],
      "metadata": {
        "id": "eelBWwdbMrBw"
      },
      "execution_count": null,
      "outputs": []
    },
    {
      "cell_type": "code",
      "source": [
        "mask = yhat != -1\n"
      ],
      "metadata": {
        "id": "44vXEREHFn22"
      },
      "execution_count": null,
      "outputs": []
    },
    {
      "cell_type": "code",
      "source": [
        "# Filtering a series using a boolean arrays\n",
        "from itertools import compress\n",
        "Filtered_Trian_Target = list(compress(train_targets, mask))\n",
        "Filtered_Trian_Targets = pd.DataFrame(Filtered_Trian_Target, columns =['Heating'])"
      ],
      "metadata": {
        "id": "cw_vufldG2Fs"
      },
      "execution_count": null,
      "outputs": []
    },
    {
      "cell_type": "code",
      "source": [
        "# Filtering a dataframe using a boolean arrays\n",
        "newmask= pd.Series(mask)\n",
        "Filtered_Trian_inputs = train_inputs[newmask.values]\n",
        "print(Filtered_Trian_Targets.shape, Filtered_Trian_inputs.shape)"
      ],
      "metadata": {
        "id": "zKJZ-arVIMrK"
      },
      "execution_count": null,
      "outputs": []
    },
    {
      "cell_type": "code",
      "source": [
        "# fitting model on filtered  data\n",
        "model.fit(Filtered_Trian_inputs, Filtered_Trian_Targets)"
      ],
      "metadata": {
        "id": "TJ1E8UqxK-iT"
      },
      "execution_count": null,
      "outputs": []
    },
    {
      "cell_type": "code",
      "source": [
        "preds3 = model.predict(test_inputs)\n",
        "preds4 = model.predict(test_inputs_TMY)"
      ],
      "metadata": {
        "id": "DaNwatBIM4eB"
      },
      "execution_count": null,
      "outputs": []
    },
    {
      "cell_type": "code",
      "source": [
        "R2_score1=r2_score(test_targets, preds3)\n",
        "print(R2_score1)\n",
        "print('%.2f' % R2_score1)"
      ],
      "metadata": {
        "id": "qttwOCyiMqvF"
      },
      "execution_count": null,
      "outputs": []
    },
    {
      "cell_type": "code",
      "source": [
        "Heatingnew = pd.DataFrame(preds3, columns =['predicted for Heating 2019 using data belobged to 2019'])\n",
        "Heatingnew[' Heating Real Values'] = C\n",
        "#raw_df.to_csv('Heating.csv')\n",
        "Heatingnew"
      ],
      "metadata": {
        "id": "-xwmotqRNcN6"
      },
      "execution_count": null,
      "outputs": []
    },
    {
      "cell_type": "code",
      "source": [
        "plt.figure(figsize=(30,8));\n",
        "\n",
        "x_ax = range ( len(preds3))\n",
        "plt.plot(x_ax,preds3, label =\"predicted 2019\")\n",
        "#plt.plot(x_ax,preds3, label = \"AC\")\n",
        "plt.plot(x_ax,C, label = \"Real values 2019\")\n",
        "plt.title(\"Comparison Heating\")\n",
        "plt.legend()\n",
        "plt.show()"
      ],
      "metadata": {
        "id": "kUazV3LaNcKW"
      },
      "execution_count": null,
      "outputs": []
    },
    {
      "cell_type": "code",
      "source": [
        "## Extract their index\n",
        "# saving indexes in a new column named index\n",
        "index = test_inputs.index\n",
        "condition = test_inputs['Dry Bulb Temperature']  >30\n",
        "indices = index[condition]\n",
        "indices_list = indices.tolist()\n",
        "print(indices_list)"
      ],
      "metadata": {
        "id": "lb_IeLkiNcH0"
      },
      "execution_count": null,
      "outputs": []
    },
    {
      "cell_type": "code",
      "source": [
        "Min_input = test_inputs.loc[[82433, 82619, 82620, 82621, 82622, 82623, 82624, 82625, 82626, 82627, 82628, 82629, 83129, 83172, 83173, 83174, 83175, 83176, 83177, 83513, 83514, 83943, 83944, 83945, 83946, 83965, 83966, 83967, 83968, 83988, 83989, 83990, 83991, 83992, 83993, 83994, 84014, 84015, 84016, 84017, 84018],:]"
      ],
      "metadata": {
        "id": "FT8OHdRAOMOt"
      },
      "execution_count": null,
      "outputs": []
    },
    {
      "cell_type": "code",
      "source": [
        "Min_Target = Max_Min.loc[[82433, 82619, 82620, 82621, 82622, 82623, 82624, 82625, 82626, 82627, 82628, 82629, 83129, 83172, 83173, 83174, 83175, 83176, 83177, 83513, 83514, 83943, 83944, 83945, 83946, 83965, 83966, 83967, 83968, 83988, 83989, 83990, 83991, 83992, 83993, 83994, 84014, 84015, 84016, 84017, 84018],:]"
      ],
      "metadata": {
        "id": "9JbHpe2AOMOv"
      },
      "execution_count": null,
      "outputs": []
    },
    {
      "cell_type": "code",
      "source": [
        "predsMin = model.predict(Min_input)"
      ],
      "metadata": {
        "id": "G_Y0OvqAOMOw"
      },
      "execution_count": null,
      "outputs": []
    },
    {
      "cell_type": "code",
      "source": [
        "Min_Target=pd.DataFrame(Min_Target['Heating']) \n",
        "Min_Target.reset_index(inplace = True)\n",
        "Min_Target.drop('index', axis=1, inplace=True)"
      ],
      "metadata": {
        "id": "u2RxjyU7OMOy"
      },
      "execution_count": null,
      "outputs": []
    },
    {
      "cell_type": "code",
      "source": [
        "MinHeating = pd.DataFrame(predsMin, columns =['predicted Min values for heating '])\n",
        "MinHeating[' Min Heating Real Values'] = Min_Target\n",
        "MinHeating.head(10)"
      ],
      "metadata": {
        "id": "R8n8Ft7aOMOz"
      },
      "execution_count": null,
      "outputs": []
    },
    {
      "cell_type": "code",
      "source": [
        "plt.figure(figsize=(30,8));\n",
        "\n",
        "x_ax = range ( len(predsMin))\n",
        "plt.plot(x_ax,predsMin, label =\"predicted  Min values for 2019\")\n",
        "#plt.plot(x_ax,preds3, label = \"AC\")\n",
        "plt.plot(x_ax,Min_Target, label = \"Real Min values for 2019\")\n",
        "plt.title(\"Comparison Heating\")\n",
        "plt.legend()\n",
        "plt.show()"
      ],
      "metadata": {
        "id": "BdG5MeYqOMPq"
      },
      "execution_count": null,
      "outputs": []
    },
    {
      "cell_type": "code",
      "source": [
        ""
      ],
      "metadata": {
        "id": "82GXhkxDNb-t"
      },
      "execution_count": null,
      "outputs": []
    },
    {
      "cell_type": "code",
      "source": [
        ""
      ],
      "metadata": {
        "id": "xvLdjmVANb7Q"
      },
      "execution_count": null,
      "outputs": []
    },
    {
      "cell_type": "markdown",
      "source": [
        "Predicting energy in 2019 using the Tyoical Weater data file :"
      ],
      "metadata": {
        "id": "BkFwFIX30nFN"
      }
    },
    {
      "cell_type": "markdown",
      "source": [
        ""
      ],
      "metadata": {
        "id": "BMOLSKTsKLJm"
      }
    },
    {
      "cell_type": "code",
      "source": [
        ""
      ],
      "metadata": {
        "id": "iPsb32i58K4t"
      },
      "execution_count": null,
      "outputs": []
    },
    {
      "cell_type": "markdown",
      "source": [
        "Predicting energy in 2019 using the data of 2018 and comparing with real values in 2019"
      ],
      "metadata": {
        "id": "QVsdB1pwBrm7"
      }
    },
    {
      "cell_type": "code",
      "source": [
        ""
      ],
      "metadata": {
        "id": "xd9da5lEWqh7"
      },
      "execution_count": null,
      "outputs": []
    },
    {
      "cell_type": "code",
      "source": [
        ""
      ],
      "metadata": {
        "id": "7fIBGk3MWqcf"
      },
      "execution_count": null,
      "outputs": []
    },
    {
      "cell_type": "code",
      "source": [
        ""
      ],
      "metadata": {
        "id": "DjOATXYkWqY2"
      },
      "execution_count": null,
      "outputs": []
    },
    {
      "cell_type": "markdown",
      "source": [
        "Predicting energy in 2019 using the data of TW and comparing with real values in 2019"
      ],
      "metadata": {
        "id": "UHQzge9DBwuM"
      }
    },
    {
      "cell_type": "code",
      "source": [
        "Heating = pd.DataFrame(preds3, columns =['predicted for Heating 2019 using TMY'])\n",
        "#LightsElectricity['LightsElectricity via TMY'] = pd.DataFrame(preds4)\n",
        "Heating[' Heating Real Values'] = C\n",
        "raw_df.to_csv('Heating.csv')\n",
        "Heating"
      ],
      "metadata": {
        "id": "572rw5V4kypf"
      },
      "execution_count": null,
      "outputs": []
    },
    {
      "cell_type": "code",
      "source": [
        "R2_score=r2_score(test_targets, preds3)\n",
        "R2_score"
      ],
      "metadata": {
        "id": "rZaUbVoVvqet"
      },
      "execution_count": null,
      "outputs": []
    },
    {
      "cell_type": "code",
      "source": [
        "#Heating = pd.DataFrame(preds3, columns =['Heating 2019 '])\n",
        "#Heating['Heating via TMY'] = pd.DataFrame(preds4)\n",
        "#Heating.to_csv('Heating.csv')\n",
        "#Heating"
      ],
      "metadata": {
        "id": "qSPoiX5Lkypj"
      },
      "execution_count": null,
      "outputs": []
    },
    {
      "cell_type": "code",
      "source": [
        "plt.figure(figsize=(30,8));\n",
        "\n",
        "x_ax = range ( len(preds4))\n",
        "plt.plot(x_ax,preds4, label =\"TMY\")\n",
        "#plt.plot(x_ax,preds3, label = \"AC\")\n",
        "plt.plot(x_ax,C, label = \"Real values 2019\")\n",
        "plt.title(\"Comparison Heating\")\n",
        "plt.legend()\n",
        "plt.show()"
      ],
      "metadata": {
        "id": "jT8oBstzkypl"
      },
      "execution_count": null,
      "outputs": []
    },
    {
      "cell_type": "code",
      "source": [
        "TMY_df3['Heating'][246]"
      ],
      "metadata": {
        "id": "2-FQAmHCkypp"
      },
      "execution_count": null,
      "outputs": []
    },
    {
      "cell_type": "code",
      "source": [
        ""
      ],
      "metadata": {
        "id": "y2HTRJWQlEdL"
      },
      "execution_count": null,
      "outputs": []
    },
    {
      "cell_type": "code",
      "source": [
        "TMY_df3.loc[108:113]"
      ],
      "metadata": {
        "id": "oJ_ZwCKAlZjT"
      },
      "execution_count": null,
      "outputs": []
    },
    {
      "cell_type": "code",
      "source": [
        "'''\n",
        "raw_df3['Heating']= raw_df3['Heating'] + raw_df3['GasHVAC']\n",
        "TMY_df3['Heating']= TMY_df3['Heating'] + TMY_df3['GasHVAC']\n",
        "raw_df3['Heating']=raw_df3['Heating'] / 1000\n",
        "TMY_df3['Heating']=TMY_df3['Heating'] / 1000\n",
        "raw_df3 = raw_df3.drop('GasHVAC', 1)\n",
        "TMY_df3 = TMY_df3.drop('GasHVAC', 1)\n",
        "'''"
      ],
      "metadata": {
        "id": "tpkQtR_4lZjY"
      },
      "execution_count": null,
      "outputs": []
    },
    {
      "cell_type": "code",
      "source": [
        "new_input = {'Dry Bulb Temperature': -24.5,\n",
        "             'Dew Point Temperature': -28.4,\n",
        "             'Relative Humidity': 70,\n",
        "             'Atmospheric Pressure': 100480,\n",
        "             'Extraterrestrial Horizontal Radiation': 0,\n",
        "             'Extraterrestrial Direct Normal Radiation': 9999,\n",
        "             'Horizontal Infrared Radiation Intensity from Sky': 166,\n",
        "             'Global Horizontal Radiation': 0,\n",
        "             'Direct Normal Radiation': 0,\n",
        "             'Diffuse Horizontal Radiation': 0,\n",
        "             'Global Horizontal Illuminance': 0,\n",
        "             'Direct Normal Illuminance': 0,\n",
        "             'Diffuse Horizontal Illuminance':0,\n",
        "             'Zenith Luminance': 9999,\n",
        "             'Wind Direction': 20,\n",
        "             'Wind Speed': 6,\n",
        "             'Total Sky Cover': 0,\n",
        "             'Opaque Sky Cover': 8,\n",
        "             'Visibility': 999,\n",
        "             'Ceiling Height': 99990,\n",
        "             'Present Weather Observation':9,\n",
        "             'Precipitable Water': 0,\n",
        "             'Aerosol Optical Depth':0 ,\n",
        "             'Snow Depth' : 0,\n",
        "             'Days Since Last Snow': 88,\n",
        "             'Albedo' : 999,\n",
        "             'Liquid Precipitation Depth' :999 ,\n",
        "             'Liquid Precipitation Quantity' : 99,\n",
        "             'People Total Heating Energy' :0 ,\n",
        "             'Total Zone Infiltration Sensible Heat Gain Energy' : 893710,\n",
        "             'Averge Zones temp': 14.66877,\n",
        "             'ATTIC:Zone Air Temperature' : -24,\n",
        "             \n",
        "              }"
      ],
      "metadata": {
        "id": "MKWB4ML2lZjb"
      },
      "execution_count": null,
      "outputs": []
    },
    {
      "cell_type": "code",
      "source": [
        "new_input_df = pd.DataFrame([new_input])\n",
        "new_input_df.info()"
      ],
      "metadata": {
        "id": "usjyZmbnlZjg"
      },
      "execution_count": null,
      "outputs": []
    },
    {
      "cell_type": "code",
      "source": [
        "prediction = model.predict(new_input_df)\n",
        "prediction"
      ],
      "metadata": {
        "id": "Ib6ckun7lZjk"
      },
      "execution_count": null,
      "outputs": []
    },
    {
      "cell_type": "markdown",
      "source": [
        ""
      ],
      "metadata": {
        "id": "IwiAG5riKCAp"
      }
    },
    {
      "cell_type": "markdown",
      "source": [
        "##Impact of weather data on energy demand\n",
        "\n",
        "\n",
        "Goal is to find the best ways for predicting energy demand in 2019 and compare it with the doe model.\n",
        "scenarios:\n",
        "1.   **Training the model with data from 2011 to 2017**\n",
        "\n",
        "*   predicting energy demand for 2019 when the TW is used ( used both TW files) and comapre it with 2018.  if I want to predict energy demand of 2019 wihout having any data, is it better to use TW or use weather data for previous years. If I want to use data belonged to previous years which year can prdict it better.\n",
        "*   Effect of number of years on accuracy\n",
        "*   Finding the accuarcy of model in max and min\n",
        "*   See the accuaracy of the model on design days\n",
        "\n",
        "\n",
        "\n",
        "2.   **Improving the accuracy of the model in mins and maxes**\n",
        "\n",
        "*   Training the Heating and Cooling with deata belonged to cold and warm days\n",
        "*   Training the data with two TW files\n",
        "*   Testing the Data of a hot place for cooling\n",
        "*   Removing columns maybe removin some columns decrease the r2 but it might increase the robutensess of model in predicting min and max\n",
        "*   Effect of energy unit on result of prediction j vs kj vs Mj \n",
        "\n",
        "\n",
        "\n",
        "\n",
        "\n",
        "\n",
        "\n",
        "\n",
        "\n",
        "\n"
      ],
      "metadata": {
        "id": "WflijsUtKCR6"
      }
    },
    {
      "cell_type": "markdown",
      "source": [
        "## predicting energy demand for 2019\n",
        "\n",
        "\n",
        "* Goal is to find the accuary of he model\n",
        "* How well TW can predict 2019 \n",
        "* How well TW can predict 2018 \n",
        "\n"
      ],
      "metadata": {
        "id": "XHQ4u4S_KCSA"
      }
    },
    {
      "cell_type": "markdown",
      "source": [
        "# Gas HVAC"
      ],
      "metadata": {
        "id": "lwUwLeJzlFzU"
      }
    },
    {
      "cell_type": "code",
      "source": [
        "############# Light Electricity (j) ############# \n",
        "#electricity\n",
        "raw_df1=raw_df.drop(raw_df.columns[[1,35,36,37,38]], axis=1)\n",
        "\n",
        "## Typical weather data file ( all parts of energy consumption)\n",
        "#electricity\n",
        "TMY_df1=TMY_df.drop(TMY_df.columns[[1,35,36,37,38]], axis=1)\n",
        "\n",
        "##spliting data  Actua weather data file Scen 2\n",
        "year = pd.to_datetime(raw_df1.Date).dt.year\n",
        "\n",
        "train_df = raw_df1[year < 2017]\n",
        "val_df = raw_df1[year == 2017]\n",
        "test_df = raw_df1[ year == 2019]\n",
        "\n",
        "## specifying input an target in  Actua weather data file\n",
        "input_cols = (train_df.columns)[1:-1]\n",
        "target_col = 'LightsElectricity'\n",
        "## specifying input an target in Typical weather data file\n",
        "input_cols_TMY1 = (TMY_df1.columns)[1:-1]\n",
        "target_col_TMY1 = 'LightsElectricity'\n",
        "\n",
        "## Creating a copy from data to keep the main data intact\n",
        "val_inputs = val_df[input_cols].copy()\n",
        "val_targets = val_df[target_col].copy()\n",
        "test_inputs = test_df[input_cols].copy()\n",
        "test_targets = test_df[target_col].copy()\n",
        "train_inputs = train_df[input_cols].copy()\n",
        "train_targets = train_df[target_col].copy()\n",
        "test_inputs_TMY = TMY_df1[input_cols_TMY1].copy()\n",
        "test_targets_TMY = TMY_df1[target_col_TMY1].copy()\n",
        "\n",
        "# developing model\n",
        "model = xgb.XGBRegressor(objective ='reg:linear', colsample_bytree = 1, learning_rate = 0.05,\n",
        "                max_depth = 6, alpha = 10, n_estimators = 100)\n",
        "\n",
        "#########specifying the metrics############\n",
        "# fitting model on training data\n",
        "\n",
        "model.fit(train_inputs, train_targets)\n",
        "preds3 = model.predict(test_inputs)\n",
        "\n",
        "model.fit(test_inputs_TMY, test_targets_TMY)\n",
        "preds4 = model.predict(test_inputs_TMY)"
      ],
      "metadata": {
        "id": "ceCrpUErxS4S"
      },
      "execution_count": null,
      "outputs": []
    },
    {
      "cell_type": "code",
      "source": [
        "A =pd.DataFrame(test_df[target_col]) \n",
        "\n",
        "A.reset_index(inplace = True)\n",
        "A.drop('index', axis=1, inplace=True)\n",
        "A"
      ],
      "metadata": {
        "id": "n0UJQBYhz7NI"
      },
      "execution_count": null,
      "outputs": []
    },
    {
      "cell_type": "code",
      "source": [
        "LightsElectricity = pd.DataFrame(preds4, columns =['predicted for LightsElectricity2019 using TMY'])\n",
        "#LightsElectricity['LightsElectricity via TMY'] = pd.DataFrame(preds4)\n",
        "LightsElectricity[' LightsElectricity Real Values'] = A \n",
        "raw_df.to_csv('LightsElectricity.csv')\n",
        "LightsElectricity"
      ],
      "metadata": {
        "id": "iEe2kgK6bldu"
      },
      "execution_count": null,
      "outputs": []
    },
    {
      "cell_type": "code",
      "source": [
        "plt.figure(figsize=(15,8));\n",
        "x_ax = range ( len(preds4))\n",
        "plt.plot(x_ax,preds4, label =\"Predicted for 2019 using TMY\")\n",
        "#plt.plot(x_ax,preds3, label = \"Predicted for 2019 using data of 2019\")\n",
        "plt.plot(x_ax,A, label = \"Real Value \")\n",
        "plt.title(\"Comparison Lights Electricity\")\n",
        "plt.legend()\n",
        "plt.show()\n"
      ],
      "metadata": {
        "id": "t9Rm9CYS_9MD"
      },
      "execution_count": null,
      "outputs": []
    },
    {
      "cell_type": "code",
      "source": [
        "############# Defining Scenarios ############# \n",
        "## Actua weather data file (all parts of energy consumption)\n",
        "\n",
        "#cooling : [[34,36,37,38]]\n",
        "raw_df2=raw_df.drop(raw_df.columns[[1,34,36,37,38]], axis=1)\n",
        "\n",
        "#cooling : [[34,36,37,38]]\n",
        "TMY_df2=TMY_df.drop(TMY_df.columns[[1,34,36,37,38]], axis=1)\n",
        "\n",
        "\n",
        "##spliting data  Actua weather data file Scen 2\n",
        "year = pd.to_datetime(raw_df2.Date).dt.year\n",
        "\n",
        "train_df = raw_df2[year < 2017]\n",
        "val_df = raw_df2[year == 2017]\n",
        "test_df = raw_df2[ year == 2019]\n",
        "\n",
        "## specifying input an target in  Actua weather data file\n",
        "input_cols = (train_df.columns)[1:-1]\n",
        "target_col = 'Cooling'\n",
        "## specifying input an target in Typical weather data file\n",
        "input_cols_TMY2 = (TMY_df2.columns)[1:-1]\n",
        "target_col_TMY2 = 'Cooling'\n",
        "\n",
        "\n",
        "## Creating a copy from data to keep the main data intact\n",
        "val_inputs = val_df[input_cols].copy()\n",
        "val_targets = val_df[target_col].copy()\n",
        "test_inputs = test_df[input_cols].copy()\n",
        "test_targets = test_df[target_col].copy()\n",
        "train_inputs = train_df[input_cols].copy()\n",
        "train_targets = train_df[target_col].copy()\n",
        "test_inputs_TMY = TMY_df2[input_cols_TMY2].copy()\n",
        "test_targets_TMY = TMY_df2[target_col_TMY2].copy()\n",
        "\n",
        "\n",
        "\n",
        "# developing model\n",
        "model = xgb.XGBRegressor(objective ='reg:linear', colsample_bytree = 1, learning_rate = 0.05,\n",
        "                max_depth = 6, alpha = 10, n_estimators = 100)\n",
        "\n",
        "#########specifying the metrics############\n",
        "# fitting model on training data\n",
        "model.fit(train_inputs, train_targets)\n",
        "preds = model.predict(train_inputs)\n",
        "\n",
        "\n",
        "model.fit(train_inputs, train_targets)\n",
        "preds3 = model.predict(test_inputs)\n",
        "\n",
        "model.fit(test_inputs_TMY, test_targets_TMY)\n",
        "preds4 = model.predict(test_inputs_TMY)"
      ],
      "metadata": {
        "id": "LbxSA_TIlKF4"
      },
      "execution_count": null,
      "outputs": []
    },
    {
      "cell_type": "code",
      "source": [
        "B=pd.DataFrame(test_df[target_col]) \n",
        "\n",
        "B.reset_index(inplace = True)\n",
        "B.drop('index', axis=1, inplace=True)\n",
        "B"
      ],
      "metadata": {
        "id": "MMxVY4q_5lqt"
      },
      "execution_count": null,
      "outputs": []
    },
    {
      "cell_type": "code",
      "source": [
        "cooling = pd.DataFrame(preds4, columns =['predicted for cooling 2019 using TMY'])\n",
        "#LightsElectricity['LightsElectricity via TMY'] = pd.DataFrame(preds4)\n",
        "cooling[' cooling Real Values'] = B \n",
        "raw_df.to_csv('cooling.csv')\n",
        "cooling"
      ],
      "metadata": {
        "id": "XXPV14cM69Ja"
      },
      "execution_count": null,
      "outputs": []
    },
    {
      "cell_type": "code",
      "source": [
        "#cooling = pd.DataFrame(preds3, columns =['coolingvia2019 '])\n",
        "#cooling['cooling via TMY'] = pd.DataFrame(preds4)\n",
        "#cooling[' cooling Real Values'] = B\n",
        "#raw_df.to_csv('cooling.csv')\n",
        "#cooling"
      ],
      "metadata": {
        "id": "6F7XxAaRMxU3"
      },
      "execution_count": null,
      "outputs": []
    },
    {
      "cell_type": "code",
      "source": [
        "#coolingvia2019 = pd.DataFrame(preds3, columns =['energy via 2019'])\n",
        "#coolingvia2019['energy via TMY'] = pd.DataFrame(preds4)"
      ],
      "metadata": {
        "id": "97FrXLT6lKDf"
      },
      "execution_count": null,
      "outputs": []
    },
    {
      "cell_type": "code",
      "source": [
        "plt.figure(figsize=(15,8));\n",
        "x_ax = range ( len(preds4))\n",
        "plt.plot(x_ax,preds4, label =\"TMY\")\n",
        "#plt.plot(x_ax,preds3, label = \"AC\")\n",
        "plt.plot(x_ax,B, label = \"Real values 2019\")\n",
        "plt.title(\"Comparison Cooling\")\n",
        "plt.legend()\n",
        "plt.show()"
      ],
      "metadata": {
        "id": "VcKJO2A2lKAe"
      },
      "execution_count": null,
      "outputs": []
    },
    {
      "cell_type": "code",
      "source": [
        "C=pd.DataFrame(test_df[target_col]) \n",
        "\n",
        "C.reset_index(inplace = True)\n",
        "C.drop('index', axis=1, inplace=True)\n",
        "C"
      ],
      "metadata": {
        "id": "W_6wyfqK7rFn"
      },
      "execution_count": null,
      "outputs": []
    },
    {
      "cell_type": "code",
      "source": [
        "Heating = pd.DataFrame(preds4, columns =['predicted for Heating 2019 using TMY'])\n",
        "#LightsElectricity['LightsElectricity via TMY'] = pd.DataFrame(preds4)\n",
        "Heating[' Heating Real Values'] = C\n",
        "raw_df.to_csv('Heating.csv')\n",
        "Heating"
      ],
      "metadata": {
        "id": "GfjzD9Ho7QpQ"
      },
      "execution_count": null,
      "outputs": []
    },
    {
      "cell_type": "code",
      "source": [
        "#Heating = pd.DataFrame(preds3, columns =['Heating 2019 '])\n",
        "#Heating['Heating via TMY'] = pd.DataFrame(preds4)\n",
        "#Heating.to_csv('Heating.csv')\n",
        "#Heating"
      ],
      "metadata": {
        "id": "tDNX6BlcOTRE"
      },
      "execution_count": null,
      "outputs": []
    },
    {
      "cell_type": "code",
      "source": [
        "plt.figure(figsize=(15,8));\n",
        "\n",
        "x_ax = range ( len(preds4))\n",
        "plt.plot(x_ax,preds4, label =\"TMY\")\n",
        "#plt.plot(x_ax,preds3, label = \"AC\")\n",
        "plt.plot(x_ax,C, label = \"Real values 2019\")\n",
        "plt.title(\"Comparison Heating\")\n",
        "plt.legend()\n",
        "plt.show()"
      ],
      "metadata": {
        "id": "XE4cPVOPmocj"
      },
      "execution_count": null,
      "outputs": []
    },
    {
      "cell_type": "code",
      "source": [
        "TMY_df3['Heating'][246]"
      ],
      "metadata": {
        "id": "fuO7waHVwo18"
      },
      "execution_count": null,
      "outputs": []
    },
    {
      "cell_type": "code",
      "source": [
        "TMY_df3.loc[108:113]"
      ],
      "metadata": {
        "id": "zBa5bTDSxUMy"
      },
      "execution_count": null,
      "outputs": []
    },
    {
      "cell_type": "code",
      "source": [
        "from IPython.display import display\n",
        "with pd.option_context('display.max_rows', 50):\n",
        "    display(TMY_df3[TMY_df3.Heating > 1000]);"
      ],
      "metadata": {
        "id": "e0W-K9hpxvgi"
      },
      "execution_count": null,
      "outputs": []
    },
    {
      "cell_type": "code",
      "source": [
        "new_input = {'Dry Bulb Temperature': -24.5,\n",
        "             'Dew Point Temperature': -28.4,\n",
        "             'Relative Humidity': 70,\n",
        "             'Atmospheric Pressure': 100480,\n",
        "             'Extraterrestrial Horizontal Radiation': 0,\n",
        "             'Extraterrestrial Direct Normal Radiation': 9999,\n",
        "             'Horizontal Infrared Radiation Intensity from Sky': 166,\n",
        "             'Global Horizontal Radiation': 0,\n",
        "             'Direct Normal Radiation': 0,\n",
        "             'Diffuse Horizontal Radiation': 0,\n",
        "             'Global Horizontal Illuminance': 0,\n",
        "             'Direct Normal Illuminance': 0,\n",
        "             'Diffuse Horizontal Illuminance':0,\n",
        "             'Zenith Luminance': 9999,\n",
        "             'Wind Direction': 20,\n",
        "             'Wind Speed': 6,\n",
        "             'Total Sky Cover': 0,\n",
        "             'Opaque Sky Cover': 8,\n",
        "             'Visibility': 999,\n",
        "             'Ceiling Height': 99990,\n",
        "             'Present Weather Observation':9,\n",
        "             'Precipitable Water': 0,\n",
        "             'Aerosol Optical Depth':0 ,\n",
        "             'Snow Depth' : 0,\n",
        "             'Days Since Last Snow': 88,\n",
        "             'Albedo' : 999,\n",
        "             'Liquid Precipitation Depth' :999 ,\n",
        "             'Liquid Precipitation Quantity' : 99,\n",
        "             'People Total Heating Energy' :0 ,\n",
        "             'Total Zone Infiltration Sensible Heat Gain Energy' : 893710,\n",
        "             'Averge Zones temp': 14.66877,\n",
        "             'ATTIC:Zone Air Temperature' : -24,\n",
        "             \n",
        "              }"
      ],
      "metadata": {
        "id": "n7svOoXjJZht"
      },
      "execution_count": null,
      "outputs": []
    },
    {
      "cell_type": "code",
      "source": [
        "new_input_df = pd.DataFrame([new_input])\n",
        "new_input_df.info()"
      ],
      "metadata": {
        "id": "q03BSyndJacN"
      },
      "execution_count": null,
      "outputs": []
    },
    {
      "cell_type": "code",
      "source": [
        "prediction = model.predict(new_input_df)\n",
        "prediction"
      ],
      "metadata": {
        "id": "1gCNgWImJcOs"
      },
      "execution_count": null,
      "outputs": []
    },
    {
      "cell_type": "code",
      "source": [
        ""
      ],
      "metadata": {
        "id": "oCLkwasjJiWK"
      },
      "execution_count": null,
      "outputs": []
    }
  ]
}