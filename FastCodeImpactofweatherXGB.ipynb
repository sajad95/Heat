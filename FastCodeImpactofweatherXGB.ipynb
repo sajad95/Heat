{
  "nbformat": 4,
  "nbformat_minor": 0,
  "metadata": {
    "colab": {
      "name": "FastCodeImpactofweatherXGB.ipynb",
      "provenance": [],
      "collapsed_sections": [
        "lwUwLeJzlFzU"
      ],
      "authorship_tag": "ABX9TyMprH2eU/1UIpqGVxjljAk9",
      "include_colab_link": true
    },
    "kernelspec": {
      "name": "python3",
      "display_name": "Python 3"
    },
    "language_info": {
      "name": "python"
    }
  },
  "cells": [
    {
      "cell_type": "markdown",
      "metadata": {
        "id": "view-in-github",
        "colab_type": "text"
      },
      "source": [
        "<a href=\"https://colab.research.google.com/github/sajad95/Heat/blob/main/FastCodeImpactofweatherXGB.ipynb\" target=\"_parent\"><img src=\"https://colab.research.google.com/assets/colab-badge.svg\" alt=\"Open In Colab\"/></a>"
      ]
    },
    {
      "cell_type": "code",
      "source": [
        "# Let's do it :)\n",
        "\n",
        "# installing librarires\n",
        "!pip install xgboost\n",
        "!pip install pandas --quiet\n",
        "!pip install scikit-learn --upgrade --quiet\n",
        "\n",
        "# importing libraries\n",
        "import pandas as pd\n",
        "import xgboost as xgb\n",
        "from sklearn.svm import SVR\n",
        "import numpy as np\n",
        "import matplotlib.pyplot as plt\n",
        "from sklearn.model_selection import train_test_split\n",
        "from sklearn.preprocessing import StandardScaler,MinMaxScaler\n",
        "from google.colab import drive\n",
        "from sklearn.metrics import mean_squared_error\n",
        "from sklearn.metrics import mean_absolute_error\n",
        "from sklearn.metrics import r2_score "
      ],
      "metadata": {
        "colab": {
          "base_uri": "https://localhost:8080/"
        },
        "id": "sOPeiOgalNtf",
        "outputId": "c46755ed-5f72-4199-cba3-a9c8f059a1b0"
      },
      "execution_count": 240,
      "outputs": [
        {
          "output_type": "stream",
          "name": "stdout",
          "text": [
            "Looking in indexes: https://pypi.org/simple, https://us-python.pkg.dev/colab-wheels/public/simple/\n",
            "Requirement already satisfied: xgboost in /usr/local/lib/python3.7/dist-packages (0.90)\n",
            "Requirement already satisfied: numpy in /usr/local/lib/python3.7/dist-packages (from xgboost) (1.21.6)\n",
            "Requirement already satisfied: scipy in /usr/local/lib/python3.7/dist-packages (from xgboost) (1.4.1)\n"
          ]
        }
      ]
    },
    {
      "cell_type": "code",
      "source": [
        "# mounting google drive and uploading the data\n",
        "drive.mount('/content/saj')\n",
        "raw_df = pd.read_csv('/content/saj/MyDrive/Kavgic/AllFeaturesInAllyears2.csv')\n",
        "TMY_df = pd.read_csv('/content/saj/MyDrive/Kavgic/TW.csv')\n",
        "\n",
        "#remove extra spaces using strip\n",
        "raw_df['Direct Normal Radiation']=pd.to_numeric(raw_df['Direct Normal Radiation'].astype(str).str.strip())\n",
        "raw_df['Diffuse Horizontal Radiation']=pd.to_numeric(raw_df['Diffuse Horizontal Radiation'].astype(str).str.strip())\n",
        "\n",
        "TMY_df['Direct Normal Radiation']=pd.to_numeric(TMY_df['Direct Normal Radiation'].astype(str).str.strip())\n",
        "TMY_df['Diffuse Horizontal Radiation']=pd.to_numeric(TMY_df['Diffuse Horizontal Radiation'].astype(str).str.strip())\n",
        "#removing extra spaces in name of the columns \n",
        "raw_df.columns = [col.strip() for col in raw_df.columns]\n",
        "TMY_df.columns = [col.strip() for col in TMY_df.columns]\n",
        "\n",
        "#removing every rows that has nan values \n",
        "raw_df.dropna(subset=['Dry Bulb Temperature','Wind Direction','Direct Normal Radiation','Diffuse Horizontal Radiation'], inplace =True)\n",
        "TMY_df.dropna(subset=['Dry Bulb Temperature','Wind Direction','Direct Normal Radiation','Diffuse Horizontal Radiation'], inplace =True)"
      ],
      "metadata": {
        "colab": {
          "base_uri": "https://localhost:8080/"
        },
        "id": "Hs5EP43ShGl6",
        "outputId": "573d092c-cdab-4686-a747-73d7452a3cfb"
      },
      "execution_count": 253,
      "outputs": [
        {
          "output_type": "stream",
          "name": "stdout",
          "text": [
            "Drive already mounted at /content/saj; to attempt to forcibly remount, call drive.mount(\"/content/saj\", force_remount=True).\n"
          ]
        },
        {
          "output_type": "stream",
          "name": "stderr",
          "text": [
            "/usr/local/lib/python3.7/dist-packages/IPython/core/interactiveshell.py:2882: DtypeWarning: Columns (10,11) have mixed types.Specify dtype option on import or set low_memory=False.\n",
            "  exec(code_obj, self.user_global_ns, self.user_ns)\n"
          ]
        }
      ]
    },
    {
      "cell_type": "markdown",
      "source": [
        "# Heating ( Electricity)"
      ],
      "metadata": {
        "id": "gio4tfBkkE5u"
      }
    },
    {
      "cell_type": "code",
      "source": [
        "raw_df.columns"
      ],
      "metadata": {
        "id": "AaQohwldpeIK",
        "colab": {
          "base_uri": "https://localhost:8080/"
        },
        "outputId": "ac06a428-21e8-488f-cb36-c3da1dfc5530"
      },
      "execution_count": 173,
      "outputs": [
        {
          "output_type": "execute_result",
          "data": {
            "text/plain": [
              "Index(['Date', 'Time', 'Dry Bulb Temperature', 'Dew Point Temperature',\n",
              "       'Relative Humidity', 'Atmospheric Pressure',\n",
              "       'Extraterrestrial Horizontal Radiation',\n",
              "       'Extraterrestrial Direct Normal Radiation',\n",
              "       'Horizontal Infrared Radiation Intensity from Sky',\n",
              "       'Global Horizontal Radiation', 'Direct Normal Radiation',\n",
              "       'Diffuse Horizontal Radiation', 'Global Horizontal Illuminance',\n",
              "       'Direct Normal Illuminance', 'Diffuse Horizontal Illuminance',\n",
              "       'Zenith Luminance', 'Wind Direction', 'Wind Speed', 'Total Sky Cover',\n",
              "       'Opaque Sky Cover', 'Visibility', 'Ceiling Height',\n",
              "       'Present Weather Observation', 'Precipitable Water',\n",
              "       'Aerosol Optical Depth', 'Snow Depth', 'Days Since Last Snow', 'Albedo',\n",
              "       'Liquid Precipitation Depth', 'Liquid Precipitation Quantity',\n",
              "       'People Total Heating Energy',\n",
              "       'Total Zone Infiltration Sensible Heat Gain Energy',\n",
              "       'Averge Zones temp', 'ATTIC:Zone Air Temperature', 'LightsElectricity',\n",
              "       'Cooling', 'Heating', 'GasHVAC', 'Fans'],\n",
              "      dtype='object')"
            ]
          },
          "metadata": {},
          "execution_count": 173
        }
      ]
    },
    {
      "cell_type": "markdown",
      "source": [
        "Get the index of coloumns"
      ],
      "metadata": {
        "id": "9_HYsnxkjba_"
      }
    },
    {
      "cell_type": "code",
      "source": [
        "raw_df.columns.get_loc('GasHVAC')"
      ],
      "metadata": {
        "colab": {
          "base_uri": "https://localhost:8080/"
        },
        "id": "mQyXKVPGiezC",
        "outputId": "a4b7a935-0fbf-4a75-e091-81d715d6c065"
      },
      "execution_count": 174,
      "outputs": [
        {
          "output_type": "execute_result",
          "data": {
            "text/plain": [
              "37"
            ]
          },
          "metadata": {},
          "execution_count": 174
        }
      ]
    },
    {
      "cell_type": "code",
      "source": [
        "#Remving columns by their index\n",
        "## Actua weather data file \n",
        "raw_df3=raw_df.drop(raw_df.columns[[6,7,15,16,20,21,22,23,24,25,26,27,28,29,34,35,37,38]], axis=1)\n",
        "## Typical weather data file \n",
        "TMY_df3=TMY_df.drop(TMY_df.columns[[6,7,15,16,20,21,22,23,24,25,26,27,28,29,34,35,37,38]], axis=1)"
      ],
      "metadata": {
        "id": "w7oNOCClqxM8"
      },
      "execution_count": 298,
      "outputs": []
    },
    {
      "cell_type": "code",
      "source": [
        "pd.set_option('max_columns', None)\n",
        "raw_df3.head(1)"
      ],
      "metadata": {
        "id": "XL6SCqaZhXHC",
        "colab": {
          "base_uri": "https://localhost:8080/",
          "height": 214
        },
        "outputId": "7eb46e79-336e-44a7-c325-7d57d7e7e4f0"
      },
      "execution_count": 299,
      "outputs": [
        {
          "output_type": "execute_result",
          "data": {
            "text/plain": [
              "       Date  Time  Dry Bulb Temperature  Dew Point Temperature  \\\n",
              "0  1/1/2010  1:00                 -21.6                  -25.4   \n",
              "\n",
              "   Relative Humidity  Atmospheric Pressure  \\\n",
              "0               71.0              100230.0   \n",
              "\n",
              "   Horizontal Infrared Radiation Intensity from Sky  \\\n",
              "0                                        177.240384   \n",
              "\n",
              "   Global Horizontal Radiation  Direct Normal Radiation  \\\n",
              "0                            0                      0.0   \n",
              "\n",
              "   Diffuse Horizontal Radiation  Global Horizontal Illuminance  \\\n",
              "0                           0.0                              0   \n",
              "\n",
              "   Direct Normal Illuminance  Diffuse Horizontal Illuminance  Wind Speed  \\\n",
              "0                          0                               0         9.0   \n",
              "\n",
              "   Total Sky Cover  Opaque Sky Cover  People Total Heating Energy  \\\n",
              "0                0                 8                          0.0   \n",
              "\n",
              "   Total Zone Infiltration Sensible Heat Gain Energy  Averge Zones temp  \\\n",
              "0                                          4476693.0           13.00748   \n",
              "\n",
              "   ATTIC:Zone Air Temperature   Heating  \n",
              "0                    -28.1504  900000.0  "
            ],
            "text/html": [
              "\n",
              "  <div id=\"df-21b7bb32-54e8-4747-9ba1-f581a615ab2e\">\n",
              "    <div class=\"colab-df-container\">\n",
              "      <div>\n",
              "<style scoped>\n",
              "    .dataframe tbody tr th:only-of-type {\n",
              "        vertical-align: middle;\n",
              "    }\n",
              "\n",
              "    .dataframe tbody tr th {\n",
              "        vertical-align: top;\n",
              "    }\n",
              "\n",
              "    .dataframe thead th {\n",
              "        text-align: right;\n",
              "    }\n",
              "</style>\n",
              "<table border=\"1\" class=\"dataframe\">\n",
              "  <thead>\n",
              "    <tr style=\"text-align: right;\">\n",
              "      <th></th>\n",
              "      <th>Date</th>\n",
              "      <th>Time</th>\n",
              "      <th>Dry Bulb Temperature</th>\n",
              "      <th>Dew Point Temperature</th>\n",
              "      <th>Relative Humidity</th>\n",
              "      <th>Atmospheric Pressure</th>\n",
              "      <th>Horizontal Infrared Radiation Intensity from Sky</th>\n",
              "      <th>Global Horizontal Radiation</th>\n",
              "      <th>Direct Normal Radiation</th>\n",
              "      <th>Diffuse Horizontal Radiation</th>\n",
              "      <th>Global Horizontal Illuminance</th>\n",
              "      <th>Direct Normal Illuminance</th>\n",
              "      <th>Diffuse Horizontal Illuminance</th>\n",
              "      <th>Wind Speed</th>\n",
              "      <th>Total Sky Cover</th>\n",
              "      <th>Opaque Sky Cover</th>\n",
              "      <th>People Total Heating Energy</th>\n",
              "      <th>Total Zone Infiltration Sensible Heat Gain Energy</th>\n",
              "      <th>Averge Zones temp</th>\n",
              "      <th>ATTIC:Zone Air Temperature</th>\n",
              "      <th>Heating</th>\n",
              "    </tr>\n",
              "  </thead>\n",
              "  <tbody>\n",
              "    <tr>\n",
              "      <th>0</th>\n",
              "      <td>1/1/2010</td>\n",
              "      <td>1:00</td>\n",
              "      <td>-21.6</td>\n",
              "      <td>-25.4</td>\n",
              "      <td>71.0</td>\n",
              "      <td>100230.0</td>\n",
              "      <td>177.240384</td>\n",
              "      <td>0</td>\n",
              "      <td>0.0</td>\n",
              "      <td>0.0</td>\n",
              "      <td>0</td>\n",
              "      <td>0</td>\n",
              "      <td>0</td>\n",
              "      <td>9.0</td>\n",
              "      <td>0</td>\n",
              "      <td>8</td>\n",
              "      <td>0.0</td>\n",
              "      <td>4476693.0</td>\n",
              "      <td>13.00748</td>\n",
              "      <td>-28.1504</td>\n",
              "      <td>900000.0</td>\n",
              "    </tr>\n",
              "  </tbody>\n",
              "</table>\n",
              "</div>\n",
              "      <button class=\"colab-df-convert\" onclick=\"convertToInteractive('df-21b7bb32-54e8-4747-9ba1-f581a615ab2e')\"\n",
              "              title=\"Convert this dataframe to an interactive table.\"\n",
              "              style=\"display:none;\">\n",
              "        \n",
              "  <svg xmlns=\"http://www.w3.org/2000/svg\" height=\"24px\"viewBox=\"0 0 24 24\"\n",
              "       width=\"24px\">\n",
              "    <path d=\"M0 0h24v24H0V0z\" fill=\"none\"/>\n",
              "    <path d=\"M18.56 5.44l.94 2.06.94-2.06 2.06-.94-2.06-.94-.94-2.06-.94 2.06-2.06.94zm-11 1L8.5 8.5l.94-2.06 2.06-.94-2.06-.94L8.5 2.5l-.94 2.06-2.06.94zm10 10l.94 2.06.94-2.06 2.06-.94-2.06-.94-.94-2.06-.94 2.06-2.06.94z\"/><path d=\"M17.41 7.96l-1.37-1.37c-.4-.4-.92-.59-1.43-.59-.52 0-1.04.2-1.43.59L10.3 9.45l-7.72 7.72c-.78.78-.78 2.05 0 2.83L4 21.41c.39.39.9.59 1.41.59.51 0 1.02-.2 1.41-.59l7.78-7.78 2.81-2.81c.8-.78.8-2.07 0-2.86zM5.41 20L4 18.59l7.72-7.72 1.47 1.35L5.41 20z\"/>\n",
              "  </svg>\n",
              "      </button>\n",
              "      \n",
              "  <style>\n",
              "    .colab-df-container {\n",
              "      display:flex;\n",
              "      flex-wrap:wrap;\n",
              "      gap: 12px;\n",
              "    }\n",
              "\n",
              "    .colab-df-convert {\n",
              "      background-color: #E8F0FE;\n",
              "      border: none;\n",
              "      border-radius: 50%;\n",
              "      cursor: pointer;\n",
              "      display: none;\n",
              "      fill: #1967D2;\n",
              "      height: 32px;\n",
              "      padding: 0 0 0 0;\n",
              "      width: 32px;\n",
              "    }\n",
              "\n",
              "    .colab-df-convert:hover {\n",
              "      background-color: #E2EBFA;\n",
              "      box-shadow: 0px 1px 2px rgba(60, 64, 67, 0.3), 0px 1px 3px 1px rgba(60, 64, 67, 0.15);\n",
              "      fill: #174EA6;\n",
              "    }\n",
              "\n",
              "    [theme=dark] .colab-df-convert {\n",
              "      background-color: #3B4455;\n",
              "      fill: #D2E3FC;\n",
              "    }\n",
              "\n",
              "    [theme=dark] .colab-df-convert:hover {\n",
              "      background-color: #434B5C;\n",
              "      box-shadow: 0px 1px 3px 1px rgba(0, 0, 0, 0.15);\n",
              "      filter: drop-shadow(0px 1px 2px rgba(0, 0, 0, 0.3));\n",
              "      fill: #FFFFFF;\n",
              "    }\n",
              "  </style>\n",
              "\n",
              "      <script>\n",
              "        const buttonEl =\n",
              "          document.querySelector('#df-21b7bb32-54e8-4747-9ba1-f581a615ab2e button.colab-df-convert');\n",
              "        buttonEl.style.display =\n",
              "          google.colab.kernel.accessAllowed ? 'block' : 'none';\n",
              "\n",
              "        async function convertToInteractive(key) {\n",
              "          const element = document.querySelector('#df-21b7bb32-54e8-4747-9ba1-f581a615ab2e');\n",
              "          const dataTable =\n",
              "            await google.colab.kernel.invokeFunction('convertToInteractive',\n",
              "                                                     [key], {});\n",
              "          if (!dataTable) return;\n",
              "\n",
              "          const docLinkHtml = 'Like what you see? Visit the ' +\n",
              "            '<a target=\"_blank\" href=https://colab.research.google.com/notebooks/data_table.ipynb>data table notebook</a>'\n",
              "            + ' to learn more about interactive tables.';\n",
              "          element.innerHTML = '';\n",
              "          dataTable['output_type'] = 'display_data';\n",
              "          await google.colab.output.renderOutput(dataTable, element);\n",
              "          const docLink = document.createElement('div');\n",
              "          docLink.innerHTML = docLinkHtml;\n",
              "          element.appendChild(docLink);\n",
              "        }\n",
              "      </script>\n",
              "    </div>\n",
              "  </div>\n",
              "  "
            ]
          },
          "metadata": {},
          "execution_count": 299
        }
      ]
    },
    {
      "cell_type": "code",
      "source": [
        "raw_df3.insert(0, 'Heating', raw_df3.pop('Heating'))\n",
        "TMY_df3.insert(0, 'Heating', TMY_df3.pop('Heating'))"
      ],
      "metadata": {
        "id": "hBdXWLlYnldq"
      },
      "execution_count": 300,
      "outputs": []
    },
    {
      "cell_type": "markdown",
      "source": [
        "##Removing Outliers"
      ],
      "metadata": {
        "id": "Ci_HafNZoPxw"
      }
    },
    {
      "cell_type": "code",
      "source": [
        "import seaborn as sns\n",
        "sns.boxplot(raw_df['Dry Bulb Temperature'])"
      ],
      "metadata": {
        "id": "9n0-3Gk_oSAy"
      },
      "execution_count": null,
      "outputs": []
    },
    {
      "cell_type": "markdown",
      "source": [
        "Draw a boxplot for each numeric variable in a DataFrame"
      ],
      "metadata": {
        "id": "05nJbw-dq69p"
      }
    },
    {
      "cell_type": "code",
      "source": [
        "ax = sns.boxplot(data=raw_df3, orient=\"h\", palette=\"Set2\", linewidth=1)"
      ],
      "metadata": {
        "colab": {
          "base_uri": "https://localhost:8080/",
          "height": 278
        },
        "id": "heLvUkF2oR9e",
        "outputId": "f0e09df6-4c1e-45a6-f4ed-eb91a54b4382"
      },
      "execution_count": 308,
      "outputs": [
        {
          "output_type": "display_data",
          "data": {
            "text/plain": [
              "<Figure size 432x288 with 1 Axes>"
            ],
            "image/png": "[encoded data removed]"
          },
          "metadata": {
            "needs_background": "light"
          }
        }
      ]
    },
    {
      "cell_type": "code",
      "source": [
        "import seaborn as sns\n",
        "import matplotlib.pyplot as plt\n",
        "sns.set_theme(style=\"ticks\")\n",
        "f, ax = plt.subplots(figsize=(14, 8))\n",
        "ax.set_xscale(\"log\")\n",
        "ax = sns.boxplot(data=raw_df3, orient=\"h\", palette=\"Set2\", linewidth=1)"
      ],
      "metadata": {
        "colab": {
          "base_uri": "https://localhost:8080/",
          "height": 492
        },
        "id": "E3jR_2Y0unQf",
        "outputId": "abc5cb98-2369-454e-c823-b6266ec180c2"
      },
      "execution_count": 322,
      "outputs": [
        {
          "output_type": "display_data",
          "data": {
            "text/plain": [
              "<Figure size 1008x576 with 1 Axes>"
            ],
            "image/png": "[encoded data removed]"
          },
          "metadata": {}
        }
      ]
    },
    {
      "cell_type": "code",
      "source": [
        ""
      ],
      "metadata": {
        "id": "V-NHYQ08unNP"
      },
      "execution_count": null,
      "outputs": []
    },
    {
      "cell_type": "code",
      "source": [
        ""
      ],
      "metadata": {
        "id": "34VLREHxunKC"
      },
      "execution_count": null,
      "outputs": []
    },
    {
      "cell_type": "code",
      "source": [
        ""
      ],
      "metadata": {
        "id": "WlPRKXKXunBn"
      },
      "execution_count": null,
      "outputs": []
    },
    {
      "cell_type": "code",
      "source": [
        "sns.set_theme(style=\"whitegrid\")\n",
        "sns.boxplot(raw_df['Dry Bulb Temperature'])"
      ],
      "metadata": {
        "colab": {
          "base_uri": "https://localhost:8080/",
          "height": 358
        },
        "id": "EjNbyJWkoR3B",
        "outputId": "86db8896-6c06-4ba2-ebef-f9d14593ff66"
      },
      "execution_count": 312,
      "outputs": [
        {
          "output_type": "stream",
          "name": "stderr",
          "text": [
            "/usr/local/lib/python3.7/dist-packages/seaborn/_decorators.py:43: FutureWarning: Pass the following variable as a keyword arg: x. From version 0.12, the only valid positional argument will be `data`, and passing other arguments without an explicit keyword will result in an error or misinterpretation.\n",
            "  FutureWarning\n"
          ]
        },
        {
          "output_type": "execute_result",
          "data": {
            "text/plain": [
              "<matplotlib.axes._subplots.AxesSubplot at 0x7f4a907b1d50>"
            ]
          },
          "metadata": {},
          "execution_count": 312
        },
        {
          "output_type": "display_data",
          "data": {
            "text/plain": [
              "<Figure size 432x288 with 1 Axes>"
            ],
            "image/png": "[encoded data removed]"
          },
          "metadata": {}
        }
      ]
    },
    {
      "cell_type": "code",
      "source": [
        "'''\n",
        "raw_df3['Heating']= raw_df3['Heating'] + raw_df3['GasHVAC']\n",
        "TMY_df3['Heating']= TMY_df3['Heating'] + TMY_df3['GasHVAC']\n",
        "raw_df3['Heating']=raw_df3['Heating'] / 1000\n",
        "TMY_df3['Heating']=TMY_df3['Heating'] / 1000\n",
        "raw_df3 = raw_df3.drop('GasHVAC', 1)\n",
        "TMY_df3 = TMY_df3.drop('GasHVAC', 1)\n",
        "'''"
      ],
      "metadata": {
        "id": "dBsdidmY0049"
      },
      "execution_count": null,
      "outputs": []
    },
    {
      "cell_type": "code",
      "source": [
        "##spliting data  \n",
        "year = pd.to_datetime(raw_df3.Date).dt.year\n",
        "train_df = raw_df3[year < 2017]\n",
        "val_df = raw_df3[year == 2017]\n",
        "test_df = raw_df3[ year == 2019]"
      ],
      "metadata": {
        "id": "GudG5Qw_Fbjx"
      },
      "execution_count": 274,
      "outputs": []
    },
    {
      "cell_type": "code",
      "source": [
        "## specifying input and target in  Actua weather data file\n",
        "input_cols = (train_df.columns)[2:]\n",
        "target_col = 'Heating'\n",
        "## specifying input and target in Typical weather data file\n",
        "input_cols_TMY2 = (TMY_df3.columns)[2:]\n",
        "target_col_TMY2 = 'Heating'"
      ],
      "metadata": {
        "id": "ZQqdoPgZFmNp"
      },
      "execution_count": 275,
      "outputs": []
    },
    {
      "cell_type": "code",
      "source": [
        "## Creating a copy from data to keep the main data intact\n",
        "val_inputs = val_df[input_cols].copy()\n",
        "val_targets = val_df[target_col].copy()\n",
        "test_inputs = test_df[input_cols].copy()\n",
        "test_inputs_sc = test_df[input_cols].copy()\n",
        "test_targets = test_df[target_col].copy()\n",
        "train_inputs = train_df[input_cols].copy()\n",
        "train_inputs_sc = train_df[input_cols].copy()\n",
        "train_targets = train_df[target_col].copy()\n",
        "test_inputs_TMY = TMY_df3[input_cols_TMY2].copy()\n",
        "test_inputs_TMY_sc = TMY_df3[input_cols_TMY2].copy()\n",
        "test_targets_TMY = TMY_df3[target_col_TMY2].copy()\n",
        "\n",
        "## developing model\n",
        "\n",
        "model = SVR(kernel='rbf', C=100, gamma=0.2)\n",
        "\n",
        "model1 = xgb.XGBRegressor(objective ='reg:linear', colsample_bytree = 0.5, learning_rate = 0.2,\n",
        "                max_depth = 10,reg_lambda=10, alpha = 6, n_estimators = 100)"
      ],
      "metadata": {
        "id": "Q5Y8kdaKmKfx"
      },
      "execution_count": 276,
      "outputs": []
    },
    {
      "cell_type": "code",
      "source": [
        "test_targets.sort_values(ascending=False)"
      ],
      "metadata": {
        "colab": {
          "base_uri": "https://localhost:8080/"
        },
        "id": "FQjMaY06gkFB",
        "outputId": "964b067e-b4ab-4093-bc52-bf5e3bac6788"
      },
      "execution_count": 259,
      "outputs": [
        {
          "output_type": "execute_result",
          "data": {
            "text/plain": [
              "80885    29676923.0\n",
              "80886    29161839.0\n",
              "78894    27796149.0\n",
              "78895    27628138.0\n",
              "86598    27467225.0\n",
              "            ...    \n",
              "83872           0.0\n",
              "83871           0.0\n",
              "83870           0.0\n",
              "83869           0.0\n",
              "83220           0.0\n",
              "Name: Heating, Length: 8760, dtype: float64"
            ]
          },
          "metadata": {},
          "execution_count": 259
        }
      ]
    },
    {
      "cell_type": "code",
      "source": [
        "train_targets.sort_values(ascending=False)"
      ],
      "metadata": {
        "colab": {
          "base_uri": "https://localhost:8080/"
        },
        "id": "lPr3nYATfURA",
        "outputId": "ec62a87a-ae16-4dd3-a72e-b156ebab372e"
      },
      "execution_count": 260,
      "outputs": [
        {
          "output_type": "execute_result",
          "data": {
            "text/plain": [
              "535      30280773.97\n",
              "534      30195178.28\n",
              "558      29412562.49\n",
              "10661    29157275.00\n",
              "559      29051917.77\n",
              "            ...     \n",
              "41026           0.00\n",
              "41025           0.00\n",
              "41024           0.00\n",
              "41023           0.00\n",
              "30843           0.00\n",
              "Name: Heating, Length: 60558, dtype: float64"
            ]
          },
          "metadata": {},
          "execution_count": 260
        }
      ]
    },
    {
      "cell_type": "markdown",
      "source": [
        "## Normalizing"
      ],
      "metadata": {
        "id": "hs_BAAKZBjzX"
      }
    },
    {
      "cell_type": "code",
      "source": [
        "scaler1=MinMaxScaler()\n",
        "scaler2=StandardScaler()\n",
        "#test_inputs[1:]  = scaler1.fit_transform(test_inputs[1:])\n",
        "#type(train_inputs['Atmospheric Pressure'])"
      ],
      "metadata": {
        "id": "7LmVfPTdBqz-"
      },
      "execution_count": 277,
      "outputs": []
    },
    {
      "cell_type": "markdown",
      "source": [
        "\n",
        "https://www.geeksforgeeks.org/pandas-concat-function-in-python/"
      ],
      "metadata": {
        "id": "cnlYyKTuSZaw"
      }
    },
    {
      "cell_type": "markdown",
      "source": [
        "Scaling Data Frame\n",
        "https://machinelearningmastery.com/standardscaler-and-minmaxscaler-transforms-in-python/"
      ],
      "metadata": {
        "id": "ufHOSqkwfdOh"
      }
    },
    {
      "cell_type": "code",
      "source": [
        "train_inputs.head(1)"
      ],
      "metadata": {
        "colab": {
          "base_uri": "https://localhost:8080/",
          "height": 214
        },
        "id": "ZNQl6OWEdknx",
        "outputId": "c51fb2ec-ea4e-4ed3-ca2f-a2bef33b3656"
      },
      "execution_count": 210,
      "outputs": [
        {
          "output_type": "execute_result",
          "data": {
            "text/plain": [
              "   Dry Bulb Temperature  Dew Point Temperature  Relative Humidity  \\\n",
              "0                 -21.6                  -25.4               71.0   \n",
              "\n",
              "   Atmospheric Pressure  Horizontal Infrared Radiation Intensity from Sky  \\\n",
              "0              100230.0                                        177.240384   \n",
              "\n",
              "   Global Horizontal Radiation  Direct Normal Radiation  \\\n",
              "0                            0                      0.0   \n",
              "\n",
              "   Diffuse Horizontal Radiation  Global Horizontal Illuminance  \\\n",
              "0                           0.0                              0   \n",
              "\n",
              "   Direct Normal Illuminance  Diffuse Horizontal Illuminance  Wind Speed  \\\n",
              "0                          0                               0         9.0   \n",
              "\n",
              "   Total Sky Cover  Opaque Sky Cover  People Total Heating Energy  \\\n",
              "0                0                 8                          0.0   \n",
              "\n",
              "   Total Zone Infiltration Sensible Heat Gain Energy  Averge Zones temp  \\\n",
              "0                                          4476693.0           13.00748   \n",
              "\n",
              "   ATTIC:Zone Air Temperature  \n",
              "0                    -28.1504  "
            ],
            "text/html": [
              "\n",
              "  <div id=\"df-a7dad524-1e5b-4a7e-91f7-c0a746fb9af1\">\n",
              "    <div class=\"colab-df-container\">\n",
              "      <div>\n",
              "<style scoped>\n",
              "    .dataframe tbody tr th:only-of-type {\n",
              "        vertical-align: middle;\n",
              "    }\n",
              "\n",
              "    .dataframe tbody tr th {\n",
              "        vertical-align: top;\n",
              "    }\n",
              "\n",
              "    .dataframe thead th {\n",
              "        text-align: right;\n",
              "    }\n",
              "</style>\n",
              "<table border=\"1\" class=\"dataframe\">\n",
              "  <thead>\n",
              "    <tr style=\"text-align: right;\">\n",
              "      <th></th>\n",
              "      <th>Dry Bulb Temperature</th>\n",
              "      <th>Dew Point Temperature</th>\n",
              "      <th>Relative Humidity</th>\n",
              "      <th>Atmospheric Pressure</th>\n",
              "      <th>Horizontal Infrared Radiation Intensity from Sky</th>\n",
              "      <th>Global Horizontal Radiation</th>\n",
              "      <th>Direct Normal Radiation</th>\n",
              "      <th>Diffuse Horizontal Radiation</th>\n",
              "      <th>Global Horizontal Illuminance</th>\n",
              "      <th>Direct Normal Illuminance</th>\n",
              "      <th>Diffuse Horizontal Illuminance</th>\n",
              "      <th>Wind Speed</th>\n",
              "      <th>Total Sky Cover</th>\n",
              "      <th>Opaque Sky Cover</th>\n",
              "      <th>People Total Heating Energy</th>\n",
              "      <th>Total Zone Infiltration Sensible Heat Gain Energy</th>\n",
              "      <th>Averge Zones temp</th>\n",
              "      <th>ATTIC:Zone Air Temperature</th>\n",
              "    </tr>\n",
              "  </thead>\n",
              "  <tbody>\n",
              "    <tr>\n",
              "      <th>0</th>\n",
              "      <td>-21.6</td>\n",
              "      <td>-25.4</td>\n",
              "      <td>71.0</td>\n",
              "      <td>100230.0</td>\n",
              "      <td>177.240384</td>\n",
              "      <td>0</td>\n",
              "      <td>0.0</td>\n",
              "      <td>0.0</td>\n",
              "      <td>0</td>\n",
              "      <td>0</td>\n",
              "      <td>0</td>\n",
              "      <td>9.0</td>\n",
              "      <td>0</td>\n",
              "      <td>8</td>\n",
              "      <td>0.0</td>\n",
              "      <td>4476693.0</td>\n",
              "      <td>13.00748</td>\n",
              "      <td>-28.1504</td>\n",
              "    </tr>\n",
              "  </tbody>\n",
              "</table>\n",
              "</div>\n",
              "      <button class=\"colab-df-convert\" onclick=\"convertToInteractive('df-a7dad524-1e5b-4a7e-91f7-c0a746fb9af1')\"\n",
              "              title=\"Convert this dataframe to an interactive table.\"\n",
              "              style=\"display:none;\">\n",
              "        \n",
              "  <svg xmlns=\"http://www.w3.org/2000/svg\" height=\"24px\"viewBox=\"0 0 24 24\"\n",
              "       width=\"24px\">\n",
              "    <path d=\"M0 0h24v24H0V0z\" fill=\"none\"/>\n",
              "    <path d=\"M18.56 5.44l.94 2.06.94-2.06 2.06-.94-2.06-.94-.94-2.06-.94 2.06-2.06.94zm-11 1L8.5 8.5l.94-2.06 2.06-.94-2.06-.94L8.5 2.5l-.94 2.06-2.06.94zm10 10l.94 2.06.94-2.06 2.06-.94-2.06-.94-.94-2.06-.94 2.06-2.06.94z\"/><path d=\"M17.41 7.96l-1.37-1.37c-.4-.4-.92-.59-1.43-.59-.52 0-1.04.2-1.43.59L10.3 9.45l-7.72 7.72c-.78.78-.78 2.05 0 2.83L4 21.41c.39.39.9.59 1.41.59.51 0 1.02-.2 1.41-.59l7.78-7.78 2.81-2.81c.8-.78.8-2.07 0-2.86zM5.41 20L4 18.59l7.72-7.72 1.47 1.35L5.41 20z\"/>\n",
              "  </svg>\n",
              "      </button>\n",
              "      \n",
              "  <style>\n",
              "    .colab-df-container {\n",
              "      display:flex;\n",
              "      flex-wrap:wrap;\n",
              "      gap: 12px;\n",
              "    }\n",
              "\n",
              "    .colab-df-convert {\n",
              "      background-color: #E8F0FE;\n",
              "      border: none;\n",
              "      border-radius: 50%;\n",
              "      cursor: pointer;\n",
              "      display: none;\n",
              "      fill: #1967D2;\n",
              "      height: 32px;\n",
              "      padding: 0 0 0 0;\n",
              "      width: 32px;\n",
              "    }\n",
              "\n",
              "    .colab-df-convert:hover {\n",
              "      background-color: #E2EBFA;\n",
              "      box-shadow: 0px 1px 2px rgba(60, 64, 67, 0.3), 0px 1px 3px 1px rgba(60, 64, 67, 0.15);\n",
              "      fill: #174EA6;\n",
              "    }\n",
              "\n",
              "    [theme=dark] .colab-df-convert {\n",
              "      background-color: #3B4455;\n",
              "      fill: #D2E3FC;\n",
              "    }\n",
              "\n",
              "    [theme=dark] .colab-df-convert:hover {\n",
              "      background-color: #434B5C;\n",
              "      box-shadow: 0px 1px 3px 1px rgba(0, 0, 0, 0.15);\n",
              "      filter: drop-shadow(0px 1px 2px rgba(0, 0, 0, 0.3));\n",
              "      fill: #FFFFFF;\n",
              "    }\n",
              "  </style>\n",
              "\n",
              "      <script>\n",
              "        const buttonEl =\n",
              "          document.querySelector('#df-a7dad524-1e5b-4a7e-91f7-c0a746fb9af1 button.colab-df-convert');\n",
              "        buttonEl.style.display =\n",
              "          google.colab.kernel.accessAllowed ? 'block' : 'none';\n",
              "\n",
              "        async function convertToInteractive(key) {\n",
              "          const element = document.querySelector('#df-a7dad524-1e5b-4a7e-91f7-c0a746fb9af1');\n",
              "          const dataTable =\n",
              "            await google.colab.kernel.invokeFunction('convertToInteractive',\n",
              "                                                     [key], {});\n",
              "          if (!dataTable) return;\n",
              "\n",
              "          const docLinkHtml = 'Like what you see? Visit the ' +\n",
              "            '<a target=\"_blank\" href=https://colab.research.google.com/notebooks/data_table.ipynb>data table notebook</a>'\n",
              "            + ' to learn more about interactive tables.';\n",
              "          element.innerHTML = '';\n",
              "          dataTable['output_type'] = 'display_data';\n",
              "          await google.colab.output.renderOutput(dataTable, element);\n",
              "          const docLink = document.createElement('div');\n",
              "          docLink.innerHTML = docLinkHtml;\n",
              "          element.appendChild(docLink);\n",
              "        }\n",
              "      </script>\n",
              "    </div>\n",
              "  </div>\n",
              "  "
            ]
          },
          "metadata": {},
          "execution_count": 210
        }
      ]
    },
    {
      "cell_type": "code",
      "source": [
        "train_inputs_sc[['Dry Bulb Temperature', 'Dew Point Temperature','Relative Humidity','Atmospheric Pressure','Horizontal Infrared Radiation Intensity from Sky','Global Horizontal Radiation','Direct Normal Radiation','Diffuse Horizontal Radiation','Global Horizontal Illuminance','Direct Normal Illuminance','Diffuse Horizontal Illuminance','Wind Speed','Total Sky Cover','Opaque Sky Cover','People Total Heating Energy','Total Zone Infiltration Sensible Heat Gain Energy','Averge Zones temp','ATTIC:Zone Air Temperature']] = scaler1.fit_transform(train_inputs_sc[['Dry Bulb Temperature', 'Dew Point Temperature','Relative Humidity','Atmospheric Pressure','Horizontal Infrared Radiation Intensity from Sky','Global Horizontal Radiation','Direct Normal Radiation','Diffuse Horizontal Radiation','Global Horizontal Illuminance','Direct Normal Illuminance','Diffuse Horizontal Illuminance','Wind Speed','Total Sky Cover','Opaque Sky Cover','People Total Heating Energy','Total Zone Infiltration Sensible Heat Gain Energy','Averge Zones temp','ATTIC:Zone Air Temperature']])\n",
        "test_inputs_sc[['Dry Bulb Temperature', 'Dew Point Temperature','Relative Humidity','Atmospheric Pressure','Horizontal Infrared Radiation Intensity from Sky','Global Horizontal Radiation','Direct Normal Radiation','Diffuse Horizontal Radiation','Global Horizontal Illuminance','Direct Normal Illuminance','Diffuse Horizontal Illuminance','Wind Speed','Total Sky Cover','Opaque Sky Cover','People Total Heating Energy','Total Zone Infiltration Sensible Heat Gain Energy','Averge Zones temp','ATTIC:Zone Air Temperature']] = scaler1.fit_transform(test_inputs_sc[['Dry Bulb Temperature', 'Dew Point Temperature','Relative Humidity','Atmospheric Pressure','Horizontal Infrared Radiation Intensity from Sky','Global Horizontal Radiation','Direct Normal Radiation','Diffuse Horizontal Radiation','Global Horizontal Illuminance','Direct Normal Illuminance','Diffuse Horizontal Illuminance','Wind Speed','Total Sky Cover','Opaque Sky Cover','People Total Heating Energy','Total Zone Infiltration Sensible Heat Gain Energy','Averge Zones temp','ATTIC:Zone Air Temperature']])\n",
        "test_inputs_TMY_sc[['Dry Bulb Temperature', 'Dew Point Temperature','Relative Humidity','Atmospheric Pressure','Horizontal Infrared Radiation Intensity from Sky','Global Horizontal Radiation','Direct Normal Radiation','Diffuse Horizontal Radiation','Global Horizontal Illuminance','Direct Normal Illuminance','Diffuse Horizontal Illuminance','Wind Speed','Total Sky Cover','Opaque Sky Cover','People Total Heating Energy','Total Zone Infiltration Sensible Heat Gain Energy','Averge Zones temp','ATTIC:Zone Air Temperature']] = scaler1.fit_transform(test_inputs_TMY_sc[['Dry Bulb Temperature', 'Dew Point Temperature','Relative Humidity','Atmospheric Pressure','Horizontal Infrared Radiation Intensity from Sky','Global Horizontal Radiation','Direct Normal Radiation','Diffuse Horizontal Radiation','Global Horizontal Illuminance','Direct Normal Illuminance','Diffuse Horizontal Illuminance','Wind Speed','Total Sky Cover','Opaque Sky Cover','People Total Heating Energy','Total Zone Infiltration Sensible Heat Gain Energy','Averge Zones temp','ATTIC:Zone Air Temperature']])"
      ],
      "metadata": {
        "id": "kNZ_YdS7dcLt"
      },
      "execution_count": 262,
      "outputs": []
    },
    {
      "cell_type": "code",
      "source": [
        "train_inputs_sc.head(1)"
      ],
      "metadata": {
        "colab": {
          "base_uri": "https://localhost:8080/",
          "height": 214
        },
        "id": "aYA4kCT7e7vq",
        "outputId": "90a747a1-94a3-4a5f-bbf6-7b1999ac131c"
      },
      "execution_count": 263,
      "outputs": [
        {
          "output_type": "execute_result",
          "data": {
            "text/plain": [
              "   Dry Bulb Temperature  Dew Point Temperature  Relative Humidity  \\\n",
              "0              0.154185               0.186579           0.677778   \n",
              "\n",
              "   Atmospheric Pressure  Horizontal Infrared Radiation Intensity from Sky  \\\n",
              "0              0.000006                                          0.139013   \n",
              "\n",
              "   Global Horizontal Radiation  Direct Normal Radiation  \\\n",
              "0                          0.0                      0.0   \n",
              "\n",
              "   Diffuse Horizontal Radiation  Global Horizontal Illuminance  \\\n",
              "0                           0.0                            0.0   \n",
              "\n",
              "   Direct Normal Illuminance  Diffuse Horizontal Illuminance  Wind Speed  \\\n",
              "0                        0.0                             0.0    0.132353   \n",
              "\n",
              "   Total Sky Cover  Opaque Sky Cover  People Total Heating Energy  \\\n",
              "0              0.0               0.8                          0.0   \n",
              "\n",
              "   Total Zone Infiltration Sensible Heat Gain Energy  Averge Zones temp  \\\n",
              "0                                           0.308811           0.116772   \n",
              "\n",
              "   ATTIC:Zone Air Temperature  \n",
              "0                    0.055142  "
            ],
            "text/html": [
              "\n",
              "  <div id=\"df-bd3c565c-14eb-4c58-a422-13939c19ad8b\">\n",
              "    <div class=\"colab-df-container\">\n",
              "      <div>\n",
              "<style scoped>\n",
              "    .dataframe tbody tr th:only-of-type {\n",
              "        vertical-align: middle;\n",
              "    }\n",
              "\n",
              "    .dataframe tbody tr th {\n",
              "        vertical-align: top;\n",
              "    }\n",
              "\n",
              "    .dataframe thead th {\n",
              "        text-align: right;\n",
              "    }\n",
              "</style>\n",
              "<table border=\"1\" class=\"dataframe\">\n",
              "  <thead>\n",
              "    <tr style=\"text-align: right;\">\n",
              "      <th></th>\n",
              "      <th>Dry Bulb Temperature</th>\n",
              "      <th>Dew Point Temperature</th>\n",
              "      <th>Relative Humidity</th>\n",
              "      <th>Atmospheric Pressure</th>\n",
              "      <th>Horizontal Infrared Radiation Intensity from Sky</th>\n",
              "      <th>Global Horizontal Radiation</th>\n",
              "      <th>Direct Normal Radiation</th>\n",
              "      <th>Diffuse Horizontal Radiation</th>\n",
              "      <th>Global Horizontal Illuminance</th>\n",
              "      <th>Direct Normal Illuminance</th>\n",
              "      <th>Diffuse Horizontal Illuminance</th>\n",
              "      <th>Wind Speed</th>\n",
              "      <th>Total Sky Cover</th>\n",
              "      <th>Opaque Sky Cover</th>\n",
              "      <th>People Total Heating Energy</th>\n",
              "      <th>Total Zone Infiltration Sensible Heat Gain Energy</th>\n",
              "      <th>Averge Zones temp</th>\n",
              "      <th>ATTIC:Zone Air Temperature</th>\n",
              "    </tr>\n",
              "  </thead>\n",
              "  <tbody>\n",
              "    <tr>\n",
              "      <th>0</th>\n",
              "      <td>0.154185</td>\n",
              "      <td>0.186579</td>\n",
              "      <td>0.677778</td>\n",
              "      <td>0.000006</td>\n",
              "      <td>0.139013</td>\n",
              "      <td>0.0</td>\n",
              "      <td>0.0</td>\n",
              "      <td>0.0</td>\n",
              "      <td>0.0</td>\n",
              "      <td>0.0</td>\n",
              "      <td>0.0</td>\n",
              "      <td>0.132353</td>\n",
              "      <td>0.0</td>\n",
              "      <td>0.8</td>\n",
              "      <td>0.0</td>\n",
              "      <td>0.308811</td>\n",
              "      <td>0.116772</td>\n",
              "      <td>0.055142</td>\n",
              "    </tr>\n",
              "  </tbody>\n",
              "</table>\n",
              "</div>\n",
              "      <button class=\"colab-df-convert\" onclick=\"convertToInteractive('df-bd3c565c-14eb-4c58-a422-13939c19ad8b')\"\n",
              "              title=\"Convert this dataframe to an interactive table.\"\n",
              "              style=\"display:none;\">\n",
              "        \n",
              "  <svg xmlns=\"http://www.w3.org/2000/svg\" height=\"24px\"viewBox=\"0 0 24 24\"\n",
              "       width=\"24px\">\n",
              "    <path d=\"M0 0h24v24H0V0z\" fill=\"none\"/>\n",
              "    <path d=\"M18.56 5.44l.94 2.06.94-2.06 2.06-.94-2.06-.94-.94-2.06-.94 2.06-2.06.94zm-11 1L8.5 8.5l.94-2.06 2.06-.94-2.06-.94L8.5 2.5l-.94 2.06-2.06.94zm10 10l.94 2.06.94-2.06 2.06-.94-2.06-.94-.94-2.06-.94 2.06-2.06.94z\"/><path d=\"M17.41 7.96l-1.37-1.37c-.4-.4-.92-.59-1.43-.59-.52 0-1.04.2-1.43.59L10.3 9.45l-7.72 7.72c-.78.78-.78 2.05 0 2.83L4 21.41c.39.39.9.59 1.41.59.51 0 1.02-.2 1.41-.59l7.78-7.78 2.81-2.81c.8-.78.8-2.07 0-2.86zM5.41 20L4 18.59l7.72-7.72 1.47 1.35L5.41 20z\"/>\n",
              "  </svg>\n",
              "      </button>\n",
              "      \n",
              "  <style>\n",
              "    .colab-df-container {\n",
              "      display:flex;\n",
              "      flex-wrap:wrap;\n",
              "      gap: 12px;\n",
              "    }\n",
              "\n",
              "    .colab-df-convert {\n",
              "      background-color: #E8F0FE;\n",
              "      border: none;\n",
              "      border-radius: 50%;\n",
              "      cursor: pointer;\n",
              "      display: none;\n",
              "      fill: #1967D2;\n",
              "      height: 32px;\n",
              "      padding: 0 0 0 0;\n",
              "      width: 32px;\n",
              "    }\n",
              "\n",
              "    .colab-df-convert:hover {\n",
              "      background-color: #E2EBFA;\n",
              "      box-shadow: 0px 1px 2px rgba(60, 64, 67, 0.3), 0px 1px 3px 1px rgba(60, 64, 67, 0.15);\n",
              "      fill: #174EA6;\n",
              "    }\n",
              "\n",
              "    [theme=dark] .colab-df-convert {\n",
              "      background-color: #3B4455;\n",
              "      fill: #D2E3FC;\n",
              "    }\n",
              "\n",
              "    [theme=dark] .colab-df-convert:hover {\n",
              "      background-color: #434B5C;\n",
              "      box-shadow: 0px 1px 3px 1px rgba(0, 0, 0, 0.15);\n",
              "      filter: drop-shadow(0px 1px 2px rgba(0, 0, 0, 0.3));\n",
              "      fill: #FFFFFF;\n",
              "    }\n",
              "  </style>\n",
              "\n",
              "      <script>\n",
              "        const buttonEl =\n",
              "          document.querySelector('#df-bd3c565c-14eb-4c58-a422-13939c19ad8b button.colab-df-convert');\n",
              "        buttonEl.style.display =\n",
              "          google.colab.kernel.accessAllowed ? 'block' : 'none';\n",
              "\n",
              "        async function convertToInteractive(key) {\n",
              "          const element = document.querySelector('#df-bd3c565c-14eb-4c58-a422-13939c19ad8b');\n",
              "          const dataTable =\n",
              "            await google.colab.kernel.invokeFunction('convertToInteractive',\n",
              "                                                     [key], {});\n",
              "          if (!dataTable) return;\n",
              "\n",
              "          const docLinkHtml = 'Like what you see? Visit the ' +\n",
              "            '<a target=\"_blank\" href=https://colab.research.google.com/notebooks/data_table.ipynb>data table notebook</a>'\n",
              "            + ' to learn more about interactive tables.';\n",
              "          element.innerHTML = '';\n",
              "          dataTable['output_type'] = 'display_data';\n",
              "          await google.colab.output.renderOutput(dataTable, element);\n",
              "          const docLink = document.createElement('div');\n",
              "          docLink.innerHTML = docLinkHtml;\n",
              "          element.appendChild(docLink);\n",
              "        }\n",
              "      </script>\n",
              "    </div>\n",
              "  </div>\n",
              "  "
            ]
          },
          "metadata": {},
          "execution_count": 263
        }
      ]
    },
    {
      "cell_type": "markdown",
      "source": [
        "Scaling series"
      ],
      "metadata": {
        "id": "JGqi0SQefgFK"
      }
    },
    {
      "cell_type": "code",
      "source": [
        "train_targets_sc=np.array(train_targets).reshape(-1,1);\n",
        "test_targets_sc=np.array(test_targets).reshape(-1,1);\n",
        "test_targets_TMY_sc=np.array(test_targets_TMY).reshape(-1,1);"
      ],
      "metadata": {
        "id": "Z9DelTZQfcXi"
      },
      "execution_count": 278,
      "outputs": []
    },
    {
      "cell_type": "code",
      "source": [
        "train_targets_sc = scaler1.fit_transform(train_targets_sc)\n",
        "test_targets_sc = scaler1.fit_transform(test_targets_sc)\n",
        "test_targets_TMY_sc = scaler1.fit_transform(test_targets_TMY_sc)"
      ],
      "metadata": {
        "id": "xa42hkDk-nrB"
      },
      "execution_count": 279,
      "outputs": []
    },
    {
      "cell_type": "code",
      "source": [
        "model1.fit(train_inputs_sc, train_targets_sc)"
      ],
      "metadata": {
        "id": "-CMUegNPDOlN",
        "colab": {
          "base_uri": "https://localhost:8080/"
        },
        "outputId": "007c6cb9-a247-42ca-ab26-65c6e39f324a"
      },
      "execution_count": 282,
      "outputs": [
        {
          "output_type": "stream",
          "name": "stdout",
          "text": [
            "[17:39:39] WARNING: /workspace/src/objective/regression_obj.cu:152: reg:linear is now deprecated in favor of reg:squarederror.\n"
          ]
        },
        {
          "output_type": "execute_result",
          "data": {
            "text/plain": [
              "XGBRegressor(alpha=6, colsample_bytree=0.5, learning_rate=0.2, max_depth=10,\n",
              "             reg_lambda=10)"
            ]
          },
          "metadata": {},
          "execution_count": 282
        }
      ]
    },
    {
      "cell_type": "code",
      "source": [
        "preds3= model1.predict(test_inputs_sc)"
      ],
      "metadata": {
        "id": "1JO-_leLURbU"
      },
      "execution_count": 283,
      "outputs": []
    },
    {
      "cell_type": "code",
      "source": [
        "preds4 = model1.predict(test_inputs_TMY_sc)"
      ],
      "metadata": {
        "id": "ja03DorwURY3"
      },
      "execution_count": 284,
      "outputs": []
    },
    {
      "cell_type": "code",
      "source": [
        "AW_pre = pd.DataFrame(preds3 , columns =['Predicted using data of 2019'] )\n",
        "TMY_pre = pd.DataFrame(preds4 , columns =['Predicted using data of TW'] )\n",
        "test_targets_sc = pd.DataFrame(test_targets_sc , columns =['Ground Truth Values of 2019'] )"
      ],
      "metadata": {
        "id": "RwJBcMxlCefC"
      },
      "execution_count": 285,
      "outputs": []
    },
    {
      "cell_type": "markdown",
      "source": [
        "Predicting energy in 2019 using the data of 2019 itself and comparing with real values in 2019"
      ],
      "metadata": {
        "id": "Tle-URrIBi8m"
      }
    },
    {
      "cell_type": "code",
      "source": [
        "R2_score1=r2_score(AW_pre, test_targets_sc)\n",
        "print(R2_score1)\n",
        "print('%.2f' % R2_score1)"
      ],
      "metadata": {
        "colab": {
          "base_uri": "https://localhost:8080/"
        },
        "id": "rC8CSLIoBrGt",
        "outputId": "8bed0edc-4d39-41d1-fdae-8c0298d84262"
      },
      "execution_count": 290,
      "outputs": [
        {
          "output_type": "stream",
          "name": "stdout",
          "text": [
            "0.9591702507391862\n",
            "0.96\n"
          ]
        }
      ]
    },
    {
      "cell_type": "code",
      "source": [
        "A = scaler1.inverse_transform(test_targets_sc)\n",
        "A.shape"
      ],
      "metadata": {
        "colab": {
          "base_uri": "https://localhost:8080/"
        },
        "id": "e8RiDvDIF1Ni",
        "outputId": "4be824ff-1e18-4882-d084-d7a7334bf6d1"
      },
      "execution_count": 291,
      "outputs": [
        {
          "output_type": "execute_result",
          "data": {
            "text/plain": [
              "(8760, 1)"
            ]
          },
          "metadata": {},
          "execution_count": 291
        }
      ]
    },
    {
      "cell_type": "code",
      "source": [
        "AW_pre"
      ],
      "metadata": {
        "colab": {
          "base_uri": "https://localhost:8080/",
          "height": 424
        },
        "id": "StcXSQ7LcB_Q",
        "outputId": "9924f6a8-6627-4adf-f4a2-bfe0eaa3a1a3"
      },
      "execution_count": 292,
      "outputs": [
        {
          "output_type": "execute_result",
          "data": {
            "text/plain": [
              "      Predicted using data of 2019\n",
              "0                         0.029604\n",
              "1                         0.028490\n",
              "2                         0.030033\n",
              "3                         0.029573\n",
              "4                         0.029481\n",
              "...                            ...\n",
              "8755                      0.391301\n",
              "8756                      0.417574\n",
              "8757                      0.407853\n",
              "8758                      0.415797\n",
              "8759                      0.429322\n",
              "\n",
              "[8760 rows x 1 columns]"
            ],
            "text/html": [
              "\n",
              "  <div id=\"df-ae076e01-e069-4a53-a598-b31de9f34975\">\n",
              "    <div class=\"colab-df-container\">\n",
              "      <div>\n",
              "<style scoped>\n",
              "    .dataframe tbody tr th:only-of-type {\n",
              "        vertical-align: middle;\n",
              "    }\n",
              "\n",
              "    .dataframe tbody tr th {\n",
              "        vertical-align: top;\n",
              "    }\n",
              "\n",
              "    .dataframe thead th {\n",
              "        text-align: right;\n",
              "    }\n",
              "</style>\n",
              "<table border=\"1\" class=\"dataframe\">\n",
              "  <thead>\n",
              "    <tr style=\"text-align: right;\">\n",
              "      <th></th>\n",
              "      <th>Predicted using data of 2019</th>\n",
              "    </tr>\n",
              "  </thead>\n",
              "  <tbody>\n",
              "    <tr>\n",
              "      <th>0</th>\n",
              "      <td>0.029604</td>\n",
              "    </tr>\n",
              "    <tr>\n",
              "      <th>1</th>\n",
              "      <td>0.028490</td>\n",
              "    </tr>\n",
              "    <tr>\n",
              "      <th>2</th>\n",
              "      <td>0.030033</td>\n",
              "    </tr>\n",
              "    <tr>\n",
              "      <th>3</th>\n",
              "      <td>0.029573</td>\n",
              "    </tr>\n",
              "    <tr>\n",
              "      <th>4</th>\n",
              "      <td>0.029481</td>\n",
              "    </tr>\n",
              "    <tr>\n",
              "      <th>...</th>\n",
              "      <td>...</td>\n",
              "    </tr>\n",
              "    <tr>\n",
              "      <th>8755</th>\n",
              "      <td>0.391301</td>\n",
              "    </tr>\n",
              "    <tr>\n",
              "      <th>8756</th>\n",
              "      <td>0.417574</td>\n",
              "    </tr>\n",
              "    <tr>\n",
              "      <th>8757</th>\n",
              "      <td>0.407853</td>\n",
              "    </tr>\n",
              "    <tr>\n",
              "      <th>8758</th>\n",
              "      <td>0.415797</td>\n",
              "    </tr>\n",
              "    <tr>\n",
              "      <th>8759</th>\n",
              "      <td>0.429322</td>\n",
              "    </tr>\n",
              "  </tbody>\n",
              "</table>\n",
              "<p>8760 rows × 1 columns</p>\n",
              "</div>\n",
              "      <button class=\"colab-df-convert\" onclick=\"convertToInteractive('df-ae076e01-e069-4a53-a598-b31de9f34975')\"\n",
              "              title=\"Convert this dataframe to an interactive table.\"\n",
              "              style=\"display:none;\">\n",
              "        \n",
              "  <svg xmlns=\"http://www.w3.org/2000/svg\" height=\"24px\"viewBox=\"0 0 24 24\"\n",
              "       width=\"24px\">\n",
              "    <path d=\"M0 0h24v24H0V0z\" fill=\"none\"/>\n",
              "    <path d=\"M18.56 5.44l.94 2.06.94-2.06 2.06-.94-2.06-.94-.94-2.06-.94 2.06-2.06.94zm-11 1L8.5 8.5l.94-2.06 2.06-.94-2.06-.94L8.5 2.5l-.94 2.06-2.06.94zm10 10l.94 2.06.94-2.06 2.06-.94-2.06-.94-.94-2.06-.94 2.06-2.06.94z\"/><path d=\"M17.41 7.96l-1.37-1.37c-.4-.4-.92-.59-1.43-.59-.52 0-1.04.2-1.43.59L10.3 9.45l-7.72 7.72c-.78.78-.78 2.05 0 2.83L4 21.41c.39.39.9.59 1.41.59.51 0 1.02-.2 1.41-.59l7.78-7.78 2.81-2.81c.8-.78.8-2.07 0-2.86zM5.41 20L4 18.59l7.72-7.72 1.47 1.35L5.41 20z\"/>\n",
              "  </svg>\n",
              "      </button>\n",
              "      \n",
              "  <style>\n",
              "    .colab-df-container {\n",
              "      display:flex;\n",
              "      flex-wrap:wrap;\n",
              "      gap: 12px;\n",
              "    }\n",
              "\n",
              "    .colab-df-convert {\n",
              "      background-color: #E8F0FE;\n",
              "      border: none;\n",
              "      border-radius: 50%;\n",
              "      cursor: pointer;\n",
              "      display: none;\n",
              "      fill: #1967D2;\n",
              "      height: 32px;\n",
              "      padding: 0 0 0 0;\n",
              "      width: 32px;\n",
              "    }\n",
              "\n",
              "    .colab-df-convert:hover {\n",
              "      background-color: #E2EBFA;\n",
              "      box-shadow: 0px 1px 2px rgba(60, 64, 67, 0.3), 0px 1px 3px 1px rgba(60, 64, 67, 0.15);\n",
              "      fill: #174EA6;\n",
              "    }\n",
              "\n",
              "    [theme=dark] .colab-df-convert {\n",
              "      background-color: #3B4455;\n",
              "      fill: #D2E3FC;\n",
              "    }\n",
              "\n",
              "    [theme=dark] .colab-df-convert:hover {\n",
              "      background-color: #434B5C;\n",
              "      box-shadow: 0px 1px 3px 1px rgba(0, 0, 0, 0.15);\n",
              "      filter: drop-shadow(0px 1px 2px rgba(0, 0, 0, 0.3));\n",
              "      fill: #FFFFFF;\n",
              "    }\n",
              "  </style>\n",
              "\n",
              "      <script>\n",
              "        const buttonEl =\n",
              "          document.querySelector('#df-ae076e01-e069-4a53-a598-b31de9f34975 button.colab-df-convert');\n",
              "        buttonEl.style.display =\n",
              "          google.colab.kernel.accessAllowed ? 'block' : 'none';\n",
              "\n",
              "        async function convertToInteractive(key) {\n",
              "          const element = document.querySelector('#df-ae076e01-e069-4a53-a598-b31de9f34975');\n",
              "          const dataTable =\n",
              "            await google.colab.kernel.invokeFunction('convertToInteractive',\n",
              "                                                     [key], {});\n",
              "          if (!dataTable) return;\n",
              "\n",
              "          const docLinkHtml = 'Like what you see? Visit the ' +\n",
              "            '<a target=\"_blank\" href=https://colab.research.google.com/notebooks/data_table.ipynb>data table notebook</a>'\n",
              "            + ' to learn more about interactive tables.';\n",
              "          element.innerHTML = '';\n",
              "          dataTable['output_type'] = 'display_data';\n",
              "          await google.colab.output.renderOutput(dataTable, element);\n",
              "          const docLink = document.createElement('div');\n",
              "          docLink.innerHTML = docLinkHtml;\n",
              "          element.appendChild(docLink);\n",
              "        }\n",
              "      </script>\n",
              "    </div>\n",
              "  </div>\n",
              "  "
            ]
          },
          "metadata": {},
          "execution_count": 292
        }
      ]
    },
    {
      "cell_type": "code",
      "source": [
        "Prediction_after_applying_inverse = np.sort(AW_pre, axis = 0)\n",
        "Prediction_after_applying_inverse"
      ],
      "metadata": {
        "colab": {
          "base_uri": "https://localhost:8080/"
        },
        "id": "T0aw4kcvi_ZO",
        "outputId": "7d1957c4-b385-4b08-835e-1f7457a39092"
      },
      "execution_count": 294,
      "outputs": [
        {
          "output_type": "execute_result",
          "data": {
            "text/plain": [
              "array([[ -895345.94],\n",
              "       [ -743696.44],\n",
              "       [ -739905.7 ],\n",
              "       ...,\n",
              "       [25288146.  ],\n",
              "       [25648888.  ],\n",
              "       [25655808.  ]], dtype=float32)"
            ]
          },
          "metadata": {},
          "execution_count": 294
        }
      ]
    },
    {
      "cell_type": "code",
      "source": [
        "plt.figure(figsize=(30,8));\n",
        "x_ax = range ( len(test_targets_sc))\n",
        "plt.plot(x_ax,A, label =\"EnergyPlus\")\n",
        "plt.plot (x_ax,B, label = \"prediction\")\n",
        "plt.title(\"Energy Demand\")\n",
        "plt.legend()\n",
        "plt.show()"
      ],
      "metadata": {
        "colab": {
          "base_uri": "https://localhost:8080/",
          "height": 414
        },
        "id": "5V60n9feF1H7",
        "outputId": "ae815fda-291c-45bd-c831-ff6e0234946d"
      },
      "execution_count": 295,
      "outputs": [
        {
          "output_type": "display_data",
          "data": {
            "text/plain": [
              "<Figure size 2160x576 with 1 Axes>"
            ],
            "image/png": "[encoded data removed]"
          },
          "metadata": {
            "needs_background": "light"
          }
        }
      ]
    },
    {
      "cell_type": "markdown",
      "source": [
        "## No Normalization + Removing Outliers"
      ],
      "metadata": {
        "id": "Qkj2XRL6mz5z"
      }
    },
    {
      "cell_type": "code",
      "source": [
        "model1.fit(train_inputs_sc, train_targets_sc)"
      ],
      "metadata": {
        "id": "0fo27fGpF1FY"
      },
      "execution_count": 295,
      "outputs": []
    },
    {
      "cell_type": "code",
      "source": [
        "preds3= model1.predict(test_inputs)"
      ],
      "metadata": {
        "id": "yUfBIBU2nxhV"
      },
      "execution_count": null,
      "outputs": []
    },
    {
      "cell_type": "code",
      "source": [
        "preds4 = model1.predict(test_inputs)"
      ],
      "metadata": {
        "id": "iCaxGVSynxhX"
      },
      "execution_count": null,
      "outputs": []
    },
    {
      "cell_type": "code",
      "source": [
        ""
      ],
      "metadata": {
        "id": "rO-CJ2AbF1CW"
      },
      "execution_count": 295,
      "outputs": []
    },
    {
      "cell_type": "code",
      "source": [
        ""
      ],
      "metadata": {
        "id": "gafhJu9xF1AL"
      },
      "execution_count": null,
      "outputs": []
    },
    {
      "cell_type": "code",
      "source": [
        ""
      ],
      "metadata": {
        "id": "FaDiwZHtF090"
      },
      "execution_count": null,
      "outputs": []
    },
    {
      "cell_type": "code",
      "source": [
        ""
      ],
      "metadata": {
        "id": "5KgkN8LpF06y"
      },
      "execution_count": null,
      "outputs": []
    },
    {
      "cell_type": "code",
      "source": [
        "# No scaling\n",
        "#C=pd.DataFrame(test_df[target_col]) \n",
        "#C.reset_index(inplace = True)\n",
        "#C.drop('index', axis=1, inplace=True)"
      ],
      "metadata": {
        "id": "KI3yQiUudfb8"
      },
      "execution_count": null,
      "outputs": []
    },
    {
      "cell_type": "code",
      "source": [
        "#Scaled C\n",
        "#C_sc=pd.DataFrame(test_df[target_col]) \n",
        "#C_sc.reset_index(inplace = True)\n",
        "#C_sc.drop('index', axis=1, inplace=True)"
      ],
      "metadata": {
        "id": "SPNBwFqqdfb-"
      },
      "execution_count": null,
      "outputs": []
    },
    {
      "cell_type": "code",
      "source": [
        ""
      ],
      "metadata": {
        "id": "gBojBJcpF04c"
      },
      "execution_count": null,
      "outputs": []
    },
    {
      "cell_type": "code",
      "source": [
        ""
      ],
      "metadata": {
        "id": "-l__iE4MF019"
      },
      "execution_count": null,
      "outputs": []
    },
    {
      "cell_type": "code",
      "source": [
        ""
      ],
      "metadata": {
        "id": "jUu_9D7KF0yv"
      },
      "execution_count": null,
      "outputs": []
    },
    {
      "cell_type": "code",
      "source": [
        ""
      ],
      "metadata": {
        "id": "PKO_8316F0v6"
      },
      "execution_count": null,
      "outputs": []
    },
    {
      "cell_type": "code",
      "source": [
        ""
      ],
      "metadata": {
        "id": "gO_gz8AkF0s7"
      },
      "execution_count": null,
      "outputs": []
    },
    {
      "cell_type": "code",
      "source": [
        ""
      ],
      "metadata": {
        "id": "eU4cJMaMGVTm"
      },
      "execution_count": null,
      "outputs": []
    },
    {
      "cell_type": "code",
      "source": [
        ""
      ],
      "metadata": {
        "id": "PMa5uVsoGVPc"
      },
      "execution_count": null,
      "outputs": []
    },
    {
      "cell_type": "code",
      "source": [
        ""
      ],
      "metadata": {
        "id": "ZKdbT2a7GVML"
      },
      "execution_count": null,
      "outputs": []
    },
    {
      "cell_type": "code",
      "source": [
        "Heating = pd.DataFrame(preds3, columns =['predicted for Heating 2019 using data belobged to 2019'])\n",
        "Heating[' Heating Real Values'] = C\n",
        "#raw_df.to_csv('Heating.csv')\n",
        "Heating"
      ],
      "metadata": {
        "id": "e7JiNvS1BrBV"
      },
      "execution_count": null,
      "outputs": []
    },
    {
      "cell_type": "code",
      "source": [
        "plt.figure(figsize=(30,8));\n",
        "x_ax = range ( len(preds3))\n",
        "plt.plot(x_ax,preds3, label =\"predicted 2019\")\n",
        "#plt.plot(x_ax,preds3, label = \"AC\")\n",
        "plt.plot(x_ax,C, label = \"Real values 2019\")\n",
        "plt.title(\"Comparison Heating\")\n",
        "plt.legend()\n",
        "plt.show()"
      ],
      "metadata": {
        "id": "HngSOKmZBq-m"
      },
      "execution_count": null,
      "outputs": []
    },
    {
      "cell_type": "code",
      "source": [
        "plt.figure(figsize=(6.5,5.3));\n",
        "plt.plot(C,preds3,'bo');\n",
        "plt.plot([0,3e7],[0,3e7],'-',color=[0.1,0.1,0.1,0.5],linewidth=1)"
      ],
      "metadata": {
        "id": "YVJ43x4rBq7u"
      },
      "execution_count": null,
      "outputs": []
    },
    {
      "cell_type": "markdown",
      "source": [
        "Lets find Accuracy of the model in mins and maxes\n",
        "\n",
        "In doe file the threshold of heating is 15 degC\n",
        "\n",
        "Max :"
      ],
      "metadata": {
        "id": "cU4NWlTe8LcT"
      }
    },
    {
      "cell_type": "code",
      "source": [
        "Max_Min = test_targets.to_frame(name ='Heating')"
      ],
      "metadata": {
        "id": "rjVGfU-wRJjp"
      },
      "execution_count": null,
      "outputs": []
    },
    {
      "cell_type": "code",
      "source": [
        "test_inputs.sort_values(by=\"Dry Bulb Temperature\")"
      ],
      "metadata": {
        "id": "FmIa737eJpCP"
      },
      "execution_count": null,
      "outputs": []
    },
    {
      "cell_type": "code",
      "source": [
        "## Extract their index\n",
        "# saving indexes in a new column named index\n",
        "index = test_inputs.index\n",
        "condition = test_inputs['Dry Bulb Temperature']  <-30 \n",
        "indices = index[condition]\n",
        "indices_list = indices.tolist()\n",
        "print(indices_list)"
      ],
      "metadata": {
        "id": "vNT07QwF8LDm"
      },
      "execution_count": null,
      "outputs": []
    },
    {
      "cell_type": "code",
      "source": [
        "Max_input = test_inputs.loc[[79300, 79301, 79302, 79303, 79304, 79305, 79516, 79517, 79518, 79519, 79520, 79521, 79522, 79523, 79524, 79525, 79526, 79527, 79528, 79529, 79530, 79531, 79532, 79533, 79534, 79535, 79536, 79537, 79538, 79539, 79540, 79541, 79542, 79543, 79544, 79545, 79546, 79547, 79548, 79549, 79554, 79555, 79556, 79557, 79558, 79559, 79560, 79561, 79562, 79563, 79564, 79565, 79566, 79567, 79568],:]"
      ],
      "metadata": {
        "id": "UchwDAJJ58zk"
      },
      "execution_count": null,
      "outputs": []
    },
    {
      "cell_type": "code",
      "source": [
        "Max_Target= Max_Min.loc[[79300, 79301, 79302, 79303, 79304, 79305, 79516, 79517, 79518, 79519, 79520, 79521, 79522, 79523, 79524, 79525, 79526, 79527, 79528, 79529, 79530, 79531, 79532, 79533, 79534, 79535, 79536, 79537, 79538, 79539, 79540, 79541, 79542, 79543, 79544, 79545, 79546, 79547, 79548, 79549, 79554, 79555, 79556, 79557, 79558, 79559, 79560, 79561, 79562, 79563, 79564, 79565, 79566, 79567, 79568],:]"
      ],
      "metadata": {
        "id": "S4lc8Ulj8K-Y"
      },
      "execution_count": null,
      "outputs": []
    },
    {
      "cell_type": "code",
      "source": [
        "Max_Target.head(5)"
      ],
      "metadata": {
        "id": "tIb_D0quAZJd"
      },
      "execution_count": null,
      "outputs": []
    },
    {
      "cell_type": "markdown",
      "source": [
        "Fitting the model on Max"
      ],
      "metadata": {
        "id": "LmrebRiP5TOL"
      }
    },
    {
      "cell_type": "code",
      "source": [
        "predsMax = model.predict(Max_input)"
      ],
      "metadata": {
        "id": "ZThlFaDB5R70"
      },
      "execution_count": null,
      "outputs": []
    },
    {
      "cell_type": "markdown",
      "source": [
        "Reset the index of max_target"
      ],
      "metadata": {
        "id": "2QIAr5aSERm9"
      }
    },
    {
      "cell_type": "code",
      "source": [
        "Max_Target=pd.DataFrame(Max_Target['Heating']) \n",
        "Max_Target.reset_index(inplace = True)\n",
        "Max_Target.drop('index', axis=1, inplace=True)"
      ],
      "metadata": {
        "id": "goeHAXEgERSO"
      },
      "execution_count": null,
      "outputs": []
    },
    {
      "cell_type": "code",
      "source": [
        "MaxHeating = pd.DataFrame(predsMax, columns =['predicted Max values for heating '])\n",
        "MaxHeating[' Max Heating Real Values'] = Max_Target\n",
        "MaxHeating.head(10)"
      ],
      "metadata": {
        "id": "jzO94VUVDJeT"
      },
      "execution_count": null,
      "outputs": []
    },
    {
      "cell_type": "code",
      "source": [
        "plt.figure(figsize=(30,8));\n",
        "x_ax = range ( len(predsMax))\n",
        "plt.plot(x_ax,predsMax, label =\"predicted  Max values for 2019\")\n",
        "#plt.plot(x_ax,preds3, label = \"AC\")\n",
        "plt.plot(x_ax,Max_Target, label = \"Real Max values for 2019\")\n",
        "plt.title(\"Comparison Heating\")\n",
        "plt.legend()\n",
        "plt.show()"
      ],
      "metadata": {
        "id": "sqTfryliE-Qt"
      },
      "execution_count": null,
      "outputs": []
    },
    {
      "cell_type": "markdown",
      "source": [
        "Min:"
      ],
      "metadata": {
        "id": "7ktYopqMJesb"
      }
    },
    {
      "cell_type": "code",
      "source": [
        "## Extract their index\n",
        "# saving indexes in a new column named index\n",
        "index = test_inputs.index\n",
        "condition = test_inputs['Dry Bulb Temperature']  >30\n",
        "indices = index[condition]\n",
        "indices_list = indices.tolist()\n",
        "print(indices_list)"
      ],
      "metadata": {
        "id": "GzhdqP-gJgLT"
      },
      "execution_count": null,
      "outputs": []
    },
    {
      "cell_type": "code",
      "source": [
        "Min_input = test_inputs.loc[[82433, 82619, 82620, 82621, 82622, 82623, 82624, 82625, 82626, 82627, 82628, 82629, 83129, 83172, 83173, 83174, 83175, 83176, 83177, 83513, 83514, 83943, 83944, 83945, 83946, 83965, 83966, 83967, 83968, 83988, 83989, 83990, 83991, 83992, 83993, 83994, 84014, 84015, 84016, 84017, 84018],:]"
      ],
      "metadata": {
        "id": "HUbfRRkxJxQH"
      },
      "execution_count": null,
      "outputs": []
    },
    {
      "cell_type": "code",
      "source": [
        "Min_Target = Max_Min.loc[[82433, 82619, 82620, 82621, 82622, 82623, 82624, 82625, 82626, 82627, 82628, 82629, 83129, 83172, 83173, 83174, 83175, 83176, 83177, 83513, 83514, 83943, 83944, 83945, 83946, 83965, 83966, 83967, 83968, 83988, 83989, 83990, 83991, 83992, 83993, 83994, 84014, 84015, 84016, 84017, 84018],:]"
      ],
      "metadata": {
        "id": "qiAzYbaZJxNR"
      },
      "execution_count": null,
      "outputs": []
    },
    {
      "cell_type": "code",
      "source": [
        "predsMin = model.predict(Min_input)"
      ],
      "metadata": {
        "id": "ArwqlpFYJxJ-"
      },
      "execution_count": null,
      "outputs": []
    },
    {
      "cell_type": "code",
      "source": [
        "Min_Target=pd.DataFrame(Min_Target['Heating']) \n",
        "Min_Target.reset_index(inplace = True)\n",
        "Min_Target.drop('index', axis=1, inplace=True)"
      ],
      "metadata": {
        "id": "TQSAf2giJxGb"
      },
      "execution_count": null,
      "outputs": []
    },
    {
      "cell_type": "code",
      "source": [
        "MinHeating = pd.DataFrame(predsMin, columns =['predicted Min values for heating '])\n",
        "MinHeating[' Min Heating Real Values'] = Min_Target\n",
        "MinHeating.head(10)"
      ],
      "metadata": {
        "id": "wtwq7iBTMBpm"
      },
      "execution_count": null,
      "outputs": []
    },
    {
      "cell_type": "code",
      "source": [
        "plt.figure(figsize=(30,8));\n",
        "\n",
        "x_ax = range ( len(predsMin))\n",
        "plt.plot(x_ax,predsMin, label =\"predicted  Min values for 2019\")\n",
        "#plt.plot(x_ax,preds3, label = \"AC\")\n",
        "plt.plot(x_ax,Min_Target, label = \"Real Min values for 2019\")\n",
        "plt.title(\"Comparison Heating\")\n",
        "plt.legend()\n",
        "plt.show()"
      ],
      "metadata": {
        "id": "nbf-BkM0MBmC"
      },
      "execution_count": null,
      "outputs": []
    },
    {
      "cell_type": "markdown",
      "source": [
        "Detect and Remove the Outliers "
      ],
      "metadata": {
        "id": "CF5V7l1ZkSaC"
      }
    },
    {
      "cell_type": "code",
      "source": [
        "Heating"
      ],
      "metadata": {
        "id": "DqSgRxzJk_gA"
      },
      "execution_count": null,
      "outputs": []
    },
    {
      "cell_type": "markdown",
      "source": [
        "##Outliers \n",
        "https://www.geeksforgeeks.org/detect-and-remove-the-outliers-using-python/"
      ],
      "metadata": {
        "id": "vA1tqTKXqHmm"
      }
    },
    {
      "cell_type": "code",
      "source": [
        "Index(['Date', 'Time', 'Dry Bulb Temperature', 'Dew Point Temperature',\n",
        "       'Relative Humidity', 'Atmospheric Pressure',\n",
        "       'Extraterrestrial Horizontal Radiation',\n",
        "       'Extraterrestrial Direct Normal Radiation',\n",
        "       'Horizontal Infrared Radiation Intensity from Sky',\n",
        "       'Global Horizontal Radiation', 'Direct Normal Radiation',\n",
        "       'Diffuse Horizontal Radiation', 'Global Horizontal Illuminance',\n",
        "       'Direct Normal Illuminance', 'Diffuse Horizontal Illuminance',\n",
        "       'Zenith Luminance', 'Wind Direction', 'Wind Speed', 'Total Sky Cover',\n",
        "       'Opaque Sky Cover', 'Visibility', 'Ceiling Height',\n",
        "       'Present Weather Observation', 'Precipitable Water',\n",
        "       'Aerosol Optical Depth', 'Snow Depth', 'Days Since Last Snow', 'Albedo',\n",
        "       'Liquid Precipitation Depth', 'Liquid Precipitation Quantity',\n",
        "       'People Total Heating Energy',\n",
        "       'Total Zone Infiltration Sensible Heat Gain Energy',\n",
        "       'Averge Zones temp', 'ATTIC:Zone Air Temperature', 'LightsElectricity',\n",
        "       'Cooling', 'Heating', 'GasHVAC', 'Fans'],\n",
        "      dtype='object')\n",
        "val_inputs = val_df[input_cols].copy()\n",
        "val_targets = val_df[target_col].copy()\n",
        "test_inputs = test_df[input_cols].copy()\n",
        "test_targets = test_df[target_col].copy()\n",
        "train_inputs = train_df[input_cols].copy()\n",
        "train_targets = train_df[target_col].copy()\n",
        "test_inputs_TMY = TMY_df3[input_cols_TMY2].copy()\n",
        "test_targets_TMY = TMY_df3[target_col_TMY2].copy()\n",
        "raw_df3.insert(0, 'Heating', raw_df3.pop('Heating'))\n",
        "TMY_df3.insert(0, 'Heating', TMY_df3.pop('Heating'))"
      ],
      "metadata": {
        "id": "yIW1QBjws4MA"
      },
      "execution_count": null,
      "outputs": []
    },
    {
      "cell_type": "code",
      "source": [
        "import seaborn as sns\n",
        "sns.boxplot(raw_df['GasHVAC'])"
      ],
      "metadata": {
        "id": "8uHztLakj5Ja",
        "colab": {
          "base_uri": "https://localhost:8080/",
          "height": 352
        },
        "outputId": "9d659152-34ab-4943-eda7-14a123123685"
      },
      "execution_count": 218,
      "outputs": [
        {
          "output_type": "stream",
          "name": "stderr",
          "text": [
            "/usr/local/lib/python3.7/dist-packages/seaborn/_decorators.py:43: FutureWarning: Pass the following variable as a keyword arg: x. From version 0.12, the only valid positional argument will be `data`, and passing other arguments without an explicit keyword will result in an error or misinterpretation.\n",
            "  FutureWarning\n"
          ]
        },
        {
          "output_type": "execute_result",
          "data": {
            "text/plain": [
              "<matplotlib.axes._subplots.AxesSubplot at 0x7f4a97c0ac90>"
            ]
          },
          "metadata": {},
          "execution_count": 218
        },
        {
          "output_type": "display_data",
          "data": {
            "text/plain": [
              "<Figure size 432x288 with 1 Axes>"
            ],
            "image/png": "[encoded data removed]"
          },
          "metadata": {
            "needs_background": "light"
          }
        }
      ]
    },
    {
      "cell_type": "code",
      "source": [
        "import seaborn as sns\n",
        "sns.boxplot(Heating[' Heating Real Values'])"
      ],
      "metadata": {
        "id": "JiswdLKLlLhp"
      },
      "execution_count": null,
      "outputs": []
    },
    {
      "cell_type": "code",
      "source": [
        "# Position of the Outlier of real value\n",
        "print(np.where(Heating[' Heating Real Values']>110000))"
      ],
      "metadata": {
        "id": "m1h_KW3Yj5Gg"
      },
      "execution_count": null,
      "outputs": []
    },
    {
      "cell_type": "code",
      "source": [
        "# Position of the Outlier of predicted values\n",
        "print(np.where(Heating['predicted for Heating 2019 using data belobged to 2019'] > 110000))"
      ],
      "metadata": {
        "id": "MH7PnPrKj5Du"
      },
      "execution_count": null,
      "outputs": []
    },
    {
      "cell_type": "code",
      "source": [
        "# Scatter plot\n",
        "fig, ax = plt.subplots(figsize = (10,5))\n",
        "ax.scatter(Heating[' Heating Real Values'],Heating['predicted for Heating 2019 using data belobged to 2019'])\n",
        "\n",
        "# x-axis label\n",
        "ax.set_xlabel('Heating Real Values')\n",
        "\n",
        "# y-axis label\n",
        "ax.set_ylabel('predicted for Heating 2019 using data belobged to 2019')\n",
        "plt.show()\n"
      ],
      "metadata": {
        "id": "nG1r08q6j5Ai"
      },
      "execution_count": null,
      "outputs": []
    },
    {
      "cell_type": "code",
      "source": [
        "# Position of the Outlier\n",
        "print(np.where((Heating[' Heating Real Values']>110000) & (Heating['predicted for Heating 2019 using data belobged to 2019']>1200)))\n"
      ],
      "metadata": {
        "id": "PVKV5_jtj46w"
      },
      "execution_count": null,
      "outputs": []
    },
    {
      "cell_type": "code",
      "source": [
        ""
      ],
      "metadata": {
        "id": "2DKIwIgSpkMQ"
      },
      "execution_count": null,
      "outputs": []
    },
    {
      "cell_type": "markdown",
      "source": [
        "Z- Score is also called a standard score. This value/score helps to understand that how far is the data point from the mean. And after setting up a threshold value one can utilize z score values of data points to define the outliers."
      ],
      "metadata": {
        "id": "Sxm5NMSap-eu"
      }
    },
    {
      "cell_type": "code",
      "source": [
        ""
      ],
      "metadata": {
        "id": "vcgZLG1cpkJA"
      },
      "execution_count": null,
      "outputs": []
    },
    {
      "cell_type": "code",
      "source": [
        ""
      ],
      "metadata": {
        "id": "Aw-8zBmrpkFq"
      },
      "execution_count": null,
      "outputs": []
    },
    {
      "cell_type": "code",
      "source": [
        ""
      ],
      "metadata": {
        "id": "GfaOPuyQj436"
      },
      "execution_count": null,
      "outputs": []
    },
    {
      "cell_type": "code",
      "source": [
        ""
      ],
      "metadata": {
        "id": "QjzlX-cIj40z"
      },
      "execution_count": null,
      "outputs": []
    },
    {
      "cell_type": "markdown",
      "source": [
        "automatic outlier detection\n",
        "https://machinelearningmastery.com/model-based-outlier-detection-and-removal-in-python/"
      ],
      "metadata": {
        "id": "yfH37l1pModo"
      }
    },
    {
      "cell_type": "markdown",
      "source": [
        "Each method will be defined, then fit on the training dataset. The fit model will then predict which examples in the training dataset are outliers and which are not (so-called inliers). The outliers will then be removed from the training dataset, then the model will be fit on the remaining examples and evaluated on the entire test dataset.\n",
        "It would be invalid to fit the outlier detection method on the entire training dataset as this would result in data leakage. That is, the model would have access to data (or information about the data) in the test set not used to train the model. This may result in an optimistic estimate of model performance.\n",
        "We could attempt to detect outliers on “new data” such as the test set prior to making a prediction, but then what do we do if outliers are detected?"
      ],
      "metadata": {
        "id": "fChO7juH49r1"
      }
    },
    {
      "cell_type": "markdown",
      "source": [
        "Isolation Forest, or iForest for short, is a tree-based anomaly detection algorithm: \n",
        "It is based on modeling the normal data in such a way as to isolate anomalies that are both few in number and different in the feature space."
      ],
      "metadata": {
        "id": "GLbc7jx45Che"
      }
    },
    {
      "cell_type": "markdown",
      "source": [
        "Perhaps the most important hyperparameter in the model is the “contamination” argument, which is used to help estimate the number of outliers in the dataset. This is a value between 0.0 and 0.5 and by default is set to 0.1"
      ],
      "metadata": {
        "id": "HJ9I7x266VpD"
      }
    },
    {
      "cell_type": "code",
      "source": [
        "from sklearn.ensemble import IsolationForest"
      ],
      "metadata": {
        "id": "tb0du8Sr7Hwb"
      },
      "execution_count": null,
      "outputs": []
    },
    {
      "cell_type": "code",
      "source": [
        "# identify outliers in the training dataset\n",
        "iso = IsolationForest(contamination=0.02)\n",
        "yhat = iso.fit_predict(train_inputs)"
      ],
      "metadata": {
        "id": "eelBWwdbMrBw"
      },
      "execution_count": null,
      "outputs": []
    },
    {
      "cell_type": "code",
      "source": [
        "mask = yhat != -1\n"
      ],
      "metadata": {
        "id": "44vXEREHFn22"
      },
      "execution_count": null,
      "outputs": []
    },
    {
      "cell_type": "code",
      "source": [
        "# Filtering a series using a boolean arrays\n",
        "from itertools import compress\n",
        "Filtered_Trian_Target = list(compress(train_targets, mask))\n",
        "Filtered_Trian_Targets = pd.DataFrame(Filtered_Trian_Target, columns =['Heating'])"
      ],
      "metadata": {
        "id": "cw_vufldG2Fs"
      },
      "execution_count": null,
      "outputs": []
    },
    {
      "cell_type": "code",
      "source": [
        "# Filtering a dataframe using a boolean arrays\n",
        "newmask= pd.Series(mask)\n",
        "Filtered_Trian_inputs = train_inputs[newmask.values]\n",
        "print(Filtered_Trian_Targets.shape, Filtered_Trian_inputs.shape)"
      ],
      "metadata": {
        "id": "zKJZ-arVIMrK"
      },
      "execution_count": null,
      "outputs": []
    },
    {
      "cell_type": "code",
      "source": [
        "# fitting model on filtered  data\n",
        "model.fit(Filtered_Trian_inputs, Filtered_Trian_Targets)"
      ],
      "metadata": {
        "id": "TJ1E8UqxK-iT"
      },
      "execution_count": null,
      "outputs": []
    },
    {
      "cell_type": "code",
      "source": [
        "preds3 = model.predict(test_inputs)\n",
        "preds4 = model.predict(test_inputs_TMY)"
      ],
      "metadata": {
        "id": "DaNwatBIM4eB"
      },
      "execution_count": null,
      "outputs": []
    },
    {
      "cell_type": "code",
      "source": [
        "R2_score1=r2_score(test_targets, preds3)\n",
        "print(R2_score1)\n",
        "print('%.2f' % R2_score1)"
      ],
      "metadata": {
        "id": "qttwOCyiMqvF"
      },
      "execution_count": null,
      "outputs": []
    },
    {
      "cell_type": "code",
      "source": [
        "Heatingnew = pd.DataFrame(preds3, columns =['predicted for Heating 2019 using data belobged to 2019'])\n",
        "Heatingnew[' Heating Real Values'] = C\n",
        "#raw_df.to_csv('Heating.csv')\n",
        "Heatingnew"
      ],
      "metadata": {
        "id": "-xwmotqRNcN6"
      },
      "execution_count": null,
      "outputs": []
    },
    {
      "cell_type": "code",
      "source": [
        "plt.figure(figsize=(30,8));\n",
        "\n",
        "x_ax = range ( len(preds3))\n",
        "plt.plot(x_ax,preds3, label =\"predicted 2019\")\n",
        "#plt.plot(x_ax,preds3, label = \"AC\")\n",
        "plt.plot(x_ax,C, label = \"Real values 2019\")\n",
        "plt.title(\"Comparison Heating\")\n",
        "plt.legend()\n",
        "plt.show()"
      ],
      "metadata": {
        "id": "kUazV3LaNcKW"
      },
      "execution_count": null,
      "outputs": []
    },
    {
      "cell_type": "code",
      "source": [
        "## Extract their index\n",
        "# saving indexes in a new column named index\n",
        "index = test_inputs.index\n",
        "condition = test_inputs['Dry Bulb Temperature']  >30\n",
        "indices = index[condition]\n",
        "indices_list = indices.tolist()\n",
        "print(indices_list)"
      ],
      "metadata": {
        "id": "lb_IeLkiNcH0"
      },
      "execution_count": null,
      "outputs": []
    },
    {
      "cell_type": "code",
      "source": [
        "Min_input = test_inputs.loc[[82433, 82619, 82620, 82621, 82622, 82623, 82624, 82625, 82626, 82627, 82628, 82629, 83129, 83172, 83173, 83174, 83175, 83176, 83177, 83513, 83514, 83943, 83944, 83945, 83946, 83965, 83966, 83967, 83968, 83988, 83989, 83990, 83991, 83992, 83993, 83994, 84014, 84015, 84016, 84017, 84018],:]"
      ],
      "metadata": {
        "id": "FT8OHdRAOMOt"
      },
      "execution_count": null,
      "outputs": []
    },
    {
      "cell_type": "code",
      "source": [
        "Min_Target = Max_Min.loc[[82433, 82619, 82620, 82621, 82622, 82623, 82624, 82625, 82626, 82627, 82628, 82629, 83129, 83172, 83173, 83174, 83175, 83176, 83177, 83513, 83514, 83943, 83944, 83945, 83946, 83965, 83966, 83967, 83968, 83988, 83989, 83990, 83991, 83992, 83993, 83994, 84014, 84015, 84016, 84017, 84018],:]"
      ],
      "metadata": {
        "id": "9JbHpe2AOMOv"
      },
      "execution_count": null,
      "outputs": []
    },
    {
      "cell_type": "code",
      "source": [
        "predsMin = model.predict(Min_input)"
      ],
      "metadata": {
        "id": "G_Y0OvqAOMOw"
      },
      "execution_count": null,
      "outputs": []
    },
    {
      "cell_type": "code",
      "source": [
        "Min_Target=pd.DataFrame(Min_Target['Heating']) \n",
        "Min_Target.reset_index(inplace = True)\n",
        "Min_Target.drop('index', axis=1, inplace=True)"
      ],
      "metadata": {
        "id": "u2RxjyU7OMOy"
      },
      "execution_count": null,
      "outputs": []
    },
    {
      "cell_type": "code",
      "source": [
        "MinHeating = pd.DataFrame(predsMin, columns =['predicted Min values for heating '])\n",
        "MinHeating[' Min Heating Real Values'] = Min_Target\n",
        "MinHeating.head(10)"
      ],
      "metadata": {
        "id": "R8n8Ft7aOMOz"
      },
      "execution_count": null,
      "outputs": []
    },
    {
      "cell_type": "code",
      "source": [
        "plt.figure(figsize=(30,8));\n",
        "\n",
        "x_ax = range ( len(predsMin))\n",
        "plt.plot(x_ax,predsMin, label =\"predicted  Min values for 2019\")\n",
        "#plt.plot(x_ax,preds3, label = \"AC\")\n",
        "plt.plot(x_ax,Min_Target, label = \"Real Min values for 2019\")\n",
        "plt.title(\"Comparison Heating\")\n",
        "plt.legend()\n",
        "plt.show()"
      ],
      "metadata": {
        "id": "BdG5MeYqOMPq"
      },
      "execution_count": null,
      "outputs": []
    },
    {
      "cell_type": "code",
      "source": [
        ""
      ],
      "metadata": {
        "id": "82GXhkxDNb-t"
      },
      "execution_count": null,
      "outputs": []
    },
    {
      "cell_type": "code",
      "source": [
        ""
      ],
      "metadata": {
        "id": "xvLdjmVANb7Q"
      },
      "execution_count": null,
      "outputs": []
    },
    {
      "cell_type": "markdown",
      "source": [
        "Predicting energy in 2019 using the Tyoical Weater data file :"
      ],
      "metadata": {
        "id": "BkFwFIX30nFN"
      }
    },
    {
      "cell_type": "markdown",
      "source": [
        ""
      ],
      "metadata": {
        "id": "BMOLSKTsKLJm"
      }
    },
    {
      "cell_type": "code",
      "source": [
        ""
      ],
      "metadata": {
        "id": "iPsb32i58K4t"
      },
      "execution_count": null,
      "outputs": []
    },
    {
      "cell_type": "markdown",
      "source": [
        "Predicting energy in 2019 using the data of 2018 and comparing with real values in 2019"
      ],
      "metadata": {
        "id": "QVsdB1pwBrm7"
      }
    },
    {
      "cell_type": "code",
      "source": [
        ""
      ],
      "metadata": {
        "id": "xd9da5lEWqh7"
      },
      "execution_count": null,
      "outputs": []
    },
    {
      "cell_type": "code",
      "source": [
        ""
      ],
      "metadata": {
        "id": "7fIBGk3MWqcf"
      },
      "execution_count": null,
      "outputs": []
    },
    {
      "cell_type": "code",
      "source": [
        ""
      ],
      "metadata": {
        "id": "DjOATXYkWqY2"
      },
      "execution_count": null,
      "outputs": []
    },
    {
      "cell_type": "markdown",
      "source": [
        "Predicting energy in 2019 using the data of TW and comparing with real values in 2019"
      ],
      "metadata": {
        "id": "UHQzge9DBwuM"
      }
    },
    {
      "cell_type": "code",
      "source": [
        "Heating = pd.DataFrame(preds3, columns =['predicted for Heating 2019 using TMY'])\n",
        "#LightsElectricity['LightsElectricity via TMY'] = pd.DataFrame(preds4)\n",
        "Heating[' Heating Real Values'] = C\n",
        "raw_df.to_csv('Heating.csv')\n",
        "Heating"
      ],
      "metadata": {
        "id": "572rw5V4kypf"
      },
      "execution_count": null,
      "outputs": []
    },
    {
      "cell_type": "code",
      "source": [
        "R2_score=r2_score(test_targets, preds3)\n",
        "R2_score"
      ],
      "metadata": {
        "id": "rZaUbVoVvqet"
      },
      "execution_count": null,
      "outputs": []
    },
    {
      "cell_type": "code",
      "source": [
        "#Heating = pd.DataFrame(preds3, columns =['Heating 2019 '])\n",
        "#Heating['Heating via TMY'] = pd.DataFrame(preds4)\n",
        "#Heating.to_csv('Heating.csv')\n",
        "#Heating"
      ],
      "metadata": {
        "id": "qSPoiX5Lkypj"
      },
      "execution_count": null,
      "outputs": []
    },
    {
      "cell_type": "code",
      "source": [
        "plt.figure(figsize=(30,8));\n",
        "\n",
        "x_ax = range ( len(preds4))\n",
        "plt.plot(x_ax,preds4, label =\"TMY\")\n",
        "#plt.plot(x_ax,preds3, label = \"AC\")\n",
        "plt.plot(x_ax,C, label = \"Real values 2019\")\n",
        "plt.title(\"Comparison Heating\")\n",
        "plt.legend()\n",
        "plt.show()"
      ],
      "metadata": {
        "id": "jT8oBstzkypl"
      },
      "execution_count": null,
      "outputs": []
    },
    {
      "cell_type": "code",
      "source": [
        "TMY_df3['Heating'][246]"
      ],
      "metadata": {
        "id": "2-FQAmHCkypp"
      },
      "execution_count": null,
      "outputs": []
    },
    {
      "cell_type": "code",
      "source": [
        ""
      ],
      "metadata": {
        "id": "y2HTRJWQlEdL"
      },
      "execution_count": null,
      "outputs": []
    },
    {
      "cell_type": "code",
      "source": [
        "TMY_df3.loc[108:113]"
      ],
      "metadata": {
        "id": "oJ_ZwCKAlZjT"
      },
      "execution_count": null,
      "outputs": []
    },
    {
      "cell_type": "code",
      "source": [
        ""
      ],
      "metadata": {
        "id": "tpkQtR_4lZjY"
      },
      "execution_count": null,
      "outputs": []
    },
    {
      "cell_type": "code",
      "source": [
        "new_input = {'Dry Bulb Temperature': -24.5,\n",
        "             'Dew Point Temperature': -28.4,\n",
        "             'Relative Humidity': 70,\n",
        "             'Atmospheric Pressure': 100480,\n",
        "             'Extraterrestrial Horizontal Radiation': 0,\n",
        "             'Extraterrestrial Direct Normal Radiation': 9999,\n",
        "             'Horizontal Infrared Radiation Intensity from Sky': 166,\n",
        "             'Global Horizontal Radiation': 0,\n",
        "             'Direct Normal Radiation': 0,\n",
        "             'Diffuse Horizontal Radiation': 0,\n",
        "             'Global Horizontal Illuminance': 0,\n",
        "             'Direct Normal Illuminance': 0,\n",
        "             'Diffuse Horizontal Illuminance':0,\n",
        "             'Zenith Luminance': 9999,\n",
        "             'Wind Direction': 20,\n",
        "             'Wind Speed': 6,\n",
        "             'Total Sky Cover': 0,\n",
        "             'Opaque Sky Cover': 8,\n",
        "             'Visibility': 999,\n",
        "             'Ceiling Height': 99990,\n",
        "             'Present Weather Observation':9,\n",
        "             'Precipitable Water': 0,\n",
        "             'Aerosol Optical Depth':0 ,\n",
        "             'Snow Depth' : 0,\n",
        "             'Days Since Last Snow': 88,\n",
        "             'Albedo' : 999,\n",
        "             'Liquid Precipitation Depth' :999 ,\n",
        "             'Liquid Precipitation Quantity' : 99,\n",
        "             'People Total Heating Energy' :0 ,\n",
        "             'Total Zone Infiltration Sensible Heat Gain Energy' : 893710,\n",
        "             'Averge Zones temp': 14.66877,\n",
        "             'ATTIC:Zone Air Temperature' : -24,\n",
        "             \n",
        "              }"
      ],
      "metadata": {
        "id": "MKWB4ML2lZjb"
      },
      "execution_count": null,
      "outputs": []
    },
    {
      "cell_type": "code",
      "source": [
        "new_input_df = pd.DataFrame([new_input])\n",
        "new_input_df.info()"
      ],
      "metadata": {
        "id": "usjyZmbnlZjg"
      },
      "execution_count": null,
      "outputs": []
    },
    {
      "cell_type": "code",
      "source": [
        "prediction = model.predict(new_input_df)\n",
        "prediction"
      ],
      "metadata": {
        "id": "Ib6ckun7lZjk"
      },
      "execution_count": null,
      "outputs": []
    },
    {
      "cell_type": "markdown",
      "source": [
        ""
      ],
      "metadata": {
        "id": "IwiAG5riKCAp"
      }
    },
    {
      "cell_type": "markdown",
      "source": [
        "##Impact of weather data on energy demand\n",
        "\n",
        "\n",
        "Goal is to find the best ways for predicting energy demand in 2019 and compare it with the doe model.\n",
        "scenarios:\n",
        "1.   **Training the model with data from 2011 to 2017**\n",
        "\n",
        "*   predicting energy demand for 2019 when the TW is used ( used both TW files) and comapre it with 2018.  if I want to predict energy demand of 2019 wihout having any data, is it better to use TW or use weather data for previous years. If I want to use data belonged to previous years which year can prdict it better.\n",
        "*   Effect of number of years on accuracy\n",
        "*   Finding the accuarcy of model in max and min\n",
        "*   See the accuaracy of the model on design days\n",
        "\n",
        "\n",
        "\n",
        "2.   **Improving the accuracy of the model in mins and maxes**\n",
        "\n",
        "*   Training the Heating and Cooling with deata belonged to cold and warm days\n",
        "*   Training the data with two TW files\n",
        "*   Testing the Data of a hot place for cooling\n",
        "*   Removing columns maybe removin some columns decrease the r2 but it might increase the robutensess of model in predicting min and max\n",
        "*   Effect of energy unit on result of prediction j vs kj vs Mj \n",
        "\n",
        "\n",
        "\n",
        "\n",
        "\n",
        "\n",
        "\n",
        "\n",
        "\n",
        "\n"
      ],
      "metadata": {
        "id": "WflijsUtKCR6"
      }
    },
    {
      "cell_type": "markdown",
      "source": [
        "## predicting energy demand for 2019\n",
        "\n",
        "\n",
        "* Goal is to find the accuary of he model\n",
        "* How well TW can predict 2019 \n",
        "* How well TW can predict 2018 \n",
        "\n"
      ],
      "metadata": {
        "id": "XHQ4u4S_KCSA"
      }
    },
    {
      "cell_type": "markdown",
      "source": [
        "# Gas HVAC"
      ],
      "metadata": {
        "id": "lwUwLeJzlFzU"
      }
    },
    {
      "cell_type": "code",
      "source": [
        "############# Light Electricity (j) ############# \n",
        "#electricity\n",
        "raw_df1=raw_df.drop(raw_df.columns[[1,35,36,37,38]], axis=1)\n",
        "\n",
        "## Typical weather data file ( all parts of energy consumption)\n",
        "#electricity\n",
        "TMY_df1=TMY_df.drop(TMY_df.columns[[1,35,36,37,38]], axis=1)\n",
        "\n",
        "##spliting data  Actua weather data file Scen 2\n",
        "year = pd.to_datetime(raw_df1.Date).dt.year\n",
        "\n",
        "train_df = raw_df1[year < 2017]\n",
        "val_df = raw_df1[year == 2017]\n",
        "test_df = raw_df1[ year == 2019]\n",
        "\n",
        "## specifying input an target in  Actua weather data file\n",
        "input_cols = (train_df.columns)[1:-1]\n",
        "target_col = 'LightsElectricity'\n",
        "## specifying input an target in Typical weather data file\n",
        "input_cols_TMY1 = (TMY_df1.columns)[1:-1]\n",
        "target_col_TMY1 = 'LightsElectricity'\n",
        "\n",
        "## Creating a copy from data to keep the main data intact\n",
        "val_inputs = val_df[input_cols].copy()\n",
        "val_targets = val_df[target_col].copy()\n",
        "test_inputs = test_df[input_cols].copy()\n",
        "test_targets = test_df[target_col].copy()\n",
        "train_inputs = train_df[input_cols].copy()\n",
        "train_targets = train_df[target_col].copy()\n",
        "test_inputs_TMY = TMY_df1[input_cols_TMY1].copy()\n",
        "test_targets_TMY = TMY_df1[target_col_TMY1].copy()\n",
        "\n",
        "# developing model\n",
        "model = xgb.XGBRegressor(objective ='reg:linear', colsample_bytree = 1, learning_rate = 0.05,\n",
        "                max_depth = 6, alpha = 10, n_estimators = 100)\n",
        "\n",
        "#########specifying the metrics############\n",
        "# fitting model on training data\n",
        "\n",
        "model.fit(train_inputs, train_targets)\n",
        "preds3 = model.predict(test_inputs)\n",
        "\n",
        "model.fit(test_inputs_TMY, test_targets_TMY)\n",
        "preds4 = model.predict(test_inputs_TMY)"
      ],
      "metadata": {
        "id": "ceCrpUErxS4S"
      },
      "execution_count": null,
      "outputs": []
    },
    {
      "cell_type": "code",
      "source": [
        "A =pd.DataFrame(test_df[target_col]) \n",
        "\n",
        "A.reset_index(inplace = True)\n",
        "A.drop('index', axis=1, inplace=True)\n",
        "A"
      ],
      "metadata": {
        "id": "n0UJQBYhz7NI"
      },
      "execution_count": null,
      "outputs": []
    },
    {
      "cell_type": "code",
      "source": [
        "LightsElectricity = pd.DataFrame(preds4, columns =['predicted for LightsElectricity2019 using TMY'])\n",
        "#LightsElectricity['LightsElectricity via TMY'] = pd.DataFrame(preds4)\n",
        "LightsElectricity[' LightsElectricity Real Values'] = A \n",
        "raw_df.to_csv('LightsElectricity.csv')\n",
        "LightsElectricity"
      ],
      "metadata": {
        "id": "iEe2kgK6bldu"
      },
      "execution_count": null,
      "outputs": []
    },
    {
      "cell_type": "code",
      "source": [
        "plt.figure(figsize=(15,8));\n",
        "x_ax = range ( len(preds4))\n",
        "plt.plot(x_ax,preds4, label =\"Predicted for 2019 using TMY\")\n",
        "#plt.plot(x_ax,preds3, label = \"Predicted for 2019 using data of 2019\")\n",
        "plt.plot(x_ax,A, label = \"Real Value \")\n",
        "plt.title(\"Comparison Lights Electricity\")\n",
        "plt.legend()\n",
        "plt.show()\n"
      ],
      "metadata": {
        "id": "t9Rm9CYS_9MD"
      },
      "execution_count": null,
      "outputs": []
    },
    {
      "cell_type": "code",
      "source": [
        "############# Defining Scenarios ############# \n",
        "## Actua weather data file (all parts of energy consumption)\n",
        "\n",
        "#cooling : [[34,36,37,38]]\n",
        "raw_df2=raw_df.drop(raw_df.columns[[1,34,36,37,38]], axis=1)\n",
        "\n",
        "#cooling : [[34,36,37,38]]\n",
        "TMY_df2=TMY_df.drop(TMY_df.columns[[1,34,36,37,38]], axis=1)\n",
        "\n",
        "\n",
        "##spliting data  Actua weather data file Scen 2\n",
        "year = pd.to_datetime(raw_df2.Date).dt.year\n",
        "\n",
        "train_df = raw_df2[year < 2017]\n",
        "val_df = raw_df2[year == 2017]\n",
        "test_df = raw_df2[ year == 2019]\n",
        "\n",
        "## specifying input an target in  Actua weather data file\n",
        "input_cols = (train_df.columns)[1:-1]\n",
        "target_col = 'Cooling'\n",
        "## specifying input an target in Typical weather data file\n",
        "input_cols_TMY2 = (TMY_df2.columns)[1:-1]\n",
        "target_col_TMY2 = 'Cooling'\n",
        "\n",
        "\n",
        "## Creating a copy from data to keep the main data intact\n",
        "val_inputs = val_df[input_cols].copy()\n",
        "val_targets = val_df[target_col].copy()\n",
        "test_inputs = test_df[input_cols].copy()\n",
        "test_targets = test_df[target_col].copy()\n",
        "train_inputs = train_df[input_cols].copy()\n",
        "train_targets = train_df[target_col].copy()\n",
        "test_inputs_TMY = TMY_df2[input_cols_TMY2].copy()\n",
        "test_targets_TMY = TMY_df2[target_col_TMY2].copy()\n",
        "\n",
        "\n",
        "\n",
        "# developing model\n",
        "model = xgb.XGBRegressor(objective ='reg:linear', colsample_bytree = 1, learning_rate = 0.05,\n",
        "                max_depth = 6, alpha = 10, n_estimators = 100)\n",
        "\n",
        "#########specifying the metrics############\n",
        "# fitting model on training data\n",
        "model.fit(train_inputs, train_targets)\n",
        "preds = model.predict(train_inputs)\n",
        "\n",
        "\n",
        "model.fit(train_inputs, train_targets)\n",
        "preds3 = model.predict(test_inputs)\n",
        "\n",
        "model.fit(test_inputs_TMY, test_targets_TMY)\n",
        "preds4 = model.predict(test_inputs_TMY)"
      ],
      "metadata": {
        "id": "LbxSA_TIlKF4"
      },
      "execution_count": null,
      "outputs": []
    },
    {
      "cell_type": "code",
      "source": [
        "B=pd.DataFrame(test_df[target_col]) \n",
        "\n",
        "B.reset_index(inplace = True)\n",
        "B.drop('index', axis=1, inplace=True)\n",
        "B"
      ],
      "metadata": {
        "id": "MMxVY4q_5lqt"
      },
      "execution_count": null,
      "outputs": []
    },
    {
      "cell_type": "code",
      "source": [
        "cooling = pd.DataFrame(preds4, columns =['predicted for cooling 2019 using TMY'])\n",
        "#LightsElectricity['LightsElectricity via TMY'] = pd.DataFrame(preds4)\n",
        "cooling[' cooling Real Values'] = B \n",
        "raw_df.to_csv('cooling.csv')\n",
        "cooling"
      ],
      "metadata": {
        "id": "XXPV14cM69Ja"
      },
      "execution_count": null,
      "outputs": []
    },
    {
      "cell_type": "code",
      "source": [
        "#cooling = pd.DataFrame(preds3, columns =['coolingvia2019 '])\n",
        "#cooling['cooling via TMY'] = pd.DataFrame(preds4)\n",
        "#cooling[' cooling Real Values'] = B\n",
        "#raw_df.to_csv('cooling.csv')\n",
        "#cooling"
      ],
      "metadata": {
        "id": "6F7XxAaRMxU3"
      },
      "execution_count": null,
      "outputs": []
    },
    {
      "cell_type": "code",
      "source": [
        "#coolingvia2019 = pd.DataFrame(preds3, columns =['energy via 2019'])\n",
        "#coolingvia2019['energy via TMY'] = pd.DataFrame(preds4)"
      ],
      "metadata": {
        "id": "97FrXLT6lKDf"
      },
      "execution_count": null,
      "outputs": []
    },
    {
      "cell_type": "code",
      "source": [
        "plt.figure(figsize=(15,8));\n",
        "x_ax = range ( len(preds4))\n",
        "plt.plot(x_ax,preds4, label =\"TMY\")\n",
        "#plt.plot(x_ax,preds3, label = \"AC\")\n",
        "plt.plot(x_ax,B, label = \"Real values 2019\")\n",
        "plt.title(\"Comparison Cooling\")\n",
        "plt.legend()\n",
        "plt.show()"
      ],
      "metadata": {
        "id": "VcKJO2A2lKAe"
      },
      "execution_count": null,
      "outputs": []
    },
    {
      "cell_type": "code",
      "source": [
        "C=pd.DataFrame(test_df[target_col]) \n",
        "\n",
        "C.reset_index(inplace = True)\n",
        "C.drop('index', axis=1, inplace=True)\n",
        "C"
      ],
      "metadata": {
        "id": "W_6wyfqK7rFn"
      },
      "execution_count": null,
      "outputs": []
    },
    {
      "cell_type": "code",
      "source": [
        "Heating = pd.DataFrame(preds4, columns =['predicted for Heating 2019 using TMY'])\n",
        "#LightsElectricity['LightsElectricity via TMY'] = pd.DataFrame(preds4)\n",
        "Heating[' Heating Real Values'] = C\n",
        "raw_df.to_csv('Heating.csv')\n",
        "Heating"
      ],
      "metadata": {
        "id": "GfjzD9Ho7QpQ"
      },
      "execution_count": null,
      "outputs": []
    },
    {
      "cell_type": "code",
      "source": [
        "#Heating = pd.DataFrame(preds3, columns =['Heating 2019 '])\n",
        "#Heating['Heating via TMY'] = pd.DataFrame(preds4)\n",
        "#Heating.to_csv('Heating.csv')\n",
        "#Heating"
      ],
      "metadata": {
        "id": "tDNX6BlcOTRE"
      },
      "execution_count": null,
      "outputs": []
    },
    {
      "cell_type": "code",
      "source": [
        "plt.figure(figsize=(15,8));\n",
        "\n",
        "x_ax = range ( len(preds4))\n",
        "plt.plot(x_ax,preds4, label =\"TMY\")\n",
        "#plt.plot(x_ax,preds3, label = \"AC\")\n",
        "plt.plot(x_ax,C, label = \"Real values 2019\")\n",
        "plt.title(\"Comparison Heating\")\n",
        "plt.legend()\n",
        "plt.show()"
      ],
      "metadata": {
        "id": "XE4cPVOPmocj"
      },
      "execution_count": null,
      "outputs": []
    },
    {
      "cell_type": "code",
      "source": [
        "TMY_df3['Heating'][246]"
      ],
      "metadata": {
        "id": "fuO7waHVwo18"
      },
      "execution_count": null,
      "outputs": []
    },
    {
      "cell_type": "code",
      "source": [
        "TMY_df3.loc[108:113]"
      ],
      "metadata": {
        "id": "zBa5bTDSxUMy"
      },
      "execution_count": null,
      "outputs": []
    },
    {
      "cell_type": "code",
      "source": [
        "from IPython.display import display\n",
        "with pd.option_context('display.max_rows', 50):\n",
        "    display(TMY_df3[TMY_df3.Heating > 1000]);"
      ],
      "metadata": {
        "id": "e0W-K9hpxvgi"
      },
      "execution_count": null,
      "outputs": []
    },
    {
      "cell_type": "code",
      "source": [
        "new_input = {'Dry Bulb Temperature': -24.5,\n",
        "             'Dew Point Temperature': -28.4,\n",
        "             'Relative Humidity': 70,\n",
        "             'Atmospheric Pressure': 100480,\n",
        "             'Extraterrestrial Horizontal Radiation': 0,\n",
        "             'Extraterrestrial Direct Normal Radiation': 9999,\n",
        "             'Horizontal Infrared Radiation Intensity from Sky': 166,\n",
        "             'Global Horizontal Radiation': 0,\n",
        "             'Direct Normal Radiation': 0,\n",
        "             'Diffuse Horizontal Radiation': 0,\n",
        "             'Global Horizontal Illuminance': 0,\n",
        "             'Direct Normal Illuminance': 0,\n",
        "             'Diffuse Horizontal Illuminance':0,\n",
        "             'Zenith Luminance': 9999,\n",
        "             'Wind Direction': 20,\n",
        "             'Wind Speed': 6,\n",
        "             'Total Sky Cover': 0,\n",
        "             'Opaque Sky Cover': 8,\n",
        "             'Visibility': 999,\n",
        "             'Ceiling Height': 99990,\n",
        "             'Present Weather Observation':9,\n",
        "             'Precipitable Water': 0,\n",
        "             'Aerosol Optical Depth':0 ,\n",
        "             'Snow Depth' : 0,\n",
        "             'Days Since Last Snow': 88,\n",
        "             'Albedo' : 999,\n",
        "             'Liquid Precipitation Depth' :999 ,\n",
        "             'Liquid Precipitation Quantity' : 99,\n",
        "             'People Total Heating Energy' :0 ,\n",
        "             'Total Zone Infiltration Sensible Heat Gain Energy' : 893710,\n",
        "             'Averge Zones temp': 14.66877,\n",
        "             'ATTIC:Zone Air Temperature' : -24,\n",
        "             \n",
        "              }"
      ],
      "metadata": {
        "id": "n7svOoXjJZht"
      },
      "execution_count": null,
      "outputs": []
    },
    {
      "cell_type": "code",
      "source": [
        "new_input_df = pd.DataFrame([new_input])\n",
        "new_input_df.info()"
      ],
      "metadata": {
        "id": "q03BSyndJacN"
      },
      "execution_count": null,
      "outputs": []
    },
    {
      "cell_type": "code",
      "source": [
        "prediction = model.predict(new_input_df)\n",
        "prediction"
      ],
      "metadata": {
        "id": "1gCNgWImJcOs"
      },
      "execution_count": null,
      "outputs": []
    },
    {
      "cell_type": "code",
      "source": [
        ""
      ],
      "metadata": {
        "id": "oCLkwasjJiWK"
      },
      "execution_count": null,
      "outputs": []
    }
  ]
}