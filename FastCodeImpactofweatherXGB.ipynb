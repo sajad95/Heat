{
  "nbformat": 4,
  "nbformat_minor": 0,
  "metadata": {
    "colab": {
      "name": "FastCodeImpactofweatherXGB.ipynb",
      "provenance": [],
      "collapsed_sections": [],
      "authorship_tag": "ABX9TyN5nDKFMRDtIdIQ7pT787ZT",
      "include_colab_link": true
    },
    "kernelspec": {
      "name": "python3",
      "display_name": "Python 3"
    },
    "language_info": {
      "name": "python"
    }
  },
  "cells": [
    {
      "cell_type": "markdown",
      "metadata": {
        "id": "view-in-github",
        "colab_type": "text"
      },
      "source": [
        "<a href=\"https://colab.research.google.com/github/sajad95/Heat/blob/main/FastCodeImpactofweatherXGB.ipynb\" target=\"_parent\"><img src=\"https://colab.research.google.com/assets/colab-badge.svg\" alt=\"Open In Colab\"/></a>"
      ]
    },
    {
      "cell_type": "code",
      "source": [
        "# Let's do it :)\n",
        "\n",
        "# installing librarires\n",
        "!pip install xgboost\n",
        "!pip install pandas --quiet\n",
        "!pip install scikit-learn --upgrade --quiet\n",
        "\n",
        "# importing libraries\n",
        "import pandas as pd\n",
        "import xgboost as xgb\n",
        "import numpy as np\n",
        "import matplotlib.pyplot as plt\n",
        "from sklearn.model_selection import train_test_split\n",
        "from google.colab import drive\n",
        "from sklearn.metrics import mean_squared_error\n",
        "from sklearn.metrics import mean_absolute_error\n",
        "from sklearn.metrics import r2_score"
      ],
      "metadata": {
        "colab": {
          "base_uri": "https://localhost:8080/"
        },
        "id": "sOPeiOgalNtf",
        "outputId": "5afdbd66-cd88-4af5-8d17-b5c49e287e2c"
      },
      "execution_count": 1,
      "outputs": [
        {
          "output_type": "stream",
          "name": "stdout",
          "text": [
            "Looking in indexes: https://pypi.org/simple, https://us-python.pkg.dev/colab-wheels/public/simple/\n",
            "Requirement already satisfied: xgboost in /usr/local/lib/python3.7/dist-packages (0.90)\n",
            "Requirement already satisfied: scipy in /usr/local/lib/python3.7/dist-packages (from xgboost) (1.4.1)\n",
            "Requirement already satisfied: numpy in /usr/local/lib/python3.7/dist-packages (from xgboost) (1.21.6)\n"
          ]
        }
      ]
    },
    {
      "cell_type": "code",
      "source": [
        "# mounting google drive and uploading the data\n",
        "drive.mount('/content/saj')\n",
        "raw_df = pd.read_csv('/content/saj/MyDrive/Kavgic/AllFeaturesInAllyears2.csv')\n",
        "TMY_df = pd.read_csv('/content/saj/MyDrive/Kavgic/TW.csv')\n",
        "\n",
        "#remove extra spaces using strip\n",
        "raw_df['Direct Normal Radiation']=pd.to_numeric(raw_df['Direct Normal Radiation'].astype(str).str.strip())\n",
        "raw_df['Diffuse Horizontal Radiation']=pd.to_numeric(raw_df['Diffuse Horizontal Radiation'].astype(str).str.strip())\n",
        "\n",
        "TMY_df['Direct Normal Radiation']=pd.to_numeric(TMY_df['Direct Normal Radiation'].astype(str).str.strip())\n",
        "TMY_df['Diffuse Horizontal Radiation']=pd.to_numeric(TMY_df['Diffuse Horizontal Radiation'].astype(str).str.strip())\n",
        "#removing extra spaces in name of the columns \n",
        "raw_df.columns = [col.strip() for col in raw_df.columns]\n",
        "TMY_df.columns = [col.strip() for col in TMY_df.columns]\n",
        "\n",
        "#removing every rows that has nan values \n",
        "raw_df.dropna(subset=['Dry Bulb Temperature','Wind Direction','Direct Normal Radiation','Diffuse Horizontal Radiation'], inplace =True)\n",
        "TMY_df.dropna(subset=['Dry Bulb Temperature','Wind Direction','Direct Normal Radiation','Diffuse Horizontal Radiation'], inplace =True)"
      ],
      "metadata": {
        "id": "Hs5EP43ShGl6"
      },
      "execution_count": null,
      "outputs": []
    },
    {
      "cell_type": "markdown",
      "source": [
        "##Impact of weather data on energy demand\n",
        "\n",
        "\n",
        "Goal is to find the best ways for predicting energy demand in 2019 and compare it with the doe model.\n",
        "scenarios:\n",
        "1.   **Training the model with data from 2011 to 2017**\n",
        "\n",
        "*   predicting energy demand for 2019 when the TW is used ( used both TW files) and comapre it with 2018.  if I want to predict energy demand of 2019 wihout having any data, is it better to use TW or use weather data for previous years. If I want to use data belonged to previous years which year can prdict it better.\n",
        "*   Effect of number of years on accuracy\n",
        "*   Finding the accuarcy of model in max and min\n",
        "*   See the accuaracy of the model on design days\n",
        "\n",
        "\n",
        "\n",
        "2.   **Improving the accuracy of the model in mins and maxes**\n",
        "\n",
        "*   Training the Heating and Cooling with deata belonged to cold and warm days\n",
        "*   Training the data with two TW files\n",
        "*   Testing the Data of a hot place for cooling\n",
        "*   Removing columns maybe removin some columns decrease the r2 but it might increase the robutensess of model in predicting min and max\n",
        "*   Effect of energy unit on result of prediction j vs kj vs Mj \n",
        "\n",
        "\n",
        "\n",
        "\n",
        "\n",
        "\n",
        "\n",
        "\n",
        "\n",
        "\n"
      ],
      "metadata": {
        "id": "c1zBpjsBr48W"
      }
    },
    {
      "cell_type": "markdown",
      "source": [
        "## predicting energy demand for 2019\n",
        "\n",
        "\n",
        "* Goal is to find the accuary of he model\n",
        "* How well TW can predict 2019 \n",
        "* How well TW can predict 2018 \n",
        "\n"
      ],
      "metadata": {
        "id": "fnenLJEM68-H"
      }
    },
    {
      "cell_type": "markdown",
      "source": [
        "# Heating ( Electricity)"
      ],
      "metadata": {
        "id": "gio4tfBkkE5u"
      }
    },
    {
      "cell_type": "code",
      "source": [
        "raw_df.columns"
      ],
      "metadata": {
        "id": "AaQohwldpeIK"
      },
      "execution_count": null,
      "outputs": []
    },
    {
      "cell_type": "markdown",
      "source": [
        "Get the index of coloumns"
      ],
      "metadata": {
        "id": "9_HYsnxkjba_"
      }
    },
    {
      "cell_type": "code",
      "source": [
        "raw_df.columns.get_loc('Fans')"
      ],
      "metadata": {
        "colab": {
          "base_uri": "https://localhost:8080/"
        },
        "id": "mQyXKVPGiezC",
        "outputId": "cf161737-0854-42df-ed45-e37535d998a4"
      },
      "execution_count": 4,
      "outputs": [
        {
          "output_type": "execute_result",
          "data": {
            "text/plain": [
              "38"
            ]
          },
          "metadata": {},
          "execution_count": 4
        }
      ]
    },
    {
      "cell_type": "code",
      "source": [
        "#Remving columns by their index\n",
        "## Actua weather data file \n",
        "raw_df3=raw_df.drop(raw_df.columns[[1,6,7,15,16,20,21,22,23,24,25,26,27,28,29,34,35,37,38]], axis=1)\n",
        "## Typical weather data file \n",
        "TMY_df3=TMY_df.drop(TMY_df.columns[[1,6,7,15,16,20,21,22,23,24,25,26,27,28,29,34,35,37,38]], axis=1)"
      ],
      "metadata": {
        "id": "w7oNOCClqxM8"
      },
      "execution_count": 73,
      "outputs": []
    },
    {
      "cell_type": "code",
      "source": [
        "pd.set_option('max_columns', None)"
      ],
      "metadata": {
        "id": "XL6SCqaZhXHC"
      },
      "execution_count": 6,
      "outputs": []
    },
    {
      "cell_type": "code",
      "source": [
        "raw_df3.insert(0, 'Heating', raw_df3.pop('Heating'))\n",
        "TMY_df3.insert(0, 'Heating', TMY_df3.pop('Heating'))\n",
        "raw_df3"
      ],
      "metadata": {
        "colab": {
          "base_uri": "https://localhost:8080/",
          "height": 557
        },
        "id": "WiYYb7_opbLE",
        "outputId": "20a63836-83d0-48d8-8695-a2f76fea47f3"
      },
      "execution_count": 74,
      "outputs": [
        {
          "output_type": "execute_result",
          "data": {
            "text/plain": [
              "          Heating        Date  Dry Bulb Temperature  Dew Point Temperature  \\\n",
              "0        900000.0    1/1/2010                 -21.6                  -25.4   \n",
              "1        900000.0    1/1/2010                 -22.5                  -26.0   \n",
              "2        900000.0    1/1/2010                 -23.8                  -27.5   \n",
              "3        900000.0    1/1/2010                 -24.6                  -28.1   \n",
              "4        900000.0    1/1/2010                 -25.6                  -29.1   \n",
              "...           ...         ...                   ...                    ...   \n",
              "87595  11735676.0  12/31/2019                 -10.4                  -12.9   \n",
              "87596  12807904.0  12/31/2019                 -11.0                  -12.9   \n",
              "87597  11698992.0  12/31/2019                 -10.6                  -13.1   \n",
              "87598  12792717.0  12/31/2019                 -10.4                  -13.2   \n",
              "87599  11721609.0  12/31/2019                 -10.3                  -13.1   \n",
              "\n",
              "       Relative Humidity  Atmospheric Pressure  \\\n",
              "0                   71.0           100230.0000   \n",
              "1                   73.0           100310.0000   \n",
              "2                   71.0           100390.0000   \n",
              "3                   73.0           100510.0000   \n",
              "4                   72.0           100610.0000   \n",
              "...                  ...                   ...   \n",
              "87595               82.0            97240.0000   \n",
              "87596               85.0            98778.4745   \n",
              "87597               82.0            97020.0000   \n",
              "87598               80.0            96900.0000   \n",
              "87599               80.0            96830.0000   \n",
              "\n",
              "       Horizontal Infrared Radiation Intensity from Sky  \\\n",
              "0                                            177.240384   \n",
              "1                                            174.261326   \n",
              "2                                            157.302450   \n",
              "3                                            166.944016   \n",
              "4                                            163.542481   \n",
              "...                                                 ...   \n",
              "87595                                        222.143953   \n",
              "87596                                        220.120643   \n",
              "87597                                        221.294437   \n",
              "87598                                        221.882804   \n",
              "87599                                        222.308191   \n",
              "\n",
              "       Global Horizontal Radiation  Direct Normal Radiation  \\\n",
              "0                                0                      0.0   \n",
              "1                                0                      0.0   \n",
              "2                                0                      0.0   \n",
              "3                                0                      0.0   \n",
              "4                                0                      0.0   \n",
              "...                            ...                      ...   \n",
              "87595                            0                      0.0   \n",
              "87596                            0                      0.0   \n",
              "87597                            0                      0.0   \n",
              "87598                            0                      0.0   \n",
              "87599                            0                      0.0   \n",
              "\n",
              "       Diffuse Horizontal Radiation  Global Horizontal Illuminance  \\\n",
              "0                               0.0                              0   \n",
              "1                               0.0                              0   \n",
              "2                               0.0                              0   \n",
              "3                               0.0                              0   \n",
              "4                               0.0                              0   \n",
              "...                             ...                            ...   \n",
              "87595                           0.0                              0   \n",
              "87596                           0.0                              0   \n",
              "87597                           0.0                              0   \n",
              "87598                           0.0                              0   \n",
              "87599                           0.0                              0   \n",
              "\n",
              "       Direct Normal Illuminance  Diffuse Horizontal Illuminance  Wind Speed  \\\n",
              "0                              0                               0         9.0   \n",
              "1                              0                               0        11.0   \n",
              "2                              0                               0        13.0   \n",
              "3                              0                               0        11.0   \n",
              "4                              0                               0        11.0   \n",
              "...                          ...                             ...         ...   \n",
              "87595                          0                               0         9.0   \n",
              "87596                          0                               0        10.0   \n",
              "87597                          0                               0         9.0   \n",
              "87598                          0                               0         8.0   \n",
              "87599                          0                               0         8.0   \n",
              "\n",
              "       Total Sky Cover  Opaque Sky Cover  People Total Heating Energy  \\\n",
              "0                    0                 8                          0.0   \n",
              "1                    6                 8                          0.0   \n",
              "2                    4                 1                          0.0   \n",
              "3                    0                 8                          0.0   \n",
              "4                    4                 8                          0.0   \n",
              "...                ...               ...                          ...   \n",
              "87595                8                 8                          0.0   \n",
              "87596                0                 8                          0.0   \n",
              "87597                3                 8                          0.0   \n",
              "87598                1                 8                          0.0   \n",
              "87599                1                 8                          0.0   \n",
              "\n",
              "       Total Zone Infiltration Sensible Heat Gain Energy  Averge Zones temp  \\\n",
              "0                                              4476693.0           13.00748   \n",
              "1                                              3768383.0           12.54072   \n",
              "2                                              1650617.0           11.80668   \n",
              "3                                              1148430.0           11.46979   \n",
              "4                                               821679.4           11.56382   \n",
              "...                                                  ...                ...   \n",
              "87595                                          1985548.0           15.65689   \n",
              "87596                                          1573438.0           15.71235   \n",
              "87597                                          1700574.0           15.59203   \n",
              "87598                                          1911364.0           15.69048   \n",
              "87599                                          1950130.0           15.59368   \n",
              "\n",
              "       ATTIC:Zone Air Temperature  \n",
              "0                        -28.1504  \n",
              "1                        -25.8800  \n",
              "2                        -24.9026  \n",
              "3                        -25.4089  \n",
              "4                        -26.0010  \n",
              "...                           ...  \n",
              "87595                    -12.4567  \n",
              "87596                    -12.4324  \n",
              "87597                    -12.5909  \n",
              "87598                    -12.5501  \n",
              "87599                    -12.4532  \n",
              "\n",
              "[86837 rows x 20 columns]"
            ],
            "text/html": [
              "\n",
              "  <div id=\"df-97ecb80b-1742-436a-8285-d41bb834f075\">\n",
              "    <div class=\"colab-df-container\">\n",
              "      <div>\n",
              "<style scoped>\n",
              "    .dataframe tbody tr th:only-of-type {\n",
              "        vertical-align: middle;\n",
              "    }\n",
              "\n",
              "    .dataframe tbody tr th {\n",
              "        vertical-align: top;\n",
              "    }\n",
              "\n",
              "    .dataframe thead th {\n",
              "        text-align: right;\n",
              "    }\n",
              "</style>\n",
              "<table border=\"1\" class=\"dataframe\">\n",
              "  <thead>\n",
              "    <tr style=\"text-align: right;\">\n",
              "      <th></th>\n",
              "      <th>Heating</th>\n",
              "      <th>Date</th>\n",
              "      <th>Dry Bulb Temperature</th>\n",
              "      <th>Dew Point Temperature</th>\n",
              "      <th>Relative Humidity</th>\n",
              "      <th>Atmospheric Pressure</th>\n",
              "      <th>Horizontal Infrared Radiation Intensity from Sky</th>\n",
              "      <th>Global Horizontal Radiation</th>\n",
              "      <th>Direct Normal Radiation</th>\n",
              "      <th>Diffuse Horizontal Radiation</th>\n",
              "      <th>Global Horizontal Illuminance</th>\n",
              "      <th>Direct Normal Illuminance</th>\n",
              "      <th>Diffuse Horizontal Illuminance</th>\n",
              "      <th>Wind Speed</th>\n",
              "      <th>Total Sky Cover</th>\n",
              "      <th>Opaque Sky Cover</th>\n",
              "      <th>People Total Heating Energy</th>\n",
              "      <th>Total Zone Infiltration Sensible Heat Gain Energy</th>\n",
              "      <th>Averge Zones temp</th>\n",
              "      <th>ATTIC:Zone Air Temperature</th>\n",
              "    </tr>\n",
              "  </thead>\n",
              "  <tbody>\n",
              "    <tr>\n",
              "      <th>0</th>\n",
              "      <td>900000.0</td>\n",
              "      <td>1/1/2010</td>\n",
              "      <td>-21.6</td>\n",
              "      <td>-25.4</td>\n",
              "      <td>71.0</td>\n",
              "      <td>100230.0000</td>\n",
              "      <td>177.240384</td>\n",
              "      <td>0</td>\n",
              "      <td>0.0</td>\n",
              "      <td>0.0</td>\n",
              "      <td>0</td>\n",
              "      <td>0</td>\n",
              "      <td>0</td>\n",
              "      <td>9.0</td>\n",
              "      <td>0</td>\n",
              "      <td>8</td>\n",
              "      <td>0.0</td>\n",
              "      <td>4476693.0</td>\n",
              "      <td>13.00748</td>\n",
              "      <td>-28.1504</td>\n",
              "    </tr>\n",
              "    <tr>\n",
              "      <th>1</th>\n",
              "      <td>900000.0</td>\n",
              "      <td>1/1/2010</td>\n",
              "      <td>-22.5</td>\n",
              "      <td>-26.0</td>\n",
              "      <td>73.0</td>\n",
              "      <td>100310.0000</td>\n",
              "      <td>174.261326</td>\n",
              "      <td>0</td>\n",
              "      <td>0.0</td>\n",
              "      <td>0.0</td>\n",
              "      <td>0</td>\n",
              "      <td>0</td>\n",
              "      <td>0</td>\n",
              "      <td>11.0</td>\n",
              "      <td>6</td>\n",
              "      <td>8</td>\n",
              "      <td>0.0</td>\n",
              "      <td>3768383.0</td>\n",
              "      <td>12.54072</td>\n",
              "      <td>-25.8800</td>\n",
              "    </tr>\n",
              "    <tr>\n",
              "      <th>2</th>\n",
              "      <td>900000.0</td>\n",
              "      <td>1/1/2010</td>\n",
              "      <td>-23.8</td>\n",
              "      <td>-27.5</td>\n",
              "      <td>71.0</td>\n",
              "      <td>100390.0000</td>\n",
              "      <td>157.302450</td>\n",
              "      <td>0</td>\n",
              "      <td>0.0</td>\n",
              "      <td>0.0</td>\n",
              "      <td>0</td>\n",
              "      <td>0</td>\n",
              "      <td>0</td>\n",
              "      <td>13.0</td>\n",
              "      <td>4</td>\n",
              "      <td>1</td>\n",
              "      <td>0.0</td>\n",
              "      <td>1650617.0</td>\n",
              "      <td>11.80668</td>\n",
              "      <td>-24.9026</td>\n",
              "    </tr>\n",
              "    <tr>\n",
              "      <th>3</th>\n",
              "      <td>900000.0</td>\n",
              "      <td>1/1/2010</td>\n",
              "      <td>-24.6</td>\n",
              "      <td>-28.1</td>\n",
              "      <td>73.0</td>\n",
              "      <td>100510.0000</td>\n",
              "      <td>166.944016</td>\n",
              "      <td>0</td>\n",
              "      <td>0.0</td>\n",
              "      <td>0.0</td>\n",
              "      <td>0</td>\n",
              "      <td>0</td>\n",
              "      <td>0</td>\n",
              "      <td>11.0</td>\n",
              "      <td>0</td>\n",
              "      <td>8</td>\n",
              "      <td>0.0</td>\n",
              "      <td>1148430.0</td>\n",
              "      <td>11.46979</td>\n",
              "      <td>-25.4089</td>\n",
              "    </tr>\n",
              "    <tr>\n",
              "      <th>4</th>\n",
              "      <td>900000.0</td>\n",
              "      <td>1/1/2010</td>\n",
              "      <td>-25.6</td>\n",
              "      <td>-29.1</td>\n",
              "      <td>72.0</td>\n",
              "      <td>100610.0000</td>\n",
              "      <td>163.542481</td>\n",
              "      <td>0</td>\n",
              "      <td>0.0</td>\n",
              "      <td>0.0</td>\n",
              "      <td>0</td>\n",
              "      <td>0</td>\n",
              "      <td>0</td>\n",
              "      <td>11.0</td>\n",
              "      <td>4</td>\n",
              "      <td>8</td>\n",
              "      <td>0.0</td>\n",
              "      <td>821679.4</td>\n",
              "      <td>11.56382</td>\n",
              "      <td>-26.0010</td>\n",
              "    </tr>\n",
              "    <tr>\n",
              "      <th>...</th>\n",
              "      <td>...</td>\n",
              "      <td>...</td>\n",
              "      <td>...</td>\n",
              "      <td>...</td>\n",
              "      <td>...</td>\n",
              "      <td>...</td>\n",
              "      <td>...</td>\n",
              "      <td>...</td>\n",
              "      <td>...</td>\n",
              "      <td>...</td>\n",
              "      <td>...</td>\n",
              "      <td>...</td>\n",
              "      <td>...</td>\n",
              "      <td>...</td>\n",
              "      <td>...</td>\n",
              "      <td>...</td>\n",
              "      <td>...</td>\n",
              "      <td>...</td>\n",
              "      <td>...</td>\n",
              "      <td>...</td>\n",
              "    </tr>\n",
              "    <tr>\n",
              "      <th>87595</th>\n",
              "      <td>11735676.0</td>\n",
              "      <td>12/31/2019</td>\n",
              "      <td>-10.4</td>\n",
              "      <td>-12.9</td>\n",
              "      <td>82.0</td>\n",
              "      <td>97240.0000</td>\n",
              "      <td>222.143953</td>\n",
              "      <td>0</td>\n",
              "      <td>0.0</td>\n",
              "      <td>0.0</td>\n",
              "      <td>0</td>\n",
              "      <td>0</td>\n",
              "      <td>0</td>\n",
              "      <td>9.0</td>\n",
              "      <td>8</td>\n",
              "      <td>8</td>\n",
              "      <td>0.0</td>\n",
              "      <td>1985548.0</td>\n",
              "      <td>15.65689</td>\n",
              "      <td>-12.4567</td>\n",
              "    </tr>\n",
              "    <tr>\n",
              "      <th>87596</th>\n",
              "      <td>12807904.0</td>\n",
              "      <td>12/31/2019</td>\n",
              "      <td>-11.0</td>\n",
              "      <td>-12.9</td>\n",
              "      <td>85.0</td>\n",
              "      <td>98778.4745</td>\n",
              "      <td>220.120643</td>\n",
              "      <td>0</td>\n",
              "      <td>0.0</td>\n",
              "      <td>0.0</td>\n",
              "      <td>0</td>\n",
              "      <td>0</td>\n",
              "      <td>0</td>\n",
              "      <td>10.0</td>\n",
              "      <td>0</td>\n",
              "      <td>8</td>\n",
              "      <td>0.0</td>\n",
              "      <td>1573438.0</td>\n",
              "      <td>15.71235</td>\n",
              "      <td>-12.4324</td>\n",
              "    </tr>\n",
              "    <tr>\n",
              "      <th>87597</th>\n",
              "      <td>11698992.0</td>\n",
              "      <td>12/31/2019</td>\n",
              "      <td>-10.6</td>\n",
              "      <td>-13.1</td>\n",
              "      <td>82.0</td>\n",
              "      <td>97020.0000</td>\n",
              "      <td>221.294437</td>\n",
              "      <td>0</td>\n",
              "      <td>0.0</td>\n",
              "      <td>0.0</td>\n",
              "      <td>0</td>\n",
              "      <td>0</td>\n",
              "      <td>0</td>\n",
              "      <td>9.0</td>\n",
              "      <td>3</td>\n",
              "      <td>8</td>\n",
              "      <td>0.0</td>\n",
              "      <td>1700574.0</td>\n",
              "      <td>15.59203</td>\n",
              "      <td>-12.5909</td>\n",
              "    </tr>\n",
              "    <tr>\n",
              "      <th>87598</th>\n",
              "      <td>12792717.0</td>\n",
              "      <td>12/31/2019</td>\n",
              "      <td>-10.4</td>\n",
              "      <td>-13.2</td>\n",
              "      <td>80.0</td>\n",
              "      <td>96900.0000</td>\n",
              "      <td>221.882804</td>\n",
              "      <td>0</td>\n",
              "      <td>0.0</td>\n",
              "      <td>0.0</td>\n",
              "      <td>0</td>\n",
              "      <td>0</td>\n",
              "      <td>0</td>\n",
              "      <td>8.0</td>\n",
              "      <td>1</td>\n",
              "      <td>8</td>\n",
              "      <td>0.0</td>\n",
              "      <td>1911364.0</td>\n",
              "      <td>15.69048</td>\n",
              "      <td>-12.5501</td>\n",
              "    </tr>\n",
              "    <tr>\n",
              "      <th>87599</th>\n",
              "      <td>11721609.0</td>\n",
              "      <td>12/31/2019</td>\n",
              "      <td>-10.3</td>\n",
              "      <td>-13.1</td>\n",
              "      <td>80.0</td>\n",
              "      <td>96830.0000</td>\n",
              "      <td>222.308191</td>\n",
              "      <td>0</td>\n",
              "      <td>0.0</td>\n",
              "      <td>0.0</td>\n",
              "      <td>0</td>\n",
              "      <td>0</td>\n",
              "      <td>0</td>\n",
              "      <td>8.0</td>\n",
              "      <td>1</td>\n",
              "      <td>8</td>\n",
              "      <td>0.0</td>\n",
              "      <td>1950130.0</td>\n",
              "      <td>15.59368</td>\n",
              "      <td>-12.4532</td>\n",
              "    </tr>\n",
              "  </tbody>\n",
              "</table>\n",
              "<p>86837 rows × 20 columns</p>\n",
              "</div>\n",
              "      <button class=\"colab-df-convert\" onclick=\"convertToInteractive('df-97ecb80b-1742-436a-8285-d41bb834f075')\"\n",
              "              title=\"Convert this dataframe to an interactive table.\"\n",
              "              style=\"display:none;\">\n",
              "        \n",
              "  <svg xmlns=\"http://www.w3.org/2000/svg\" height=\"24px\"viewBox=\"0 0 24 24\"\n",
              "       width=\"24px\">\n",
              "    <path d=\"M0 0h24v24H0V0z\" fill=\"none\"/>\n",
              "    <path d=\"M18.56 5.44l.94 2.06.94-2.06 2.06-.94-2.06-.94-.94-2.06-.94 2.06-2.06.94zm-11 1L8.5 8.5l.94-2.06 2.06-.94-2.06-.94L8.5 2.5l-.94 2.06-2.06.94zm10 10l.94 2.06.94-2.06 2.06-.94-2.06-.94-.94-2.06-.94 2.06-2.06.94z\"/><path d=\"M17.41 7.96l-1.37-1.37c-.4-.4-.92-.59-1.43-.59-.52 0-1.04.2-1.43.59L10.3 9.45l-7.72 7.72c-.78.78-.78 2.05 0 2.83L4 21.41c.39.39.9.59 1.41.59.51 0 1.02-.2 1.41-.59l7.78-7.78 2.81-2.81c.8-.78.8-2.07 0-2.86zM5.41 20L4 18.59l7.72-7.72 1.47 1.35L5.41 20z\"/>\n",
              "  </svg>\n",
              "      </button>\n",
              "      \n",
              "  <style>\n",
              "    .colab-df-container {\n",
              "      display:flex;\n",
              "      flex-wrap:wrap;\n",
              "      gap: 12px;\n",
              "    }\n",
              "\n",
              "    .colab-df-convert {\n",
              "      background-color: #E8F0FE;\n",
              "      border: none;\n",
              "      border-radius: 50%;\n",
              "      cursor: pointer;\n",
              "      display: none;\n",
              "      fill: #1967D2;\n",
              "      height: 32px;\n",
              "      padding: 0 0 0 0;\n",
              "      width: 32px;\n",
              "    }\n",
              "\n",
              "    .colab-df-convert:hover {\n",
              "      background-color: #E2EBFA;\n",
              "      box-shadow: 0px 1px 2px rgba(60, 64, 67, 0.3), 0px 1px 3px 1px rgba(60, 64, 67, 0.15);\n",
              "      fill: #174EA6;\n",
              "    }\n",
              "\n",
              "    [theme=dark] .colab-df-convert {\n",
              "      background-color: #3B4455;\n",
              "      fill: #D2E3FC;\n",
              "    }\n",
              "\n",
              "    [theme=dark] .colab-df-convert:hover {\n",
              "      background-color: #434B5C;\n",
              "      box-shadow: 0px 1px 3px 1px rgba(0, 0, 0, 0.15);\n",
              "      filter: drop-shadow(0px 1px 2px rgba(0, 0, 0, 0.3));\n",
              "      fill: #FFFFFF;\n",
              "    }\n",
              "  </style>\n",
              "\n",
              "      <script>\n",
              "        const buttonEl =\n",
              "          document.querySelector('#df-97ecb80b-1742-436a-8285-d41bb834f075 button.colab-df-convert');\n",
              "        buttonEl.style.display =\n",
              "          google.colab.kernel.accessAllowed ? 'block' : 'none';\n",
              "\n",
              "        async function convertToInteractive(key) {\n",
              "          const element = document.querySelector('#df-97ecb80b-1742-436a-8285-d41bb834f075');\n",
              "          const dataTable =\n",
              "            await google.colab.kernel.invokeFunction('convertToInteractive',\n",
              "                                                     [key], {});\n",
              "          if (!dataTable) return;\n",
              "\n",
              "          const docLinkHtml = 'Like what you see? Visit the ' +\n",
              "            '<a target=\"_blank\" href=https://colab.research.google.com/notebooks/data_table.ipynb>data table notebook</a>'\n",
              "            + ' to learn more about interactive tables.';\n",
              "          element.innerHTML = '';\n",
              "          dataTable['output_type'] = 'display_data';\n",
              "          await google.colab.output.renderOutput(dataTable, element);\n",
              "          const docLink = document.createElement('div');\n",
              "          docLink.innerHTML = docLinkHtml;\n",
              "          element.appendChild(docLink);\n",
              "        }\n",
              "      </script>\n",
              "    </div>\n",
              "  </div>\n",
              "  "
            ]
          },
          "metadata": {},
          "execution_count": 74
        }
      ]
    },
    {
      "cell_type": "code",
      "source": [
        "#raw_df3=raw_df3[raw_df3.columns.difference([1,2,3])]\n",
        "#raw_df3\n",
        "# All coloumns except one\n",
        "#raw_df3=raw_df3.loc[:, raw_df3.columns != 'Zenith Luminance']"
      ],
      "metadata": {
        "id": "YtOHyHLBbcKH"
      },
      "execution_count": null,
      "outputs": []
    },
    {
      "cell_type": "code",
      "source": [
        "##spliting data  \n",
        "year = pd.to_datetime(raw_df3.Date).dt.year\n",
        "train_df = raw_df3[year < 2017]\n",
        "val_df = raw_df3[year == 2017]\n",
        "test_df = raw_df3[ year == 2019]"
      ],
      "metadata": {
        "id": "GudG5Qw_Fbjx"
      },
      "execution_count": 75,
      "outputs": []
    },
    {
      "cell_type": "code",
      "source": [
        "## specifying input and target in  Actua weather data file\n",
        "input_cols = (train_df.columns)[2:]\n",
        "target_col = 'Heating'\n",
        "## specifying input and target in Typical weather data file\n",
        "input_cols_TMY2 = (TMY_df3.columns)[2:]\n",
        "target_col_TMY2 = 'Heating'"
      ],
      "metadata": {
        "id": "ZQqdoPgZFmNp"
      },
      "execution_count": 76,
      "outputs": []
    },
    {
      "cell_type": "code",
      "source": [
        "target_col"
      ],
      "metadata": {
        "colab": {
          "base_uri": "https://localhost:8080/",
          "height": 35
        },
        "id": "-BFEMElpr1wN",
        "outputId": "eb849c25-f39e-4972-ab07-2bb39fe9ab26"
      },
      "execution_count": 10,
      "outputs": [
        {
          "output_type": "execute_result",
          "data": {
            "text/plain": [
              "'Heating'"
            ],
            "application/vnd.google.colaboratory.intrinsic+json": {
              "type": "string"
            }
          },
          "metadata": {},
          "execution_count": 10
        }
      ]
    },
    {
      "cell_type": "code",
      "source": [
        "input_cols"
      ],
      "metadata": {
        "colab": {
          "base_uri": "https://localhost:8080/"
        },
        "id": "j0C_X4YzH9Wp",
        "outputId": "4a8d500e-073c-470a-fd0d-8aa271cbd1b7"
      },
      "execution_count": 11,
      "outputs": [
        {
          "output_type": "execute_result",
          "data": {
            "text/plain": [
              "Index(['Dry Bulb Temperature', 'Dew Point Temperature', 'Relative Humidity',\n",
              "       'Atmospheric Pressure',\n",
              "       'Horizontal Infrared Radiation Intensity from Sky',\n",
              "       'Global Horizontal Radiation', 'Direct Normal Radiation',\n",
              "       'Diffuse Horizontal Radiation', 'Global Horizontal Illuminance',\n",
              "       'Direct Normal Illuminance', 'Diffuse Horizontal Illuminance',\n",
              "       'Wind Speed', 'Total Sky Cover', 'Opaque Sky Cover',\n",
              "       'People Total Heating Energy',\n",
              "       'Total Zone Infiltration Sensible Heat Gain Energy',\n",
              "       'Averge Zones temp', 'ATTIC:Zone Air Temperature'],\n",
              "      dtype='object')"
            ]
          },
          "metadata": {},
          "execution_count": 11
        }
      ]
    },
    {
      "cell_type": "code",
      "source": [
        "## Creating a copy from data to keep the main data intact\n",
        "val_inputs = val_df[input_cols].copy()\n",
        "val_targets = val_df[target_col].copy()\n",
        "test_inputs = test_df[input_cols].copy()\n",
        "test_targets = test_df[target_col].copy()\n",
        "train_inputs = train_df[input_cols].copy()\n",
        "train_targets = train_df[target_col].copy()\n",
        "test_inputs_TMY = TMY_df3[input_cols_TMY2].copy()\n",
        "test_targets_TMY = TMY_df3[target_col_TMY2].copy()\n",
        "\n",
        "# developing model\n",
        "model = xgb.XGBRegressor(objective ='reg:linear', colsample_bytree = 0.5, learning_rate = 0.1,\n",
        "                max_depth = 10,reg_lambda=10, alpha = 6, n_estimators = 120)\n",
        "\n",
        "# fitting model on training data\n",
        "model.fit(train_inputs, train_targets)\n",
        "\n",
        "preds3 = model.predict(test_inputs)\n",
        "\n",
        "preds4 = model.predict(test_inputs_TMY)"
      ],
      "metadata": {
        "id": "Q5Y8kdaKmKfx",
        "colab": {
          "base_uri": "https://localhost:8080/"
        },
        "outputId": "89200f39-32c7-4961-dc67-845a23b9a174"
      },
      "execution_count": 83,
      "outputs": [
        {
          "output_type": "stream",
          "name": "stdout",
          "text": [
            "[05:16:38] WARNING: /workspace/src/objective/regression_obj.cu:152: reg:linear is now deprecated in favor of reg:squarederror.\n"
          ]
        }
      ]
    },
    {
      "cell_type": "code",
      "source": [
        "C=pd.DataFrame(test_df[target_col]) \n",
        "C.reset_index(inplace = True)\n",
        "C.drop('index', axis=1, inplace=True)"
      ],
      "metadata": {
        "id": "PPiux2dRkypb"
      },
      "execution_count": 84,
      "outputs": []
    },
    {
      "cell_type": "markdown",
      "source": [
        "Predicting energy in 2019 using the data of 2019 itself and comparing with real values in 2019"
      ],
      "metadata": {
        "id": "Tle-URrIBi8m"
      }
    },
    {
      "cell_type": "code",
      "source": [
        "R2_score1=r2_score(test_targets, preds3)\n",
        "print(R2_score1)"
      ],
      "metadata": {
        "colab": {
          "base_uri": "https://localhost:8080/"
        },
        "id": "rC8CSLIoBrGt",
        "outputId": "3b238385-2ad7-4920-e6a5-09b586bd6682"
      },
      "execution_count": 85,
      "outputs": [
        {
          "output_type": "stream",
          "name": "stdout",
          "text": [
            "0.9661309392454597\n"
          ]
        }
      ]
    },
    {
      "cell_type": "code",
      "source": [
        "Heating = pd.DataFrame(preds3, columns =['predicted for Heating 2019 using data belobged to 2019'])\n",
        "#LightsElectricity['LightsElectricity via TMY'] = pd.DataFrame(preds4)\n",
        "Heating[' Heating Real Values'] = C\n",
        "raw_df.to_csv('Heating.csv')\n",
        "Heating"
      ],
      "metadata": {
        "colab": {
          "base_uri": "https://localhost:8080/",
          "height": 424
        },
        "id": "e7JiNvS1BrBV",
        "outputId": "0bbfd506-15f4-47ee-c625-7b29b156dc12"
      },
      "execution_count": 15,
      "outputs": [
        {
          "output_type": "execute_result",
          "data": {
            "text/plain": [
              "      predicted for Heating 2019 using data belobged to 2019  \\\n",
              "0                                          9.046932e+05        \n",
              "1                                          9.092231e+05        \n",
              "2                                          8.928031e+05        \n",
              "3                                          9.037528e+05        \n",
              "4                                          9.021367e+05        \n",
              "...                                                 ...        \n",
              "8755                                       1.145935e+07        \n",
              "8756                                       1.299496e+07        \n",
              "8757                                       1.184588e+07        \n",
              "8758                                       1.165276e+07        \n",
              "8759                                       1.200638e+07        \n",
              "\n",
              "       Heating Real Values  \n",
              "0                 900000.0  \n",
              "1                 900000.0  \n",
              "2                 900000.0  \n",
              "3                 900000.0  \n",
              "4                 900000.0  \n",
              "...                    ...  \n",
              "8755            11735676.0  \n",
              "8756            12807904.0  \n",
              "8757            11698992.0  \n",
              "8758            12792717.0  \n",
              "8759            11721609.0  \n",
              "\n",
              "[8760 rows x 2 columns]"
            ],
            "text/html": [
              "\n",
              "  <div id=\"df-8f2355a3-217a-4245-8fe7-1c9293a84b9b\">\n",
              "    <div class=\"colab-df-container\">\n",
              "      <div>\n",
              "<style scoped>\n",
              "    .dataframe tbody tr th:only-of-type {\n",
              "        vertical-align: middle;\n",
              "    }\n",
              "\n",
              "    .dataframe tbody tr th {\n",
              "        vertical-align: top;\n",
              "    }\n",
              "\n",
              "    .dataframe thead th {\n",
              "        text-align: right;\n",
              "    }\n",
              "</style>\n",
              "<table border=\"1\" class=\"dataframe\">\n",
              "  <thead>\n",
              "    <tr style=\"text-align: right;\">\n",
              "      <th></th>\n",
              "      <th>predicted for Heating 2019 using data belobged to 2019</th>\n",
              "      <th>Heating Real Values</th>\n",
              "    </tr>\n",
              "  </thead>\n",
              "  <tbody>\n",
              "    <tr>\n",
              "      <th>0</th>\n",
              "      <td>9.046932e+05</td>\n",
              "      <td>900000.0</td>\n",
              "    </tr>\n",
              "    <tr>\n",
              "      <th>1</th>\n",
              "      <td>9.092231e+05</td>\n",
              "      <td>900000.0</td>\n",
              "    </tr>\n",
              "    <tr>\n",
              "      <th>2</th>\n",
              "      <td>8.928031e+05</td>\n",
              "      <td>900000.0</td>\n",
              "    </tr>\n",
              "    <tr>\n",
              "      <th>3</th>\n",
              "      <td>9.037528e+05</td>\n",
              "      <td>900000.0</td>\n",
              "    </tr>\n",
              "    <tr>\n",
              "      <th>4</th>\n",
              "      <td>9.021367e+05</td>\n",
              "      <td>900000.0</td>\n",
              "    </tr>\n",
              "    <tr>\n",
              "      <th>...</th>\n",
              "      <td>...</td>\n",
              "      <td>...</td>\n",
              "    </tr>\n",
              "    <tr>\n",
              "      <th>8755</th>\n",
              "      <td>1.145935e+07</td>\n",
              "      <td>11735676.0</td>\n",
              "    </tr>\n",
              "    <tr>\n",
              "      <th>8756</th>\n",
              "      <td>1.299496e+07</td>\n",
              "      <td>12807904.0</td>\n",
              "    </tr>\n",
              "    <tr>\n",
              "      <th>8757</th>\n",
              "      <td>1.184588e+07</td>\n",
              "      <td>11698992.0</td>\n",
              "    </tr>\n",
              "    <tr>\n",
              "      <th>8758</th>\n",
              "      <td>1.165276e+07</td>\n",
              "      <td>12792717.0</td>\n",
              "    </tr>\n",
              "    <tr>\n",
              "      <th>8759</th>\n",
              "      <td>1.200638e+07</td>\n",
              "      <td>11721609.0</td>\n",
              "    </tr>\n",
              "  </tbody>\n",
              "</table>\n",
              "<p>8760 rows × 2 columns</p>\n",
              "</div>\n",
              "      <button class=\"colab-df-convert\" onclick=\"convertToInteractive('df-8f2355a3-217a-4245-8fe7-1c9293a84b9b')\"\n",
              "              title=\"Convert this dataframe to an interactive table.\"\n",
              "              style=\"display:none;\">\n",
              "        \n",
              "  <svg xmlns=\"http://www.w3.org/2000/svg\" height=\"24px\"viewBox=\"0 0 24 24\"\n",
              "       width=\"24px\">\n",
              "    <path d=\"M0 0h24v24H0V0z\" fill=\"none\"/>\n",
              "    <path d=\"M18.56 5.44l.94 2.06.94-2.06 2.06-.94-2.06-.94-.94-2.06-.94 2.06-2.06.94zm-11 1L8.5 8.5l.94-2.06 2.06-.94-2.06-.94L8.5 2.5l-.94 2.06-2.06.94zm10 10l.94 2.06.94-2.06 2.06-.94-2.06-.94-.94-2.06-.94 2.06-2.06.94z\"/><path d=\"M17.41 7.96l-1.37-1.37c-.4-.4-.92-.59-1.43-.59-.52 0-1.04.2-1.43.59L10.3 9.45l-7.72 7.72c-.78.78-.78 2.05 0 2.83L4 21.41c.39.39.9.59 1.41.59.51 0 1.02-.2 1.41-.59l7.78-7.78 2.81-2.81c.8-.78.8-2.07 0-2.86zM5.41 20L4 18.59l7.72-7.72 1.47 1.35L5.41 20z\"/>\n",
              "  </svg>\n",
              "      </button>\n",
              "      \n",
              "  <style>\n",
              "    .colab-df-container {\n",
              "      display:flex;\n",
              "      flex-wrap:wrap;\n",
              "      gap: 12px;\n",
              "    }\n",
              "\n",
              "    .colab-df-convert {\n",
              "      background-color: #E8F0FE;\n",
              "      border: none;\n",
              "      border-radius: 50%;\n",
              "      cursor: pointer;\n",
              "      display: none;\n",
              "      fill: #1967D2;\n",
              "      height: 32px;\n",
              "      padding: 0 0 0 0;\n",
              "      width: 32px;\n",
              "    }\n",
              "\n",
              "    .colab-df-convert:hover {\n",
              "      background-color: #E2EBFA;\n",
              "      box-shadow: 0px 1px 2px rgba(60, 64, 67, 0.3), 0px 1px 3px 1px rgba(60, 64, 67, 0.15);\n",
              "      fill: #174EA6;\n",
              "    }\n",
              "\n",
              "    [theme=dark] .colab-df-convert {\n",
              "      background-color: #3B4455;\n",
              "      fill: #D2E3FC;\n",
              "    }\n",
              "\n",
              "    [theme=dark] .colab-df-convert:hover {\n",
              "      background-color: #434B5C;\n",
              "      box-shadow: 0px 1px 3px 1px rgba(0, 0, 0, 0.15);\n",
              "      filter: drop-shadow(0px 1px 2px rgba(0, 0, 0, 0.3));\n",
              "      fill: #FFFFFF;\n",
              "    }\n",
              "  </style>\n",
              "\n",
              "      <script>\n",
              "        const buttonEl =\n",
              "          document.querySelector('#df-8f2355a3-217a-4245-8fe7-1c9293a84b9b button.colab-df-convert');\n",
              "        buttonEl.style.display =\n",
              "          google.colab.kernel.accessAllowed ? 'block' : 'none';\n",
              "\n",
              "        async function convertToInteractive(key) {\n",
              "          const element = document.querySelector('#df-8f2355a3-217a-4245-8fe7-1c9293a84b9b');\n",
              "          const dataTable =\n",
              "            await google.colab.kernel.invokeFunction('convertToInteractive',\n",
              "                                                     [key], {});\n",
              "          if (!dataTable) return;\n",
              "\n",
              "          const docLinkHtml = 'Like what you see? Visit the ' +\n",
              "            '<a target=\"_blank\" href=https://colab.research.google.com/notebooks/data_table.ipynb>data table notebook</a>'\n",
              "            + ' to learn more about interactive tables.';\n",
              "          element.innerHTML = '';\n",
              "          dataTable['output_type'] = 'display_data';\n",
              "          await google.colab.output.renderOutput(dataTable, element);\n",
              "          const docLink = document.createElement('div');\n",
              "          docLink.innerHTML = docLinkHtml;\n",
              "          element.appendChild(docLink);\n",
              "        }\n",
              "      </script>\n",
              "    </div>\n",
              "  </div>\n",
              "  "
            ]
          },
          "metadata": {},
          "execution_count": 15
        }
      ]
    },
    {
      "cell_type": "code",
      "source": [
        "plt.figure(figsize=(30,8));\n",
        "\n",
        "x_ax = range ( len(preds3))\n",
        "plt.plot(x_ax,preds3, label =\"predicted 2019\")\n",
        "#plt.plot(x_ax,preds3, label = \"AC\")\n",
        "plt.plot(x_ax,C, label = \"Real values 2019\")\n",
        "plt.title(\"Comparison Heating\")\n",
        "plt.legend()\n",
        "plt.show()"
      ],
      "metadata": {
        "colab": {
          "base_uri": "https://localhost:8080/",
          "height": 459
        },
        "id": "HngSOKmZBq-m",
        "outputId": "035379ea-21fe-42cc-ab80-49a27efda191"
      },
      "execution_count": 16,
      "outputs": [
        {
          "output_type": "display_data",
          "data": {
            "text/plain": [
              "<Figure size 2160x576 with 1 Axes>"
            ],
            "image/png": "[encoded data removed]"
          },
          "metadata": {
            "needs_background": "light"
          }
        }
      ]
    },
    {
      "cell_type": "code",
      "source": [
        "plt.figure(figsize=(6.5,5.3));\n",
        "plt.plot(C,preds3,'bo');\n",
        "\n",
        "plt.plot([0,3e7],[0,3e7],'-',color=[0.1,0.1,0.1,0.5],linewidth=1)"
      ],
      "metadata": {
        "id": "YVJ43x4rBq7u",
        "colab": {
          "base_uri": "https://localhost:8080/",
          "height": 377
        },
        "outputId": "a02cc69f-66c3-47d1-9c61-e6f2ef29a9d0"
      },
      "execution_count": 17,
      "outputs": [
        {
          "output_type": "execute_result",
          "data": {
            "text/plain": [
              "[<matplotlib.lines.Line2D at 0x7f2bed4cd1d0>]"
            ]
          },
          "metadata": {},
          "execution_count": 17
        },
        {
          "output_type": "display_data",
          "data": {
            "text/plain": [
              "<Figure size 468x381.6 with 1 Axes>"
            ],
            "image/png": "[encoded data removed]"
          },
          "metadata": {
            "needs_background": "light"
          }
        }
      ]
    },
    {
      "cell_type": "markdown",
      "source": [
        "Lets find Accuracy of the model in mins and maxes\n",
        "\n",
        "In doe file the threshold of heating is 15 degC\n",
        "\n"
      ],
      "metadata": {
        "id": "cU4NWlTe8LcT"
      }
    },
    {
      "cell_type": "code",
      "source": [
        "Max = test_targets.to_frame(name ='Heating')"
      ],
      "metadata": {
        "id": "rjVGfU-wRJjp"
      },
      "execution_count": 53,
      "outputs": []
    },
    {
      "cell_type": "code",
      "source": [
        "test_inputs.sort_values(by=\"Dry Bulb Temperature\")"
      ],
      "metadata": {
        "colab": {
          "base_uri": "https://localhost:8080/",
          "height": 557
        },
        "id": "FmIa737eJpCP",
        "outputId": "6675b841-2b21-4907-d1c5-081865e559f0"
      },
      "execution_count": 54,
      "outputs": [
        {
          "output_type": "execute_result",
          "data": {
            "text/plain": [
              "       Dry Bulb Temperature  Dew Point Temperature  Relative Humidity  \\\n",
              "79544                 -34.8                  -39.4               63.0   \n",
              "79540                 -34.4                  -39.3               62.0   \n",
              "79542                 -34.4                  -39.0               63.0   \n",
              "79543                 -34.4                  -39.0               63.0   \n",
              "79541                 -34.2                  -38.9               63.0   \n",
              "...                     ...                    ...                ...   \n",
              "82622                  34.0                   10.9               25.0   \n",
              "82621                  34.1                   10.8               24.0   \n",
              "82625                  34.2                    9.6               22.0   \n",
              "82624                  35.2                    9.1               20.0   \n",
              "82623                  35.4                   10.9               23.0   \n",
              "\n",
              "       Atmospheric Pressure  Horizontal Infrared Radiation Intensity from Sky  \\\n",
              "79544               99880.0                                        130.311176   \n",
              "79540               99910.0                                        131.252914   \n",
              "79542               99880.0                                        131.445421   \n",
              "79543               99860.0                                        131.445421   \n",
              "79541               99900.0                                        131.951028   \n",
              "...                     ...                                               ...   \n",
              "82622               97290.0                                        439.761467   \n",
              "82621               97340.0                                        445.320963   \n",
              "82625               97260.0                                        431.885831   \n",
              "82624               97220.0                                        449.196556   \n",
              "82623               97250.0                                        447.838213   \n",
              "\n",
              "       Global Horizontal Radiation  Direct Normal Radiation  \\\n",
              "79544                           49                      0.0   \n",
              "79540                            0                      0.0   \n",
              "79542                            0                      0.0   \n",
              "79543                            0                      0.0   \n",
              "79541                            0                      0.0   \n",
              "...                            ...                      ...   \n",
              "82622                          858                    151.0   \n",
              "82621                          949                    388.0   \n",
              "82625                          371                      0.0   \n",
              "82624                          556                    218.0   \n",
              "82623                          724                     73.0   \n",
              "\n",
              "       Diffuse Horizontal Radiation  Global Horizontal Illuminance  \\\n",
              "79544                           0.0                              7   \n",
              "79540                           0.0                              0   \n",
              "79542                           0.0                              0   \n",
              "79543                           0.0                              0   \n",
              "79541                           0.0                              0   \n",
              "...                             ...                            ...   \n",
              "82622                         406.0                             92   \n",
              "82621                         364.0                            102   \n",
              "82625                          49.0                             40   \n",
              "82624                         288.0                             60   \n",
              "82623                         335.0                             78   \n",
              "\n",
              "       Direct Normal Illuminance  Diffuse Horizontal Illuminance  Wind Speed  \\\n",
              "79544                          4                               6         2.0   \n",
              "79540                          0                               0         4.0   \n",
              "79542                          0                               0         4.0   \n",
              "79543                          0                               0         4.0   \n",
              "79541                          0                               0         3.0   \n",
              "...                          ...                             ...         ...   \n",
              "82622                         93                              16        13.0   \n",
              "82621                         95                              16        15.0   \n",
              "82625                         67                              14        16.0   \n",
              "82624                         83                              13        14.0   \n",
              "82623                         90                              14        15.0   \n",
              "\n",
              "       Total Sky Cover  Opaque Sky Cover  People Total Heating Energy  \\\n",
              "79544                1                 6                   13311971.0   \n",
              "79540                1                 6                          0.0   \n",
              "79542                8                 6                    1464317.0   \n",
              "79543                6                 6                    2795514.0   \n",
              "79541                7                 6                          0.0   \n",
              "...                ...               ...                          ...   \n",
              "82622                4                 6                   13311971.0   \n",
              "82621                6                 7                   11559291.0   \n",
              "82625                3                 4                    1464317.0   \n",
              "82624                0                 7                    4259831.0   \n",
              "82623                6                 6                   13311971.0   \n",
              "\n",
              "       Total Zone Infiltration Sensible Heat Gain Energy  Averge Zones temp  \\\n",
              "79544                                          1987093.0           13.46564   \n",
              "79540                                          1873661.0           11.91809   \n",
              "79542                                          2216035.0           12.53789   \n",
              "79543                                          2187447.0           11.98644   \n",
              "79541                                          2103799.0           11.98183   \n",
              "...                                                  ...                ...   \n",
              "82622                                          1974027.0           23.89069   \n",
              "82621                                          1813380.0           23.99946   \n",
              "82625                                          1689108.0           26.33504   \n",
              "82624                                          7300978.0           23.88931   \n",
              "82623                                          2151679.0           23.88939   \n",
              "\n",
              "       ATTIC:Zone Air Temperature  \n",
              "79544                   -36.52920  \n",
              "79540                   -36.06500  \n",
              "79542                   -36.43160  \n",
              "79543                   -36.48760  \n",
              "79541                   -36.29190  \n",
              "...                           ...  \n",
              "82622                    49.27203  \n",
              "82621                    49.82594  \n",
              "82625                    40.80136  \n",
              "82624                    44.64788  \n",
              "82623                    46.17186  \n",
              "\n",
              "[8760 rows x 18 columns]"
            ],
            "text/html": [
              "\n",
              "  <div id=\"df-88301e17-8ffe-4f2b-9208-5dc583eda391\">\n",
              "    <div class=\"colab-df-container\">\n",
              "      <div>\n",
              "<style scoped>\n",
              "    .dataframe tbody tr th:only-of-type {\n",
              "        vertical-align: middle;\n",
              "    }\n",
              "\n",
              "    .dataframe tbody tr th {\n",
              "        vertical-align: top;\n",
              "    }\n",
              "\n",
              "    .dataframe thead th {\n",
              "        text-align: right;\n",
              "    }\n",
              "</style>\n",
              "<table border=\"1\" class=\"dataframe\">\n",
              "  <thead>\n",
              "    <tr style=\"text-align: right;\">\n",
              "      <th></th>\n",
              "      <th>Dry Bulb Temperature</th>\n",
              "      <th>Dew Point Temperature</th>\n",
              "      <th>Relative Humidity</th>\n",
              "      <th>Atmospheric Pressure</th>\n",
              "      <th>Horizontal Infrared Radiation Intensity from Sky</th>\n",
              "      <th>Global Horizontal Radiation</th>\n",
              "      <th>Direct Normal Radiation</th>\n",
              "      <th>Diffuse Horizontal Radiation</th>\n",
              "      <th>Global Horizontal Illuminance</th>\n",
              "      <th>Direct Normal Illuminance</th>\n",
              "      <th>Diffuse Horizontal Illuminance</th>\n",
              "      <th>Wind Speed</th>\n",
              "      <th>Total Sky Cover</th>\n",
              "      <th>Opaque Sky Cover</th>\n",
              "      <th>People Total Heating Energy</th>\n",
              "      <th>Total Zone Infiltration Sensible Heat Gain Energy</th>\n",
              "      <th>Averge Zones temp</th>\n",
              "      <th>ATTIC:Zone Air Temperature</th>\n",
              "    </tr>\n",
              "  </thead>\n",
              "  <tbody>\n",
              "    <tr>\n",
              "      <th>79544</th>\n",
              "      <td>-34.8</td>\n",
              "      <td>-39.4</td>\n",
              "      <td>63.0</td>\n",
              "      <td>99880.0</td>\n",
              "      <td>130.311176</td>\n",
              "      <td>49</td>\n",
              "      <td>0.0</td>\n",
              "      <td>0.0</td>\n",
              "      <td>7</td>\n",
              "      <td>4</td>\n",
              "      <td>6</td>\n",
              "      <td>2.0</td>\n",
              "      <td>1</td>\n",
              "      <td>6</td>\n",
              "      <td>13311971.0</td>\n",
              "      <td>1987093.0</td>\n",
              "      <td>13.46564</td>\n",
              "      <td>-36.52920</td>\n",
              "    </tr>\n",
              "    <tr>\n",
              "      <th>79540</th>\n",
              "      <td>-34.4</td>\n",
              "      <td>-39.3</td>\n",
              "      <td>62.0</td>\n",
              "      <td>99910.0</td>\n",
              "      <td>131.252914</td>\n",
              "      <td>0</td>\n",
              "      <td>0.0</td>\n",
              "      <td>0.0</td>\n",
              "      <td>0</td>\n",
              "      <td>0</td>\n",
              "      <td>0</td>\n",
              "      <td>4.0</td>\n",
              "      <td>1</td>\n",
              "      <td>6</td>\n",
              "      <td>0.0</td>\n",
              "      <td>1873661.0</td>\n",
              "      <td>11.91809</td>\n",
              "      <td>-36.06500</td>\n",
              "    </tr>\n",
              "    <tr>\n",
              "      <th>79542</th>\n",
              "      <td>-34.4</td>\n",
              "      <td>-39.0</td>\n",
              "      <td>63.0</td>\n",
              "      <td>99880.0</td>\n",
              "      <td>131.445421</td>\n",
              "      <td>0</td>\n",
              "      <td>0.0</td>\n",
              "      <td>0.0</td>\n",
              "      <td>0</td>\n",
              "      <td>0</td>\n",
              "      <td>0</td>\n",
              "      <td>4.0</td>\n",
              "      <td>8</td>\n",
              "      <td>6</td>\n",
              "      <td>1464317.0</td>\n",
              "      <td>2216035.0</td>\n",
              "      <td>12.53789</td>\n",
              "      <td>-36.43160</td>\n",
              "    </tr>\n",
              "    <tr>\n",
              "      <th>79543</th>\n",
              "      <td>-34.4</td>\n",
              "      <td>-39.0</td>\n",
              "      <td>63.0</td>\n",
              "      <td>99860.0</td>\n",
              "      <td>131.445421</td>\n",
              "      <td>0</td>\n",
              "      <td>0.0</td>\n",
              "      <td>0.0</td>\n",
              "      <td>0</td>\n",
              "      <td>0</td>\n",
              "      <td>0</td>\n",
              "      <td>4.0</td>\n",
              "      <td>6</td>\n",
              "      <td>6</td>\n",
              "      <td>2795514.0</td>\n",
              "      <td>2187447.0</td>\n",
              "      <td>11.98644</td>\n",
              "      <td>-36.48760</td>\n",
              "    </tr>\n",
              "    <tr>\n",
              "      <th>79541</th>\n",
              "      <td>-34.2</td>\n",
              "      <td>-38.9</td>\n",
              "      <td>63.0</td>\n",
              "      <td>99900.0</td>\n",
              "      <td>131.951028</td>\n",
              "      <td>0</td>\n",
              "      <td>0.0</td>\n",
              "      <td>0.0</td>\n",
              "      <td>0</td>\n",
              "      <td>0</td>\n",
              "      <td>0</td>\n",
              "      <td>3.0</td>\n",
              "      <td>7</td>\n",
              "      <td>6</td>\n",
              "      <td>0.0</td>\n",
              "      <td>2103799.0</td>\n",
              "      <td>11.98183</td>\n",
              "      <td>-36.29190</td>\n",
              "    </tr>\n",
              "    <tr>\n",
              "      <th>...</th>\n",
              "      <td>...</td>\n",
              "      <td>...</td>\n",
              "      <td>...</td>\n",
              "      <td>...</td>\n",
              "      <td>...</td>\n",
              "      <td>...</td>\n",
              "      <td>...</td>\n",
              "      <td>...</td>\n",
              "      <td>...</td>\n",
              "      <td>...</td>\n",
              "      <td>...</td>\n",
              "      <td>...</td>\n",
              "      <td>...</td>\n",
              "      <td>...</td>\n",
              "      <td>...</td>\n",
              "      <td>...</td>\n",
              "      <td>...</td>\n",
              "      <td>...</td>\n",
              "    </tr>\n",
              "    <tr>\n",
              "      <th>82622</th>\n",
              "      <td>34.0</td>\n",
              "      <td>10.9</td>\n",
              "      <td>25.0</td>\n",
              "      <td>97290.0</td>\n",
              "      <td>439.761467</td>\n",
              "      <td>858</td>\n",
              "      <td>151.0</td>\n",
              "      <td>406.0</td>\n",
              "      <td>92</td>\n",
              "      <td>93</td>\n",
              "      <td>16</td>\n",
              "      <td>13.0</td>\n",
              "      <td>4</td>\n",
              "      <td>6</td>\n",
              "      <td>13311971.0</td>\n",
              "      <td>1974027.0</td>\n",
              "      <td>23.89069</td>\n",
              "      <td>49.27203</td>\n",
              "    </tr>\n",
              "    <tr>\n",
              "      <th>82621</th>\n",
              "      <td>34.1</td>\n",
              "      <td>10.8</td>\n",
              "      <td>24.0</td>\n",
              "      <td>97340.0</td>\n",
              "      <td>445.320963</td>\n",
              "      <td>949</td>\n",
              "      <td>388.0</td>\n",
              "      <td>364.0</td>\n",
              "      <td>102</td>\n",
              "      <td>95</td>\n",
              "      <td>16</td>\n",
              "      <td>15.0</td>\n",
              "      <td>6</td>\n",
              "      <td>7</td>\n",
              "      <td>11559291.0</td>\n",
              "      <td>1813380.0</td>\n",
              "      <td>23.99946</td>\n",
              "      <td>49.82594</td>\n",
              "    </tr>\n",
              "    <tr>\n",
              "      <th>82625</th>\n",
              "      <td>34.2</td>\n",
              "      <td>9.6</td>\n",
              "      <td>22.0</td>\n",
              "      <td>97260.0</td>\n",
              "      <td>431.885831</td>\n",
              "      <td>371</td>\n",
              "      <td>0.0</td>\n",
              "      <td>49.0</td>\n",
              "      <td>40</td>\n",
              "      <td>67</td>\n",
              "      <td>14</td>\n",
              "      <td>16.0</td>\n",
              "      <td>3</td>\n",
              "      <td>4</td>\n",
              "      <td>1464317.0</td>\n",
              "      <td>1689108.0</td>\n",
              "      <td>26.33504</td>\n",
              "      <td>40.80136</td>\n",
              "    </tr>\n",
              "    <tr>\n",
              "      <th>82624</th>\n",
              "      <td>35.2</td>\n",
              "      <td>9.1</td>\n",
              "      <td>20.0</td>\n",
              "      <td>97220.0</td>\n",
              "      <td>449.196556</td>\n",
              "      <td>556</td>\n",
              "      <td>218.0</td>\n",
              "      <td>288.0</td>\n",
              "      <td>60</td>\n",
              "      <td>83</td>\n",
              "      <td>13</td>\n",
              "      <td>14.0</td>\n",
              "      <td>0</td>\n",
              "      <td>7</td>\n",
              "      <td>4259831.0</td>\n",
              "      <td>7300978.0</td>\n",
              "      <td>23.88931</td>\n",
              "      <td>44.64788</td>\n",
              "    </tr>\n",
              "    <tr>\n",
              "      <th>82623</th>\n",
              "      <td>35.4</td>\n",
              "      <td>10.9</td>\n",
              "      <td>23.0</td>\n",
              "      <td>97250.0</td>\n",
              "      <td>447.838213</td>\n",
              "      <td>724</td>\n",
              "      <td>73.0</td>\n",
              "      <td>335.0</td>\n",
              "      <td>78</td>\n",
              "      <td>90</td>\n",
              "      <td>14</td>\n",
              "      <td>15.0</td>\n",
              "      <td>6</td>\n",
              "      <td>6</td>\n",
              "      <td>13311971.0</td>\n",
              "      <td>2151679.0</td>\n",
              "      <td>23.88939</td>\n",
              "      <td>46.17186</td>\n",
              "    </tr>\n",
              "  </tbody>\n",
              "</table>\n",
              "<p>8760 rows × 18 columns</p>\n",
              "</div>\n",
              "      <button class=\"colab-df-convert\" onclick=\"convertToInteractive('df-88301e17-8ffe-4f2b-9208-5dc583eda391')\"\n",
              "              title=\"Convert this dataframe to an interactive table.\"\n",
              "              style=\"display:none;\">\n",
              "        \n",
              "  <svg xmlns=\"http://www.w3.org/2000/svg\" height=\"24px\"viewBox=\"0 0 24 24\"\n",
              "       width=\"24px\">\n",
              "    <path d=\"M0 0h24v24H0V0z\" fill=\"none\"/>\n",
              "    <path d=\"M18.56 5.44l.94 2.06.94-2.06 2.06-.94-2.06-.94-.94-2.06-.94 2.06-2.06.94zm-11 1L8.5 8.5l.94-2.06 2.06-.94-2.06-.94L8.5 2.5l-.94 2.06-2.06.94zm10 10l.94 2.06.94-2.06 2.06-.94-2.06-.94-.94-2.06-.94 2.06-2.06.94z\"/><path d=\"M17.41 7.96l-1.37-1.37c-.4-.4-.92-.59-1.43-.59-.52 0-1.04.2-1.43.59L10.3 9.45l-7.72 7.72c-.78.78-.78 2.05 0 2.83L4 21.41c.39.39.9.59 1.41.59.51 0 1.02-.2 1.41-.59l7.78-7.78 2.81-2.81c.8-.78.8-2.07 0-2.86zM5.41 20L4 18.59l7.72-7.72 1.47 1.35L5.41 20z\"/>\n",
              "  </svg>\n",
              "      </button>\n",
              "      \n",
              "  <style>\n",
              "    .colab-df-container {\n",
              "      display:flex;\n",
              "      flex-wrap:wrap;\n",
              "      gap: 12px;\n",
              "    }\n",
              "\n",
              "    .colab-df-convert {\n",
              "      background-color: #E8F0FE;\n",
              "      border: none;\n",
              "      border-radius: 50%;\n",
              "      cursor: pointer;\n",
              "      display: none;\n",
              "      fill: #1967D2;\n",
              "      height: 32px;\n",
              "      padding: 0 0 0 0;\n",
              "      width: 32px;\n",
              "    }\n",
              "\n",
              "    .colab-df-convert:hover {\n",
              "      background-color: #E2EBFA;\n",
              "      box-shadow: 0px 1px 2px rgba(60, 64, 67, 0.3), 0px 1px 3px 1px rgba(60, 64, 67, 0.15);\n",
              "      fill: #174EA6;\n",
              "    }\n",
              "\n",
              "    [theme=dark] .colab-df-convert {\n",
              "      background-color: #3B4455;\n",
              "      fill: #D2E3FC;\n",
              "    }\n",
              "\n",
              "    [theme=dark] .colab-df-convert:hover {\n",
              "      background-color: #434B5C;\n",
              "      box-shadow: 0px 1px 3px 1px rgba(0, 0, 0, 0.15);\n",
              "      filter: drop-shadow(0px 1px 2px rgba(0, 0, 0, 0.3));\n",
              "      fill: #FFFFFF;\n",
              "    }\n",
              "  </style>\n",
              "\n",
              "      <script>\n",
              "        const buttonEl =\n",
              "          document.querySelector('#df-88301e17-8ffe-4f2b-9208-5dc583eda391 button.colab-df-convert');\n",
              "        buttonEl.style.display =\n",
              "          google.colab.kernel.accessAllowed ? 'block' : 'none';\n",
              "\n",
              "        async function convertToInteractive(key) {\n",
              "          const element = document.querySelector('#df-88301e17-8ffe-4f2b-9208-5dc583eda391');\n",
              "          const dataTable =\n",
              "            await google.colab.kernel.invokeFunction('convertToInteractive',\n",
              "                                                     [key], {});\n",
              "          if (!dataTable) return;\n",
              "\n",
              "          const docLinkHtml = 'Like what you see? Visit the ' +\n",
              "            '<a target=\"_blank\" href=https://colab.research.google.com/notebooks/data_table.ipynb>data table notebook</a>'\n",
              "            + ' to learn more about interactive tables.';\n",
              "          element.innerHTML = '';\n",
              "          dataTable['output_type'] = 'display_data';\n",
              "          await google.colab.output.renderOutput(dataTable, element);\n",
              "          const docLink = document.createElement('div');\n",
              "          docLink.innerHTML = docLinkHtml;\n",
              "          element.appendChild(docLink);\n",
              "        }\n",
              "      </script>\n",
              "    </div>\n",
              "  </div>\n",
              "  "
            ]
          },
          "metadata": {},
          "execution_count": 54
        }
      ]
    },
    {
      "cell_type": "code",
      "source": [
        "## Extract their index\n",
        "# saving indexes in a new column named index\n",
        "index = test_inputs.index\n",
        "condition = test_inputs['Dry Bulb Temperature']  <-30 \n",
        "indices = index[condition]\n",
        "indices_list = indices.tolist()\n",
        "print(indices_list)"
      ],
      "metadata": {
        "id": "vNT07QwF8LDm",
        "colab": {
          "base_uri": "https://localhost:8080/"
        },
        "outputId": "a132f3a7-014e-40ab-d36f-b97167e8e7ab"
      },
      "execution_count": 66,
      "outputs": [
        {
          "output_type": "stream",
          "name": "stdout",
          "text": [
            "[79300, 79301, 79302, 79303, 79304, 79305, 79516, 79517, 79518, 79519, 79520, 79521, 79522, 79523, 79524, 79525, 79526, 79527, 79528, 79529, 79530, 79531, 79532, 79533, 79534, 79535, 79536, 79537, 79538, 79539, 79540, 79541, 79542, 79543, 79544, 79545, 79546, 79547, 79548, 79549, 79554, 79555, 79556, 79557, 79558, 79559, 79560, 79561, 79562, 79563, 79564, 79565, 79566, 79567, 79568]\n"
          ]
        }
      ]
    },
    {
      "cell_type": "code",
      "source": [
        "Max_input = test_inputs.loc[[79300, 79301, 79302, 79303, 79304, 79305, 79516, 79517, 79518, 79519, 79520, 79521, 79522, 79523, 79524, 79525, 79526, 79527, 79528, 79529, 79530, 79531, 79532, 79533, 79534, 79535, 79536, 79537, 79538, 79539, 79540, 79541, 79542, 79543, 79544, 79545, 79546, 79547, 79548, 79549, 79554, 79555, 79556, 79557, 79558, 79559, 79560, 79561, 79562, 79563, 79564, 79565, 79566, 79567, 79568],:]"
      ],
      "metadata": {
        "id": "UchwDAJJ58zk"
      },
      "execution_count": 67,
      "outputs": []
    },
    {
      "cell_type": "code",
      "source": [
        "Max_Target= Max.loc[[79300, 79301, 79302, 79303, 79304, 79305, 79516, 79517, 79518, 79519, 79520, 79521, 79522, 79523, 79524, 79525, 79526, 79527, 79528, 79529, 79530, 79531, 79532, 79533, 79534, 79535, 79536, 79537, 79538, 79539, 79540, 79541, 79542, 79543, 79544, 79545, 79546, 79547, 79548, 79549, 79554, 79555, 79556, 79557, 79558, 79559, 79560, 79561, 79562, 79563, 79564, 79565, 79566, 79567, 79568],:]"
      ],
      "metadata": {
        "id": "S4lc8Ulj8K-Y"
      },
      "execution_count": 68,
      "outputs": []
    },
    {
      "cell_type": "code",
      "source": [
        "Max_Target.head(10)"
      ],
      "metadata": {
        "colab": {
          "base_uri": "https://localhost:8080/",
          "height": 363
        },
        "id": "tIb_D0quAZJd",
        "outputId": "3435c3d8-7072-42ea-94b9-6047e59c52e6"
      },
      "execution_count": 71,
      "outputs": [
        {
          "output_type": "execute_result",
          "data": {
            "text/plain": [
              "        Heating\n",
              "79300  900000.0\n",
              "79301  900000.0\n",
              "79302  900000.0\n",
              "79303  900000.0\n",
              "79304  900000.0\n",
              "79305  900000.0\n",
              "79516  900000.0\n",
              "79517  900000.0\n",
              "79518  900000.0\n",
              "79519  900000.0"
            ],
            "text/html": [
              "\n",
              "  <div id=\"df-7f5badc2-7d35-47fc-82f0-42c41cbff8b1\">\n",
              "    <div class=\"colab-df-container\">\n",
              "      <div>\n",
              "<style scoped>\n",
              "    .dataframe tbody tr th:only-of-type {\n",
              "        vertical-align: middle;\n",
              "    }\n",
              "\n",
              "    .dataframe tbody tr th {\n",
              "        vertical-align: top;\n",
              "    }\n",
              "\n",
              "    .dataframe thead th {\n",
              "        text-align: right;\n",
              "    }\n",
              "</style>\n",
              "<table border=\"1\" class=\"dataframe\">\n",
              "  <thead>\n",
              "    <tr style=\"text-align: right;\">\n",
              "      <th></th>\n",
              "      <th>Heating</th>\n",
              "    </tr>\n",
              "  </thead>\n",
              "  <tbody>\n",
              "    <tr>\n",
              "      <th>79300</th>\n",
              "      <td>900000.0</td>\n",
              "    </tr>\n",
              "    <tr>\n",
              "      <th>79301</th>\n",
              "      <td>900000.0</td>\n",
              "    </tr>\n",
              "    <tr>\n",
              "      <th>79302</th>\n",
              "      <td>900000.0</td>\n",
              "    </tr>\n",
              "    <tr>\n",
              "      <th>79303</th>\n",
              "      <td>900000.0</td>\n",
              "    </tr>\n",
              "    <tr>\n",
              "      <th>79304</th>\n",
              "      <td>900000.0</td>\n",
              "    </tr>\n",
              "    <tr>\n",
              "      <th>79305</th>\n",
              "      <td>900000.0</td>\n",
              "    </tr>\n",
              "    <tr>\n",
              "      <th>79516</th>\n",
              "      <td>900000.0</td>\n",
              "    </tr>\n",
              "    <tr>\n",
              "      <th>79517</th>\n",
              "      <td>900000.0</td>\n",
              "    </tr>\n",
              "    <tr>\n",
              "      <th>79518</th>\n",
              "      <td>900000.0</td>\n",
              "    </tr>\n",
              "    <tr>\n",
              "      <th>79519</th>\n",
              "      <td>900000.0</td>\n",
              "    </tr>\n",
              "  </tbody>\n",
              "</table>\n",
              "</div>\n",
              "      <button class=\"colab-df-convert\" onclick=\"convertToInteractive('df-7f5badc2-7d35-47fc-82f0-42c41cbff8b1')\"\n",
              "              title=\"Convert this dataframe to an interactive table.\"\n",
              "              style=\"display:none;\">\n",
              "        \n",
              "  <svg xmlns=\"http://www.w3.org/2000/svg\" height=\"24px\"viewBox=\"0 0 24 24\"\n",
              "       width=\"24px\">\n",
              "    <path d=\"M0 0h24v24H0V0z\" fill=\"none\"/>\n",
              "    <path d=\"M18.56 5.44l.94 2.06.94-2.06 2.06-.94-2.06-.94-.94-2.06-.94 2.06-2.06.94zm-11 1L8.5 8.5l.94-2.06 2.06-.94-2.06-.94L8.5 2.5l-.94 2.06-2.06.94zm10 10l.94 2.06.94-2.06 2.06-.94-2.06-.94-.94-2.06-.94 2.06-2.06.94z\"/><path d=\"M17.41 7.96l-1.37-1.37c-.4-.4-.92-.59-1.43-.59-.52 0-1.04.2-1.43.59L10.3 9.45l-7.72 7.72c-.78.78-.78 2.05 0 2.83L4 21.41c.39.39.9.59 1.41.59.51 0 1.02-.2 1.41-.59l7.78-7.78 2.81-2.81c.8-.78.8-2.07 0-2.86zM5.41 20L4 18.59l7.72-7.72 1.47 1.35L5.41 20z\"/>\n",
              "  </svg>\n",
              "      </button>\n",
              "      \n",
              "  <style>\n",
              "    .colab-df-container {\n",
              "      display:flex;\n",
              "      flex-wrap:wrap;\n",
              "      gap: 12px;\n",
              "    }\n",
              "\n",
              "    .colab-df-convert {\n",
              "      background-color: #E8F0FE;\n",
              "      border: none;\n",
              "      border-radius: 50%;\n",
              "      cursor: pointer;\n",
              "      display: none;\n",
              "      fill: #1967D2;\n",
              "      height: 32px;\n",
              "      padding: 0 0 0 0;\n",
              "      width: 32px;\n",
              "    }\n",
              "\n",
              "    .colab-df-convert:hover {\n",
              "      background-color: #E2EBFA;\n",
              "      box-shadow: 0px 1px 2px rgba(60, 64, 67, 0.3), 0px 1px 3px 1px rgba(60, 64, 67, 0.15);\n",
              "      fill: #174EA6;\n",
              "    }\n",
              "\n",
              "    [theme=dark] .colab-df-convert {\n",
              "      background-color: #3B4455;\n",
              "      fill: #D2E3FC;\n",
              "    }\n",
              "\n",
              "    [theme=dark] .colab-df-convert:hover {\n",
              "      background-color: #434B5C;\n",
              "      box-shadow: 0px 1px 3px 1px rgba(0, 0, 0, 0.15);\n",
              "      filter: drop-shadow(0px 1px 2px rgba(0, 0, 0, 0.3));\n",
              "      fill: #FFFFFF;\n",
              "    }\n",
              "  </style>\n",
              "\n",
              "      <script>\n",
              "        const buttonEl =\n",
              "          document.querySelector('#df-7f5badc2-7d35-47fc-82f0-42c41cbff8b1 button.colab-df-convert');\n",
              "        buttonEl.style.display =\n",
              "          google.colab.kernel.accessAllowed ? 'block' : 'none';\n",
              "\n",
              "        async function convertToInteractive(key) {\n",
              "          const element = document.querySelector('#df-7f5badc2-7d35-47fc-82f0-42c41cbff8b1');\n",
              "          const dataTable =\n",
              "            await google.colab.kernel.invokeFunction('convertToInteractive',\n",
              "                                                     [key], {});\n",
              "          if (!dataTable) return;\n",
              "\n",
              "          const docLinkHtml = 'Like what you see? Visit the ' +\n",
              "            '<a target=\"_blank\" href=https://colab.research.google.com/notebooks/data_table.ipynb>data table notebook</a>'\n",
              "            + ' to learn more about interactive tables.';\n",
              "          element.innerHTML = '';\n",
              "          dataTable['output_type'] = 'display_data';\n",
              "          await google.colab.output.renderOutput(dataTable, element);\n",
              "          const docLink = document.createElement('div');\n",
              "          docLink.innerHTML = docLinkHtml;\n",
              "          element.appendChild(docLink);\n",
              "        }\n",
              "      </script>\n",
              "    </div>\n",
              "  </div>\n",
              "  "
            ]
          },
          "metadata": {},
          "execution_count": 71
        }
      ]
    },
    {
      "cell_type": "markdown",
      "source": [
        "Fitting the model on Max"
      ],
      "metadata": {
        "id": "LmrebRiP5TOL"
      }
    },
    {
      "cell_type": "code",
      "source": [
        "predsMax = model.predict(Max_input)"
      ],
      "metadata": {
        "id": "ZThlFaDB5R70"
      },
      "execution_count": 69,
      "outputs": []
    },
    {
      "cell_type": "code",
      "source": [
        "predsMax"
      ],
      "metadata": {
        "colab": {
          "base_uri": "https://localhost:8080/"
        },
        "id": "BDnxROJPATV0",
        "outputId": "e2da3ff7-467f-4f7c-850e-ae96348b2f81"
      },
      "execution_count": 70,
      "outputs": [
        {
          "output_type": "execute_result",
          "data": {
            "text/plain": [
              "array([853337.4 , 967823.44, 836495.94, 914972.25, 851591.06, 881651.06,\n",
              "       934914.44, 991805.3 , 965948.1 , 979279.9 , 993734.6 , 948477.94,\n",
              "       943822.8 , 903082.5 , 904196.94, 904254.5 , 904230.1 , 933239.  ,\n",
              "       942685.5 , 893048.1 , 940501.6 , 939440.7 , 903452.4 , 904355.7 ,\n",
              "       884726.94, 891227.5 , 886704.4 , 895157.4 , 885958.56, 929746.6 ,\n",
              "       890758.  , 891396.9 , 883793.8 , 854887.4 , 896302.6 , 933737.75,\n",
              "       856725.6 , 853458.94, 913702.6 , 822738.1 , 898414.6 , 854929.9 ,\n",
              "       793367.1 , 876369.4 , 912155.5 , 931459.75, 959941.2 , 912252.56,\n",
              "       909183.8 , 966678.06, 895383.  , 894409.2 , 894566.2 , 880504.56,\n",
              "       890470.94], dtype=float32)"
            ]
          },
          "metadata": {},
          "execution_count": 70
        }
      ]
    },
    {
      "cell_type": "code",
      "source": [
        "R2_score_Max=r2_score(Max_Target, predsMax)\n",
        "print(R2_score_Max)"
      ],
      "metadata": {
        "colab": {
          "base_uri": "https://localhost:8080/"
        },
        "id": "ubCz0Y-b-aEh",
        "outputId": "af411bbb-3fa2-4ce4-8451-17402c456fff"
      },
      "execution_count": 65,
      "outputs": [
        {
          "output_type": "stream",
          "name": "stdout",
          "text": [
            "0.0\n"
          ]
        }
      ]
    },
    {
      "cell_type": "markdown",
      "source": [
        "Predicting energy in 2019 using the Tyoical Weater data file"
      ],
      "metadata": {
        "id": "BkFwFIX30nFN"
      }
    },
    {
      "cell_type": "markdown",
      "source": [
        "automatic outlier detection\n",
        "https://machinelearningmastery.com/model-based-outlier-detection-and-removal-in-python/"
      ],
      "metadata": {
        "id": "BMOLSKTsKLJm"
      }
    },
    {
      "cell_type": "code",
      "source": [
        ""
      ],
      "metadata": {
        "id": "iPsb32i58K4t"
      },
      "execution_count": null,
      "outputs": []
    },
    {
      "cell_type": "markdown",
      "source": [
        "Predicting energy in 2019 using the data of 2018 and comparing with real values in 2019"
      ],
      "metadata": {
        "id": "QVsdB1pwBrm7"
      }
    },
    {
      "cell_type": "code",
      "source": [
        ""
      ],
      "metadata": {
        "id": "NAf0AVQ6BwMK"
      },
      "execution_count": null,
      "outputs": []
    },
    {
      "cell_type": "code",
      "source": [
        "R2_score1=r2_score(test_targets, preds3)\n",
        "print(R2_score1)"
      ],
      "metadata": {
        "colab": {
          "base_uri": "https://localhost:8080/"
        },
        "outputId": "e3f11c95-b96b-49f0-9119-22ad84d49b6b",
        "id": "IReQoVX8-UIb"
      },
      "execution_count": null,
      "outputs": [
        {
          "output_type": "stream",
          "name": "stdout",
          "text": [
            "0.9661309392454597\n"
          ]
        }
      ]
    },
    {
      "cell_type": "code",
      "source": [
        "Heating = pd.DataFrame(preds3, columns =['predicted for Heating 2019 using data belobged to 2019'])\n",
        "#LightsElectricity['LightsElectricity via TMY'] = pd.DataFrame(preds4)\n",
        "Heating[' Heating Real Values'] = C\n",
        "raw_df.to_csv('Heating.csv')\n",
        "Heating"
      ],
      "metadata": {
        "colab": {
          "base_uri": "https://localhost:8080/",
          "height": 424
        },
        "outputId": "0bbfd506-15f4-47ee-c625-7b29b156dc12",
        "id": "nOLT17Bg-UIg"
      },
      "execution_count": null,
      "outputs": [
        {
          "output_type": "execute_result",
          "data": {
            "text/plain": [
              "      predicted for Heating 2019 using data belobged to 2019  \\\n",
              "0                                          9.046932e+05        \n",
              "1                                          9.092231e+05        \n",
              "2                                          8.928031e+05        \n",
              "3                                          9.037528e+05        \n",
              "4                                          9.021367e+05        \n",
              "...                                                 ...        \n",
              "8755                                       1.145935e+07        \n",
              "8756                                       1.299496e+07        \n",
              "8757                                       1.184588e+07        \n",
              "8758                                       1.165276e+07        \n",
              "8759                                       1.200638e+07        \n",
              "\n",
              "       Heating Real Values  \n",
              "0                 900000.0  \n",
              "1                 900000.0  \n",
              "2                 900000.0  \n",
              "3                 900000.0  \n",
              "4                 900000.0  \n",
              "...                    ...  \n",
              "8755            11735676.0  \n",
              "8756            12807904.0  \n",
              "8757            11698992.0  \n",
              "8758            12792717.0  \n",
              "8759            11721609.0  \n",
              "\n",
              "[8760 rows x 2 columns]"
            ],
            "text/html": [
              "\n",
              "  <div id=\"df-8f2355a3-217a-4245-8fe7-1c9293a84b9b\">\n",
              "    <div class=\"colab-df-container\">\n",
              "      <div>\n",
              "<style scoped>\n",
              "    .dataframe tbody tr th:only-of-type {\n",
              "        vertical-align: middle;\n",
              "    }\n",
              "\n",
              "    .dataframe tbody tr th {\n",
              "        vertical-align: top;\n",
              "    }\n",
              "\n",
              "    .dataframe thead th {\n",
              "        text-align: right;\n",
              "    }\n",
              "</style>\n",
              "<table border=\"1\" class=\"dataframe\">\n",
              "  <thead>\n",
              "    <tr style=\"text-align: right;\">\n",
              "      <th></th>\n",
              "      <th>predicted for Heating 2019 using data belobged to 2019</th>\n",
              "      <th>Heating Real Values</th>\n",
              "    </tr>\n",
              "  </thead>\n",
              "  <tbody>\n",
              "    <tr>\n",
              "      <th>0</th>\n",
              "      <td>9.046932e+05</td>\n",
              "      <td>900000.0</td>\n",
              "    </tr>\n",
              "    <tr>\n",
              "      <th>1</th>\n",
              "      <td>9.092231e+05</td>\n",
              "      <td>900000.0</td>\n",
              "    </tr>\n",
              "    <tr>\n",
              "      <th>2</th>\n",
              "      <td>8.928031e+05</td>\n",
              "      <td>900000.0</td>\n",
              "    </tr>\n",
              "    <tr>\n",
              "      <th>3</th>\n",
              "      <td>9.037528e+05</td>\n",
              "      <td>900000.0</td>\n",
              "    </tr>\n",
              "    <tr>\n",
              "      <th>4</th>\n",
              "      <td>9.021367e+05</td>\n",
              "      <td>900000.0</td>\n",
              "    </tr>\n",
              "    <tr>\n",
              "      <th>...</th>\n",
              "      <td>...</td>\n",
              "      <td>...</td>\n",
              "    </tr>\n",
              "    <tr>\n",
              "      <th>8755</th>\n",
              "      <td>1.145935e+07</td>\n",
              "      <td>11735676.0</td>\n",
              "    </tr>\n",
              "    <tr>\n",
              "      <th>8756</th>\n",
              "      <td>1.299496e+07</td>\n",
              "      <td>12807904.0</td>\n",
              "    </tr>\n",
              "    <tr>\n",
              "      <th>8757</th>\n",
              "      <td>1.184588e+07</td>\n",
              "      <td>11698992.0</td>\n",
              "    </tr>\n",
              "    <tr>\n",
              "      <th>8758</th>\n",
              "      <td>1.165276e+07</td>\n",
              "      <td>12792717.0</td>\n",
              "    </tr>\n",
              "    <tr>\n",
              "      <th>8759</th>\n",
              "      <td>1.200638e+07</td>\n",
              "      <td>11721609.0</td>\n",
              "    </tr>\n",
              "  </tbody>\n",
              "</table>\n",
              "<p>8760 rows × 2 columns</p>\n",
              "</div>\n",
              "      <button class=\"colab-df-convert\" onclick=\"convertToInteractive('df-8f2355a3-217a-4245-8fe7-1c9293a84b9b')\"\n",
              "              title=\"Convert this dataframe to an interactive table.\"\n",
              "              style=\"display:none;\">\n",
              "        \n",
              "  <svg xmlns=\"http://www.w3.org/2000/svg\" height=\"24px\"viewBox=\"0 0 24 24\"\n",
              "       width=\"24px\">\n",
              "    <path d=\"M0 0h24v24H0V0z\" fill=\"none\"/>\n",
              "    <path d=\"M18.56 5.44l.94 2.06.94-2.06 2.06-.94-2.06-.94-.94-2.06-.94 2.06-2.06.94zm-11 1L8.5 8.5l.94-2.06 2.06-.94-2.06-.94L8.5 2.5l-.94 2.06-2.06.94zm10 10l.94 2.06.94-2.06 2.06-.94-2.06-.94-.94-2.06-.94 2.06-2.06.94z\"/><path d=\"M17.41 7.96l-1.37-1.37c-.4-.4-.92-.59-1.43-.59-.52 0-1.04.2-1.43.59L10.3 9.45l-7.72 7.72c-.78.78-.78 2.05 0 2.83L4 21.41c.39.39.9.59 1.41.59.51 0 1.02-.2 1.41-.59l7.78-7.78 2.81-2.81c.8-.78.8-2.07 0-2.86zM5.41 20L4 18.59l7.72-7.72 1.47 1.35L5.41 20z\"/>\n",
              "  </svg>\n",
              "      </button>\n",
              "      \n",
              "  <style>\n",
              "    .colab-df-container {\n",
              "      display:flex;\n",
              "      flex-wrap:wrap;\n",
              "      gap: 12px;\n",
              "    }\n",
              "\n",
              "    .colab-df-convert {\n",
              "      background-color: #E8F0FE;\n",
              "      border: none;\n",
              "      border-radius: 50%;\n",
              "      cursor: pointer;\n",
              "      display: none;\n",
              "      fill: #1967D2;\n",
              "      height: 32px;\n",
              "      padding: 0 0 0 0;\n",
              "      width: 32px;\n",
              "    }\n",
              "\n",
              "    .colab-df-convert:hover {\n",
              "      background-color: #E2EBFA;\n",
              "      box-shadow: 0px 1px 2px rgba(60, 64, 67, 0.3), 0px 1px 3px 1px rgba(60, 64, 67, 0.15);\n",
              "      fill: #174EA6;\n",
              "    }\n",
              "\n",
              "    [theme=dark] .colab-df-convert {\n",
              "      background-color: #3B4455;\n",
              "      fill: #D2E3FC;\n",
              "    }\n",
              "\n",
              "    [theme=dark] .colab-df-convert:hover {\n",
              "      background-color: #434B5C;\n",
              "      box-shadow: 0px 1px 3px 1px rgba(0, 0, 0, 0.15);\n",
              "      filter: drop-shadow(0px 1px 2px rgba(0, 0, 0, 0.3));\n",
              "      fill: #FFFFFF;\n",
              "    }\n",
              "  </style>\n",
              "\n",
              "      <script>\n",
              "        const buttonEl =\n",
              "          document.querySelector('#df-8f2355a3-217a-4245-8fe7-1c9293a84b9b button.colab-df-convert');\n",
              "        buttonEl.style.display =\n",
              "          google.colab.kernel.accessAllowed ? 'block' : 'none';\n",
              "\n",
              "        async function convertToInteractive(key) {\n",
              "          const element = document.querySelector('#df-8f2355a3-217a-4245-8fe7-1c9293a84b9b');\n",
              "          const dataTable =\n",
              "            await google.colab.kernel.invokeFunction('convertToInteractive',\n",
              "                                                     [key], {});\n",
              "          if (!dataTable) return;\n",
              "\n",
              "          const docLinkHtml = 'Like what you see? Visit the ' +\n",
              "            '<a target=\"_blank\" href=https://colab.research.google.com/notebooks/data_table.ipynb>data table notebook</a>'\n",
              "            + ' to learn more about interactive tables.';\n",
              "          element.innerHTML = '';\n",
              "          dataTable['output_type'] = 'display_data';\n",
              "          await google.colab.output.renderOutput(dataTable, element);\n",
              "          const docLink = document.createElement('div');\n",
              "          docLink.innerHTML = docLinkHtml;\n",
              "          element.appendChild(docLink);\n",
              "        }\n",
              "      </script>\n",
              "    </div>\n",
              "  </div>\n",
              "  "
            ]
          },
          "metadata": {},
          "execution_count": 15
        }
      ]
    },
    {
      "cell_type": "code",
      "source": [
        "plt.figure(figsize=(30,8));\n",
        "\n",
        "x_ax = range ( len(preds3))\n",
        "plt.plot(x_ax,preds3, label =\"predicted 2019\")\n",
        "#plt.plot(x_ax,preds3, label = \"AC\")\n",
        "plt.plot(x_ax,C, label = \"Real values 2019\")\n",
        "plt.title(\"Comparison Heating\")\n",
        "plt.legend()\n",
        "plt.show()"
      ],
      "metadata": {
        "colab": {
          "base_uri": "https://localhost:8080/",
          "height": 459
        },
        "outputId": "035379ea-21fe-42cc-ab80-49a27efda191",
        "id": "SbDn11TC-UIl"
      },
      "execution_count": null,
      "outputs": [
        {
          "output_type": "display_data",
          "data": {
            "text/plain": [
              "<Figure size 2160x576 with 1 Axes>"
            ],
            "image/png": "[encoded data removed]"
          },
          "metadata": {
            "needs_background": "light"
          }
        }
      ]
    },
    {
      "cell_type": "code",
      "source": [
        ""
      ],
      "metadata": {
        "id": "4yyKLWs2BwJq"
      },
      "execution_count": null,
      "outputs": []
    },
    {
      "cell_type": "code",
      "source": [
        ""
      ],
      "metadata": {
        "id": "l6bKehSYBwHA"
      },
      "execution_count": null,
      "outputs": []
    },
    {
      "cell_type": "code",
      "source": [
        ""
      ],
      "metadata": {
        "id": "BDUZGUhPBwEH"
      },
      "execution_count": null,
      "outputs": []
    },
    {
      "cell_type": "code",
      "source": [
        ""
      ],
      "metadata": {
        "id": "t661FwFHBwA0"
      },
      "execution_count": null,
      "outputs": []
    },
    {
      "cell_type": "code",
      "source": [
        ""
      ],
      "metadata": {
        "id": "w6nyaeAVBv9i"
      },
      "execution_count": null,
      "outputs": []
    },
    {
      "cell_type": "markdown",
      "source": [
        "Predicting energy in 2019 using the data of TW and comparing with real values in 2019"
      ],
      "metadata": {
        "id": "UHQzge9DBwuM"
      }
    },
    {
      "cell_type": "code",
      "source": [
        "Heating = pd.DataFrame(preds3, columns =['predicted for Heating 2019 using TMY'])\n",
        "#LightsElectricity['LightsElectricity via TMY'] = pd.DataFrame(preds4)\n",
        "Heating[' Heating Real Values'] = C\n",
        "raw_df.to_csv('Heating.csv')\n",
        "Heating"
      ],
      "metadata": {
        "id": "572rw5V4kypf"
      },
      "execution_count": null,
      "outputs": []
    },
    {
      "cell_type": "code",
      "source": [
        "R2_score=r2_score(test_targets, preds3)\n",
        "R2_score"
      ],
      "metadata": {
        "id": "rZaUbVoVvqet"
      },
      "execution_count": null,
      "outputs": []
    },
    {
      "cell_type": "code",
      "source": [
        "#Heating = pd.DataFrame(preds3, columns =['Heating 2019 '])\n",
        "#Heating['Heating via TMY'] = pd.DataFrame(preds4)\n",
        "#Heating.to_csv('Heating.csv')\n",
        "#Heating"
      ],
      "metadata": {
        "id": "qSPoiX5Lkypj"
      },
      "execution_count": null,
      "outputs": []
    },
    {
      "cell_type": "code",
      "source": [
        "plt.figure(figsize=(30,8));\n",
        "\n",
        "x_ax = range ( len(preds4))\n",
        "plt.plot(x_ax,preds4, label =\"TMY\")\n",
        "#plt.plot(x_ax,preds3, label = \"AC\")\n",
        "plt.plot(x_ax,C, label = \"Real values 2019\")\n",
        "plt.title(\"Comparison Heating\")\n",
        "plt.legend()\n",
        "plt.show()"
      ],
      "metadata": {
        "id": "jT8oBstzkypl"
      },
      "execution_count": null,
      "outputs": []
    },
    {
      "cell_type": "code",
      "source": [
        "TMY_df3['Heating'][246]"
      ],
      "metadata": {
        "id": "2-FQAmHCkypp"
      },
      "execution_count": null,
      "outputs": []
    },
    {
      "cell_type": "code",
      "source": [
        ""
      ],
      "metadata": {
        "id": "y2HTRJWQlEdL"
      },
      "execution_count": null,
      "outputs": []
    },
    {
      "cell_type": "code",
      "source": [
        "TMY_df3.loc[108:113]"
      ],
      "metadata": {
        "id": "oJ_ZwCKAlZjT"
      },
      "execution_count": null,
      "outputs": []
    },
    {
      "cell_type": "code",
      "source": [
        ""
      ],
      "metadata": {
        "id": "tpkQtR_4lZjY"
      },
      "execution_count": null,
      "outputs": []
    },
    {
      "cell_type": "code",
      "source": [
        "new_input = {'Dry Bulb Temperature': -24.5,\n",
        "             'Dew Point Temperature': -28.4,\n",
        "             'Relative Humidity': 70,\n",
        "             'Atmospheric Pressure': 100480,\n",
        "             'Extraterrestrial Horizontal Radiation': 0,\n",
        "             'Extraterrestrial Direct Normal Radiation': 9999,\n",
        "             'Horizontal Infrared Radiation Intensity from Sky': 166,\n",
        "             'Global Horizontal Radiation': 0,\n",
        "             'Direct Normal Radiation': 0,\n",
        "             'Diffuse Horizontal Radiation': 0,\n",
        "             'Global Horizontal Illuminance': 0,\n",
        "             'Direct Normal Illuminance': 0,\n",
        "             'Diffuse Horizontal Illuminance':0,\n",
        "             'Zenith Luminance': 9999,\n",
        "             'Wind Direction': 20,\n",
        "             'Wind Speed': 6,\n",
        "             'Total Sky Cover': 0,\n",
        "             'Opaque Sky Cover': 8,\n",
        "             'Visibility': 999,\n",
        "             'Ceiling Height': 99990,\n",
        "             'Present Weather Observation':9,\n",
        "             'Precipitable Water': 0,\n",
        "             'Aerosol Optical Depth':0 ,\n",
        "             'Snow Depth' : 0,\n",
        "             'Days Since Last Snow': 88,\n",
        "             'Albedo' : 999,\n",
        "             'Liquid Precipitation Depth' :999 ,\n",
        "             'Liquid Precipitation Quantity' : 99,\n",
        "             'People Total Heating Energy' :0 ,\n",
        "             'Total Zone Infiltration Sensible Heat Gain Energy' : 893710,\n",
        "             'Averge Zones temp': 14.66877,\n",
        "             'ATTIC:Zone Air Temperature' : -24,\n",
        "             \n",
        "              }"
      ],
      "metadata": {
        "id": "MKWB4ML2lZjb"
      },
      "execution_count": null,
      "outputs": []
    },
    {
      "cell_type": "code",
      "source": [
        "new_input_df = pd.DataFrame([new_input])\n",
        "new_input_df.info()"
      ],
      "metadata": {
        "id": "usjyZmbnlZjg"
      },
      "execution_count": null,
      "outputs": []
    },
    {
      "cell_type": "code",
      "source": [
        "prediction = model.predict(new_input_df)\n",
        "prediction"
      ],
      "metadata": {
        "id": "Ib6ckun7lZjk"
      },
      "execution_count": null,
      "outputs": []
    },
    {
      "cell_type": "markdown",
      "source": [
        "# Gas HVAC"
      ],
      "metadata": {
        "id": "lwUwLeJzlFzU"
      }
    },
    {
      "cell_type": "code",
      "source": [
        "############# Light Electricity (j) ############# \n",
        "#electricity\n",
        "raw_df1=raw_df.drop(raw_df.columns[[1,35,36,37,38]], axis=1)\n",
        "\n",
        "## Typical weather data file ( all parts of energy consumption)\n",
        "#electricity\n",
        "TMY_df1=TMY_df.drop(TMY_df.columns[[1,35,36,37,38]], axis=1)\n",
        "\n",
        "##spliting data  Actua weather data file Scen 2\n",
        "year = pd.to_datetime(raw_df1.Date).dt.year\n",
        "\n",
        "train_df = raw_df1[year < 2017]\n",
        "val_df = raw_df1[year == 2017]\n",
        "test_df = raw_df1[ year == 2019]\n",
        "\n",
        "## specifying input an target in  Actua weather data file\n",
        "input_cols = (train_df.columns)[1:-1]\n",
        "target_col = 'LightsElectricity'\n",
        "## specifying input an target in Typical weather data file\n",
        "input_cols_TMY1 = (TMY_df1.columns)[1:-1]\n",
        "target_col_TMY1 = 'LightsElectricity'\n",
        "\n",
        "## Creating a copy from data to keep the main data intact\n",
        "val_inputs = val_df[input_cols].copy()\n",
        "val_targets = val_df[target_col].copy()\n",
        "test_inputs = test_df[input_cols].copy()\n",
        "test_targets = test_df[target_col].copy()\n",
        "train_inputs = train_df[input_cols].copy()\n",
        "train_targets = train_df[target_col].copy()\n",
        "test_inputs_TMY = TMY_df1[input_cols_TMY1].copy()\n",
        "test_targets_TMY = TMY_df1[target_col_TMY1].copy()\n",
        "\n",
        "# developing model\n",
        "model = xgb.XGBRegressor(objective ='reg:linear', colsample_bytree = 1, learning_rate = 0.05,\n",
        "                max_depth = 6, alpha = 10, n_estimators = 100)\n",
        "\n",
        "#########specifying the metrics############\n",
        "# fitting model on training data\n",
        "\n",
        "model.fit(train_inputs, train_targets)\n",
        "preds3 = model.predict(test_inputs)\n",
        "\n",
        "model.fit(test_inputs_TMY, test_targets_TMY)\n",
        "preds4 = model.predict(test_inputs_TMY)"
      ],
      "metadata": {
        "id": "ceCrpUErxS4S"
      },
      "execution_count": null,
      "outputs": []
    },
    {
      "cell_type": "code",
      "source": [
        "A =pd.DataFrame(test_df[target_col]) \n",
        "\n",
        "A.reset_index(inplace = True)\n",
        "A.drop('index', axis=1, inplace=True)\n",
        "A"
      ],
      "metadata": {
        "id": "n0UJQBYhz7NI"
      },
      "execution_count": null,
      "outputs": []
    },
    {
      "cell_type": "code",
      "source": [
        "LightsElectricity = pd.DataFrame(preds4, columns =['predicted for LightsElectricity2019 using TMY'])\n",
        "#LightsElectricity['LightsElectricity via TMY'] = pd.DataFrame(preds4)\n",
        "LightsElectricity[' LightsElectricity Real Values'] = A \n",
        "raw_df.to_csv('LightsElectricity.csv')\n",
        "LightsElectricity"
      ],
      "metadata": {
        "id": "iEe2kgK6bldu"
      },
      "execution_count": null,
      "outputs": []
    },
    {
      "cell_type": "code",
      "source": [
        "plt.figure(figsize=(15,8));\n",
        "x_ax = range ( len(preds4))\n",
        "plt.plot(x_ax,preds4, label =\"Predicted for 2019 using TMY\")\n",
        "#plt.plot(x_ax,preds3, label = \"Predicted for 2019 using data of 2019\")\n",
        "plt.plot(x_ax,A, label = \"Real Value \")\n",
        "plt.title(\"Comparison Lights Electricity\")\n",
        "plt.legend()\n",
        "plt.show()\n"
      ],
      "metadata": {
        "id": "t9Rm9CYS_9MD"
      },
      "execution_count": null,
      "outputs": []
    },
    {
      "cell_type": "code",
      "source": [
        "############# Defining Scenarios ############# \n",
        "## Actua weather data file (all parts of energy consumption)\n",
        "\n",
        "#cooling : [[34,36,37,38]]\n",
        "raw_df2=raw_df.drop(raw_df.columns[[1,34,36,37,38]], axis=1)\n",
        "\n",
        "#cooling : [[34,36,37,38]]\n",
        "TMY_df2=TMY_df.drop(TMY_df.columns[[1,34,36,37,38]], axis=1)\n",
        "\n",
        "\n",
        "##spliting data  Actua weather data file Scen 2\n",
        "year = pd.to_datetime(raw_df2.Date).dt.year\n",
        "\n",
        "train_df = raw_df2[year < 2017]\n",
        "val_df = raw_df2[year == 2017]\n",
        "test_df = raw_df2[ year == 2019]\n",
        "\n",
        "## specifying input an target in  Actua weather data file\n",
        "input_cols = (train_df.columns)[1:-1]\n",
        "target_col = 'Cooling'\n",
        "## specifying input an target in Typical weather data file\n",
        "input_cols_TMY2 = (TMY_df2.columns)[1:-1]\n",
        "target_col_TMY2 = 'Cooling'\n",
        "\n",
        "\n",
        "## Creating a copy from data to keep the main data intact\n",
        "val_inputs = val_df[input_cols].copy()\n",
        "val_targets = val_df[target_col].copy()\n",
        "test_inputs = test_df[input_cols].copy()\n",
        "test_targets = test_df[target_col].copy()\n",
        "train_inputs = train_df[input_cols].copy()\n",
        "train_targets = train_df[target_col].copy()\n",
        "test_inputs_TMY = TMY_df2[input_cols_TMY2].copy()\n",
        "test_targets_TMY = TMY_df2[target_col_TMY2].copy()\n",
        "\n",
        "\n",
        "\n",
        "# developing model\n",
        "model = xgb.XGBRegressor(objective ='reg:linear', colsample_bytree = 1, learning_rate = 0.05,\n",
        "                max_depth = 6, alpha = 10, n_estimators = 100)\n",
        "\n",
        "#########specifying the metrics############\n",
        "# fitting model on training data\n",
        "model.fit(train_inputs, train_targets)\n",
        "preds = model.predict(train_inputs)\n",
        "\n",
        "\n",
        "model.fit(train_inputs, train_targets)\n",
        "preds3 = model.predict(test_inputs)\n",
        "\n",
        "model.fit(test_inputs_TMY, test_targets_TMY)\n",
        "preds4 = model.predict(test_inputs_TMY)"
      ],
      "metadata": {
        "id": "LbxSA_TIlKF4"
      },
      "execution_count": null,
      "outputs": []
    },
    {
      "cell_type": "code",
      "source": [
        "B=pd.DataFrame(test_df[target_col]) \n",
        "\n",
        "B.reset_index(inplace = True)\n",
        "B.drop('index', axis=1, inplace=True)\n",
        "B"
      ],
      "metadata": {
        "id": "MMxVY4q_5lqt"
      },
      "execution_count": null,
      "outputs": []
    },
    {
      "cell_type": "code",
      "source": [
        "cooling = pd.DataFrame(preds4, columns =['predicted for cooling 2019 using TMY'])\n",
        "#LightsElectricity['LightsElectricity via TMY'] = pd.DataFrame(preds4)\n",
        "cooling[' cooling Real Values'] = B \n",
        "raw_df.to_csv('cooling.csv')\n",
        "cooling"
      ],
      "metadata": {
        "id": "XXPV14cM69Ja"
      },
      "execution_count": null,
      "outputs": []
    },
    {
      "cell_type": "code",
      "source": [
        "#cooling = pd.DataFrame(preds3, columns =['coolingvia2019 '])\n",
        "#cooling['cooling via TMY'] = pd.DataFrame(preds4)\n",
        "#cooling[' cooling Real Values'] = B\n",
        "#raw_df.to_csv('cooling.csv')\n",
        "#cooling"
      ],
      "metadata": {
        "id": "6F7XxAaRMxU3"
      },
      "execution_count": null,
      "outputs": []
    },
    {
      "cell_type": "code",
      "source": [
        "#coolingvia2019 = pd.DataFrame(preds3, columns =['energy via 2019'])\n",
        "#coolingvia2019['energy via TMY'] = pd.DataFrame(preds4)"
      ],
      "metadata": {
        "id": "97FrXLT6lKDf"
      },
      "execution_count": null,
      "outputs": []
    },
    {
      "cell_type": "code",
      "source": [
        "plt.figure(figsize=(15,8));\n",
        "x_ax = range ( len(preds4))\n",
        "plt.plot(x_ax,preds4, label =\"TMY\")\n",
        "#plt.plot(x_ax,preds3, label = \"AC\")\n",
        "plt.plot(x_ax,B, label = \"Real values 2019\")\n",
        "plt.title(\"Comparison Cooling\")\n",
        "plt.legend()\n",
        "plt.show()"
      ],
      "metadata": {
        "id": "VcKJO2A2lKAe"
      },
      "execution_count": null,
      "outputs": []
    },
    {
      "cell_type": "code",
      "source": [
        "C=pd.DataFrame(test_df[target_col]) \n",
        "\n",
        "C.reset_index(inplace = True)\n",
        "C.drop('index', axis=1, inplace=True)\n",
        "C"
      ],
      "metadata": {
        "id": "W_6wyfqK7rFn"
      },
      "execution_count": null,
      "outputs": []
    },
    {
      "cell_type": "code",
      "source": [
        "Heating = pd.DataFrame(preds4, columns =['predicted for Heating 2019 using TMY'])\n",
        "#LightsElectricity['LightsElectricity via TMY'] = pd.DataFrame(preds4)\n",
        "Heating[' Heating Real Values'] = C\n",
        "raw_df.to_csv('Heating.csv')\n",
        "Heating"
      ],
      "metadata": {
        "id": "GfjzD9Ho7QpQ"
      },
      "execution_count": null,
      "outputs": []
    },
    {
      "cell_type": "code",
      "source": [
        "#Heating = pd.DataFrame(preds3, columns =['Heating 2019 '])\n",
        "#Heating['Heating via TMY'] = pd.DataFrame(preds4)\n",
        "#Heating.to_csv('Heating.csv')\n",
        "#Heating"
      ],
      "metadata": {
        "id": "tDNX6BlcOTRE"
      },
      "execution_count": null,
      "outputs": []
    },
    {
      "cell_type": "code",
      "source": [
        "plt.figure(figsize=(15,8));\n",
        "\n",
        "x_ax = range ( len(preds4))\n",
        "plt.plot(x_ax,preds4, label =\"TMY\")\n",
        "#plt.plot(x_ax,preds3, label = \"AC\")\n",
        "plt.plot(x_ax,C, label = \"Real values 2019\")\n",
        "plt.title(\"Comparison Heating\")\n",
        "plt.legend()\n",
        "plt.show()"
      ],
      "metadata": {
        "id": "XE4cPVOPmocj"
      },
      "execution_count": null,
      "outputs": []
    },
    {
      "cell_type": "code",
      "source": [
        "TMY_df3['Heating'][246]"
      ],
      "metadata": {
        "id": "fuO7waHVwo18"
      },
      "execution_count": null,
      "outputs": []
    },
    {
      "cell_type": "code",
      "source": [
        "TMY_df3.loc[108:113]"
      ],
      "metadata": {
        "id": "zBa5bTDSxUMy"
      },
      "execution_count": null,
      "outputs": []
    },
    {
      "cell_type": "code",
      "source": [
        "from IPython.display import display\n",
        "with pd.option_context('display.max_rows', 50):\n",
        "    display(TMY_df3[TMY_df3.Heating > 1000]);"
      ],
      "metadata": {
        "id": "e0W-K9hpxvgi"
      },
      "execution_count": null,
      "outputs": []
    },
    {
      "cell_type": "code",
      "source": [
        "new_input = {'Dry Bulb Temperature': -24.5,\n",
        "             'Dew Point Temperature': -28.4,\n",
        "             'Relative Humidity': 70,\n",
        "             'Atmospheric Pressure': 100480,\n",
        "             'Extraterrestrial Horizontal Radiation': 0,\n",
        "             'Extraterrestrial Direct Normal Radiation': 9999,\n",
        "             'Horizontal Infrared Radiation Intensity from Sky': 166,\n",
        "             'Global Horizontal Radiation': 0,\n",
        "             'Direct Normal Radiation': 0,\n",
        "             'Diffuse Horizontal Radiation': 0,\n",
        "             'Global Horizontal Illuminance': 0,\n",
        "             'Direct Normal Illuminance': 0,\n",
        "             'Diffuse Horizontal Illuminance':0,\n",
        "             'Zenith Luminance': 9999,\n",
        "             'Wind Direction': 20,\n",
        "             'Wind Speed': 6,\n",
        "             'Total Sky Cover': 0,\n",
        "             'Opaque Sky Cover': 8,\n",
        "             'Visibility': 999,\n",
        "             'Ceiling Height': 99990,\n",
        "             'Present Weather Observation':9,\n",
        "             'Precipitable Water': 0,\n",
        "             'Aerosol Optical Depth':0 ,\n",
        "             'Snow Depth' : 0,\n",
        "             'Days Since Last Snow': 88,\n",
        "             'Albedo' : 999,\n",
        "             'Liquid Precipitation Depth' :999 ,\n",
        "             'Liquid Precipitation Quantity' : 99,\n",
        "             'People Total Heating Energy' :0 ,\n",
        "             'Total Zone Infiltration Sensible Heat Gain Energy' : 893710,\n",
        "             'Averge Zones temp': 14.66877,\n",
        "             'ATTIC:Zone Air Temperature' : -24,\n",
        "             \n",
        "              }"
      ],
      "metadata": {
        "id": "n7svOoXjJZht"
      },
      "execution_count": null,
      "outputs": []
    },
    {
      "cell_type": "code",
      "source": [
        "new_input_df = pd.DataFrame([new_input])\n",
        "new_input_df.info()"
      ],
      "metadata": {
        "id": "q03BSyndJacN"
      },
      "execution_count": null,
      "outputs": []
    },
    {
      "cell_type": "code",
      "source": [
        "prediction = model.predict(new_input_df)\n",
        "prediction"
      ],
      "metadata": {
        "id": "1gCNgWImJcOs"
      },
      "execution_count": null,
      "outputs": []
    },
    {
      "cell_type": "code",
      "source": [
        ""
      ],
      "metadata": {
        "id": "oCLkwasjJiWK"
      },
      "execution_count": null,
      "outputs": []
    }
  ]
}