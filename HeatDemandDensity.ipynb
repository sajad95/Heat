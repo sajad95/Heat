{
  "nbformat": 4,
  "nbformat_minor": 0,
  "metadata": {
    "colab": {
      "name": "HeatDemandDensity.ipynb",
      "provenance": [],
      "collapsed_sections": [],
      "authorship_tag": "ABX9TyNZmBzkFKXSG3zdwbFoMMJZ",
      "include_colab_link": true
    },
    "kernelspec": {
      "name": "python3",
      "display_name": "Python 3"
    },
    "language_info": {
      "name": "python"
    }
  },
  "cells": [
    {
      "cell_type": "markdown",
      "metadata": {
        "id": "view-in-github",
        "colab_type": "text"
      },
      "source": [
        "<a href=\"https://colab.research.google.com/github/sajad95/Heat/blob/main/HeatDemandDensity.ipynb\" target=\"_parent\"><img src=\"https://colab.research.google.com/assets/colab-badge.svg\" alt=\"Open In Colab\"/></a>"
      ]
    },
    {
      "cell_type": "code",
      "metadata": {
        "id": "TbTexmF5mI_l",
        "colab": {
          "base_uri": "https://localhost:8080/"
        },
        "outputId": "c46f539c-61f9-4541-a8a7-40852ad8b692"
      },
      "source": [
        "\n",
        "from google.colab import drive\n",
        "drive.mount('/content/saj')"
      ],
      "execution_count": 70,
      "outputs": [
        {
          "output_type": "stream",
          "name": "stdout",
          "text": [
            "Drive already mounted at /content/saj; to attempt to forcibly remount, call drive.mount(\"/content/saj\", force_remount=True).\n"
          ]
        }
      ]
    },
    {
      "cell_type": "code",
      "metadata": {
        "id": "-lgTBMs04eCY"
      },
      "source": [
        "import pandas as pd"
      ],
      "execution_count": 71,
      "outputs": []
    },
    {
      "cell_type": "code",
      "metadata": {
        "id": "8IAWeqA_4rio"
      },
      "source": [
        "names=['AT','RH','G','Gb','Gd','IR','WS','WD','SP','HD','mfr','mfrr']\n",
        "features=pd.read_excel('/content/saj/MyDrive/cl vs mf.xlsx', names = names)\n",
        "features.head()\n",
        "labels=features['HD']\n",
        "features=features.drop(['mfr','mfrr'], 1)"
      ],
      "execution_count": 77,
      "outputs": []
    },
    {
      "cell_type": "code",
      "metadata": {
        "id": "Akqw5Mtz6WZS"
      },
      "source": [
        "import sklearn"
      ],
      "execution_count": 78,
      "outputs": []
    },
    {
      "cell_type": "code",
      "metadata": {
        "id": "3CRbMfBtaEDl"
      },
      "source": [
        "#using scikit-learn to split data into training and testing sets\n",
        "from sklearn.model_selection import train_test_split\n",
        "\n",
        "#split the data into training and testing sets\n",
        "train_features, test_features, train_labels, test_labels=train_test_split(features, labels, test_size=0.25, random_state=10)\n",
        "\n"
      ],
      "execution_count": 79,
      "outputs": []
    },
    {
      "cell_type": "code",
      "metadata": {
        "colab": {
          "base_uri": "https://localhost:8080/"
        },
        "id": "dUDBmrnb6gtR",
        "outputId": "512966dc-49c9-41d8-b7b5-fb7fc6057a21"
      },
      "source": [
        "from sklearn.preprocessing import StandardScaler\n",
        "\n",
        "sc = StandardScaler()\n",
        "train_features = sc.fit_transform(train_features)\n",
        "test_features = sc.transform(test_features)\n",
        "\n",
        "print('training features shape:', train_features.shape)\n",
        "print('training labels shape:', train_labels.shape)\n",
        "print('testing features shape:', test_features.shape)\n",
        "print('testing labels shape:', test_labels.shape)"
      ],
      "execution_count": 80,
      "outputs": [
        {
          "output_type": "stream",
          "name": "stdout",
          "text": [
            "training features shape: (6570, 10)\n",
            "training labels shape: (6570,)\n",
            "testing features shape: (2190, 10)\n",
            "testing labels shape: (2190,)\n"
          ]
        }
      ]
    },
    {
      "cell_type": "code",
      "metadata": {
        "colab": {
          "base_uri": "https://localhost:8080/",
          "height": 363
        },
        "id": "J9ny-F_l5gVz",
        "outputId": "9092ea5a-dded-450a-b971-36e518155ae0"
      },
      "source": [
        "features.head()\n",
        "\n",
        "pearsoncorr = features.corr(method = 'pearson')\n",
        "pearsoncorr"
      ],
      "execution_count": 81,
      "outputs": [
        {
          "output_type": "execute_result",
          "data": {
            "text/html": [
              "<div>\n",
              "<style scoped>\n",
              "    .dataframe tbody tr th:only-of-type {\n",
              "        vertical-align: middle;\n",
              "    }\n",
              "\n",
              "    .dataframe tbody tr th {\n",
              "        vertical-align: top;\n",
              "    }\n",
              "\n",
              "    .dataframe thead th {\n",
              "        text-align: right;\n",
              "    }\n",
              "</style>\n",
              "<table border=\"1\" class=\"dataframe\">\n",
              "  <thead>\n",
              "    <tr style=\"text-align: right;\">\n",
              "      <th></th>\n",
              "      <th>AT</th>\n",
              "      <th>RH</th>\n",
              "      <th>G</th>\n",
              "      <th>Gb</th>\n",
              "      <th>Gd</th>\n",
              "      <th>IR</th>\n",
              "      <th>WS</th>\n",
              "      <th>WD</th>\n",
              "      <th>SP</th>\n",
              "      <th>HD</th>\n",
              "    </tr>\n",
              "  </thead>\n",
              "  <tbody>\n",
              "    <tr>\n",
              "      <th>AT</th>\n",
              "      <td>1.000000</td>\n",
              "      <td>-0.238859</td>\n",
              "      <td>0.296962</td>\n",
              "      <td>0.236694</td>\n",
              "      <td>0.242071</td>\n",
              "      <td>0.857073</td>\n",
              "      <td>0.467998</td>\n",
              "      <td>-0.378033</td>\n",
              "      <td>-0.589059</td>\n",
              "      <td>-0.916598</td>\n",
              "    </tr>\n",
              "    <tr>\n",
              "      <th>RH</th>\n",
              "      <td>-0.238859</td>\n",
              "      <td>1.000000</td>\n",
              "      <td>-0.555024</td>\n",
              "      <td>-0.537701</td>\n",
              "      <td>-0.435713</td>\n",
              "      <td>-0.156422</td>\n",
              "      <td>0.013586</td>\n",
              "      <td>-0.105384</td>\n",
              "      <td>0.365604</td>\n",
              "      <td>0.162026</td>\n",
              "    </tr>\n",
              "    <tr>\n",
              "      <th>G</th>\n",
              "      <td>0.296962</td>\n",
              "      <td>-0.555024</td>\n",
              "      <td>1.000000</td>\n",
              "      <td>0.908652</td>\n",
              "      <td>0.804480</td>\n",
              "      <td>0.367200</td>\n",
              "      <td>0.186938</td>\n",
              "      <td>0.031127</td>\n",
              "      <td>-0.259775</td>\n",
              "      <td>-0.214558</td>\n",
              "    </tr>\n",
              "    <tr>\n",
              "      <th>Gb</th>\n",
              "      <td>0.236694</td>\n",
              "      <td>-0.537701</td>\n",
              "      <td>0.908652</td>\n",
              "      <td>1.000000</td>\n",
              "      <td>0.561422</td>\n",
              "      <td>0.270797</td>\n",
              "      <td>0.136518</td>\n",
              "      <td>0.025664</td>\n",
              "      <td>-0.225432</td>\n",
              "      <td>-0.159991</td>\n",
              "    </tr>\n",
              "    <tr>\n",
              "      <th>Gd</th>\n",
              "      <td>0.242071</td>\n",
              "      <td>-0.435713</td>\n",
              "      <td>0.804480</td>\n",
              "      <td>0.561422</td>\n",
              "      <td>1.000000</td>\n",
              "      <td>0.339610</td>\n",
              "      <td>0.186560</td>\n",
              "      <td>0.059504</td>\n",
              "      <td>-0.193207</td>\n",
              "      <td>-0.149138</td>\n",
              "    </tr>\n",
              "    <tr>\n",
              "      <th>IR</th>\n",
              "      <td>0.857073</td>\n",
              "      <td>-0.156422</td>\n",
              "      <td>0.367200</td>\n",
              "      <td>0.270797</td>\n",
              "      <td>0.339610</td>\n",
              "      <td>1.000000</td>\n",
              "      <td>0.515245</td>\n",
              "      <td>-0.347263</td>\n",
              "      <td>-0.632294</td>\n",
              "      <td>-0.793515</td>\n",
              "    </tr>\n",
              "    <tr>\n",
              "      <th>WS</th>\n",
              "      <td>0.467998</td>\n",
              "      <td>0.013586</td>\n",
              "      <td>0.186938</td>\n",
              "      <td>0.136518</td>\n",
              "      <td>0.186560</td>\n",
              "      <td>0.515245</td>\n",
              "      <td>1.000000</td>\n",
              "      <td>-0.244306</td>\n",
              "      <td>-0.374074</td>\n",
              "      <td>-0.371466</td>\n",
              "    </tr>\n",
              "    <tr>\n",
              "      <th>WD</th>\n",
              "      <td>-0.378033</td>\n",
              "      <td>-0.105384</td>\n",
              "      <td>0.031127</td>\n",
              "      <td>0.025664</td>\n",
              "      <td>0.059504</td>\n",
              "      <td>-0.347263</td>\n",
              "      <td>-0.244306</td>\n",
              "      <td>1.000000</td>\n",
              "      <td>-0.020187</td>\n",
              "      <td>0.324808</td>\n",
              "    </tr>\n",
              "    <tr>\n",
              "      <th>SP</th>\n",
              "      <td>-0.589059</td>\n",
              "      <td>0.365604</td>\n",
              "      <td>-0.259775</td>\n",
              "      <td>-0.225432</td>\n",
              "      <td>-0.193207</td>\n",
              "      <td>-0.632294</td>\n",
              "      <td>-0.374074</td>\n",
              "      <td>-0.020187</td>\n",
              "      <td>1.000000</td>\n",
              "      <td>0.566110</td>\n",
              "    </tr>\n",
              "    <tr>\n",
              "      <th>HD</th>\n",
              "      <td>-0.916598</td>\n",
              "      <td>0.162026</td>\n",
              "      <td>-0.214558</td>\n",
              "      <td>-0.159991</td>\n",
              "      <td>-0.149138</td>\n",
              "      <td>-0.793515</td>\n",
              "      <td>-0.371466</td>\n",
              "      <td>0.324808</td>\n",
              "      <td>0.566110</td>\n",
              "      <td>1.000000</td>\n",
              "    </tr>\n",
              "  </tbody>\n",
              "</table>\n",
              "</div>"
            ],
            "text/plain": [
              "          AT        RH         G  ...        WD        SP        HD\n",
              "AT  1.000000 -0.238859  0.296962  ... -0.378033 -0.589059 -0.916598\n",
              "RH -0.238859  1.000000 -0.555024  ... -0.105384  0.365604  0.162026\n",
              "G   0.296962 -0.555024  1.000000  ...  0.031127 -0.259775 -0.214558\n",
              "Gb  0.236694 -0.537701  0.908652  ...  0.025664 -0.225432 -0.159991\n",
              "Gd  0.242071 -0.435713  0.804480  ...  0.059504 -0.193207 -0.149138\n",
              "IR  0.857073 -0.156422  0.367200  ... -0.347263 -0.632294 -0.793515\n",
              "WS  0.467998  0.013586  0.186938  ... -0.244306 -0.374074 -0.371466\n",
              "WD -0.378033 -0.105384  0.031127  ...  1.000000 -0.020187  0.324808\n",
              "SP -0.589059  0.365604 -0.259775  ... -0.020187  1.000000  0.566110\n",
              "HD -0.916598  0.162026 -0.214558  ...  0.324808  0.566110  1.000000\n",
              "\n",
              "[10 rows x 10 columns]"
            ]
          },
          "metadata": {},
          "execution_count": 81
        }
      ]
    },
    {
      "cell_type": "code",
      "metadata": {
        "id": "ps3f-rvz6xY7"
      },
      "source": [
        "import matplotlib.pyplot as plt\n",
        "import seaborn as sbr\n",
        "%matplotlib inline"
      ],
      "execution_count": 82,
      "outputs": []
    },
    {
      "cell_type": "markdown",
      "metadata": {
        "id": "7KHNfOna_u5Y"
      },
      "source": [
        "\n",
        "\n",
        "\n",
        "\n",
        "1.   AT: 2-m air temperature (degree Celsius)\n",
        "2.   RH: relative humidity (%)\n",
        "\n",
        "3.   G(h): Global irradiance on the horizontal plane (W/m2)\n",
        "4.   Gb(n): Beam/direct irradiance on a plane always normal to sun rays (W/m2)\n",
        "\n",
        "5.   Gd(h): Diffuse irradiance on the horizontal plane (W/m2)\n",
        "6.   IR(h): Surface infrared (thermal) irradiance on a horizontal plane (W/m2)\n",
        "\n",
        "7.   WS: 10-m total wind speed (m/s)\n",
        "8.   WD: 10-m wind direction (0 = N  90 = E) (degree)\n",
        "\n",
        "9.   SP: Surface (air) pressure (Pa)\n",
        "10.  HD: Heat Demand Density\n",
        "\n",
        "\n",
        "\n",
        "\n",
        "\n",
        "\n",
        "\n",
        "\n",
        "\n",
        "\n",
        "\n",
        "\n",
        "\n",
        "\n",
        "\n",
        "\n",
        "\n",
        "\n"
      ]
    },
    {
      "cell_type": "code",
      "metadata": {
        "colab": {
          "base_uri": "https://localhost:8080/",
          "height": 615
        },
        "id": "Ibn3Q60j6Bun",
        "outputId": "1363b96f-4ba3-4a4a-bd4b-e4290865f629"
      },
      "source": [
        "\n",
        "#ax = fig.add_subplot(111)\n",
        "fig, ax=fig, ax = plt.subplots(figsize= (10,10))\n",
        "cax = ax.matshow(features,cmap='Blues', vmin=-1, vmax=1)\n",
        "sbr.heatmap(pearsoncorr, xticklabels=pearsoncorr.columns, yticklabels=pearsoncorr.columns, cmap='Blues', annot=True, linewidth= 0.5 )\n",
        "plt.xticks(rotation=85)"
      ],
      "execution_count": 83,
      "outputs": [
        {
          "output_type": "execute_result",
          "data": {
            "text/plain": [
              "(array([0.5, 1.5, 2.5, 3.5, 4.5, 5.5, 6.5, 7.5, 8.5, 9.5]),\n",
              " <a list of 10 Text major ticklabel objects>)"
            ]
          },
          "metadata": {},
          "execution_count": 83
        },
        {
          "output_type": "display_data",
          "data": {
            "image/png": "[encoded data removed]",
            "text/plain": [
              "<Figure size 720x720 with 2 Axes>"
            ]
          },
          "metadata": {
            "needs_background": "light"
          }
        }
      ]
    },
    {
      "cell_type": "code",
      "metadata": {
        "id": "R_ekD1tlfDR2"
      },
      "source": [
        "#myfeatures = features[[\"AT\",\"IR\",\"WS\",\"WD\",\"SP\",\"HD\"]]\n",
        "#myfeatures.head()"
      ],
      "execution_count": 84,
      "outputs": []
    },
    {
      "cell_type": "code",
      "metadata": {
        "colab": {
          "base_uri": "https://localhost:8080/"
        },
        "id": "4AsnBWkn9B9u",
        "outputId": "ceb15505-7606-4a50-bfe2-ad9efdd55fc1"
      },
      "source": [
        "!pip install xgboost"
      ],
      "execution_count": 85,
      "outputs": [
        {
          "output_type": "stream",
          "name": "stdout",
          "text": [
            "Requirement already satisfied: xgboost in /usr/local/lib/python3.7/dist-packages (0.90)\n",
            "Requirement already satisfied: scipy in /usr/local/lib/python3.7/dist-packages (from xgboost) (1.4.1)\n",
            "Requirement already satisfied: numpy in /usr/local/lib/python3.7/dist-packages (from xgboost) (1.19.5)\n"
          ]
        }
      ]
    },
    {
      "cell_type": "code",
      "metadata": {
        "id": "DSNQtMvq9Cks"
      },
      "source": [
        "import xgboost as xgb\n",
        "from sklearn.metrics import mean_squared_error\n",
        "from sklearn.metrics import mean_absolute_error\n",
        "from sklearn import metrics"
      ],
      "execution_count": 86,
      "outputs": []
    },
    {
      "cell_type": "code",
      "metadata": {
        "id": "cf5LZpkH9GKI"
      },
      "source": [
        "data_dmatrix = xgb.DMatrix(data=myfeatures,label=labels)"
      ],
      "execution_count": 87,
      "outputs": []
    },
    {
      "cell_type": "code",
      "metadata": {
        "id": "Q6CaHSFy9Sol"
      },
      "source": [
        "xg_reg = xgb.XGBRegressor(objective ='reg:linear', colsample_bytree = 0.4, learning_rate = 0.2,\n",
        "                max_depth = 6, alpha = 10, n_estimators = 20)"
      ],
      "execution_count": 88,
      "outputs": []
    },
    {
      "cell_type": "code",
      "metadata": {
        "colab": {
          "base_uri": "https://localhost:8080/"
        },
        "id": "yfTbyEpZ-LNi",
        "outputId": "aacd9e70-396a-4bb0-8e36-2e38f997a87e"
      },
      "source": [
        "xg_reg.fit(X_train,y_train)\n",
        "\n",
        "y_pred = xg_reg.predict(X_test)"
      ],
      "execution_count": 89,
      "outputs": [
        {
          "output_type": "stream",
          "name": "stdout",
          "text": [
            "[12:25:59] WARNING: /workspace/src/objective/regression_obj.cu:152: reg:linear is now deprecated in favor of reg:squarederror.\n"
          ]
        }
      ]
    },
    {
      "cell_type": "code",
      "metadata": {
        "id": "Oj6-0Xpv-YXq"
      },
      "source": [
        "import numpy as np"
      ],
      "execution_count": 90,
      "outputs": []
    },
    {
      "cell_type": "code",
      "metadata": {
        "colab": {
          "base_uri": "https://localhost:8080/"
        },
        "id": "dfKqVl2D-S1y",
        "outputId": "70c517db-93ed-40e9-bf52-c37d58dc5f38"
      },
      "source": [
        "rmse = np.sqrt(mean_squared_error(y_test, y_pred))\n",
        "print(\"RMSE: %f\" % (rmse))"
      ],
      "execution_count": 91,
      "outputs": [
        {
          "output_type": "stream",
          "name": "stdout",
          "text": [
            "RMSE: 532479.815191\n"
          ]
        }
      ]
    },
    {
      "cell_type": "code",
      "metadata": {
        "colab": {
          "base_uri": "https://localhost:8080/"
        },
        "id": "P0HVhcv4-aoL",
        "outputId": "0628d76c-0dbc-45bc-fc92-ff0e9f4fafa8"
      },
      "source": [
        "from sklearn.metrics import r2_score\n",
        "R2_score=r2_score(y_test, y_pred)\n",
        "R2_score"
      ],
      "execution_count": 92,
      "outputs": [
        {
          "output_type": "execute_result",
          "data": {
            "text/plain": [
              "0.9720809227438856"
            ]
          },
          "metadata": {},
          "execution_count": 92
        }
      ]
    },
    {
      "cell_type": "code",
      "metadata": {
        "colab": {
          "base_uri": "https://localhost:8080/",
          "height": 281
        },
        "id": "T2ltej6R-qnp",
        "outputId": "b520060d-28a3-4534-df92-1804a0253825"
      },
      "source": [
        "x_ax = range ( len(y_test))\n",
        "plt.plot(x_ax,y_test, label =\"original\")\n",
        "plt.plot(x_ax,y_pred, label = \"prediction\")\n",
        "plt.title(\"HD\")\n",
        "plt.legend()\n",
        "plt.show()"
      ],
      "execution_count": 93,
      "outputs": [
        {
          "output_type": "display_data",
          "data": {
            "image/png": "[encoded data removed]",
            "text/plain": [
              "<Figure size 432x288 with 1 Axes>"
            ]
          },
          "metadata": {
            "needs_background": "light"
          }
        }
      ]
    },
    {
      "cell_type": "code",
      "metadata": {
        "id": "mo4GkyvCOr5d"
      },
      "source": [
        ""
      ],
      "execution_count": null,
      "outputs": []
    }
  ]
}